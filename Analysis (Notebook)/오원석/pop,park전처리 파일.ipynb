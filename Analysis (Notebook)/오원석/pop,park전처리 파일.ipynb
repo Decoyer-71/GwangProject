{
 "cells": [
  {
   "cell_type": "code",
   "execution_count": 1,
   "id": "4bc12877",
   "metadata": {},
   "outputs": [],
   "source": [
    "import pandas as pd"
   ]
  },
  {
   "cell_type": "code",
   "execution_count": 2,
   "id": "f4abcd73",
   "metadata": {},
   "outputs": [],
   "source": [
    "거주인구5=pd.read_csv('C:/Users/acorn/Desktop/오원석/중간프로젝트/광진구/회귀분석/거주인구/2022거주인구.csv')\n",
    "유동인구5=pd.read_csv('C:/Users/acorn/Desktop/오원석/중간프로젝트/광진구/회귀분석/유동인구/2022유동인구.csv')\n",
    "직장인구5=pd.read_csv('C:/Users/acorn/Desktop/오원석/중간프로젝트/광진구/회귀분석/직장인구/2022직장인구.csv')\n",
    "pop=pd.read_csv('C:/Users/acorn/Desktop/오원석/중간프로젝트/광진구/회귀분석/pop.csv')\n",
    "park=pd.read_csv('C:/Users/acorn/Desktop/오원석/중간프로젝트/광진구/회귀분석/park.csv')"
   ]
  },
  {
   "cell_type": "code",
   "execution_count": 9,
   "id": "5dc33d3a",
   "metadata": {},
   "outputs": [
    {
     "data": {
      "text/html": [
       "<div>\n",
       "<style scoped>\n",
       "    .dataframe tbody tr th:only-of-type {\n",
       "        vertical-align: middle;\n",
       "    }\n",
       "\n",
       "    .dataframe tbody tr th {\n",
       "        vertical-align: top;\n",
       "    }\n",
       "\n",
       "    .dataframe thead th {\n",
       "        text-align: right;\n",
       "    }\n",
       "</style>\n",
       "<table border=\"1\" class=\"dataframe\">\n",
       "  <thead>\n",
       "    <tr style=\"text-align: right;\">\n",
       "      <th></th>\n",
       "      <th>Unnamed: 0</th>\n",
       "      <th>구</th>\n",
       "      <th>동</th>\n",
       "      <th>평균거주인구</th>\n",
       "    </tr>\n",
       "  </thead>\n",
       "  <tbody>\n",
       "    <tr>\n",
       "      <th>0</th>\n",
       "      <td>0</td>\n",
       "      <td>종로구</td>\n",
       "      <td>청운효자동</td>\n",
       "      <td>51.0</td>\n",
       "    </tr>\n",
       "    <tr>\n",
       "      <th>1</th>\n",
       "      <td>1</td>\n",
       "      <td>종로구</td>\n",
       "      <td>사직동</td>\n",
       "      <td>82.0</td>\n",
       "    </tr>\n",
       "    <tr>\n",
       "      <th>2</th>\n",
       "      <td>2</td>\n",
       "      <td>종로구</td>\n",
       "      <td>삼청동</td>\n",
       "      <td>19.0</td>\n",
       "    </tr>\n",
       "    <tr>\n",
       "      <th>3</th>\n",
       "      <td>3</td>\n",
       "      <td>종로구</td>\n",
       "      <td>부암동</td>\n",
       "      <td>45.0</td>\n",
       "    </tr>\n",
       "    <tr>\n",
       "      <th>4</th>\n",
       "      <td>4</td>\n",
       "      <td>종로구</td>\n",
       "      <td>평창동</td>\n",
       "      <td>22.0</td>\n",
       "    </tr>\n",
       "    <tr>\n",
       "      <th>...</th>\n",
       "      <td>...</td>\n",
       "      <td>...</td>\n",
       "      <td>...</td>\n",
       "      <td>...</td>\n",
       "    </tr>\n",
       "    <tr>\n",
       "      <th>419</th>\n",
       "      <td>419</td>\n",
       "      <td>강동구</td>\n",
       "      <td>성내2동</td>\n",
       "      <td>389.0</td>\n",
       "    </tr>\n",
       "    <tr>\n",
       "      <th>420</th>\n",
       "      <td>420</td>\n",
       "      <td>강동구</td>\n",
       "      <td>성내3동</td>\n",
       "      <td>365.0</td>\n",
       "    </tr>\n",
       "    <tr>\n",
       "      <th>421</th>\n",
       "      <td>421</td>\n",
       "      <td>강동구</td>\n",
       "      <td>길동</td>\n",
       "      <td>293.0</td>\n",
       "    </tr>\n",
       "    <tr>\n",
       "      <th>422</th>\n",
       "      <td>422</td>\n",
       "      <td>강동구</td>\n",
       "      <td>둔촌1동</td>\n",
       "      <td>0.0</td>\n",
       "    </tr>\n",
       "    <tr>\n",
       "      <th>423</th>\n",
       "      <td>423</td>\n",
       "      <td>강동구</td>\n",
       "      <td>둔촌2동</td>\n",
       "      <td>165.0</td>\n",
       "    </tr>\n",
       "  </tbody>\n",
       "</table>\n",
       "<p>424 rows × 4 columns</p>\n",
       "</div>"
      ],
      "text/plain": [
       "     Unnamed: 0    구      동  평균거주인구\n",
       "0             0  종로구  청운효자동    51.0\n",
       "1             1  종로구    사직동    82.0\n",
       "2             2  종로구    삼청동    19.0\n",
       "3             3  종로구    부암동    45.0\n",
       "4             4  종로구    평창동    22.0\n",
       "..          ...  ...    ...     ...\n",
       "419         419  강동구   성내2동   389.0\n",
       "420         420  강동구   성내3동   365.0\n",
       "421         421  강동구     길동   293.0\n",
       "422         422  강동구   둔촌1동     0.0\n",
       "423         423  강동구   둔촌2동   165.0\n",
       "\n",
       "[424 rows x 4 columns]"
      ]
     },
     "execution_count": 9,
     "metadata": {},
     "output_type": "execute_result"
    }
   ],
   "source": [
    "거주인구5"
   ]
  },
  {
   "cell_type": "code",
   "execution_count": 20,
   "id": "85f8cc7b",
   "metadata": {
    "scrolled": true
   },
   "outputs": [
    {
     "data": {
      "text/html": [
       "<div>\n",
       "<style scoped>\n",
       "    .dataframe tbody tr th:only-of-type {\n",
       "        vertical-align: middle;\n",
       "    }\n",
       "\n",
       "    .dataframe tbody tr th {\n",
       "        vertical-align: top;\n",
       "    }\n",
       "\n",
       "    .dataframe thead th {\n",
       "        text-align: right;\n",
       "    }\n",
       "</style>\n",
       "<table border=\"1\" class=\"dataframe\">\n",
       "  <thead>\n",
       "    <tr style=\"text-align: right;\">\n",
       "      <th></th>\n",
       "      <th>Unnamed: 0</th>\n",
       "      <th>구별</th>\n",
       "      <th>동별</th>\n",
       "      <th>연도</th>\n",
       "      <th>주민인구</th>\n",
       "    </tr>\n",
       "  </thead>\n",
       "  <tbody>\n",
       "    <tr>\n",
       "      <th>4</th>\n",
       "      <td>4</td>\n",
       "      <td>종로구</td>\n",
       "      <td>사직동</td>\n",
       "      <td>2022</td>\n",
       "      <td>9355</td>\n",
       "    </tr>\n",
       "    <tr>\n",
       "      <th>9</th>\n",
       "      <td>9</td>\n",
       "      <td>종로구</td>\n",
       "      <td>삼청동</td>\n",
       "      <td>2022</td>\n",
       "      <td>2642</td>\n",
       "    </tr>\n",
       "    <tr>\n",
       "      <th>14</th>\n",
       "      <td>14</td>\n",
       "      <td>종로구</td>\n",
       "      <td>부암동</td>\n",
       "      <td>2022</td>\n",
       "      <td>9536</td>\n",
       "    </tr>\n",
       "    <tr>\n",
       "      <th>19</th>\n",
       "      <td>19</td>\n",
       "      <td>종로구</td>\n",
       "      <td>평창동</td>\n",
       "      <td>2022</td>\n",
       "      <td>17858</td>\n",
       "    </tr>\n",
       "    <tr>\n",
       "      <th>24</th>\n",
       "      <td>24</td>\n",
       "      <td>종로구</td>\n",
       "      <td>무악동</td>\n",
       "      <td>2022</td>\n",
       "      <td>8052</td>\n",
       "    </tr>\n",
       "    <tr>\n",
       "      <th>...</th>\n",
       "      <td>...</td>\n",
       "      <td>...</td>\n",
       "      <td>...</td>\n",
       "      <td>...</td>\n",
       "      <td>...</td>\n",
       "    </tr>\n",
       "    <tr>\n",
       "      <th>2134</th>\n",
       "      <td>2134</td>\n",
       "      <td>강동구</td>\n",
       "      <td>암사1동</td>\n",
       "      <td>2022</td>\n",
       "      <td>34271</td>\n",
       "    </tr>\n",
       "    <tr>\n",
       "      <th>2139</th>\n",
       "      <td>2139</td>\n",
       "      <td>강동구</td>\n",
       "      <td>천호2동</td>\n",
       "      <td>2022</td>\n",
       "      <td>33825</td>\n",
       "    </tr>\n",
       "    <tr>\n",
       "      <th>2144</th>\n",
       "      <td>2144</td>\n",
       "      <td>강동구</td>\n",
       "      <td>길동</td>\n",
       "      <td>2022</td>\n",
       "      <td>45374</td>\n",
       "    </tr>\n",
       "    <tr>\n",
       "      <th>2149</th>\n",
       "      <td>2149</td>\n",
       "      <td>강동구</td>\n",
       "      <td>상일1동</td>\n",
       "      <td>2022</td>\n",
       "      <td>39178</td>\n",
       "    </tr>\n",
       "    <tr>\n",
       "      <th>2154</th>\n",
       "      <td>2154</td>\n",
       "      <td>강동구</td>\n",
       "      <td>상일2동</td>\n",
       "      <td>2022</td>\n",
       "      <td>11933</td>\n",
       "    </tr>\n",
       "  </tbody>\n",
       "</table>\n",
       "<p>431 rows × 5 columns</p>\n",
       "</div>"
      ],
      "text/plain": [
       "      Unnamed: 0   구별    동별    연도   주민인구\n",
       "4              4  종로구   사직동  2022   9355\n",
       "9              9  종로구   삼청동  2022   2642\n",
       "14            14  종로구   부암동  2022   9536\n",
       "19            19  종로구   평창동  2022  17858\n",
       "24            24  종로구   무악동  2022   8052\n",
       "...          ...  ...   ...   ...    ...\n",
       "2134        2134  강동구  암사1동  2022  34271\n",
       "2139        2139  강동구  천호2동  2022  33825\n",
       "2144        2144  강동구    길동  2022  45374\n",
       "2149        2149  강동구  상일1동  2022  39178\n",
       "2154        2154  강동구  상일2동  2022  11933\n",
       "\n",
       "[431 rows x 5 columns]"
      ]
     },
     "execution_count": 20,
     "metadata": {},
     "output_type": "execute_result"
    }
   ],
   "source": [
    "pop['동별'].value_counts()\n",
    "pop[pop['연도']==2022]"
   ]
  },
  {
   "cell_type": "code",
   "execution_count": 11,
   "id": "150cd614",
   "metadata": {},
   "outputs": [
    {
     "data": {
      "text/plain": [
       "기타      3\n",
       "신사동     2\n",
       "사직동     1\n",
       "시흥1동    1\n",
       "신길1동    1\n",
       "       ..\n",
       "송천동     1\n",
       "송중동     1\n",
       "미아동     1\n",
       "삼양동     1\n",
       "상일2동    1\n",
       "Name: 동별, Length: 428, dtype: int64"
      ]
     },
     "execution_count": 11,
     "metadata": {},
     "output_type": "execute_result"
    }
   ],
   "source": [
    "pop1=pop[pop['연도']==2022]\n",
    "pop1['동별'].value_counts()"
   ]
  },
  {
   "cell_type": "code",
   "execution_count": 59,
   "id": "9baa30d1",
   "metadata": {},
   "outputs": [],
   "source": [
    "pop1 = pop1[pop1['동별'] != '기타']\n",
    "# print(pop1[pop1['동별']=='기타'])\n",
    "pop1 = pop1[pop1['동별'] != '항동']\n",
    "# pop1_sinsa = pop1[pop1['동별']=='신사동']\n",
    "# pop1_sinsa\n",
    "pop2 = pop1[pop1['동별'] != '개포3동']\n",
    "pop2 = pop2[pop2['동별'] != '상일1동']\n",
    "pop2 = pop2[pop2['동별'] != '상일2동']\n",
    "pop2.to_csv('pop(수정본).csv')"
   ]
  },
  {
   "cell_type": "code",
   "execution_count": 30,
   "id": "f66fea57",
   "metadata": {},
   "outputs": [
    {
     "data": {
      "text/html": [
       "<div>\n",
       "<style scoped>\n",
       "    .dataframe tbody tr th:only-of-type {\n",
       "        vertical-align: middle;\n",
       "    }\n",
       "\n",
       "    .dataframe tbody tr th {\n",
       "        vertical-align: top;\n",
       "    }\n",
       "\n",
       "    .dataframe thead th {\n",
       "        text-align: right;\n",
       "    }\n",
       "</style>\n",
       "<table border=\"1\" class=\"dataframe\">\n",
       "  <thead>\n",
       "    <tr style=\"text-align: right;\">\n",
       "      <th></th>\n",
       "      <th>Unnamed: 0</th>\n",
       "      <th>구</th>\n",
       "      <th>동</th>\n",
       "      <th>평균거주인구</th>\n",
       "    </tr>\n",
       "  </thead>\n",
       "  <tbody>\n",
       "    <tr>\n",
       "      <th>331</th>\n",
       "      <td>331</td>\n",
       "      <td>관악구</td>\n",
       "      <td>신사동</td>\n",
       "      <td>372.0</td>\n",
       "    </tr>\n",
       "    <tr>\n",
       "      <th>357</th>\n",
       "      <td>357</td>\n",
       "      <td>강남구</td>\n",
       "      <td>신사동</td>\n",
       "      <td>96.0</td>\n",
       "    </tr>\n",
       "  </tbody>\n",
       "</table>\n",
       "</div>"
      ],
      "text/plain": [
       "     Unnamed: 0    구    동  평균거주인구\n",
       "331         331  관악구  신사동   372.0\n",
       "357         357  강남구  신사동    96.0"
      ]
     },
     "execution_count": 30,
     "metadata": {},
     "output_type": "execute_result"
    }
   ],
   "source": [
    "거주인구5[거주인구5['동']=='신사동']"
   ]
  },
  {
   "cell_type": "code",
   "execution_count": 15,
   "id": "0191de4a",
   "metadata": {},
   "outputs": [
    {
     "data": {
      "text/plain": [
       "강일동     10\n",
       "신사동     10\n",
       "사직동      5\n",
       "시흥1동     5\n",
       "신길1동     5\n",
       "        ..\n",
       "송천동      5\n",
       "송중동      5\n",
       "미아동      5\n",
       "삼양동      5\n",
       "상일2동     5\n",
       "Name: 동별, Length: 427, dtype: int64"
      ]
     },
     "execution_count": 15,
     "metadata": {},
     "output_type": "execute_result"
    }
   ],
   "source": [
    "park['동별'].value_counts()"
   ]
  },
  {
   "cell_type": "code",
   "execution_count": 75,
   "id": "4ccf368b",
   "metadata": {},
   "outputs": [
    {
     "name": "stderr",
     "output_type": "stream",
     "text": [
      "C:\\Users\\acorn\\AppData\\Local\\Temp\\ipykernel_14896\\751404989.py:3: SettingWithCopyWarning: \n",
      "A value is trying to be set on a copy of a slice from a DataFrame\n",
      "\n",
      "See the caveats in the documentation: https://pandas.pydata.org/pandas-docs/stable/user_guide/indexing.html#returning-a-view-versus-a-copy\n",
      "  park1.drop([2044],axis=0,inplace=True)\n"
     ]
    }
   ],
   "source": [
    "park1=park[park['연도']==2022]\n",
    "park1['동별'].value_counts()\n",
    "park1.drop([2044],axis=0,inplace=True)\n",
    "park1=park1[park1['동별']!='항동']\n",
    "park1=park1[park1['동별']!='개포3동']\n",
    "park1=park1[park1['동별']!='상일1동']\n",
    "park1=park1[park1['동별']!='상일2동']\n",
    "park1.to_csv('park(수정본).csv')"
   ]
  },
  {
   "cell_type": "code",
   "execution_count": 70,
   "id": "6863466d",
   "metadata": {},
   "outputs": [
    {
     "data": {
      "text/plain": [
       "신사동     2\n",
       "사직동     1\n",
       "시흥1동    1\n",
       "신길3동    1\n",
       "신길1동    1\n",
       "       ..\n",
       "송천동     1\n",
       "송중동     1\n",
       "미아동     1\n",
       "삼양동     1\n",
       "상일2동    1\n",
       "Name: 동별, Length: 427, dtype: int64"
      ]
     },
     "execution_count": 70,
     "metadata": {},
     "output_type": "execute_result"
    }
   ],
   "source": [
    "park1['동별'].value_counts()"
   ]
  },
  {
   "cell_type": "code",
   "execution_count": 36,
   "id": "6f68e943",
   "metadata": {},
   "outputs": [
    {
     "data": {
      "text/plain": [
       "428"
      ]
     },
     "execution_count": 36,
     "metadata": {},
     "output_type": "execute_result"
    }
   ],
   "source": [
    "len(set(pop['동별']))"
   ]
  },
  {
   "cell_type": "code",
   "execution_count": 34,
   "id": "3eb75eeb",
   "metadata": {},
   "outputs": [
    {
     "data": {
      "text/plain": [
       "0      청운효자동\n",
       "1        사직동\n",
       "2        삼청동\n",
       "3        부암동\n",
       "4        평창동\n",
       "       ...  \n",
       "419     성내2동\n",
       "420     성내3동\n",
       "421       길동\n",
       "422     둔촌1동\n",
       "423     둔촌2동\n",
       "Name: 동, Length: 424, dtype: object"
      ]
     },
     "execution_count": 34,
     "metadata": {},
     "output_type": "execute_result"
    }
   ],
   "source": [
    "거주인구5['동']"
   ]
  },
  {
   "cell_type": "code",
   "execution_count": 37,
   "id": "7db15464",
   "metadata": {},
   "outputs": [
    {
     "data": {
      "text/plain": [
       "{'개포3동', '기타', '상일1동', '상일2동', '항동'}"
      ]
     },
     "execution_count": 37,
     "metadata": {},
     "output_type": "execute_result"
    }
   ],
   "source": [
    "set(pop['동별'])-set(거주인구5['동'])"
   ]
  },
  {
   "cell_type": "code",
   "execution_count": 40,
   "id": "0a8a256d",
   "metadata": {},
   "outputs": [
    {
     "data": {
      "text/plain": [
       "{'개포3동', '상일1동', '상일2동', '항동'}"
      ]
     },
     "execution_count": 40,
     "metadata": {},
     "output_type": "execute_result"
    }
   ],
   "source": [
    "set(park['동별'])-set(거주인구5['동'])"
   ]
  },
  {
   "cell_type": "code",
   "execution_count": 41,
   "id": "40d6cbd9",
   "metadata": {},
   "outputs": [
    {
     "data": {
      "text/plain": [
       "set()"
      ]
     },
     "execution_count": 41,
     "metadata": {},
     "output_type": "execute_result"
    }
   ],
   "source": [
    "set(거주인구5['동'])-set(park['동별'])"
   ]
  },
  {
   "cell_type": "code",
   "execution_count": 38,
   "id": "5d5a6898",
   "metadata": {},
   "outputs": [
    {
     "data": {
      "text/plain": [
       "기타      15\n",
       "신사동     10\n",
       "사직동      5\n",
       "시흥1동     5\n",
       "신길1동     5\n",
       "        ..\n",
       "송천동      5\n",
       "송중동      5\n",
       "미아동      5\n",
       "삼양동      5\n",
       "상일2동     5\n",
       "Name: 동별, Length: 428, dtype: int64"
      ]
     },
     "execution_count": 38,
     "metadata": {},
     "output_type": "execute_result"
    }
   ],
   "source": [
    "pop['동별'].value_counts()"
   ]
  },
  {
   "cell_type": "code",
   "execution_count": 42,
   "id": "7476c4c4",
   "metadata": {},
   "outputs": [
    {
     "data": {
      "text/plain": [
       "0        사직동\n",
       "1        사직동\n",
       "2        사직동\n",
       "3        사직동\n",
       "4        사직동\n",
       "        ... \n",
       "2150    상일2동\n",
       "2151    상일2동\n",
       "2152    상일2동\n",
       "2153    상일2동\n",
       "2154    상일2동\n",
       "Name: 동별, Length: 2155, dtype: object"
      ]
     },
     "execution_count": 42,
     "metadata": {},
     "output_type": "execute_result"
    }
   ],
   "source": [
    "pop['동별']"
   ]
  },
  {
   "cell_type": "code",
   "execution_count": 45,
   "id": "2d9e141a",
   "metadata": {},
   "outputs": [
    {
     "data": {
      "text/plain": [
       "2120"
      ]
     },
     "execution_count": 45,
     "metadata": {},
     "output_type": "execute_result"
    }
   ],
   "source": [
    "len(거주인구5['동'])*5"
   ]
  },
  {
   "cell_type": "code",
   "execution_count": 48,
   "id": "71a0288d",
   "metadata": {},
   "outputs": [
    {
     "data": {
      "text/html": [
       "<div>\n",
       "<style scoped>\n",
       "    .dataframe tbody tr th:only-of-type {\n",
       "        vertical-align: middle;\n",
       "    }\n",
       "\n",
       "    .dataframe tbody tr th {\n",
       "        vertical-align: top;\n",
       "    }\n",
       "\n",
       "    .dataframe thead th {\n",
       "        text-align: right;\n",
       "    }\n",
       "</style>\n",
       "<table border=\"1\" class=\"dataframe\">\n",
       "  <thead>\n",
       "    <tr style=\"text-align: right;\">\n",
       "      <th></th>\n",
       "      <th>Unnamed: 0</th>\n",
       "      <th>구별</th>\n",
       "      <th>동별</th>\n",
       "      <th>연도</th>\n",
       "      <th>주차장면수</th>\n",
       "    </tr>\n",
       "  </thead>\n",
       "  <tbody>\n",
       "    <tr>\n",
       "      <th>2140</th>\n",
       "      <td>2140</td>\n",
       "      <td>강동구</td>\n",
       "      <td>상일2동</td>\n",
       "      <td>2018</td>\n",
       "      <td>0</td>\n",
       "    </tr>\n",
       "    <tr>\n",
       "      <th>2141</th>\n",
       "      <td>2141</td>\n",
       "      <td>강동구</td>\n",
       "      <td>상일2동</td>\n",
       "      <td>2019</td>\n",
       "      <td>0</td>\n",
       "    </tr>\n",
       "    <tr>\n",
       "      <th>2142</th>\n",
       "      <td>2142</td>\n",
       "      <td>강동구</td>\n",
       "      <td>상일2동</td>\n",
       "      <td>2020</td>\n",
       "      <td>0</td>\n",
       "    </tr>\n",
       "    <tr>\n",
       "      <th>2143</th>\n",
       "      <td>2143</td>\n",
       "      <td>강동구</td>\n",
       "      <td>상일2동</td>\n",
       "      <td>2021</td>\n",
       "      <td>0</td>\n",
       "    </tr>\n",
       "    <tr>\n",
       "      <th>2144</th>\n",
       "      <td>2144</td>\n",
       "      <td>강동구</td>\n",
       "      <td>상일2동</td>\n",
       "      <td>2022</td>\n",
       "      <td>7338</td>\n",
       "    </tr>\n",
       "  </tbody>\n",
       "</table>\n",
       "</div>"
      ],
      "text/plain": [
       "      Unnamed: 0   구별    동별    연도  주차장면수\n",
       "2140        2140  강동구  상일2동  2018      0\n",
       "2141        2141  강동구  상일2동  2019      0\n",
       "2142        2142  강동구  상일2동  2020      0\n",
       "2143        2143  강동구  상일2동  2021      0\n",
       "2144        2144  강동구  상일2동  2022   7338"
      ]
     },
     "execution_count": 48,
     "metadata": {},
     "output_type": "execute_result"
    }
   ],
   "source": [
    "park[park['동별']=='상일2동']"
   ]
  },
  {
   "cell_type": "code",
   "execution_count": 77,
   "id": "8bc8d45a",
   "metadata": {},
   "outputs": [
    {
     "data": {
      "text/html": [
       "<div>\n",
       "<style scoped>\n",
       "    .dataframe tbody tr th:only-of-type {\n",
       "        vertical-align: middle;\n",
       "    }\n",
       "\n",
       "    .dataframe tbody tr th {\n",
       "        vertical-align: top;\n",
       "    }\n",
       "\n",
       "    .dataframe thead th {\n",
       "        text-align: right;\n",
       "    }\n",
       "</style>\n",
       "<table border=\"1\" class=\"dataframe\">\n",
       "  <thead>\n",
       "    <tr style=\"text-align: right;\">\n",
       "      <th></th>\n",
       "      <th>Unnamed: 0</th>\n",
       "      <th>구별</th>\n",
       "      <th>동별</th>\n",
       "      <th>연도</th>\n",
       "      <th>주민인구</th>\n",
       "    </tr>\n",
       "  </thead>\n",
       "  <tbody>\n",
       "    <tr>\n",
       "      <th>1854</th>\n",
       "      <td>1854</td>\n",
       "      <td>강남구</td>\n",
       "      <td>도곡1동</td>\n",
       "      <td>2022</td>\n",
       "      <td>21274</td>\n",
       "    </tr>\n",
       "  </tbody>\n",
       "</table>\n",
       "</div>"
      ],
      "text/plain": [
       "      Unnamed: 0   구별    동별    연도   주민인구\n",
       "1854        1854  강남구  도곡1동  2022  21274"
      ]
     },
     "execution_count": 77,
     "metadata": {},
     "output_type": "execute_result"
    }
   ],
   "source": [
    "pop1[pop1['동별']=='도곡1동']"
   ]
  },
  {
   "cell_type": "code",
   "execution_count": 79,
   "id": "6d574f1b",
   "metadata": {},
   "outputs": [
    {
     "data": {
      "text/html": [
       "<div>\n",
       "<style scoped>\n",
       "    .dataframe tbody tr th:only-of-type {\n",
       "        vertical-align: middle;\n",
       "    }\n",
       "\n",
       "    .dataframe tbody tr th {\n",
       "        vertical-align: top;\n",
       "    }\n",
       "\n",
       "    .dataframe thead th {\n",
       "        text-align: right;\n",
       "    }\n",
       "</style>\n",
       "<table border=\"1\" class=\"dataframe\">\n",
       "  <thead>\n",
       "    <tr style=\"text-align: right;\">\n",
       "      <th></th>\n",
       "      <th>Unnamed: 0</th>\n",
       "      <th>구별</th>\n",
       "      <th>동별</th>\n",
       "      <th>연도</th>\n",
       "      <th>주차장면수</th>\n",
       "    </tr>\n",
       "  </thead>\n",
       "  <tbody>\n",
       "    <tr>\n",
       "      <th>1840</th>\n",
       "      <td>1840</td>\n",
       "      <td>강남구</td>\n",
       "      <td>도곡1동</td>\n",
       "      <td>2018</td>\n",
       "      <td>12978</td>\n",
       "    </tr>\n",
       "    <tr>\n",
       "      <th>1841</th>\n",
       "      <td>1841</td>\n",
       "      <td>강남구</td>\n",
       "      <td>도곡1동</td>\n",
       "      <td>2019</td>\n",
       "      <td>13263</td>\n",
       "    </tr>\n",
       "    <tr>\n",
       "      <th>1842</th>\n",
       "      <td>1842</td>\n",
       "      <td>강남구</td>\n",
       "      <td>도곡1동</td>\n",
       "      <td>2020</td>\n",
       "      <td>13287</td>\n",
       "    </tr>\n",
       "    <tr>\n",
       "      <th>1843</th>\n",
       "      <td>1843</td>\n",
       "      <td>강남구</td>\n",
       "      <td>도곡1동</td>\n",
       "      <td>2021</td>\n",
       "      <td>13092</td>\n",
       "    </tr>\n",
       "    <tr>\n",
       "      <th>1844</th>\n",
       "      <td>1844</td>\n",
       "      <td>강남구</td>\n",
       "      <td>도곡1동</td>\n",
       "      <td>2022</td>\n",
       "      <td>13319</td>\n",
       "    </tr>\n",
       "  </tbody>\n",
       "</table>\n",
       "</div>"
      ],
      "text/plain": [
       "      Unnamed: 0   구별    동별    연도  주차장면수\n",
       "1840        1840  강남구  도곡1동  2018  12978\n",
       "1841        1841  강남구  도곡1동  2019  13263\n",
       "1842        1842  강남구  도곡1동  2020  13287\n",
       "1843        1843  강남구  도곡1동  2021  13092\n",
       "1844        1844  강남구  도곡1동  2022  13319"
      ]
     },
     "execution_count": 79,
     "metadata": {},
     "output_type": "execute_result"
    }
   ],
   "source": [
    "park[park['동별']=='도곡1동']"
   ]
  },
  {
   "cell_type": "code",
   "execution_count": null,
   "id": "0e682da9",
   "metadata": {},
   "outputs": [],
   "source": []
  }
 ],
 "metadata": {
  "kernelspec": {
   "display_name": "Python 3 (ipykernel)",
   "language": "python",
   "name": "python3"
  },
  "language_info": {
   "codemirror_mode": {
    "name": "ipython",
    "version": 3
   },
   "file_extension": ".py",
   "mimetype": "text/x-python",
   "name": "python",
   "nbconvert_exporter": "python",
   "pygments_lexer": "ipython3",
   "version": "3.9.13"
  }
 },
 "nbformat": 4,
 "nbformat_minor": 5
}
