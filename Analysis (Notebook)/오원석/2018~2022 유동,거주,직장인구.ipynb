{
 "cells": [
  {
   "cell_type": "code",
   "execution_count": 1,
   "id": "00fdd507",
   "metadata": {},
   "outputs": [],
   "source": [
    "import pandas as pd"
   ]
  },
  {
   "cell_type": "markdown",
   "id": "1b8a3b02",
   "metadata": {},
   "source": [
    "## 거주인구"
   ]
  },
  {
   "cell_type": "code",
   "execution_count": 3,
   "id": "c41ea608",
   "metadata": {},
   "outputs": [],
   "source": [
    "거주인구1=pd.read_csv('C:/Users/user/Desktop/원석/국비지원/GwangProject/Data/회귀분석/거주인구/2018거주인구.csv')\n",
    "거주인구2=pd.read_csv('C:/Users/user/Desktop/원석/국비지원/GwangProject/Data/회귀분석/거주인구/2019거주인구.csv')\n",
    "거주인구3=pd.read_csv('C:/Users/user/Desktop/원석/국비지원/GwangProject/Data/회귀분석/거주인구/2020거주인구.csv')\n",
    "거주인구4=pd.read_csv('C:/Users/user/Desktop/원석/국비지원/GwangProject/Data/회귀분석/거주인구/2021거주인구.csv')\n",
    "거주인구5=pd.read_csv('C:/Users/user/Desktop/원석/국비지원/GwangProject/Data/회귀분석/거주인구/2022거주인구.csv')"
   ]
  },
  {
   "cell_type": "code",
   "execution_count": 23,
   "id": "951864a5",
   "metadata": {},
   "outputs": [],
   "source": [
    "# 거주인구1.set_index(['구','동'],inplace=True)\n",
    "# 거주인구2.set_index(['구','동'],inplace=True)\n",
    "# 거주인구3.set_index(['구','동'],inplace=True)\n",
    "# 거주인구4.set_index(['구','동'],inplace=True)\n",
    "# 거주인구5.set_index(['구','동'],inplace=True)"
   ]
  },
  {
   "cell_type": "code",
   "execution_count": 24,
   "id": "11262677",
   "metadata": {},
   "outputs": [],
   "source": [
    "# 거주인구1.drop('Unnamed: 0',axis=1,inplace=True)\n",
    "# 거주인구2.drop('Unnamed: 0',axis=1,inplace=True)\n",
    "# 거주인구3.drop('Unnamed: 0',axis=1,inplace=True)\n",
    "# 거주인구4.drop('Unnamed: 0',axis=1,inplace=True)\n",
    "# 거주인구5.drop('Unnamed: 0',axis=1,inplace=True)"
   ]
  },
  {
   "cell_type": "code",
   "execution_count": 29,
   "id": "e255eb2a",
   "metadata": {},
   "outputs": [],
   "source": [
    "거주인구=pd.concat([거주인구1,거주인구2,거주인구3,거주인구4,거주인구5],axis=0)\n",
    "거주인구.to_csv('2018~2022거주인구.csv')"
   ]
  },
  {
   "cell_type": "code",
   "execution_count": 42,
   "id": "d4d561b1",
   "metadata": {},
   "outputs": [
    {
     "data": {
      "text/html": [
       "<div>\n",
       "<style scoped>\n",
       "    .dataframe tbody tr th:only-of-type {\n",
       "        vertical-align: middle;\n",
       "    }\n",
       "\n",
       "    .dataframe tbody tr th {\n",
       "        vertical-align: top;\n",
       "    }\n",
       "\n",
       "    .dataframe thead th {\n",
       "        text-align: right;\n",
       "    }\n",
       "</style>\n",
       "<table border=\"1\" class=\"dataframe\">\n",
       "  <thead>\n",
       "    <tr style=\"text-align: right;\">\n",
       "      <th></th>\n",
       "      <th></th>\n",
       "      <th>평균거주인구</th>\n",
       "    </tr>\n",
       "    <tr>\n",
       "      <th>구</th>\n",
       "      <th>동</th>\n",
       "      <th></th>\n",
       "    </tr>\n",
       "  </thead>\n",
       "  <tbody>\n",
       "    <tr>\n",
       "      <th rowspan=\"5\" valign=\"top\">종로구</th>\n",
       "      <th>청운효자동</th>\n",
       "      <td>54.500000</td>\n",
       "    </tr>\n",
       "    <tr>\n",
       "      <th>사직동</th>\n",
       "      <td>79.500000</td>\n",
       "    </tr>\n",
       "    <tr>\n",
       "      <th>삼청동</th>\n",
       "      <td>20.500000</td>\n",
       "    </tr>\n",
       "    <tr>\n",
       "      <th>부암동</th>\n",
       "      <td>46.166667</td>\n",
       "    </tr>\n",
       "    <tr>\n",
       "      <th>평창동</th>\n",
       "      <td>22.500000</td>\n",
       "    </tr>\n",
       "    <tr>\n",
       "      <th>...</th>\n",
       "      <th>...</th>\n",
       "      <td>...</td>\n",
       "    </tr>\n",
       "    <tr>\n",
       "      <th rowspan=\"5\" valign=\"top\">강동구</th>\n",
       "      <th>성내2동</th>\n",
       "      <td>389.000000</td>\n",
       "    </tr>\n",
       "    <tr>\n",
       "      <th>성내3동</th>\n",
       "      <td>365.000000</td>\n",
       "    </tr>\n",
       "    <tr>\n",
       "      <th>길동</th>\n",
       "      <td>293.000000</td>\n",
       "    </tr>\n",
       "    <tr>\n",
       "      <th>둔촌1동</th>\n",
       "      <td>0.000000</td>\n",
       "    </tr>\n",
       "    <tr>\n",
       "      <th>둔촌2동</th>\n",
       "      <td>165.000000</td>\n",
       "    </tr>\n",
       "  </tbody>\n",
       "</table>\n",
       "<p>2120 rows × 1 columns</p>\n",
       "</div>"
      ],
      "text/plain": [
       "               평균거주인구\n",
       "구   동                \n",
       "종로구 청운효자동   54.500000\n",
       "    사직동     79.500000\n",
       "    삼청동     20.500000\n",
       "    부암동     46.166667\n",
       "    평창동     22.500000\n",
       "...               ...\n",
       "강동구 성내2동   389.000000\n",
       "    성내3동   365.000000\n",
       "    길동     293.000000\n",
       "    둔촌1동     0.000000\n",
       "    둔촌2동   165.000000\n",
       "\n",
       "[2120 rows x 1 columns]"
      ]
     },
     "execution_count": 42,
     "metadata": {},
     "output_type": "execute_result"
    }
   ],
   "source": [
    "거주인구"
   ]
  },
  {
   "cell_type": "markdown",
   "id": "5f35f132",
   "metadata": {},
   "source": [
    "## 유동인구"
   ]
  },
  {
   "cell_type": "code",
   "execution_count": 31,
   "id": "98979fca",
   "metadata": {},
   "outputs": [],
   "source": [
    "유동인구1=pd.read_csv('C:/Users/user/Desktop/원석/국비지원/GwangProject/Data/회귀분석/유동인구/2018유동인구.csv')\n",
    "유동인구2=pd.read_csv('C:/Users/user/Desktop/원석/국비지원/GwangProject/Data/회귀분석/유동인구/2019유동인구.csv')\n",
    "유동인구3=pd.read_csv('C:/Users/user/Desktop/원석/국비지원/GwangProject/Data/회귀분석/유동인구/2020유동인구.csv')\n",
    "유동인구4=pd.read_csv('C:/Users/user/Desktop/원석/국비지원/GwangProject/Data/회귀분석/유동인구/2021유동인구.csv')\n",
    "유동인구5=pd.read_csv('C:/Users/user/Desktop/원석/국비지원/GwangProject/Data/회귀분석/유동인구/2022유동인구.csv')"
   ]
  },
  {
   "cell_type": "code",
   "execution_count": 32,
   "id": "d736f57c",
   "metadata": {},
   "outputs": [],
   "source": [
    "# 유동인구1.set_index(['구','동'],inplace=True)\n",
    "# 유동인구2.set_index(['구','동'],inplace=True)\n",
    "# 유동인구3.set_index(['구','동'],inplace=True)\n",
    "# 유동인구4.set_index(['구','동'],inplace=True)\n",
    "# 유동인구5.set_index(['구','동'],inplace=True)"
   ]
  },
  {
   "cell_type": "code",
   "execution_count": 33,
   "id": "b2acff3c",
   "metadata": {},
   "outputs": [],
   "source": [
    "# 유동인구1.drop('Unnamed: 0',axis=1,inplace=True)\n",
    "# 유동인구2.drop('Unnamed: 0',axis=1,inplace=True)\n",
    "# 유동인구3.drop('Unnamed: 0',axis=1,inplace=True)\n",
    "# 유동인구4.drop('Unnamed: 0',axis=1,inplace=True)\n",
    "# 유동인구5.drop('Unnamed: 0',axis=1,inplace=True)"
   ]
  },
  {
   "cell_type": "code",
   "execution_count": 35,
   "id": "775d94d7",
   "metadata": {},
   "outputs": [],
   "source": [
    "유동인구=pd.concat([유동인구1,유동인구2,유동인구3,유동인구4,유동인구5],axis=0)\n",
    "유동인구.to_csv('2018~2022유동인구.csv')"
   ]
  },
  {
   "cell_type": "code",
   "execution_count": 41,
   "id": "f426af73",
   "metadata": {},
   "outputs": [
    {
     "data": {
      "text/html": [
       "<div>\n",
       "<style scoped>\n",
       "    .dataframe tbody tr th:only-of-type {\n",
       "        vertical-align: middle;\n",
       "    }\n",
       "\n",
       "    .dataframe tbody tr th {\n",
       "        vertical-align: top;\n",
       "    }\n",
       "\n",
       "    .dataframe thead th {\n",
       "        text-align: right;\n",
       "    }\n",
       "</style>\n",
       "<table border=\"1\" class=\"dataframe\">\n",
       "  <thead>\n",
       "    <tr style=\"text-align: right;\">\n",
       "      <th></th>\n",
       "      <th></th>\n",
       "      <th>평균유동인구</th>\n",
       "    </tr>\n",
       "    <tr>\n",
       "      <th>구</th>\n",
       "      <th>동</th>\n",
       "      <th></th>\n",
       "    </tr>\n",
       "  </thead>\n",
       "  <tbody>\n",
       "    <tr>\n",
       "      <th rowspan=\"5\" valign=\"top\">종로구</th>\n",
       "      <th>청운효자동</th>\n",
       "      <td>13988.666667</td>\n",
       "    </tr>\n",
       "    <tr>\n",
       "      <th>사직동</th>\n",
       "      <td>31652.500000</td>\n",
       "    </tr>\n",
       "    <tr>\n",
       "      <th>삼청동</th>\n",
       "      <td>5726.333333</td>\n",
       "    </tr>\n",
       "    <tr>\n",
       "      <th>부암동</th>\n",
       "      <td>4217.833333</td>\n",
       "    </tr>\n",
       "    <tr>\n",
       "      <th>평창동</th>\n",
       "      <td>1648.000000</td>\n",
       "    </tr>\n",
       "    <tr>\n",
       "      <th>...</th>\n",
       "      <th>...</th>\n",
       "      <td>...</td>\n",
       "    </tr>\n",
       "    <tr>\n",
       "      <th rowspan=\"5\" valign=\"top\">강동구</th>\n",
       "      <th>성내2동</th>\n",
       "      <td>150514.500000</td>\n",
       "    </tr>\n",
       "    <tr>\n",
       "      <th>성내3동</th>\n",
       "      <td>127091.166667</td>\n",
       "    </tr>\n",
       "    <tr>\n",
       "      <th>길동</th>\n",
       "      <td>100750.833333</td>\n",
       "    </tr>\n",
       "    <tr>\n",
       "      <th>둔촌1동</th>\n",
       "      <td>9407.833333</td>\n",
       "    </tr>\n",
       "    <tr>\n",
       "      <th>둔촌2동</th>\n",
       "      <td>44231.000000</td>\n",
       "    </tr>\n",
       "  </tbody>\n",
       "</table>\n",
       "<p>2120 rows × 1 columns</p>\n",
       "</div>"
      ],
      "text/plain": [
       "                  평균유동인구\n",
       "구   동                   \n",
       "종로구 청운효자동   13988.666667\n",
       "    사직동     31652.500000\n",
       "    삼청동      5726.333333\n",
       "    부암동      4217.833333\n",
       "    평창동      1648.000000\n",
       "...                  ...\n",
       "강동구 성내2동   150514.500000\n",
       "    성내3동   127091.166667\n",
       "    길동     100750.833333\n",
       "    둔촌1동     9407.833333\n",
       "    둔촌2동    44231.000000\n",
       "\n",
       "[2120 rows x 1 columns]"
      ]
     },
     "execution_count": 41,
     "metadata": {},
     "output_type": "execute_result"
    }
   ],
   "source": [
    "유동인구"
   ]
  },
  {
   "cell_type": "markdown",
   "id": "0516e691",
   "metadata": {},
   "source": [
    "## 직장인구"
   ]
  },
  {
   "cell_type": "code",
   "execution_count": 36,
   "id": "1588cd2b",
   "metadata": {},
   "outputs": [],
   "source": [
    "직장인구1=pd.read_csv('C:/Users/user/Desktop/원석/국비지원/GwangProject/Data/회귀분석/직장인구/2018직장인구.csv')\n",
    "직장인구2=pd.read_csv('C:/Users/user/Desktop/원석/국비지원/GwangProject/Data/회귀분석/직장인구/2019직장인구.csv')\n",
    "직장인구3=pd.read_csv('C:/Users/user/Desktop/원석/국비지원/GwangProject/Data/회귀분석/직장인구/2020직장인구.csv')\n",
    "직장인구4=pd.read_csv('C:/Users/user/Desktop/원석/국비지원/GwangProject/Data/회귀분석/직장인구/2021직장인구.csv')\n",
    "직장인구5=pd.read_csv('C:/Users/user/Desktop/원석/국비지원/GwangProject/Data/회귀분석/직장인구/2022직장인구.csv')"
   ]
  },
  {
   "cell_type": "code",
   "execution_count": 37,
   "id": "862cded6",
   "metadata": {},
   "outputs": [],
   "source": [
    "# 직장인구1.set_index(['구','동'],inplace=True)\n",
    "# 직장인구2.set_index(['구','동'],inplace=True)\n",
    "# 직장인구3.set_index(['구','동'],inplace=True)\n",
    "# 직장인구4.set_index(['구','동'],inplace=True)\n",
    "# 직장인구5.set_index(['구','동'],inplace=True)"
   ]
  },
  {
   "cell_type": "code",
   "execution_count": 38,
   "id": "3a4d004d",
   "metadata": {},
   "outputs": [],
   "source": [
    "# 직장인구1.drop('Unnamed: 0',axis=1,inplace=True)\n",
    "# 직장인구2.drop('Unnamed: 0',axis=1,inplace=True)\n",
    "# 직장인구3.drop('Unnamed: 0',axis=1,inplace=True)\n",
    "# 직장인구4.drop('Unnamed: 0',axis=1,inplace=True)\n",
    "# 직장인구5.drop('Unnamed: 0',axis=1,inplace=True)"
   ]
  },
  {
   "cell_type": "code",
   "execution_count": 39,
   "id": "9f83f8a5",
   "metadata": {},
   "outputs": [],
   "source": [
    "직장인구=pd.concat([직장인구1,직장인구2,직장인구3,직장인구4,직장인구5],axis=0)\n",
    "직장인구.to_csv('2018~2022직장인구.csv')"
   ]
  },
  {
   "cell_type": "code",
   "execution_count": 40,
   "id": "501f17f7",
   "metadata": {},
   "outputs": [
    {
     "data": {
      "text/html": [
       "<div>\n",
       "<style scoped>\n",
       "    .dataframe tbody tr th:only-of-type {\n",
       "        vertical-align: middle;\n",
       "    }\n",
       "\n",
       "    .dataframe tbody tr th {\n",
       "        vertical-align: top;\n",
       "    }\n",
       "\n",
       "    .dataframe thead th {\n",
       "        text-align: right;\n",
       "    }\n",
       "</style>\n",
       "<table border=\"1\" class=\"dataframe\">\n",
       "  <thead>\n",
       "    <tr style=\"text-align: right;\">\n",
       "      <th></th>\n",
       "      <th></th>\n",
       "      <th>평균직장인구</th>\n",
       "    </tr>\n",
       "    <tr>\n",
       "      <th>구</th>\n",
       "      <th>동</th>\n",
       "      <th></th>\n",
       "    </tr>\n",
       "  </thead>\n",
       "  <tbody>\n",
       "    <tr>\n",
       "      <th rowspan=\"5\" valign=\"top\">종로구</th>\n",
       "      <th>청운효자동</th>\n",
       "      <td>29.833333</td>\n",
       "    </tr>\n",
       "    <tr>\n",
       "      <th>사직동</th>\n",
       "      <td>587.166667</td>\n",
       "    </tr>\n",
       "    <tr>\n",
       "      <th>삼청동</th>\n",
       "      <td>28.166667</td>\n",
       "    </tr>\n",
       "    <tr>\n",
       "      <th>부암동</th>\n",
       "      <td>14.000000</td>\n",
       "    </tr>\n",
       "    <tr>\n",
       "      <th>평창동</th>\n",
       "      <td>3.000000</td>\n",
       "    </tr>\n",
       "    <tr>\n",
       "      <th>...</th>\n",
       "      <th>...</th>\n",
       "      <td>...</td>\n",
       "    </tr>\n",
       "    <tr>\n",
       "      <th rowspan=\"5\" valign=\"top\">강동구</th>\n",
       "      <th>성내2동</th>\n",
       "      <td>37.000000</td>\n",
       "    </tr>\n",
       "    <tr>\n",
       "      <th>성내3동</th>\n",
       "      <td>72.000000</td>\n",
       "    </tr>\n",
       "    <tr>\n",
       "      <th>길동</th>\n",
       "      <td>60.000000</td>\n",
       "    </tr>\n",
       "    <tr>\n",
       "      <th>둔촌1동</th>\n",
       "      <td>17.000000</td>\n",
       "    </tr>\n",
       "    <tr>\n",
       "      <th>둔촌2동</th>\n",
       "      <td>31.000000</td>\n",
       "    </tr>\n",
       "  </tbody>\n",
       "</table>\n",
       "<p>2120 rows × 1 columns</p>\n",
       "</div>"
      ],
      "text/plain": [
       "               평균직장인구\n",
       "구   동                \n",
       "종로구 청운효자동   29.833333\n",
       "    사직동    587.166667\n",
       "    삼청동     28.166667\n",
       "    부암동     14.000000\n",
       "    평창동      3.000000\n",
       "...               ...\n",
       "강동구 성내2동    37.000000\n",
       "    성내3동    72.000000\n",
       "    길동      60.000000\n",
       "    둔촌1동    17.000000\n",
       "    둔촌2동    31.000000\n",
       "\n",
       "[2120 rows x 1 columns]"
      ]
     },
     "execution_count": 40,
     "metadata": {},
     "output_type": "execute_result"
    }
   ],
   "source": [
    "직장인구"
   ]
  }
 ],
 "metadata": {
  "kernelspec": {
   "display_name": "Python 3 (ipykernel)",
   "language": "python",
   "name": "python3"
  },
  "language_info": {
   "codemirror_mode": {
    "name": "ipython",
    "version": 3
   },
   "file_extension": ".py",
   "mimetype": "text/x-python",
   "name": "python",
   "nbconvert_exporter": "python",
   "pygments_lexer": "ipython3",
   "version": "3.9.13"
  }
 },
 "nbformat": 4,
 "nbformat_minor": 5
}
