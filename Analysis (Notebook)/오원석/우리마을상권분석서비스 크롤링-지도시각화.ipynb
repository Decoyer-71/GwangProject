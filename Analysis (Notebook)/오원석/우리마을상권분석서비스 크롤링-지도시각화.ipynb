{
 "cells": [
  {
   "cell_type": "code",
   "execution_count": 1,
   "id": "531dcb4d",
   "metadata": {},
   "outputs": [],
   "source": [
    "import numpy as np\n",
    "import pandas as pd\n",
    "import matplotlib.pyplot as plt\n",
    "import seaborn as sns\n",
    "\n",
    "import matplotlib.font_manager as fm\n",
    "font_name= fm.FontProperties(fname='C:\\\\Windows\\\\Fonts\\\\malgun.ttf').get_name()\n",
    "plt.rc('font',family=font_name)\n",
    "\n",
    "import matplotlib as mlp\n",
    "mlp.rcParams['axes.unicode_minus']=False\n",
    "\n",
    "from bs4 import BeautifulSoup\n",
    "import requests"
   ]
  },
  {
   "cell_type": "code",
   "execution_count": 2,
   "id": "6a298899",
   "metadata": {},
   "outputs": [],
   "source": [
    "from selenium import webdriver\n",
    "from selenium.webdriver.common.by import By\n",
    "from selenium.webdriver.common.keys import Keys\n",
    "\n",
    "# pip install webdriver-manager\n",
    "# from webdriver_manager.chrome import ChromeDriverManager # 크롬 버전 알아서 맞춰줌\n",
    "from selenium.webdriver.chrome.service import Service\n",
    "\n",
    "import time"
   ]
  },
  {
   "cell_type": "code",
   "execution_count": 4,
   "id": "d86bb381",
   "metadata": {},
   "outputs": [],
   "source": [
    "driver = webdriver.Chrome(\"chromedriver\")\n",
    "driver.get(\"https://golmok.seoul.go.kr/stateArea.do\") # 큰 화면으로 실행\n",
    "\n",
    "driver.find_element(By.ID, \"population\").click()"
   ]
  },
  {
   "cell_type": "code",
   "execution_count": 5,
   "id": "980ebb2a",
   "metadata": {},
   "outputs": [
    {
     "name": "stdout",
     "output_type": "stream",
     "text": [
      "2022년\n",
      "2021년\n",
      "2020년\n",
      "2019년\n",
      "2018년\n",
      "2017년\n",
      "4분기\n",
      "3분기\n",
      "2분기\n",
      "1분기\n",
      "동분기\n",
      "전분기\n"
     ]
    }
   ],
   "source": [
    "year= driver.find_element(By.ID, \"selectYear\")\n",
    "year.click()\n",
    "tag= year.find_elements(By.TAG_NAME, 'option')\n",
    "for i in tag:\n",
    "    print(i.text)\n",
    "    if i.text=='2020년':\n",
    "        i.click()\n",
    "        \n",
    "qu= driver.find_element(By.ID, \"selectQu\")\n",
    "qu.click()\n",
    "tag= qu.find_elements(By.TAG_NAME, 'option')  \n",
    "for i in tag:\n",
    "    print(i.text)\n",
    "    if i.text=='4분기':\n",
    "        i.click()\n",
    "        \n",
    "qucon= driver.find_element(By.ID, \"selectQuCondition\")\n",
    "qucon.click()\n",
    "tag= qucon.find_elements(By.TAG_NAME, 'option')  \n",
    "for i in tag:    \n",
    "    print(i.text)\n",
    "    if i.text=='전분기':\n",
    "        i.click()\n",
    "\n",
    "driver.find_element(By.ID, \"presentSearch\").click()\n",
    "\n",
    "time.sleep(3)"
   ]
  },
  {
   "cell_type": "code",
   "execution_count": 6,
   "id": "540a2fbf",
   "metadata": {},
   "outputs": [
    {
     "name": "stdout",
     "output_type": "stream",
     "text": [
      "['종로구', '20666', '64', '99', '20487', '64', '99', '20354', '63', '99']\n",
      "['중구', '47501', '125', '336', '46712', '125', '336', '45825', '126', '336']\n",
      "['용산구', '26881', '106', '83', '26508', '106', '83', '26108', '108', '83']\n",
      "['성동구', '40033', '182', '49', '39616', '182', '49', '39251', '177', '49']\n",
      "['광진구', '53534', '198', '46', '52479', '198', '46', '52149', '196', '46']\n",
      "['동대문구', '68959', '235', '55', '67884', '235', '55', '67535', '236', '55']\n",
      "['중랑구', '53239', '217', '22', '53172', '217', '22', '53543', '216', '22']\n",
      "['성북구', '44673', '171', '45', '43499', '171', '45', '43407', '177', '45']\n",
      "['강북구', '36384', '133', '12', '35839', '133', '12', '35796', '130', '12']\n",
      "['도봉구', '30101', '160', '17', '29897', '160', '17', '29714', '156', '17']\n",
      "['노원구', '27112', '150', '16', '26677', '150', '16', '26611', '147', '16']\n",
      "['은평구', '38579', '153', '16', '38534', '153', '16', '38431', '154', '16']\n",
      "['서대문구', '52638', '178', '38', '51112', '178', '38', '51765', '180', '38']\n",
      "['마포구', '44050', '127', '58', '43575', '127', '58', '42742', '151', '58']\n",
      "['양천구', '47605', '256', '78', '46565', '256', '78', '46108', '254', '78']\n",
      "['강서구', '27323', '137', '35', '27484', '137', '35', '27355', '135', '35']\n",
      "['구로구', '36886', '198', '70', '36665', '198', '70', '36392', '200', '70']\n",
      "['금천구', '31147', '184', '100', '30773', '184', '100', '30674', '183', '100']\n",
      "['영등포구', '43895', '169', '185', '43935', '169', '185', '43888', '176', '185']\n",
      "['동작구', '50600', '227', '44', '49322', '227', '44', '48406', '224', '44']\n",
      "['관악구', '43939', '168', '25', '43363', '168', '25', '42772', '166', '25']\n",
      "['서초구', '20240', '89', '121', '19939', '89', '121', '19711', '89', '121']\n",
      "['강남구', '35629', '142', '293', '35338', '142', '293', '34343', '141', '293']\n",
      "['송파구', '37046', '201', '119', '36571', '201', '119', '36448', '199', '119']\n",
      "['강동구', '44340', '164', '29', '43940', '164', '29', '43739', '180', '29']\n"
     ]
    }
   ],
   "source": [
    "구=[]\n",
    "유동인구=[]\n",
    "직장인구=[]\n",
    "\n",
    "trs= driver.find_elements(By.CLASS_NAME, 'branch')\n",
    "for tr in trs[1:26]:\n",
    "#     print(tr.text)\n",
    "    texts= tr.text.replace(',','').split()\n",
    "    print(texts)\n",
    "    구.append(texts[0])\n",
    "    s_p=[int(texts[1]), int(texts[4]), int(texts[7])]\n",
    "    w_p=[int(texts[3]), int(texts[6]), int(texts[9])]\n",
    "    유동인구.append(sum(s_p)/3)\n",
    "    직장인구.append(sum(w_p)/3)"
   ]
  },
  {
   "cell_type": "code",
   "execution_count": null,
   "id": "1bad1867",
   "metadata": {},
   "outputs": [],
   "source": [
    "tag= driver.find_elements(By.TAG_NAME, 'option')\n",
    "for i in tag:\n",
    "#     print(i.text)\n",
    "    if i.text=='2020년':\n",
    "        i.click()\n",
    "    if i.text=='3분기':\n",
    "        i.click()\n",
    "    if i.text=='전분기':\n",
    "        i.click()\n",
    "driver.find_element(By.ID, \"presentSearch\").click()\n",
    "time.sleep(2)"
   ]
  },
  {
   "cell_type": "code",
   "execution_count": null,
   "id": "03fb21f5",
   "metadata": {
    "scrolled": false
   },
   "outputs": [],
   "source": [
    "# 유동=[]\n",
    "# 직장=[]\n",
    "\n",
    "# trs= driver.find_elements(By.CLASS_NAME, 'branch')\n",
    "# for tr in trs[1:26]:\n",
    "\n",
    "#     texts= tr.text.replace(',','').split()\n",
    "#     print(texts)\n",
    "#     s_p=int(texts[1])\n",
    "#     w_p=int(texts[3])\n",
    "#     유동.append(s_p)\n",
    "#     직장인구.append(w_p)"
   ]
  },
  {
   "cell_type": "code",
   "execution_count": null,
   "id": "26a504ea",
   "metadata": {},
   "outputs": [],
   "source": [
    "유동=[]\n",
    "직장=[]\n",
    "trs= driver.find_elements(By.CLASS_NAME, 'branch')\n",
    "\n",
    "for tr in trs[1:26]:\n",
    "#     print(tr.text)\n",
    "    texts= tr.text.replace(',','').split()\n",
    "    print(texts)\n",
    "#     구.append(texts[0])\n",
    "    유동.append(int(texts[1]))\n",
    "    직장.append(int(texts[3]))\n",
    "유동"
   ]
  },
  {
   "cell_type": "code",
   "execution_count": null,
   "id": "63038eb3",
   "metadata": {},
   "outputs": [],
   "source": [
    "유동인구"
   ]
  },
  {
   "cell_type": "code",
   "execution_count": null,
   "id": "cecbd4c4",
   "metadata": {},
   "outputs": [],
   "source": [
    "data={'gu':구, '1분기유동인구': 유동, '2~4분기유동인구': 유동인구}\n",
    "df1= pd.DataFrame(data)\n",
    "df1['평균유동인구']= df1.mean(axis=1)\n",
    "df1.to_csv('평균유동인구.csv', index=False)\n",
    "df1"
   ]
  },
  {
   "cell_type": "code",
   "execution_count": null,
   "id": "21a47f8f",
   "metadata": {
    "scrolled": true
   },
   "outputs": [],
   "source": [
    "data={'gu':구, '1분기직장인구': 직장, '2~4분기직장인구': 직장인구}\n",
    "df2= pd.DataFrame(data)\n",
    "df2['평균직장인구']=df2.mean(axis=1)\n",
    "df2.to_csv('평균직장인구.csv', index=False)\n",
    "df2"
   ]
  },
  {
   "cell_type": "code",
   "execution_count": null,
   "id": "ff1357d7",
   "metadata": {},
   "outputs": [],
   "source": [
    "merge= pd.merge(df1, df2, on='gu')\n",
    "merge"
   ]
  },
  {
   "cell_type": "code",
   "execution_count": null,
   "id": "95ade1cc",
   "metadata": {},
   "outputs": [],
   "source": [
    "result= merge[['gu','평균유동인구','평균직장인구']]\n",
    "result= result.set_index('gu')\n",
    "result"
   ]
  },
  {
   "cell_type": "code",
   "execution_count": null,
   "id": "5791a5fd",
   "metadata": {},
   "outputs": [],
   "source": []
  },
  {
   "cell_type": "code",
   "execution_count": null,
   "id": "7d9cdb6a",
   "metadata": {},
   "outputs": [],
   "source": [
    "import matplotlib.pyplot as plt\n",
    "import seaborn as sns"
   ]
  },
  {
   "cell_type": "code",
   "execution_count": null,
   "id": "7c4e44bb",
   "metadata": {
    "scrolled": false
   },
   "outputs": [],
   "source": [
    "plt.figure(figsize=(10, 8))\n",
    "plt.title(\"Person Correlation of Features\", y = 1.05, size = 15)\n",
    "sns.heatmap(result.astype(float).corr(), linewidths = 0.1, vmax = 1.0,\n",
    "           square = True, linecolor = \"white\", annot = True, annot_kws = {\"size\" : 16})"
   ]
  },
  {
   "cell_type": "code",
   "execution_count": null,
   "id": "ea54bc8f",
   "metadata": {},
   "outputs": [],
   "source": [
    "import json\n",
    "geo=json.load(open(\"C:/Users/user/ows4591/anaconda3/skorea_municipalities_geo_simple_seoul.json\",\n",
    "                  encoding=\"utf-8\"))\n",
    "\n",
    "import folium\n",
    "\n",
    "map = folium.Map(location=[37.5000195, 127.0229206],zoom_start=11)\n",
    "\n",
    "\n",
    "map.choropleth(geo_data=geo,  data=result[\"평균유동인구\"], \n",
    "               key_on=\"feature.id\",\n",
    "               columns=[\"평균유동인구\"],\n",
    "               fill_color=\"PuRd\")\n",
    "map"
   ]
  },
  {
   "cell_type": "code",
   "execution_count": null,
   "id": "b7967cbe",
   "metadata": {},
   "outputs": [],
   "source": [
    "result.sort_values(by=['평균유동인구','평균직장인구']).plot.barh()"
   ]
  },
  {
   "cell_type": "code",
   "execution_count": null,
   "id": "fe2b0871",
   "metadata": {},
   "outputs": [],
   "source": []
  },
  {
   "cell_type": "code",
   "execution_count": null,
   "id": "05a23cbd",
   "metadata": {},
   "outputs": [],
   "source": []
  },
  {
   "cell_type": "code",
   "execution_count": null,
   "id": "bdaa43a7",
   "metadata": {},
   "outputs": [],
   "source": []
  },
  {
   "cell_type": "code",
   "execution_count": null,
   "id": "79b524bd",
   "metadata": {},
   "outputs": [],
   "source": []
  }
 ],
 "metadata": {
  "kernelspec": {
   "display_name": "Python 3 (ipykernel)",
   "language": "python",
   "name": "python3"
  },
  "language_info": {
   "codemirror_mode": {
    "name": "ipython",
    "version": 3
   },
   "file_extension": ".py",
   "mimetype": "text/x-python",
   "name": "python",
   "nbconvert_exporter": "python",
   "pygments_lexer": "ipython3",
   "version": "3.9.13"
  }
 },
 "nbformat": 4,
 "nbformat_minor": 5
}
