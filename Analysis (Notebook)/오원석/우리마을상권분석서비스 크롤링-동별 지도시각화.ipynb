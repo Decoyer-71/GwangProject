{
 "cells": [
  {
   "cell_type": "code",
   "execution_count": 1,
   "id": "531dcb4d",
   "metadata": {},
   "outputs": [],
   "source": [
    "import numpy as np\n",
    "import pandas as pd\n",
    "import matplotlib.pyplot as plt\n",
    "import seaborn as sns\n",
    "\n",
    "import matplotlib.font_manager as fm\n",
    "font_name= fm.FontProperties(fname='C:\\\\Windows\\\\Fonts\\\\malgun.ttf').get_name()\n",
    "plt.rc('font',family=font_name)\n",
    "\n",
    "import matplotlib as mlp\n",
    "mlp.rcParams['axes.unicode_minus']=False\n",
    "\n",
    "from bs4 import BeautifulSoup\n",
    "import requests"
   ]
  },
  {
   "cell_type": "code",
   "execution_count": 2,
   "id": "6a298899",
   "metadata": {},
   "outputs": [],
   "source": [
    "from selenium import webdriver\n",
    "from selenium.webdriver.common.by import By\n",
    "from selenium.webdriver.common.keys import Keys\n",
    "\n",
    "# pip install webdriver-manager\n",
    "from webdriver_manager.chrome import ChromeDriverManager # 크롬 버전 알아서 맞춰줌\n",
    "from selenium.webdriver.chrome.service import Service\n",
    "\n",
    "import time"
   ]
  },
  {
   "cell_type": "code",
   "execution_count": 3,
   "id": "d86bb381",
   "metadata": {},
   "outputs": [
    {
     "name": "stderr",
     "output_type": "stream",
     "text": [
      "C:\\Users\\acorn\\AppData\\Local\\Temp\\ipykernel_57088\\1715824395.py:1: DeprecationWarning: executable_path has been deprecated, please pass in a Service object\n",
      "  driver = webdriver.Chrome(\"C:/Users/user/ssibal/anaconda3/chromedriver\")\n"
     ]
    }
   ],
   "source": [
    "driver = webdriver.Chrome(\"C:/Users/user/ssibal/anaconda3/chromedriver\")\n",
    "driver.get(\"https://golmok.seoul.go.kr/stateArea.do\") # 큰 화면으로 실행\n",
    "\n",
    "driver.find_element(By.ID, \"population\").click()"
   ]
  },
  {
   "cell_type": "code",
   "execution_count": 4,
   "id": "980ebb2a",
   "metadata": {},
   "outputs": [
    {
     "name": "stdout",
     "output_type": "stream",
     "text": [
      "2022년\n",
      "2021년\n",
      "2020년\n",
      "2019년\n",
      "2018년\n",
      "2017년\n",
      "4분기\n",
      "3분기\n",
      "2분기\n",
      "1분기\n",
      "동분기\n",
      "전분기\n"
     ]
    }
   ],
   "source": [
    "year= driver.find_element(By.ID, \"selectYear\")\n",
    "year.click()\n",
    "tag= year.find_elements(By.TAG_NAME, 'option')\n",
    "for i in tag:\n",
    "    print(i.text)\n",
    "    if i.text=='2022년':\n",
    "        i.click()\n",
    "        \n",
    "qu= driver.find_element(By.ID, \"selectQu\")\n",
    "qu.click()\n",
    "tag= qu.find_elements(By.TAG_NAME, 'option')  \n",
    "for i in tag:\n",
    "    print(i.text)\n",
    "    if i.text=='4분기':\n",
    "        i.click()\n",
    "        \n",
    "qucon= driver.find_element(By.ID, \"selectQuCondition\")\n",
    "qucon.click()\n",
    "tag= qucon.find_elements(By.TAG_NAME, 'option')  \n",
    "for i in tag:    \n",
    "    print(i.text)\n",
    "    if i.text=='전분기':\n",
    "        i.click()\n",
    "\n",
    "driver.find_element(By.ID, \"presentSearch\").click()\n",
    "\n",
    "time.sleep(3)"
   ]
  },
  {
   "cell_type": "code",
   "execution_count": 5,
   "id": "2bdbb7b4",
   "metadata": {},
   "outputs": [],
   "source": [
    "동=[]\n",
    "유동인구2=[]\n",
    "주거인구2= []\n",
    "직장인구2=[]\n",
    "tbody= driver.find_element(By.TAG_NAME, 'tbody')\n",
    "\n",
    "# trs= driver.find_elements(By.CLASS_NAME, 'branch')\n",
    "branchs= tbody.find_elements(By.CLASS_NAME, 'branch')\n",
    "# for tr in trs[1:26]:\n",
    "#     print(tr.text)\n",
    "#     texts= tr.text.replace(',','').split()\n",
    "#     print(texts)\n",
    "#     구.append(texts[0])\n",
    "#     s_p=[int(texts[1]), int(texts[4]), int(texts[7])]\n",
    "#     w_p=[int(texts[3]), int(texts[6]), int(texts[9])]\n",
    "#     유동인구.append(sum(s_p)/3)\n",
    "#     직장인구.append(sum(w_p)/3)\n",
    "# for i in branchs:\n",
    "#     print(i.text)\n",
    "\n",
    "# tbody.get_attribute('data-tt-id')\n",
    "trs= tbody.find_elements(By.TAG_NAME, 'tr')\n",
    "\n",
    "for tr in trs:\n",
    "    if tr.get_attribute('data-tt-id')=='6':\n",
    "        tr.find_element(By.TAG_NAME, 'a').click()\n",
    "#     print(tr.get_attribute('data-tt-id'))\n",
    "#     print('---------------------')\n",
    "    if tr.get_attribute('data-tt-parent-id')=='6':\n",
    "#         print(tr.get_attribute('data-tt-id'))\n",
    "#         print(tr.text)\n",
    "        texts= tr.text.replace(',','').split()\n",
    "        동.append(texts[0])\n",
    "        s_p= [int(texts[1]), int(texts[4]), int(texts[7])]\n",
    "        l_p= [int(texts[2]), int(texts[5]), int(texts[8])]\n",
    "        w_p= [int(texts[3]), int(texts[6]), int(texts[9])]\n",
    "        유동인구2.append(sum(s_p)/3)\n",
    "        주거인구2.append(sum(l_p)/3)\n",
    "        직장인구2.append(sum(w_p)/3)\n",
    "#         tx= tr.find_element(By.CLASS_NAME, 'addr')\n",
    "#         print(tx.text)"
   ]
  },
  {
   "cell_type": "code",
   "execution_count": 6,
   "id": "5e36ae7f",
   "metadata": {
    "scrolled": false
   },
   "outputs": [
    {
     "data": {
      "text/plain": [
       "[87519.66666666667,\n",
       " 75495.0,\n",
       " 60835.0,\n",
       " 80334.33333333333,\n",
       " 73912.33333333333,\n",
       " 30331.0,\n",
       " 18553.0,\n",
       " 20664.666666666668,\n",
       " 126415.66666666667,\n",
       " 31783.333333333332,\n",
       " 70073.0,\n",
       " 65923.0,\n",
       " 141613.0,\n",
       " 38337.666666666664,\n",
       " 41397.666666666664]"
      ]
     },
     "execution_count": 6,
     "metadata": {},
     "output_type": "execute_result"
    }
   ],
   "source": [
    "유동인구2"
   ]
  },
  {
   "cell_type": "code",
   "execution_count": 7,
   "id": "69b217b6",
   "metadata": {},
   "outputs": [],
   "source": [
    "tag= driver.find_elements(By.TAG_NAME, 'option')\n",
    "for i in tag:\n",
    "#     print(i.text)\n",
    "    if i.text=='2022년':\n",
    "        i.click()\n",
    "    if i.text=='3분기':\n",
    "        i.click()\n",
    "    if i.text=='전분기':\n",
    "        i.click()\n",
    "driver.find_element(By.ID, \"presentSearch\").click()\n",
    "time.sleep(2)"
   ]
  },
  {
   "cell_type": "code",
   "execution_count": 8,
   "id": "d0780ee6",
   "metadata": {},
   "outputs": [
    {
     "name": "stdout",
     "output_type": "stream",
     "text": [
      "화양동 84,536 201 24 90,045 201 24 85,527 201 24\n",
      "군자동 73,618 272 32 76,690 272 32 73,313 272 32\n",
      "중곡1동 63,577 268 91 61,275 268 91 60,724 268 91\n",
      "중곡2동 84,776 400 52 82,037 400 52 79,348 400 52\n",
      "중곡3동 75,294 277 25 73,950 277 25 73,837 277 25\n",
      "중곡4동 32,347 127 22 31,032 127 22 29,893 127 22\n",
      "능동 17,964 106 21 19,279 106 21 18,135 106 21\n",
      "광장동 20,819 123 58 20,732 123 58 20,430 123 58\n",
      "자양1동 130,511 366 199 130,887 366 199 123,536 366 199\n",
      "자양2동 33,252 157 31 31,945 157 31 31,625 157 31\n",
      "자양3동 72,823 259 29 72,575 259 29 70,703 259 29\n",
      "자양4동 64,200 146 11 67,615 146 11 65,402 146 11\n",
      "구의1동 149,043 398 66 146,753 398 66 140,470 398 66\n",
      "구의2동 37,722 198 31 37,942 198 31 38,761 198 31\n",
      "구의3동 42,561 202 89 41,877 202 89 40,257 202 89\n"
     ]
    }
   ],
   "source": [
    "유동인구1=[]\n",
    "거주인구1=[]\n",
    "직장인구1=[]\n",
    "trs= driver.find_elements(By.CLASS_NAME, 'branch')\n",
    "tbody= driver.find_element(By.TAG_NAME, 'tbody')\n",
    "\n",
    "# trs= driver.find_elements(By.CLASS_NAME, 'branch')\n",
    "branchs= tbody.find_elements(By.CLASS_NAME, 'branch')\n",
    "trs= tbody.find_elements(By.TAG_NAME, 'tr')\n",
    "\n",
    "for tr in trs:\n",
    "#     print(tr.text)\n",
    "    if tr.get_attribute('data-tt-id')=='6':\n",
    "        tr.find_element(By.TAG_NAME, 'a').click()\n",
    "        \n",
    "    if tr.get_attribute('data-tt-parent-id')=='6':\n",
    "        print(tr.text) \n",
    "        texts= tr.text.replace(',','').split()\n",
    "\n",
    "        유동인구1.append(int(texts[1]))\n",
    "        거주인구1.append(int(texts[2]))\n",
    "        직장인구1.append(int(texts[3]))"
   ]
  },
  {
   "cell_type": "code",
   "execution_count": 9,
   "id": "bade847a",
   "metadata": {},
   "outputs": [
    {
     "data": {
      "text/plain": [
       "[84536,\n",
       " 73618,\n",
       " 63577,\n",
       " 84776,\n",
       " 75294,\n",
       " 32347,\n",
       " 17964,\n",
       " 20819,\n",
       " 130511,\n",
       " 33252,\n",
       " 72823,\n",
       " 64200,\n",
       " 149043,\n",
       " 37722,\n",
       " 42561]"
      ]
     },
     "execution_count": 9,
     "metadata": {},
     "output_type": "execute_result"
    }
   ],
   "source": [
    "유동인구1"
   ]
  },
  {
   "cell_type": "code",
   "execution_count": 10,
   "id": "4bc95084",
   "metadata": {},
   "outputs": [
    {
     "data": {
      "text/html": [
       "<div>\n",
       "<style scoped>\n",
       "    .dataframe tbody tr th:only-of-type {\n",
       "        vertical-align: middle;\n",
       "    }\n",
       "\n",
       "    .dataframe tbody tr th {\n",
       "        vertical-align: top;\n",
       "    }\n",
       "\n",
       "    .dataframe thead th {\n",
       "        text-align: right;\n",
       "    }\n",
       "</style>\n",
       "<table border=\"1\" class=\"dataframe\">\n",
       "  <thead>\n",
       "    <tr style=\"text-align: right;\">\n",
       "      <th></th>\n",
       "      <th>평균유동인구</th>\n",
       "      <th>평균거주인구</th>\n",
       "      <th>평균직장인구</th>\n",
       "    </tr>\n",
       "    <tr>\n",
       "      <th>동</th>\n",
       "      <th></th>\n",
       "      <th></th>\n",
       "      <th></th>\n",
       "    </tr>\n",
       "  </thead>\n",
       "  <tbody>\n",
       "    <tr>\n",
       "      <th>화양동</th>\n",
       "      <td>86027.833333</td>\n",
       "      <td>201.0</td>\n",
       "      <td>24.0</td>\n",
       "    </tr>\n",
       "    <tr>\n",
       "      <th>군자동</th>\n",
       "      <td>74556.500000</td>\n",
       "      <td>272.0</td>\n",
       "      <td>32.0</td>\n",
       "    </tr>\n",
       "    <tr>\n",
       "      <th>중곡1동</th>\n",
       "      <td>62206.000000</td>\n",
       "      <td>268.0</td>\n",
       "      <td>91.0</td>\n",
       "    </tr>\n",
       "    <tr>\n",
       "      <th>중곡2동</th>\n",
       "      <td>82555.166667</td>\n",
       "      <td>400.0</td>\n",
       "      <td>52.0</td>\n",
       "    </tr>\n",
       "    <tr>\n",
       "      <th>중곡3동</th>\n",
       "      <td>74603.166667</td>\n",
       "      <td>277.0</td>\n",
       "      <td>25.0</td>\n",
       "    </tr>\n",
       "    <tr>\n",
       "      <th>중곡4동</th>\n",
       "      <td>31339.000000</td>\n",
       "      <td>127.0</td>\n",
       "      <td>22.0</td>\n",
       "    </tr>\n",
       "    <tr>\n",
       "      <th>능동</th>\n",
       "      <td>18258.500000</td>\n",
       "      <td>106.0</td>\n",
       "      <td>21.0</td>\n",
       "    </tr>\n",
       "    <tr>\n",
       "      <th>광장동</th>\n",
       "      <td>20741.833333</td>\n",
       "      <td>123.0</td>\n",
       "      <td>58.0</td>\n",
       "    </tr>\n",
       "    <tr>\n",
       "      <th>자양1동</th>\n",
       "      <td>128463.333333</td>\n",
       "      <td>366.0</td>\n",
       "      <td>199.0</td>\n",
       "    </tr>\n",
       "    <tr>\n",
       "      <th>자양2동</th>\n",
       "      <td>32517.666667</td>\n",
       "      <td>157.0</td>\n",
       "      <td>31.0</td>\n",
       "    </tr>\n",
       "    <tr>\n",
       "      <th>자양3동</th>\n",
       "      <td>71448.000000</td>\n",
       "      <td>259.0</td>\n",
       "      <td>29.0</td>\n",
       "    </tr>\n",
       "    <tr>\n",
       "      <th>자양4동</th>\n",
       "      <td>65061.500000</td>\n",
       "      <td>146.0</td>\n",
       "      <td>11.0</td>\n",
       "    </tr>\n",
       "    <tr>\n",
       "      <th>구의1동</th>\n",
       "      <td>145328.000000</td>\n",
       "      <td>398.0</td>\n",
       "      <td>66.0</td>\n",
       "    </tr>\n",
       "    <tr>\n",
       "      <th>구의2동</th>\n",
       "      <td>38029.833333</td>\n",
       "      <td>198.0</td>\n",
       "      <td>31.0</td>\n",
       "    </tr>\n",
       "    <tr>\n",
       "      <th>구의3동</th>\n",
       "      <td>41979.333333</td>\n",
       "      <td>202.0</td>\n",
       "      <td>89.0</td>\n",
       "    </tr>\n",
       "  </tbody>\n",
       "</table>\n",
       "</div>"
      ],
      "text/plain": [
       "             평균유동인구  평균거주인구  평균직장인구\n",
       "동                                  \n",
       "화양동    86027.833333   201.0    24.0\n",
       "군자동    74556.500000   272.0    32.0\n",
       "중곡1동   62206.000000   268.0    91.0\n",
       "중곡2동   82555.166667   400.0    52.0\n",
       "중곡3동   74603.166667   277.0    25.0\n",
       "중곡4동   31339.000000   127.0    22.0\n",
       "능동     18258.500000   106.0    21.0\n",
       "광장동    20741.833333   123.0    58.0\n",
       "자양1동  128463.333333   366.0   199.0\n",
       "자양2동   32517.666667   157.0    31.0\n",
       "자양3동   71448.000000   259.0    29.0\n",
       "자양4동   65061.500000   146.0    11.0\n",
       "구의1동  145328.000000   398.0    66.0\n",
       "구의2동   38029.833333   198.0    31.0\n",
       "구의3동   41979.333333   202.0    89.0"
      ]
     },
     "execution_count": 10,
     "metadata": {},
     "output_type": "execute_result"
    }
   ],
   "source": [
    "data={'dong':동, '1분기유동인구': 유동인구1,'2~4분기유동인구': 유동인구2,\n",
    "     '1분기거주인구': 거주인구1, '2분기주거인구': 주거인구2, '1분기직장인구':직장인구1, '2분기직장인구':직장인구2}\n",
    "df1= pd.DataFrame(data)\n",
    "df2= pd.DataFrame()\n",
    "df2['동']=df1['dong']\n",
    "df2['평균유동인구']= (df1['1분기유동인구']+df1['2~4분기유동인구'])/2\n",
    "df2['평균거주인구']= (df1['1분기거주인구']+df1['2분기주거인구'])/2\n",
    "df2['평균직장인구']= (df1['1분기직장인구']+df1['2분기직장인구'])/2\n",
    "\n",
    "df2.set_index('동', inplace=True)\n",
    "# df1={'1분기거주인구': 거주인구1, '2분기주거인구': 주거인구2, '1분기직장인구':직장인구1, '2분기직장인구':직장인구2}\n",
    "df2"
   ]
  },
  {
   "cell_type": "code",
   "execution_count": 11,
   "id": "852df67c",
   "metadata": {},
   "outputs": [
    {
     "data": {
      "text/html": [
       "<div>\n",
       "<style scoped>\n",
       "    .dataframe tbody tr th:only-of-type {\n",
       "        vertical-align: middle;\n",
       "    }\n",
       "\n",
       "    .dataframe tbody tr th {\n",
       "        vertical-align: top;\n",
       "    }\n",
       "\n",
       "    .dataframe thead th {\n",
       "        text-align: right;\n",
       "    }\n",
       "</style>\n",
       "<table border=\"1\" class=\"dataframe\">\n",
       "  <thead>\n",
       "    <tr style=\"text-align: right;\">\n",
       "      <th></th>\n",
       "      <th>평균유동인구</th>\n",
       "      <th>평균거주인구</th>\n",
       "      <th>평균직장인구</th>\n",
       "    </tr>\n",
       "    <tr>\n",
       "      <th>동</th>\n",
       "      <th></th>\n",
       "      <th></th>\n",
       "      <th></th>\n",
       "    </tr>\n",
       "  </thead>\n",
       "  <tbody>\n",
       "    <tr>\n",
       "      <th>화양동</th>\n",
       "      <td>86027.833333</td>\n",
       "      <td>201.0</td>\n",
       "      <td>24.0</td>\n",
       "    </tr>\n",
       "    <tr>\n",
       "      <th>군자동</th>\n",
       "      <td>74556.500000</td>\n",
       "      <td>272.0</td>\n",
       "      <td>32.0</td>\n",
       "    </tr>\n",
       "    <tr>\n",
       "      <th>능동</th>\n",
       "      <td>18258.500000</td>\n",
       "      <td>106.0</td>\n",
       "      <td>21.0</td>\n",
       "    </tr>\n",
       "    <tr>\n",
       "      <th>광장동</th>\n",
       "      <td>20741.833333</td>\n",
       "      <td>123.0</td>\n",
       "      <td>58.0</td>\n",
       "    </tr>\n",
       "    <tr>\n",
       "      <th>중곡동</th>\n",
       "      <td>250703.333333</td>\n",
       "      <td>1072.0</td>\n",
       "      <td>190.0</td>\n",
       "    </tr>\n",
       "    <tr>\n",
       "      <th>자양동</th>\n",
       "      <td>297490.500000</td>\n",
       "      <td>928.0</td>\n",
       "      <td>270.0</td>\n",
       "    </tr>\n",
       "    <tr>\n",
       "      <th>구의동</th>\n",
       "      <td>225337.166667</td>\n",
       "      <td>798.0</td>\n",
       "      <td>186.0</td>\n",
       "    </tr>\n",
       "  </tbody>\n",
       "</table>\n",
       "</div>"
      ],
      "text/plain": [
       "            평균유동인구  평균거주인구  평균직장인구\n",
       "동                                 \n",
       "화양동   86027.833333   201.0    24.0\n",
       "군자동   74556.500000   272.0    32.0\n",
       "능동    18258.500000   106.0    21.0\n",
       "광장동   20741.833333   123.0    58.0\n",
       "중곡동  250703.333333  1072.0   190.0\n",
       "자양동  297490.500000   928.0   270.0\n",
       "구의동  225337.166667   798.0   186.0"
      ]
     },
     "execution_count": 11,
     "metadata": {},
     "output_type": "execute_result"
    }
   ],
   "source": [
    "df2.loc['중곡동']= df2.loc['중곡1동']+df2.loc['중곡2동']+df2.loc['중곡3동']+ df2.loc['중곡4동']\n",
    "df2.loc['자양동']= df2.loc['자양1동']+df2.loc['자양2동']+df2.loc['자양3동']+df2.loc['자양4동']\n",
    "df2.loc['구의동']= df2.loc['구의1동']+df2.loc['구의2동']+df2.loc['구의3동']\n",
    "df2.drop(['중곡1동','중곡2동','중곡3동','중곡4동','자양1동','자양2동','자양3동','자양4동','구의1동','구의2동','구의3동'], axis=0, inplace=True)\n",
    "df2"
   ]
  },
  {
   "cell_type": "code",
   "execution_count": 12,
   "id": "0977fdf8",
   "metadata": {
    "scrolled": true
   },
   "outputs": [
    {
     "data": {
      "text/html": [
       "<div>\n",
       "<style scoped>\n",
       "    .dataframe tbody tr th:only-of-type {\n",
       "        vertical-align: middle;\n",
       "    }\n",
       "\n",
       "    .dataframe tbody tr th {\n",
       "        vertical-align: top;\n",
       "    }\n",
       "\n",
       "    .dataframe thead th {\n",
       "        text-align: right;\n",
       "    }\n",
       "</style>\n",
       "<table border=\"1\" class=\"dataframe\">\n",
       "  <thead>\n",
       "    <tr style=\"text-align: right;\">\n",
       "      <th></th>\n",
       "      <th>평균유동인구</th>\n",
       "      <th>평균거주인구</th>\n",
       "      <th>평균직장인구</th>\n",
       "    </tr>\n",
       "    <tr>\n",
       "      <th>동</th>\n",
       "      <th></th>\n",
       "      <th></th>\n",
       "      <th></th>\n",
       "    </tr>\n",
       "  </thead>\n",
       "  <tbody>\n",
       "    <tr>\n",
       "      <th>화양동</th>\n",
       "      <td>86027.833333</td>\n",
       "      <td>201.0</td>\n",
       "      <td>24.0</td>\n",
       "    </tr>\n",
       "    <tr>\n",
       "      <th>군자동</th>\n",
       "      <td>74556.500000</td>\n",
       "      <td>272.0</td>\n",
       "      <td>32.0</td>\n",
       "    </tr>\n",
       "    <tr>\n",
       "      <th>능동</th>\n",
       "      <td>18258.500000</td>\n",
       "      <td>106.0</td>\n",
       "      <td>21.0</td>\n",
       "    </tr>\n",
       "    <tr>\n",
       "      <th>광장동</th>\n",
       "      <td>20741.833333</td>\n",
       "      <td>123.0</td>\n",
       "      <td>58.0</td>\n",
       "    </tr>\n",
       "    <tr>\n",
       "      <th>중곡동</th>\n",
       "      <td>250703.333333</td>\n",
       "      <td>1072.0</td>\n",
       "      <td>190.0</td>\n",
       "    </tr>\n",
       "    <tr>\n",
       "      <th>자양동</th>\n",
       "      <td>297490.500000</td>\n",
       "      <td>928.0</td>\n",
       "      <td>270.0</td>\n",
       "    </tr>\n",
       "    <tr>\n",
       "      <th>구의동</th>\n",
       "      <td>225337.166667</td>\n",
       "      <td>798.0</td>\n",
       "      <td>186.0</td>\n",
       "    </tr>\n",
       "  </tbody>\n",
       "</table>\n",
       "</div>"
      ],
      "text/plain": [
       "            평균유동인구  평균거주인구  평균직장인구\n",
       "동                                 \n",
       "화양동   86027.833333   201.0    24.0\n",
       "군자동   74556.500000   272.0    32.0\n",
       "능동    18258.500000   106.0    21.0\n",
       "광장동   20741.833333   123.0    58.0\n",
       "중곡동  250703.333333  1072.0   190.0\n",
       "자양동  297490.500000   928.0   270.0\n",
       "구의동  225337.166667   798.0   186.0"
      ]
     },
     "execution_count": 12,
     "metadata": {},
     "output_type": "execute_result"
    }
   ],
   "source": [
    "df2.to_csv('광진구동별평균인구.csv', index=False)\n",
    "df2"
   ]
  },
  {
   "cell_type": "code",
   "execution_count": 13,
   "id": "1abc1644",
   "metadata": {},
   "outputs": [
    {
     "ename": "FileNotFoundError",
     "evalue": "[Errno 2] No such file or directory: 'C:/Users/acorn/Desktop/오원석/중간프로젝트\\\\광진구/광진구동별주차장확보율.csv'",
     "output_type": "error",
     "traceback": [
      "\u001b[1;31m---------------------------------------------------------------------------\u001b[0m",
      "\u001b[1;31mFileNotFoundError\u001b[0m                         Traceback (most recent call last)",
      "\u001b[1;32m~\\AppData\\Local\\Temp\\ipykernel_57088\\3632997870.py\u001b[0m in \u001b[0;36m<module>\u001b[1;34m\u001b[0m\n\u001b[1;32m----> 1\u001b[1;33m \u001b[0mparking\u001b[0m\u001b[1;33m=\u001b[0m \u001b[0mpd\u001b[0m\u001b[1;33m.\u001b[0m\u001b[0mread_csv\u001b[0m\u001b[1;33m(\u001b[0m\u001b[1;34m'C:/Users/acorn/Desktop/오원석/중간프로젝트\\광진구/광진구동별주차장확보율.csv'\u001b[0m\u001b[1;33m)\u001b[0m\u001b[1;33m\u001b[0m\u001b[1;33m\u001b[0m\u001b[0m\n\u001b[0m\u001b[0;32m      2\u001b[0m \u001b[0mparking\u001b[0m\u001b[1;33m\u001b[0m\u001b[1;33m\u001b[0m\u001b[0m\n",
      "\u001b[1;32m~\\anaconda3\\lib\\site-packages\\pandas\\util\\_decorators.py\u001b[0m in \u001b[0;36mwrapper\u001b[1;34m(*args, **kwargs)\u001b[0m\n\u001b[0;32m    309\u001b[0m                     \u001b[0mstacklevel\u001b[0m\u001b[1;33m=\u001b[0m\u001b[0mstacklevel\u001b[0m\u001b[1;33m,\u001b[0m\u001b[1;33m\u001b[0m\u001b[1;33m\u001b[0m\u001b[0m\n\u001b[0;32m    310\u001b[0m                 )\n\u001b[1;32m--> 311\u001b[1;33m             \u001b[1;32mreturn\u001b[0m \u001b[0mfunc\u001b[0m\u001b[1;33m(\u001b[0m\u001b[1;33m*\u001b[0m\u001b[0margs\u001b[0m\u001b[1;33m,\u001b[0m \u001b[1;33m**\u001b[0m\u001b[0mkwargs\u001b[0m\u001b[1;33m)\u001b[0m\u001b[1;33m\u001b[0m\u001b[1;33m\u001b[0m\u001b[0m\n\u001b[0m\u001b[0;32m    312\u001b[0m \u001b[1;33m\u001b[0m\u001b[0m\n\u001b[0;32m    313\u001b[0m         \u001b[1;32mreturn\u001b[0m \u001b[0mwrapper\u001b[0m\u001b[1;33m\u001b[0m\u001b[1;33m\u001b[0m\u001b[0m\n",
      "\u001b[1;32m~\\anaconda3\\lib\\site-packages\\pandas\\io\\parsers\\readers.py\u001b[0m in \u001b[0;36mread_csv\u001b[1;34m(filepath_or_buffer, sep, delimiter, header, names, index_col, usecols, squeeze, prefix, mangle_dupe_cols, dtype, engine, converters, true_values, false_values, skipinitialspace, skiprows, skipfooter, nrows, na_values, keep_default_na, na_filter, verbose, skip_blank_lines, parse_dates, infer_datetime_format, keep_date_col, date_parser, dayfirst, cache_dates, iterator, chunksize, compression, thousands, decimal, lineterminator, quotechar, quoting, doublequote, escapechar, comment, encoding, encoding_errors, dialect, error_bad_lines, warn_bad_lines, on_bad_lines, delim_whitespace, low_memory, memory_map, float_precision, storage_options)\u001b[0m\n\u001b[0;32m    676\u001b[0m     \u001b[0mkwds\u001b[0m\u001b[1;33m.\u001b[0m\u001b[0mupdate\u001b[0m\u001b[1;33m(\u001b[0m\u001b[0mkwds_defaults\u001b[0m\u001b[1;33m)\u001b[0m\u001b[1;33m\u001b[0m\u001b[1;33m\u001b[0m\u001b[0m\n\u001b[0;32m    677\u001b[0m \u001b[1;33m\u001b[0m\u001b[0m\n\u001b[1;32m--> 678\u001b[1;33m     \u001b[1;32mreturn\u001b[0m \u001b[0m_read\u001b[0m\u001b[1;33m(\u001b[0m\u001b[0mfilepath_or_buffer\u001b[0m\u001b[1;33m,\u001b[0m \u001b[0mkwds\u001b[0m\u001b[1;33m)\u001b[0m\u001b[1;33m\u001b[0m\u001b[1;33m\u001b[0m\u001b[0m\n\u001b[0m\u001b[0;32m    679\u001b[0m \u001b[1;33m\u001b[0m\u001b[0m\n\u001b[0;32m    680\u001b[0m \u001b[1;33m\u001b[0m\u001b[0m\n",
      "\u001b[1;32m~\\anaconda3\\lib\\site-packages\\pandas\\io\\parsers\\readers.py\u001b[0m in \u001b[0;36m_read\u001b[1;34m(filepath_or_buffer, kwds)\u001b[0m\n\u001b[0;32m    573\u001b[0m \u001b[1;33m\u001b[0m\u001b[0m\n\u001b[0;32m    574\u001b[0m     \u001b[1;31m# Create the parser.\u001b[0m\u001b[1;33m\u001b[0m\u001b[1;33m\u001b[0m\u001b[0m\n\u001b[1;32m--> 575\u001b[1;33m     \u001b[0mparser\u001b[0m \u001b[1;33m=\u001b[0m \u001b[0mTextFileReader\u001b[0m\u001b[1;33m(\u001b[0m\u001b[0mfilepath_or_buffer\u001b[0m\u001b[1;33m,\u001b[0m \u001b[1;33m**\u001b[0m\u001b[0mkwds\u001b[0m\u001b[1;33m)\u001b[0m\u001b[1;33m\u001b[0m\u001b[1;33m\u001b[0m\u001b[0m\n\u001b[0m\u001b[0;32m    576\u001b[0m \u001b[1;33m\u001b[0m\u001b[0m\n\u001b[0;32m    577\u001b[0m     \u001b[1;32mif\u001b[0m \u001b[0mchunksize\u001b[0m \u001b[1;32mor\u001b[0m \u001b[0miterator\u001b[0m\u001b[1;33m:\u001b[0m\u001b[1;33m\u001b[0m\u001b[1;33m\u001b[0m\u001b[0m\n",
      "\u001b[1;32m~\\anaconda3\\lib\\site-packages\\pandas\\io\\parsers\\readers.py\u001b[0m in \u001b[0;36m__init__\u001b[1;34m(self, f, engine, **kwds)\u001b[0m\n\u001b[0;32m    930\u001b[0m \u001b[1;33m\u001b[0m\u001b[0m\n\u001b[0;32m    931\u001b[0m         \u001b[0mself\u001b[0m\u001b[1;33m.\u001b[0m\u001b[0mhandles\u001b[0m\u001b[1;33m:\u001b[0m \u001b[0mIOHandles\u001b[0m \u001b[1;33m|\u001b[0m \u001b[1;32mNone\u001b[0m \u001b[1;33m=\u001b[0m \u001b[1;32mNone\u001b[0m\u001b[1;33m\u001b[0m\u001b[1;33m\u001b[0m\u001b[0m\n\u001b[1;32m--> 932\u001b[1;33m         \u001b[0mself\u001b[0m\u001b[1;33m.\u001b[0m\u001b[0m_engine\u001b[0m \u001b[1;33m=\u001b[0m \u001b[0mself\u001b[0m\u001b[1;33m.\u001b[0m\u001b[0m_make_engine\u001b[0m\u001b[1;33m(\u001b[0m\u001b[0mf\u001b[0m\u001b[1;33m,\u001b[0m \u001b[0mself\u001b[0m\u001b[1;33m.\u001b[0m\u001b[0mengine\u001b[0m\u001b[1;33m)\u001b[0m\u001b[1;33m\u001b[0m\u001b[1;33m\u001b[0m\u001b[0m\n\u001b[0m\u001b[0;32m    933\u001b[0m \u001b[1;33m\u001b[0m\u001b[0m\n\u001b[0;32m    934\u001b[0m     \u001b[1;32mdef\u001b[0m \u001b[0mclose\u001b[0m\u001b[1;33m(\u001b[0m\u001b[0mself\u001b[0m\u001b[1;33m)\u001b[0m\u001b[1;33m:\u001b[0m\u001b[1;33m\u001b[0m\u001b[1;33m\u001b[0m\u001b[0m\n",
      "\u001b[1;32m~\\anaconda3\\lib\\site-packages\\pandas\\io\\parsers\\readers.py\u001b[0m in \u001b[0;36m_make_engine\u001b[1;34m(self, f, engine)\u001b[0m\n\u001b[0;32m   1214\u001b[0m             \u001b[1;31m# \"Union[str, PathLike[str], ReadCsvBuffer[bytes], ReadCsvBuffer[str]]\"\u001b[0m\u001b[1;33m\u001b[0m\u001b[1;33m\u001b[0m\u001b[0m\n\u001b[0;32m   1215\u001b[0m             \u001b[1;31m# , \"str\", \"bool\", \"Any\", \"Any\", \"Any\", \"Any\", \"Any\"\u001b[0m\u001b[1;33m\u001b[0m\u001b[1;33m\u001b[0m\u001b[0m\n\u001b[1;32m-> 1216\u001b[1;33m             self.handles = get_handle(  # type: ignore[call-overload]\n\u001b[0m\u001b[0;32m   1217\u001b[0m                 \u001b[0mf\u001b[0m\u001b[1;33m,\u001b[0m\u001b[1;33m\u001b[0m\u001b[1;33m\u001b[0m\u001b[0m\n\u001b[0;32m   1218\u001b[0m                 \u001b[0mmode\u001b[0m\u001b[1;33m,\u001b[0m\u001b[1;33m\u001b[0m\u001b[1;33m\u001b[0m\u001b[0m\n",
      "\u001b[1;32m~\\anaconda3\\lib\\site-packages\\pandas\\io\\common.py\u001b[0m in \u001b[0;36mget_handle\u001b[1;34m(path_or_buf, mode, encoding, compression, memory_map, is_text, errors, storage_options)\u001b[0m\n\u001b[0;32m    784\u001b[0m         \u001b[1;32mif\u001b[0m \u001b[0mioargs\u001b[0m\u001b[1;33m.\u001b[0m\u001b[0mencoding\u001b[0m \u001b[1;32mand\u001b[0m \u001b[1;34m\"b\"\u001b[0m \u001b[1;32mnot\u001b[0m \u001b[1;32min\u001b[0m \u001b[0mioargs\u001b[0m\u001b[1;33m.\u001b[0m\u001b[0mmode\u001b[0m\u001b[1;33m:\u001b[0m\u001b[1;33m\u001b[0m\u001b[1;33m\u001b[0m\u001b[0m\n\u001b[0;32m    785\u001b[0m             \u001b[1;31m# Encoding\u001b[0m\u001b[1;33m\u001b[0m\u001b[1;33m\u001b[0m\u001b[0m\n\u001b[1;32m--> 786\u001b[1;33m             handle = open(\n\u001b[0m\u001b[0;32m    787\u001b[0m                 \u001b[0mhandle\u001b[0m\u001b[1;33m,\u001b[0m\u001b[1;33m\u001b[0m\u001b[1;33m\u001b[0m\u001b[0m\n\u001b[0;32m    788\u001b[0m                 \u001b[0mioargs\u001b[0m\u001b[1;33m.\u001b[0m\u001b[0mmode\u001b[0m\u001b[1;33m,\u001b[0m\u001b[1;33m\u001b[0m\u001b[1;33m\u001b[0m\u001b[0m\n",
      "\u001b[1;31mFileNotFoundError\u001b[0m: [Errno 2] No such file or directory: 'C:/Users/acorn/Desktop/오원석/중간프로젝트\\\\광진구/광진구동별주차장확보율.csv'"
     ]
    }
   ],
   "source": [
    "parking= pd.read_csv('C:/Users/acorn/Desktop/오원석/중간프로젝트\\광진구/광진구동별주차장확보율.csv')\n",
    "parking"
   ]
  },
  {
   "cell_type": "code",
   "execution_count": null,
   "id": "f7da8247",
   "metadata": {},
   "outputs": [],
   "source": [
    "df2.sort_values('동', inplace=True)"
   ]
  },
  {
   "cell_type": "code",
   "execution_count": null,
   "id": "e8688f3e",
   "metadata": {},
   "outputs": [],
   "source": [
    "df3=pd.DataFrame()\n",
    "df3['동']= parking['행정동']\n",
    "for i in range(len(df2)):\n",
    "    df3['면수대비유동인구']= df2['평균유동인구'][i]/parking['합계면수'][i]\n",
    "    df3['면수대비거주인구']= df2['평균거주인구'][i]/parking['합계면수'][i]\n",
    "    df3['면수대비직장인구']= df2['평균직장인구'][i]/parking['합계면수'][i]\n",
    "    \n",
    "df3"
   ]
  },
  {
   "cell_type": "code",
   "execution_count": null,
   "id": "a33e4607",
   "metadata": {},
   "outputs": [],
   "source": [
    "df2['평균유동인구']/parking['합계면수']"
   ]
  },
  {
   "cell_type": "code",
   "execution_count": null,
   "id": "2f682057",
   "metadata": {},
   "outputs": [],
   "source": [
    "len(df2)"
   ]
  },
  {
   "cell_type": "code",
   "execution_count": null,
   "id": "1b4d1020",
   "metadata": {},
   "outputs": [],
   "source": [
    "면수대비유동인구=[]\n",
    "면수대비거주인구=[]\n",
    "면수대비직장인구=[]\n",
    "for i in range(len(df2)):\n",
    "    면수대비유동인구.append(df2['평균유동인구'][i]/parking['합계면수'][i])\n",
    "    면수대비거주인구.append(df2['평균거주인구'][i]/parking['합계면수'][i])\n",
    "    면수대비직장인구.append(df2['평균직장인구'][i]/parking['합계면수'][i])\n",
    "면수대비유동인구"
   ]
  },
  {
   "cell_type": "code",
   "execution_count": null,
   "id": "a6323ea7",
   "metadata": {},
   "outputs": [],
   "source": [
    "df3=pd.DataFrame({'면수대비유동인구':면수대비유동인구, '면수대비거주인구':면수대비거주인구,'면수대비직장인구':면수대비직장인구})\n",
    "df3['동']= parking['행정동']\n",
    "df3.set_index('동', inplace=True)\n",
    "df3"
   ]
  },
  {
   "cell_type": "code",
   "execution_count": null,
   "id": "fb00a57b",
   "metadata": {},
   "outputs": [],
   "source": [
    "import matplotlib\n",
    "df3[['면수대비유동인구']].sort_values('면수대비유동인구').plot.barh()"
   ]
  },
  {
   "cell_type": "code",
   "execution_count": null,
   "id": "df5d0f31",
   "metadata": {},
   "outputs": [],
   "source": [
    "df3[['면수대비거주인구']].sort_values('면수대비거주인구').plot.barh()"
   ]
  },
  {
   "cell_type": "code",
   "execution_count": null,
   "id": "879bc15a",
   "metadata": {},
   "outputs": [],
   "source": [
    "df3[['면수대비직장인구']].sort_values('면수대비직장인구').plot.barh()"
   ]
  },
  {
   "cell_type": "code",
   "execution_count": null,
   "id": "540a2fbf",
   "metadata": {},
   "outputs": [],
   "source": [
    "구=[]\n",
    "유동인구=[]\n",
    "직장인구=[]\n",
    "\n",
    "trs= driver.find_elements(By.CLASS_NAME, 'branch')\n",
    "for tr in trs[1:26]:\n",
    "#     print(tr.text)\n",
    "    texts= tr.text.replace(',','').split()\n",
    "    print(texts)\n",
    "    구.append(texts[0])\n",
    "    s_p=[int(texts[1]), int(texts[4]), int(texts[7])]\n",
    "    w_p=[int(texts[3]), int(texts[6]), int(texts[9])]\n",
    "    유동인구.append(sum(s_p)/3)\n",
    "    직장인구.append(sum(w_p)/3)"
   ]
  },
  {
   "cell_type": "code",
   "execution_count": null,
   "id": "1bad1867",
   "metadata": {},
   "outputs": [],
   "source": [
    "tag= driver.find_elements(By.TAG_NAME, 'option')\n",
    "for i in tag:\n",
    "#     print(i.text)\n",
    "    if i.text=='2020년':\n",
    "        i.click()\n",
    "    if i.text=='3분기':\n",
    "        i.click()\n",
    "    if i.text=='전분기':\n",
    "        i.click()\n",
    "driver.find_element(By.ID, \"presentSearch\").click()\n",
    "time.sleep(2)"
   ]
  },
  {
   "cell_type": "code",
   "execution_count": null,
   "id": "26a504ea",
   "metadata": {},
   "outputs": [],
   "source": [
    "유동=[]\n",
    "직장=[]\n",
    "trs= driver.find_elements(By.CLASS_NAME, 'branch')\n",
    "\n",
    "for tr in trs[1:26]:\n",
    "#     print(tr.text)\n",
    "    texts= tr.text.replace(',','').split()\n",
    "    print(texts)\n",
    "#     구.append(texts[0])\n",
    "    유동.append(int(texts[1]))\n",
    "    직장.append(int(texts[3]))\n",
    "유동"
   ]
  },
  {
   "cell_type": "code",
   "execution_count": null,
   "id": "63038eb3",
   "metadata": {},
   "outputs": [],
   "source": [
    "유동인구"
   ]
  },
  {
   "cell_type": "code",
   "execution_count": null,
   "id": "cecbd4c4",
   "metadata": {},
   "outputs": [],
   "source": [
    "data={'gu':구, '1분기유동인구': 유동, '2~4분기유동인구': 유동인구}\n",
    "df1= pd.DataFrame(data)\n",
    "df1['평균유동인구']= df1.mean(axis=1)\n",
    "df1.to_csv('평균유동인구.csv', index=False)\n",
    "df1"
   ]
  },
  {
   "cell_type": "code",
   "execution_count": null,
   "id": "21a47f8f",
   "metadata": {},
   "outputs": [],
   "source": [
    "data={'gu':구, '1분기직장인구': 직장, '2~4분기직장인구': 직장인구}\n",
    "df2= pd.DataFrame(data)\n",
    "df2['평균직장인구']=df2.mean(axis=1)\n",
    "df2.to_csv('평균직장인구.csv', index=False)\n",
    "df2"
   ]
  },
  {
   "cell_type": "code",
   "execution_count": null,
   "id": "ff1357d7",
   "metadata": {},
   "outputs": [],
   "source": [
    "merge= pd.merge(df1, df2, on='gu')\n",
    "merge"
   ]
  },
  {
   "cell_type": "code",
   "execution_count": null,
   "id": "95ade1cc",
   "metadata": {},
   "outputs": [],
   "source": [
    "result= merge[['gu','평균유동인구','평균직장인구']]\n",
    "result= result.set_index('gu')\n",
    "result"
   ]
  },
  {
   "cell_type": "code",
   "execution_count": null,
   "id": "7d9cdb6a",
   "metadata": {},
   "outputs": [],
   "source": [
    "import matplotlib.pyplot as plt\n",
    "import seaborn as sns"
   ]
  },
  {
   "cell_type": "code",
   "execution_count": null,
   "id": "7c4e44bb",
   "metadata": {},
   "outputs": [],
   "source": [
    "plt.figure(figsize=(10, 8))\n",
    "plt.title(\"Person Correlation of Features\", y = 1.05, size = 15)\n",
    "sns.heatmap(result.astype(float).corr(), linewidths = 0.1, vmax = 1.0,\n",
    "           square = True, linecolor = \"white\", annot = True, annot_kws = {\"size\" : 16})"
   ]
  },
  {
   "cell_type": "code",
   "execution_count": null,
   "id": "ea54bc8f",
   "metadata": {},
   "outputs": [],
   "source": [
    "import json\n",
    "import folium\n",
    "\n",
    "map = folium.Map(location = [37.5467284, 127.0857543], zoom_start = 13.4)\n",
    "\n",
    "bub_geo = json.load(open(\"C:/Users/acorn/Desktop/오원석/중간프로젝트/광진구/seoul_bubjungdong.json\"))\n",
    "\n",
    "map.choropleth(geo_data = bub_geo, data = df3['면수대비유동인구'], \n",
    "               key_on = \"feature.id\", columns = ['면수대비유동인구'],\n",
    "               fill_color = \"OrRd\", line_weight=1.5) \n",
    "\n",
    "\n",
    "map"
   ]
  },
  {
   "cell_type": "code",
   "execution_count": null,
   "id": "10e10a1c",
   "metadata": {},
   "outputs": [],
   "source": [
    "import json\n",
    "import folium\n",
    "\n",
    "map = folium.Map(location = [37.5467284, 127.0857543], zoom_start = 13.4)\n",
    "\n",
    "bub_geo = json.load(open(\"C:/Users/acorn/Desktop/오원석/중간프로젝트/광진구/seoul_bubjungdong.json\"))\n",
    "\n",
    "map.choropleth(geo_data = bub_geo, data = df3['면수대비거주인구'], \n",
    "               key_on = \"feature.id\", columns = ['면수대비거주인구'],\n",
    "               fill_color = \"OrRd\", line_weight=1.5) \n",
    "\n",
    "\n",
    "map"
   ]
  },
  {
   "cell_type": "code",
   "execution_count": null,
   "id": "b5853369",
   "metadata": {},
   "outputs": [],
   "source": [
    "import json\n",
    "import folium\n",
    "\n",
    "map = folium.Map(location = [37.5467284, 127.0857543], zoom_start = 13.4)\n",
    "\n",
    "bub_geo = json.load(open(\"C:/Users/acorn/Desktop/오원석/중간프로젝트/광진구/seoul_bubjungdong.json\"))\n",
    "\n",
    "map.choropleth(geo_data = bub_geo, data = df3['면수대비직장인구'], \n",
    "               key_on = \"feature.id\", columns = ['면수대비직장인구'],\n",
    "               fill_color = \"OrRd\", line_weight=1.5) \n",
    "\n",
    "\n",
    "map"
   ]
  },
  {
   "cell_type": "code",
   "execution_count": null,
   "id": "75ed0207",
   "metadata": {},
   "outputs": [],
   "source": []
  },
  {
   "cell_type": "code",
   "execution_count": null,
   "id": "cfe2759f",
   "metadata": {},
   "outputs": [],
   "source": []
  }
 ],
 "metadata": {
  "kernelspec": {
   "display_name": "Python 3 (ipykernel)",
   "language": "python",
   "name": "python3"
  },
  "language_info": {
   "codemirror_mode": {
    "name": "ipython",
    "version": 3
   },
   "file_extension": ".py",
   "mimetype": "text/x-python",
   "name": "python",
   "nbconvert_exporter": "python",
   "pygments_lexer": "ipython3",
   "version": "3.9.13"
  }
 },
 "nbformat": 4,
 "nbformat_minor": 5
}
