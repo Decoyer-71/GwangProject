{
 "cells": [
  {
   "cell_type": "code",
   "execution_count": 1,
   "id": "42a41d4e",
   "metadata": {},
   "outputs": [],
   "source": [
    "from urllib.parse import urlencode, unquote\n",
    "import json\n",
    "import pandas as pd\n",
    "import math\n",
    "import numpy as np\n",
    "import requests\n",
    "from tqdm.notebook import tqdm"
   ]
  },
  {
   "cell_type": "code",
   "execution_count": 12,
   "id": "ca16206f",
   "metadata": {},
   "outputs": [
    {
     "data": {
      "text/plain": [
       "'<!DOCTYPE HTML PUBLIC \"-//IETF//DTD HTML 2.0//EN\">\\n<HTML><HEAD>\\n<TITLE> 503 Service Temporarily Unavailable </TITLE>\\n</HEAD><BODY>\\n<H1>Service Temporarily Unavailable</H1>\\n<HR>\\n</BODY></HTML>\\n'"
      ]
     },
     "execution_count": 12,
     "metadata": {},
     "output_type": "execute_result"
    }
   ],
   "source": [
    "# 주차장 입출차 데이터 목록\n",
    "url= 'http://t-data.seoul.go.kr/apig/apiman-gateway/tapi/ParkingParkingIoInfo/1.0'\n",
    "\n",
    "# 20220406: 613502개\n",
    "# 20220405: 307243개\n",
    "queryString= '?'+ urlencode({\n",
    "    'startRow': 1,\n",
    "    'apikey': 'a203679a-5313-493b-8777-1ee3bc671e61',\n",
    "    'rowCnt': 9999999,\n",
    "    'yyyyMMdd':'20220408'\n",
    "})\n",
    " \n",
    "queryURL= url+queryString\n",
    "\n",
    "response= requests.get(queryURL)\n",
    "response.text\n",
    "# inout= json.loads(response.text)\n",
    "# inout"
   ]
  },
  {
   "cell_type": "code",
   "execution_count": 46,
   "id": "a6898b0f",
   "metadata": {},
   "outputs": [
    {
     "data": {
      "text/plain": [
       "0"
      ]
     },
     "execution_count": 46,
     "metadata": {},
     "output_type": "execute_result"
    }
   ],
   "source": [
    "len(inout)"
   ]
  },
  {
   "cell_type": "code",
   "execution_count": 16,
   "id": "6fccd6ae",
   "metadata": {},
   "outputs": [],
   "source": [
    "    file= pd.DataFrame(inout)\n",
    "#     print(file)\n",
    "    file.to_csv('20221102.csv', index=False)"
   ]
  },
  {
   "cell_type": "code",
   "execution_count": 18,
   "id": "f0065a3a",
   "metadata": {},
   "outputs": [
    {
     "name": "stdout",
     "output_type": "stream",
     "text": [
      "37483\n",
      "37483\n",
      "37483\n",
      "37483\n",
      "37483\n",
      "37483\n"
     ]
    }
   ],
   "source": [
    "# 날짜별 데이터 파일로 저장\n",
    "dates= pd.date_range('20221101','20221106').strftime('%Y%m%d')\n",
    "\n",
    "for date in dates:\n",
    "    queryString= '?'+ urlencode({\n",
    "        'startRow': 1,\n",
    "        'apikey': 'a203679a-5313-493b-8777-1ee3bc671e61',\n",
    "        'rowCnt': 999999,\n",
    "        'yyyyMMdd':f'{date}'\n",
    "    })\n",
    "\n",
    "    queryURL= url+queryString\n",
    "\n",
    "    response= requests.get(queryURL)\n",
    "    parking= json.loads(response.text)\n",
    "    \n",
    "    file= pd.DataFrame(inout)\n",
    "    print(len(file))\n",
    "    file.to_csv(f'{date}.csv', index=False)\n",
    "    \n"
   ]
  },
  {
   "cell_type": "code",
   "execution_count": 10,
   "id": "58e4aba1",
   "metadata": {},
   "outputs": [
    {
     "name": "stderr",
     "output_type": "stream",
     "text": [
      "  0%|                                                                                            | 0/9 [00:00<?, ?it/s]\n"
     ]
    },
    {
     "ename": "JSONDecodeError",
     "evalue": "Expecting value: line 1 column 1 (char 0)",
     "output_type": "error",
     "traceback": [
      "\u001b[1;31m---------------------------------------------------------------------------\u001b[0m",
      "\u001b[1;31mJSONDecodeError\u001b[0m                           Traceback (most recent call last)",
      "\u001b[1;32m~\\AppData\\Local\\Temp\\ipykernel_52464\\3426832637.py\u001b[0m in \u001b[0;36m<module>\u001b[1;34m\u001b[0m\n\u001b[0;32m     24\u001b[0m \u001b[1;33m\u001b[0m\u001b[0m\n\u001b[0;32m     25\u001b[0m     \u001b[0mresponse\u001b[0m\u001b[1;33m=\u001b[0m \u001b[0mrequests\u001b[0m\u001b[1;33m.\u001b[0m\u001b[0mget\u001b[0m\u001b[1;33m(\u001b[0m\u001b[0mqueryURL\u001b[0m\u001b[1;33m)\u001b[0m\u001b[1;33m\u001b[0m\u001b[1;33m\u001b[0m\u001b[0m\n\u001b[1;32m---> 26\u001b[1;33m     \u001b[0minout\u001b[0m\u001b[1;33m=\u001b[0m \u001b[0mjson\u001b[0m\u001b[1;33m.\u001b[0m\u001b[0mloads\u001b[0m\u001b[1;33m(\u001b[0m\u001b[0mresponse\u001b[0m\u001b[1;33m.\u001b[0m\u001b[0mtext\u001b[0m\u001b[1;33m)\u001b[0m\u001b[1;33m\u001b[0m\u001b[1;33m\u001b[0m\u001b[0m\n\u001b[0m\u001b[0;32m     27\u001b[0m \u001b[1;33m\u001b[0m\u001b[0m\n\u001b[0;32m     28\u001b[0m     \u001b[1;32mif\u001b[0m \u001b[0mlen\u001b[0m\u001b[1;33m(\u001b[0m\u001b[0minout\u001b[0m\u001b[1;33m)\u001b[0m \u001b[1;33m>\u001b[0m\u001b[1;36m3\u001b[0m\u001b[1;33m:\u001b[0m\u001b[1;33m\u001b[0m\u001b[1;33m\u001b[0m\u001b[0m\n",
      "\u001b[1;32m~\\anaconda3\\lib\\json\\__init__.py\u001b[0m in \u001b[0;36mloads\u001b[1;34m(s, cls, object_hook, parse_float, parse_int, parse_constant, object_pairs_hook, **kw)\u001b[0m\n\u001b[0;32m    344\u001b[0m             \u001b[0mparse_int\u001b[0m \u001b[1;32mis\u001b[0m \u001b[1;32mNone\u001b[0m \u001b[1;32mand\u001b[0m \u001b[0mparse_float\u001b[0m \u001b[1;32mis\u001b[0m \u001b[1;32mNone\u001b[0m \u001b[1;32mand\u001b[0m\u001b[1;33m\u001b[0m\u001b[1;33m\u001b[0m\u001b[0m\n\u001b[0;32m    345\u001b[0m             parse_constant is None and object_pairs_hook is None and not kw):\n\u001b[1;32m--> 346\u001b[1;33m         \u001b[1;32mreturn\u001b[0m \u001b[0m_default_decoder\u001b[0m\u001b[1;33m.\u001b[0m\u001b[0mdecode\u001b[0m\u001b[1;33m(\u001b[0m\u001b[0ms\u001b[0m\u001b[1;33m)\u001b[0m\u001b[1;33m\u001b[0m\u001b[1;33m\u001b[0m\u001b[0m\n\u001b[0m\u001b[0;32m    347\u001b[0m     \u001b[1;32mif\u001b[0m \u001b[0mcls\u001b[0m \u001b[1;32mis\u001b[0m \u001b[1;32mNone\u001b[0m\u001b[1;33m:\u001b[0m\u001b[1;33m\u001b[0m\u001b[1;33m\u001b[0m\u001b[0m\n\u001b[0;32m    348\u001b[0m         \u001b[0mcls\u001b[0m \u001b[1;33m=\u001b[0m \u001b[0mJSONDecoder\u001b[0m\u001b[1;33m\u001b[0m\u001b[1;33m\u001b[0m\u001b[0m\n",
      "\u001b[1;32m~\\anaconda3\\lib\\json\\decoder.py\u001b[0m in \u001b[0;36mdecode\u001b[1;34m(self, s, _w)\u001b[0m\n\u001b[0;32m    335\u001b[0m \u001b[1;33m\u001b[0m\u001b[0m\n\u001b[0;32m    336\u001b[0m         \"\"\"\n\u001b[1;32m--> 337\u001b[1;33m         \u001b[0mobj\u001b[0m\u001b[1;33m,\u001b[0m \u001b[0mend\u001b[0m \u001b[1;33m=\u001b[0m \u001b[0mself\u001b[0m\u001b[1;33m.\u001b[0m\u001b[0mraw_decode\u001b[0m\u001b[1;33m(\u001b[0m\u001b[0ms\u001b[0m\u001b[1;33m,\u001b[0m \u001b[0midx\u001b[0m\u001b[1;33m=\u001b[0m\u001b[0m_w\u001b[0m\u001b[1;33m(\u001b[0m\u001b[0ms\u001b[0m\u001b[1;33m,\u001b[0m \u001b[1;36m0\u001b[0m\u001b[1;33m)\u001b[0m\u001b[1;33m.\u001b[0m\u001b[0mend\u001b[0m\u001b[1;33m(\u001b[0m\u001b[1;33m)\u001b[0m\u001b[1;33m)\u001b[0m\u001b[1;33m\u001b[0m\u001b[1;33m\u001b[0m\u001b[0m\n\u001b[0m\u001b[0;32m    338\u001b[0m         \u001b[0mend\u001b[0m \u001b[1;33m=\u001b[0m \u001b[0m_w\u001b[0m\u001b[1;33m(\u001b[0m\u001b[0ms\u001b[0m\u001b[1;33m,\u001b[0m \u001b[0mend\u001b[0m\u001b[1;33m)\u001b[0m\u001b[1;33m.\u001b[0m\u001b[0mend\u001b[0m\u001b[1;33m(\u001b[0m\u001b[1;33m)\u001b[0m\u001b[1;33m\u001b[0m\u001b[1;33m\u001b[0m\u001b[0m\n\u001b[0;32m    339\u001b[0m         \u001b[1;32mif\u001b[0m \u001b[0mend\u001b[0m \u001b[1;33m!=\u001b[0m \u001b[0mlen\u001b[0m\u001b[1;33m(\u001b[0m\u001b[0ms\u001b[0m\u001b[1;33m)\u001b[0m\u001b[1;33m:\u001b[0m\u001b[1;33m\u001b[0m\u001b[1;33m\u001b[0m\u001b[0m\n",
      "\u001b[1;32m~\\anaconda3\\lib\\json\\decoder.py\u001b[0m in \u001b[0;36mraw_decode\u001b[1;34m(self, s, idx)\u001b[0m\n\u001b[0;32m    353\u001b[0m             \u001b[0mobj\u001b[0m\u001b[1;33m,\u001b[0m \u001b[0mend\u001b[0m \u001b[1;33m=\u001b[0m \u001b[0mself\u001b[0m\u001b[1;33m.\u001b[0m\u001b[0mscan_once\u001b[0m\u001b[1;33m(\u001b[0m\u001b[0ms\u001b[0m\u001b[1;33m,\u001b[0m \u001b[0midx\u001b[0m\u001b[1;33m)\u001b[0m\u001b[1;33m\u001b[0m\u001b[1;33m\u001b[0m\u001b[0m\n\u001b[0;32m    354\u001b[0m         \u001b[1;32mexcept\u001b[0m \u001b[0mStopIteration\u001b[0m \u001b[1;32mas\u001b[0m \u001b[0merr\u001b[0m\u001b[1;33m:\u001b[0m\u001b[1;33m\u001b[0m\u001b[1;33m\u001b[0m\u001b[0m\n\u001b[1;32m--> 355\u001b[1;33m             \u001b[1;32mraise\u001b[0m \u001b[0mJSONDecodeError\u001b[0m\u001b[1;33m(\u001b[0m\u001b[1;34m\"Expecting value\"\u001b[0m\u001b[1;33m,\u001b[0m \u001b[0ms\u001b[0m\u001b[1;33m,\u001b[0m \u001b[0merr\u001b[0m\u001b[1;33m.\u001b[0m\u001b[0mvalue\u001b[0m\u001b[1;33m)\u001b[0m \u001b[1;32mfrom\u001b[0m \u001b[1;32mNone\u001b[0m\u001b[1;33m\u001b[0m\u001b[1;33m\u001b[0m\u001b[0m\n\u001b[0m\u001b[0;32m    356\u001b[0m         \u001b[1;32mreturn\u001b[0m \u001b[0mobj\u001b[0m\u001b[1;33m,\u001b[0m \u001b[0mend\u001b[0m\u001b[1;33m\u001b[0m\u001b[1;33m\u001b[0m\u001b[0m\n",
      "\u001b[1;31mJSONDecodeError\u001b[0m: Expecting value: line 1 column 1 (char 0)"
     ]
    }
   ],
   "source": [
    "from urllib.parse import urlencode, unquote\n",
    "import json\n",
    "import pandas as pd\n",
    "import math\n",
    "import numpy as np\n",
    "import requests\n",
    "\n",
    "# 주차장 입출차 데이터 목록\n",
    "url= 'http://t-data.seoul.go.kr/apig/apiman-gateway/tapi/ParkingParkingIoInfo/1.0'\n",
    "\n",
    "from tqdm import tqdm\n",
    "\n",
    "dates= pd.date_range('20220901','20220909').strftime('%Y%m%d')\n",
    "\n",
    "for date in tqdm(dates):\n",
    "    queryString= '?'+ urlencode({\n",
    "        'startRow': 1,\n",
    "        'apikey': 'a203679a-5313-493b-8777-1ee3bc671e61',\n",
    "        'rowCnt': 9999999,\n",
    "        'yyyyMMdd':f'{date}'\n",
    "    })\n",
    "\n",
    "    queryURL= url+queryString\n",
    "\n",
    "    response= requests.get(queryURL)\n",
    "    inout= json.loads(response.text)\n",
    "    \n",
    "    if len(inout) >3:\n",
    "        df= pd.DataFrame(parking)\n",
    "        print(len(df))\n",
    "        df.to_csv(f'{date}.csv', index=False)\n",
    "    \n",
    "    print(date)"
   ]
  },
  {
   "cell_type": "code",
   "execution_count": null,
   "id": "76d93851",
   "metadata": {},
   "outputs": [],
   "source": []
  },
  {
   "cell_type": "code",
   "execution_count": null,
   "id": "bdf122e5",
   "metadata": {},
   "outputs": [],
   "source": []
  },
  {
   "cell_type": "code",
   "execution_count": null,
   "id": "c2295389",
   "metadata": {},
   "outputs": [],
   "source": []
  },
  {
   "cell_type": "code",
   "execution_count": null,
   "id": "ba0c0075",
   "metadata": {},
   "outputs": [],
   "source": []
  },
  {
   "cell_type": "code",
   "execution_count": null,
   "id": "37803a4f",
   "metadata": {},
   "outputs": [],
   "source": []
  },
  {
   "cell_type": "code",
   "execution_count": null,
   "id": "6bdddf8a",
   "metadata": {},
   "outputs": [],
   "source": []
  },
  {
   "cell_type": "code",
   "execution_count": null,
   "id": "5db5b01e",
   "metadata": {},
   "outputs": [],
   "source": []
  },
  {
   "cell_type": "code",
   "execution_count": 172,
   "id": "6e11d235",
   "metadata": {},
   "outputs": [],
   "source": [
    "# 주차장 실시간 데이터 목록(주차가능면수)\n",
    "url='http://t-data.seoul.go.kr/apig/apiman-gateway/tapi/ParkingParkingRealtimeInfo/1.0'\n",
    "\n",
    "# 20220405~\n",
    "# 20220405: 3301462개\n",
    "# 20220406: 3311368\n",
    "queryString= '?'+ urlencode({\n",
    "    'startRow': 1,\n",
    "    'apikey': 'a203679a-5313-493b-8777-1ee3bc671e61',\n",
    "    'rowCnt': 9,\n",
    "    'yyyyMMdd':'20230407'\n",
    "})\n",
    " \n",
    "queryURL= url+queryString\n",
    "\n",
    "response= requests.get(queryURL)\n",
    "parking= json.loads(response.text)\n",
    "\n",
    "# molit2= et.fromstring(molit.text)\n",
    "# news= molit2.find('channel').findall('item')\n",
    "# for news in news:\n",
    "#     print(news.find('title').text)\n",
    "#     print(news.find('link').text)"
   ]
  },
  {
   "cell_type": "code",
   "execution_count": 173,
   "id": "7eb765bb",
   "metadata": {
    "collapsed": true
   },
   "outputs": [
    {
     "data": {
      "text/plain": [
       "[{'pkCd': '1473884', 'curPkNo': '0', 'curPkTm': '2023-04-06'},\n",
       " {'pkCd': '1473884', 'curPkNo': '0', 'curPkTm': '2023-04-06'},\n",
       " {'pkCd': '1473884', 'curPkNo': '0', 'curPkTm': '2023-04-06'},\n",
       " {'pkCd': '1473884', 'curPkNo': '0', 'curPkTm': '2023-04-06'},\n",
       " {'pkCd': '1473884', 'curPkNo': '0', 'curPkTm': '2023-04-06'},\n",
       " {'pkCd': '1473884', 'curPkNo': '0', 'curPkTm': '2023-04-06'},\n",
       " {'pkCd': '1473884', 'curPkNo': '0', 'curPkTm': '2023-04-06'},\n",
       " {'pkCd': '173184', 'curPkNo': '15', 'curPkTm': '2023-04-06'},\n",
       " {'pkCd': '1473884', 'curPkNo': '0', 'curPkTm': '2023-04-06'}]"
      ]
     },
     "execution_count": 173,
     "metadata": {},
     "output_type": "execute_result"
    }
   ],
   "source": [
    "parking"
   ]
  },
  {
   "cell_type": "code",
   "execution_count": 162,
   "id": "81bd9f2c",
   "metadata": {},
   "outputs": [],
   "source": [
    "# file= pd.DataFrame(parking)\n",
    "# file.to_csv('20220407.csv')"
   ]
  },
  {
   "cell_type": "code",
   "execution_count": 151,
   "id": "fa641872",
   "metadata": {},
   "outputs": [
    {
     "name": "stdout",
     "output_type": "stream",
     "text": [
      "20220406\n",
      "20220407\n"
     ]
    }
   ],
   "source": [
    "for i in dates:\n",
    "    print(i)"
   ]
  },
  {
   "cell_type": "code",
   "execution_count": null,
   "id": "9addfbd0",
   "metadata": {},
   "outputs": [],
   "source": []
  },
  {
   "cell_type": "code",
   "execution_count": 169,
   "id": "0197206b",
   "metadata": {},
   "outputs": [
    {
     "name": "stdout",
     "output_type": "stream",
     "text": [
      "            pkCd curPkNo     curPkTm\n",
      "0        1384198     189  2022-04-07\n",
      "1        1384198     190  2022-04-07\n",
      "2        1384198     746  2022-04-07\n",
      "3        1384198     740  2022-04-07\n",
      "4        1384198     738  2022-04-07\n",
      "...          ...     ...         ...\n",
      "1999994   173582      56  2022-04-07\n",
      "1999995   798382      85  2022-04-07\n",
      "1999996   816782     144  2022-04-07\n",
      "1999997   173582      56  2022-04-07\n",
      "1999998   798382      85  2022-04-07\n",
      "\n",
      "[1999999 rows x 3 columns]\n",
      "            pkCd curPkNo     curPkTm\n",
      "0         173437     198  2022-04-08\n",
      "1        1056837      12  2022-04-08\n",
      "2        1056837      12  2022-04-08\n",
      "3        1570437       0  2022-04-08\n",
      "4         173437     196  2022-04-08\n",
      "...          ...     ...         ...\n",
      "1999994   795976      72  2022-04-07\n",
      "1999995   795976      72  2022-04-07\n",
      "1999996   173776       6  2022-04-07\n",
      "1999997   795976      72  2022-04-07\n",
      "1999998   795976      72  2022-04-07\n",
      "\n",
      "[1999999 rows x 3 columns]\n"
     ]
    }
   ],
   "source": [
    "dates= pd.date_range('20230301','20230331').strftime('%Y%m%d')\n",
    "\n",
    "for date in dates:\n",
    "    queryString= '?'+ urlencode({\n",
    "        'startRow': 1000000,\n",
    "        'apikey': 'a203679a-5313-493b-8777-1ee3bc671e61',\n",
    "        'rowCnt': 1999999,\n",
    "        'yyyyMMdd':f'{date}'\n",
    "    })\n",
    "\n",
    "    queryURL= url+queryString\n",
    "\n",
    "    response= requests.get(queryURL)\n",
    "    parking= json.loads(response.text)\n",
    "    \n",
    "    df= pd.DataFrame(parking)\n",
    "    print(df)\n",
    "    df.to_csv(f'{date}.csv', index=False)"
   ]
  },
  {
   "cell_type": "code",
   "execution_count": 41,
   "id": "41612f5c",
   "metadata": {
    "collapsed": true
   },
   "outputs": [
    {
     "data": {
      "text/plain": [
       "{'responseCode': 500,\n",
       " 'message': 'io.apiman.gateway.engine.beans.exceptions.ConnectorException: Connection to backend terminated. timeout',\n",
       " 'trace': 'io.apiman.gateway.engine.beans.exceptions.RequestAbortedException: io.apiman.gateway.engine.beans.exceptions.ConnectorException: Connection to backend terminated. timeout\\n\\tat io.apiman.gateway.engine.impl.ApiRequestExecutorImpl$3.abort(ApiRequestExecutorImpl.java:771)\\n\\tat io.apiman.gateway.platforms.servlet.GatewayServlet$2.handle(GatewayServlet.java:174)\\n\\tat io.apiman.gateway.platforms.servlet.GatewayServlet$2.handle(GatewayServlet.java:161)\\n\\tat io.apiman.gateway.engine.impl.ApiRequestExecutorImpl.handleStream(ApiRequestExecutorImpl.java:743)\\n\\tat io.apiman.gateway.engine.impl.ApiRequestExecutorImpl.lambda$null$4(ApiRequestExecutorImpl.java:298)\\n\\tat io.apiman.gateway.engine.policy.Chain.handleHead(Chain.java:238)\\n\\tat io.apiman.gateway.engine.policy.Chain.doApply(Chain.java:152)\\n\\tat io.apiman.gateway.engine.policies.RateLimitingPolicy$1.handle(RateLimitingPolicy.java:104)\\n\\tat io.apiman.gateway.engine.policies.RateLimitingPolicy$1.handle(RateLimitingPolicy.java:91)\\n\\tat io.apiman.gateway.engine.impl.InMemoryRateLimiterComponent.accept(InMemoryRateLimiterComponent.java:69)\\n\\tat io.apiman.gateway.engine.policies.RateLimitingPolicy.doApply(RateLimitingPolicy.java:91)\\n\\tat io.apiman.gateway.engine.policies.RateLimitingPolicy.doApply(RateLimitingPolicy.java:45)\\n\\tat io.apiman.gateway.engine.policies.AbstractMappedPolicy.apply(AbstractMappedPolicy.java:73)\\n\\tat io.apiman.gateway.engine.policy.RequestChain.lambda$applyPolicy$0(RequestChain.java:67)\\n\\tat io.apiman.gateway.engine.policy.Chain.executeInPolicyContextLoader(Chain.java:299)\\n\\tat io.apiman.gateway.engine.policy.RequestChain.applyPolicy(RequestChain.java:66)\\n\\tat io.apiman.gateway.engine.policy.Chain.doApply(Chain.java:150)\\n\\tat io.apiman.gateway.engine.impl.ApiRequestExecutorImpl.lambda$execute$5(ApiRequestExecutorImpl.java:300)\\n\\tat io.apiman.gateway.engine.impl.ApiRequestExecutorImpl.lambda$loadPolicies$7(ApiRequestExecutorImpl.java:681)\\n\\tat io.apiman.gateway.engine.policy.PolicyFactoryImpl.loadPolicy(PolicyFactoryImpl.java:95)\\n\\tat io.apiman.gateway.engine.impl.ApiRequestExecutorImpl.loadPolicies(ApiRequestExecutorImpl.java:649)\\n\\tat io.apiman.gateway.engine.impl.ApiRequestExecutorImpl.lambda$execute$6(ApiRequestExecutorImpl.java:412)\\n\\tat io.apiman.gateway.engine.impl.SecureRegistryWrapper$2.handle(SecureRegistryWrapper.java:189)\\n\\tat io.apiman.gateway.engine.impl.SecureRegistryWrapper$2.handle(SecureRegistryWrapper.java:171)\\n\\tat io.apiman.gateway.engine.jdbc.CachingJdbcRegistry.getContract(CachingJdbcRegistry.java:102)\\n\\tat io.apiman.gateway.engine.impl.SecureRegistryWrapper.getContract(SecureRegistryWrapper.java:171)\\n\\tat io.apiman.gateway.engine.impl.ApiRequestExecutorImpl.execute(ApiRequestExecutorImpl.java:378)\\n\\tat io.apiman.gateway.platforms.servlet.GatewayServlet.doAction(GatewayServlet.java:178)\\n\\tat io.apiman.gateway.platforms.servlet.GatewayServlet.service(GatewayServlet.java:79)\\n\\tat javax.servlet.http.HttpServlet.service(HttpServlet.java:764)\\n\\tat org.apache.catalina.core.ApplicationFilterChain.internalDoFilter(ApplicationFilterChain.java:227)\\n\\tat org.apache.catalina.core.ApplicationFilterChain.doFilter(ApplicationFilterChain.java:162)\\n\\tat org.apache.tomcat.websocket.server.WsFilter.doFilter(WsFilter.java:53)\\n\\tat org.apache.catalina.core.ApplicationFilterChain.internalDoFilter(ApplicationFilterChain.java:189)\\n\\tat org.apache.catalina.core.ApplicationFilterChain.doFilter(ApplicationFilterChain.java:162)\\n\\tat org.apache.catalina.core.StandardWrapperValve.invoke(StandardWrapperValve.java:197)\\n\\tat org.apache.catalina.core.StandardContextValve.invoke(StandardContextValve.java:97)\\n\\tat org.apache.catalina.authenticator.AuthenticatorBase.invoke(AuthenticatorBase.java:541)\\n\\tat org.apache.catalina.core.StandardHostValve.invoke(StandardHostValve.java:135)\\n\\tat org.apache.catalina.valves.ErrorReportValve.invoke(ErrorReportValve.java:92)\\n\\tat org.apache.catalina.valves.RequestFilterValve.process(RequestFilterValve.java:378)\\n\\tat org.apache.catalina.valves.RemoteAddrValve.invoke(RemoteAddrValve.java:56)\\n\\tat org.apache.catalina.valves.AbstractAccessLogValve.invoke(AbstractAccessLogValve.java:687)\\n\\tat org.apache.catalina.core.StandardEngineValve.invoke(StandardEngineValve.java:78)\\n\\tat org.apache.catalina.connector.CoyoteAdapter.service(CoyoteAdapter.java:360)\\n\\tat org.apache.coyote.http11.Http11Processor.service(Http11Processor.java:399)\\n\\tat org.apache.coyote.AbstractProcessorLight.process(AbstractProcessorLight.java:65)\\n\\tat org.apache.coyote.AbstractProtocol$ConnectionHandler.process(AbstractProtocol.java:890)\\n\\tat org.apache.tomcat.util.net.NioEndpoint$SocketProcessor.doRun(NioEndpoint.java:1787)\\n\\tat org.apache.tomcat.util.net.SocketProcessorBase.run(SocketProcessorBase.java:49)\\n\\tat org.apache.tomcat.util.threads.ThreadPoolExecutor.runWorker(ThreadPoolExecutor.java:1191)\\n\\tat org.apache.tomcat.util.threads.ThreadPoolExecutor$Worker.run(ThreadPoolExecutor.java:659)\\n\\tat org.apache.tomcat.util.threads.TaskThread$WrappingRunnable.run(TaskThread.java:61)\\n\\tat java.lang.Thread.run(Thread.java:748)\\nCaused by: io.apiman.gateway.engine.beans.exceptions.ConnectorException: Connection to backend terminated. timeout\\n\\tat io.apiman.gateway.engine.handler.ErrorHandler.handleConnectionError(ErrorHandler.java:33)\\n\\tat io.apiman.gateway.platforms.servlet.connectors.HttpApiConnection.handleConnectionError(HttpApiConnection.java:401)\\n\\tat io.apiman.gateway.platforms.servlet.connectors.HttpApiConnection.end(HttpApiConnection.java:365)\\n\\tat io.apiman.gateway.engine.impl.ApiRequestExecutorImpl.lambda$null$3(ApiRequestExecutorImpl.java:293)\\n\\tat io.apiman.gateway.engine.io.AbstractStream.handleEnd(AbstractStream.java:116)\\n\\tat io.apiman.gateway.engine.policy.Chain.end(Chain.java:220)\\n\\tat io.apiman.gateway.engine.impl.ApiRequestExecutorImpl$3.end(ApiRequestExecutorImpl.java:756)\\n\\tat io.apiman.gateway.platforms.servlet.GatewayServlet$2.handle(GatewayServlet.java:172)\\n\\t... 52 more\\nCaused by: java.net.SocketTimeoutException: timeout\\n\\tat okio.SocketAsyncTimeout.newTimeoutException(JvmOkio.kt:146)\\n\\tat okio.AsyncTimeout.access$newTimeoutException(AsyncTimeout.kt:158)\\n\\tat okio.AsyncTimeout$source$1.read(AsyncTimeout.kt:337)\\n\\tat okio.RealBufferedSource.indexOf(RealBufferedSource.kt:427)\\n\\tat okio.RealBufferedSource.readUtf8LineStrict(RealBufferedSource.kt:320)\\n\\tat okio.RealBufferedSource.readUtf8LineStrict(RealBufferedSource.kt:105)\\n\\tat com.squareup.okhttp.internal.http.Http1xStream.readResponse(Http1xStream.java:186)\\n\\tat com.squareup.okhttp.internal.http.Http1xStream.readResponseHeaders(Http1xStream.java:127)\\n\\tat com.squareup.okhttp.internal.http.HttpEngine.readNetworkResponse(HttpEngine.java:737)\\n\\tat com.squareup.okhttp.internal.http.HttpEngine.readResponse(HttpEngine.java:609)\\n\\tat io.apiman.gateway.platforms.servlet.connectors.ok.HttpURLConnectionImpl.execute(HttpURLConnectionImpl.java:449)\\n\\tat io.apiman.gateway.platforms.servlet.connectors.ok.HttpURLConnectionImpl.getResponse(HttpURLConnectionImpl.java:395)\\n\\tat io.apiman.gateway.platforms.servlet.connectors.ok.HttpURLConnectionImpl.getHeaders(HttpURLConnectionImpl.java:151)\\n\\tat io.apiman.gateway.platforms.servlet.connectors.ok.HttpURLConnectionImpl.getHeaderFields(HttpURLConnectionImpl.java:211)\\n\\tat io.apiman.gateway.platforms.servlet.connectors.HttpApiConnection.end(HttpApiConnection.java:352)\\n\\t... 57 more\\nCaused by: java.net.SocketException: Socket closed\\n\\tat java.net.SocketInputStream.read(SocketInputStream.java:204)\\n\\tat java.net.SocketInputStream.read(SocketInputStream.java:141)\\n\\tat okio.InputStreamSource.read(JvmOkio.kt:93)\\n\\tat okio.AsyncTimeout$source$1.read(AsyncTimeout.kt:125)\\n\\t... 69 more\\n'}"
      ]
     },
     "execution_count": 41,
     "metadata": {},
     "output_type": "execute_result"
    }
   ],
   "source": [
    "# \n",
    "url='http://t-data.seoul.go.kr/apig/apiman-gateway/tapi/ParkingAllParkingBsInfo/1.0'\n",
    "\n",
    "queryString= '?'+ urlencode({\n",
    "    'startRow': 1,\n",
    "    'apikey': 'a203679a-5313-493b-8777-1ee3bc671e61',\n",
    "    'rowCnt': 9,\n",
    "    'yyyyMMdd':'20220407'\n",
    "})\n",
    " \n",
    "queryURL= url+queryString\n",
    "\n",
    "response= requests.get(queryURL)\n",
    "parking= json.loads(response.text)\n",
    "parking"
   ]
  }
 ],
 "metadata": {
  "kernelspec": {
   "display_name": "Python 3 (ipykernel)",
   "language": "python",
   "name": "python3"
  },
  "language_info": {
   "codemirror_mode": {
    "name": "ipython",
    "version": 3
   },
   "file_extension": ".py",
   "mimetype": "text/x-python",
   "name": "python",
   "nbconvert_exporter": "python",
   "pygments_lexer": "ipython3",
   "version": "3.9.13"
  }
 },
 "nbformat": 4,
 "nbformat_minor": 5
}
