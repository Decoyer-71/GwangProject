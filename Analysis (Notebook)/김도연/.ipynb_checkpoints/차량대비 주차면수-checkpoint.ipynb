{
 "cells": [
  {
   "cell_type": "code",
   "execution_count": 83,
   "id": "b950e55e",
   "metadata": {},
   "outputs": [],
   "source": [
    "import numpy as np\n",
    "import pandas as pd\n",
    "import matplotlib.pyplot as plt\n",
    "import seaborn as sns\n",
    "\n",
    "import matplotlib.font_manager as fm\n",
    "font_name = fm.FontProperties(fname=\"C:\\\\Windows\\\\Fonts\\\\malgun.ttf\").get_name()\n",
    "plt.rc(\"font\", family = font_name)\n",
    "\n",
    "import matplotlib as mlp\n",
    "mlp.rcParams[\"axes.unicode_minus\"] = False"
   ]
  },
  {
   "cell_type": "code",
   "execution_count": 84,
   "id": "2d5374ca",
   "metadata": {},
   "outputs": [],
   "source": [
    "import urllib.request as req\n",
    "# from urllib.error import HTTPError, URLError\n",
    "import requests\n",
    "from bs4 import BeautifulSoup"
   ]
  },
  {
   "cell_type": "code",
   "execution_count": 85,
   "id": "9dfa05a1",
   "metadata": {},
   "outputs": [],
   "source": [
    "from selenium import webdriver\n",
    "from selenium.webdriver.common.by import By\n",
    "from selenium.webdriver.common.keys import Keys\n",
    "\n",
    "from webdriver_manager.chrome import ChromeDriverManager\n",
    "from selenium.webdriver.chrome.service import Service\n",
    "\n",
    "import time"
   ]
  },
  {
   "cell_type": "code",
   "execution_count": 86,
   "id": "c0808f08",
   "metadata": {},
   "outputs": [],
   "source": [
    "import folium\n",
    "import json"
   ]
  },
  {
   "cell_type": "code",
   "execution_count": 87,
   "id": "7c0612f3",
   "metadata": {},
   "outputs": [],
   "source": [
    "# from glob import glob"
   ]
  },
  {
   "cell_type": "markdown",
   "id": "002b490f",
   "metadata": {},
   "source": [
    "---"
   ]
  },
  {
   "cell_type": "markdown",
   "id": "fa705dec",
   "metadata": {},
   "source": [
    "# 1. 자동차등록대수"
   ]
  },
  {
   "cell_type": "markdown",
   "id": "122bb56c",
   "metadata": {},
   "source": [
    "## (1) 데이터 처리"
   ]
  },
  {
   "cell_type": "markdown",
   "id": "b4c38866",
   "metadata": {},
   "source": [
    "### 1) 데이터 로드\n",
    "\n",
    "- 서울특별시_행정동별 자동차 등록대수 현황(공공데이터포털) : 2022 기준\n",
    "- https://www.data.go.kr/data/15100168/fileData.do"
   ]
  },
  {
   "cell_type": "code",
   "execution_count": 88,
   "id": "41c27d6c",
   "metadata": {
    "scrolled": true
   },
   "outputs": [],
   "source": [
    "cars_raw = pd.read_csv(\"../../Data/차,주차장/서울특별시_행정동별 자동차 등록대수 현황_20220430.csv\",\n",
    "           encoding=\"euc-kr\")"
   ]
  },
  {
   "cell_type": "code",
   "execution_count": 89,
   "id": "678b7779",
   "metadata": {
    "scrolled": true
   },
   "outputs": [
    {
     "name": "stdout",
     "output_type": "stream",
     "text": [
      "<class 'pandas.core.frame.DataFrame'>\n",
      "RangeIndex: 3570 entries, 0 to 3569\n",
      "Data columns (total 16 columns):\n",
      " #   Column     Non-Null Count  Dtype  \n",
      "---  ------     --------------  -----  \n",
      " 0   사용본거지 시군구  3570 non-null   object \n",
      " 1   읍면동 (행정동)  3570 non-null   object \n",
      " 2   연료         3570 non-null   object \n",
      " 3   계          3506 non-null   float64\n",
      " 4   관용_승용      3570 non-null   int64  \n",
      " 5   관용_승합      3570 non-null   int64  \n",
      " 6   관용_화물      3570 non-null   int64  \n",
      " 7   관용_특수      3570 non-null   int64  \n",
      " 8   자가용_승용     3570 non-null   int64  \n",
      " 9   자가용승합      3570 non-null   int64  \n",
      " 10  자가용화물      3570 non-null   int64  \n",
      " 11  자가용특수      3570 non-null   int64  \n",
      " 12  영업용_승용     3570 non-null   int64  \n",
      " 13  영업용승합      3570 non-null   int64  \n",
      " 14  영업용화물      3570 non-null   int64  \n",
      " 15  영업용특수      3570 non-null   int64  \n",
      "dtypes: float64(1), int64(12), object(3)\n",
      "memory usage: 446.4+ KB\n"
     ]
    }
   ],
   "source": [
    "cars_raw.info()"
   ]
  },
  {
   "cell_type": "code",
   "execution_count": 90,
   "id": "2f367436",
   "metadata": {},
   "outputs": [],
   "source": [
    "car=cars_raw[[\"사용본거지 시군구\", \"읍면동 (행정동)\",\"연료\"]]"
   ]
  },
  {
   "cell_type": "code",
   "execution_count": 91,
   "id": "c229d6d5",
   "metadata": {},
   "outputs": [
    {
     "name": "stderr",
     "output_type": "stream",
     "text": [
      "C:\\Users\\acorn\\AppData\\Local\\Temp\\ipykernel_32384\\470876743.py:1: SettingWithCopyWarning: \n",
      "A value is trying to be set on a copy of a slice from a DataFrame\n",
      "\n",
      "See the caveats in the documentation: https://pandas.pydata.org/pandas-docs/stable/user_guide/indexing.html#returning-a-view-versus-a-copy\n",
      "  car.rename(columns={\"사용본거지 시군구\":\"시군구\",\"읍면동 (행정동)\":\"행정동\"}, inplace=True)\n"
     ]
    }
   ],
   "source": [
    "car.rename(columns={\"사용본거지 시군구\":\"시군구\",\"읍면동 (행정동)\":\"행정동\"}, inplace=True)"
   ]
  },
  {
   "cell_type": "code",
   "execution_count": 92,
   "id": "09dffa50",
   "metadata": {
    "scrolled": true
   },
   "outputs": [
    {
     "name": "stdout",
     "output_type": "stream",
     "text": [
      "<class 'pandas.core.frame.DataFrame'>\n",
      "RangeIndex: 3570 entries, 0 to 3569\n",
      "Data columns (total 3 columns):\n",
      " #   Column  Non-Null Count  Dtype \n",
      "---  ------  --------------  ----- \n",
      " 0   시군구     3570 non-null   object\n",
      " 1   행정동     3570 non-null   object\n",
      " 2   연료      3570 non-null   object\n",
      "dtypes: object(3)\n",
      "memory usage: 83.8+ KB\n"
     ]
    }
   ],
   "source": [
    "car.info()"
   ]
  },
  {
   "cell_type": "markdown",
   "id": "c1ec116c",
   "metadata": {},
   "source": [
    "### 2) 시군구, 행정동 분리"
   ]
  },
  {
   "cell_type": "code",
   "execution_count": 93,
   "id": "2dcf0587",
   "metadata": {},
   "outputs": [],
   "source": [
    "sigungu_car=[]\n",
    "for i in cars_raw[\"사용본거지 시군구\"].str.split(\" \") :\n",
    "    sigungu_car.append(i[1])"
   ]
  },
  {
   "cell_type": "code",
   "execution_count": 94,
   "id": "50e5bea5",
   "metadata": {},
   "outputs": [],
   "source": [
    "dong_car=[]\n",
    "for i in cars_raw[\"읍면동 (행정동)\"].str.split(\" \") :\n",
    "    dong_car.append(i[1])"
   ]
  },
  {
   "cell_type": "code",
   "execution_count": 95,
   "id": "65e6b79a",
   "metadata": {},
   "outputs": [
    {
     "name": "stderr",
     "output_type": "stream",
     "text": [
      "C:\\Users\\acorn\\AppData\\Local\\Temp\\ipykernel_32384\\1988335006.py:1: SettingWithCopyWarning: \n",
      "A value is trying to be set on a copy of a slice from a DataFrame.\n",
      "Try using .loc[row_indexer,col_indexer] = value instead\n",
      "\n",
      "See the caveats in the documentation: https://pandas.pydata.org/pandas-docs/stable/user_guide/indexing.html#returning-a-view-versus-a-copy\n",
      "  car[\"시군구\"]=sigungu_car\n",
      "C:\\Users\\acorn\\AppData\\Local\\Temp\\ipykernel_32384\\1988335006.py:2: SettingWithCopyWarning: \n",
      "A value is trying to be set on a copy of a slice from a DataFrame.\n",
      "Try using .loc[row_indexer,col_indexer] = value instead\n",
      "\n",
      "See the caveats in the documentation: https://pandas.pydata.org/pandas-docs/stable/user_guide/indexing.html#returning-a-view-versus-a-copy\n",
      "  car[\"행정동\"]=dong_car\n"
     ]
    }
   ],
   "source": [
    "car[\"시군구\"]=sigungu_car\n",
    "car[\"행정동\"]=dong_car"
   ]
  },
  {
   "cell_type": "markdown",
   "id": "a270fceb",
   "metadata": {},
   "source": [
    "### 3) 차량 용도별 합계"
   ]
  },
  {
   "cell_type": "code",
   "execution_count": 96,
   "id": "3d9a550f",
   "metadata": {},
   "outputs": [
    {
     "name": "stderr",
     "output_type": "stream",
     "text": [
      "C:\\Users\\acorn\\AppData\\Local\\Temp\\ipykernel_32384\\3469447443.py:1: SettingWithCopyWarning: \n",
      "A value is trying to be set on a copy of a slice from a DataFrame.\n",
      "Try using .loc[row_indexer,col_indexer] = value instead\n",
      "\n",
      "See the caveats in the documentation: https://pandas.pydata.org/pandas-docs/stable/user_guide/indexing.html#returning-a-view-versus-a-copy\n",
      "  car[\"관용합계\"]=cars_raw[\"관용_승용\"]+cars_raw[\"관용_승합\"]+cars_raw[\"관용_화물\"]+cars_raw[\"관용_특수\"]\n",
      "C:\\Users\\acorn\\AppData\\Local\\Temp\\ipykernel_32384\\3469447443.py:2: SettingWithCopyWarning: \n",
      "A value is trying to be set on a copy of a slice from a DataFrame.\n",
      "Try using .loc[row_indexer,col_indexer] = value instead\n",
      "\n",
      "See the caveats in the documentation: https://pandas.pydata.org/pandas-docs/stable/user_guide/indexing.html#returning-a-view-versus-a-copy\n",
      "  car[\"자가용합계\"]=cars_raw[\"자가용_승용\"]+cars_raw[\"자가용승합\"]+cars_raw[\"자가용화물\"]+cars_raw[\"자가용특수\"]\n",
      "C:\\Users\\acorn\\AppData\\Local\\Temp\\ipykernel_32384\\3469447443.py:3: SettingWithCopyWarning: \n",
      "A value is trying to be set on a copy of a slice from a DataFrame.\n",
      "Try using .loc[row_indexer,col_indexer] = value instead\n",
      "\n",
      "See the caveats in the documentation: https://pandas.pydata.org/pandas-docs/stable/user_guide/indexing.html#returning-a-view-versus-a-copy\n",
      "  car[\"영업용합계\"]=cars_raw[\"영업용_승용\"]+cars_raw[\"영업용승합\"]+cars_raw[\"영업용화물\"]+cars_raw[\"영업용특수\"]\n",
      "C:\\Users\\acorn\\AppData\\Local\\Temp\\ipykernel_32384\\3469447443.py:4: SettingWithCopyWarning: \n",
      "A value is trying to be set on a copy of a slice from a DataFrame.\n",
      "Try using .loc[row_indexer,col_indexer] = value instead\n",
      "\n",
      "See the caveats in the documentation: https://pandas.pydata.org/pandas-docs/stable/user_guide/indexing.html#returning-a-view-versus-a-copy\n",
      "  car[\"계\"]=car[\"관용합계\"]+car[\"자가용합계\"]+car[\"영업용합계\"]\n"
     ]
    }
   ],
   "source": [
    "car[\"관용합계\"]=cars_raw[\"관용_승용\"]+cars_raw[\"관용_승합\"]+cars_raw[\"관용_화물\"]+cars_raw[\"관용_특수\"]\n",
    "car[\"자가용합계\"]=cars_raw[\"자가용_승용\"]+cars_raw[\"자가용승합\"]+cars_raw[\"자가용화물\"]+cars_raw[\"자가용특수\"]\n",
    "car[\"영업용합계\"]=cars_raw[\"영업용_승용\"]+cars_raw[\"영업용승합\"]+cars_raw[\"영업용화물\"]+cars_raw[\"영업용특수\"]\n",
    "car[\"계\"]=car[\"관용합계\"]+car[\"자가용합계\"]+car[\"영업용합계\"]"
   ]
  },
  {
   "cell_type": "code",
   "execution_count": 97,
   "id": "55dfb949",
   "metadata": {},
   "outputs": [
    {
     "data": {
      "text/plain": [
       "3182255"
      ]
     },
     "execution_count": 97,
     "metadata": {},
     "output_type": "execute_result"
    }
   ],
   "source": [
    "car[\"계\"].sum()"
   ]
  },
  {
   "cell_type": "code",
   "execution_count": 98,
   "id": "dceede5b",
   "metadata": {},
   "outputs": [
    {
     "data": {
      "text/html": [
       "<div>\n",
       "<style scoped>\n",
       "    .dataframe tbody tr th:only-of-type {\n",
       "        vertical-align: middle;\n",
       "    }\n",
       "\n",
       "    .dataframe tbody tr th {\n",
       "        vertical-align: top;\n",
       "    }\n",
       "\n",
       "    .dataframe thead th {\n",
       "        text-align: right;\n",
       "    }\n",
       "</style>\n",
       "<table border=\"1\" class=\"dataframe\">\n",
       "  <thead>\n",
       "    <tr style=\"text-align: right;\">\n",
       "      <th></th>\n",
       "      <th>시군구</th>\n",
       "      <th>행정동</th>\n",
       "      <th>연료</th>\n",
       "      <th>관용합계</th>\n",
       "      <th>자가용합계</th>\n",
       "      <th>영업용합계</th>\n",
       "      <th>계</th>\n",
       "    </tr>\n",
       "  </thead>\n",
       "  <tbody>\n",
       "    <tr>\n",
       "      <th>0</th>\n",
       "      <td>종로구</td>\n",
       "      <td>기타</td>\n",
       "      <td>휘발유</td>\n",
       "      <td>0</td>\n",
       "      <td>1</td>\n",
       "      <td>0</td>\n",
       "      <td>1</td>\n",
       "    </tr>\n",
       "    <tr>\n",
       "      <th>1</th>\n",
       "      <td>종로구</td>\n",
       "      <td>기타</td>\n",
       "      <td>휘발유</td>\n",
       "      <td>0</td>\n",
       "      <td>2</td>\n",
       "      <td>0</td>\n",
       "      <td>2</td>\n",
       "    </tr>\n",
       "    <tr>\n",
       "      <th>2</th>\n",
       "      <td>종로구</td>\n",
       "      <td>기타</td>\n",
       "      <td>휘발유</td>\n",
       "      <td>0</td>\n",
       "      <td>1</td>\n",
       "      <td>0</td>\n",
       "      <td>1</td>\n",
       "    </tr>\n",
       "    <tr>\n",
       "      <th>3</th>\n",
       "      <td>종로구</td>\n",
       "      <td>기타</td>\n",
       "      <td>경유</td>\n",
       "      <td>0</td>\n",
       "      <td>1</td>\n",
       "      <td>0</td>\n",
       "      <td>1</td>\n",
       "    </tr>\n",
       "    <tr>\n",
       "      <th>4</th>\n",
       "      <td>종로구</td>\n",
       "      <td>기타</td>\n",
       "      <td>경유</td>\n",
       "      <td>0</td>\n",
       "      <td>1</td>\n",
       "      <td>0</td>\n",
       "      <td>1</td>\n",
       "    </tr>\n",
       "  </tbody>\n",
       "</table>\n",
       "</div>"
      ],
      "text/plain": [
       "   시군구 행정동   연료  관용합계  자가용합계  영업용합계  계\n",
       "0  종로구  기타  휘발유     0      1      0  1\n",
       "1  종로구  기타  휘발유     0      2      0  2\n",
       "2  종로구  기타  휘발유     0      1      0  1\n",
       "3  종로구  기타   경유     0      1      0  1\n",
       "4  종로구  기타   경유     0      1      0  1"
      ]
     },
     "execution_count": 98,
     "metadata": {},
     "output_type": "execute_result"
    }
   ],
   "source": [
    "car.head()"
   ]
  },
  {
   "cell_type": "markdown",
   "id": "5202b5ee",
   "metadata": {},
   "source": [
    "## (2) 구별, 행정동별 자동차등록대수"
   ]
  },
  {
   "cell_type": "markdown",
   "id": "896eb36a",
   "metadata": {},
   "source": [
    "### 1) 구별"
   ]
  },
  {
   "cell_type": "code",
   "execution_count": 99,
   "id": "14cd0632",
   "metadata": {
    "scrolled": true
   },
   "outputs": [
    {
     "data": {
      "text/plain": [
       "시군구\n",
       "강남구     245487\n",
       "강동구     151959\n",
       "강북구      75122\n",
       "강서구     206522\n",
       "관악구     118273\n",
       "광진구      99115\n",
       "구로구     146038\n",
       "금천구      90501\n",
       "노원구     152375\n",
       "도봉구      95608\n",
       "동대문구     98603\n",
       "동작구     106417\n",
       "마포구     121250\n",
       "서대문구     89542\n",
       "서초구     176494\n",
       "성동구     106021\n",
       "성북구     122216\n",
       "송파구     249256\n",
       "양천구     151342\n",
       "영등포구    145490\n",
       "용산구      75234\n",
       "은평구     133791\n",
       "종로구      50756\n",
       "중구       59744\n",
       "중랑구     115099\n",
       "Name: 계, dtype: int64"
      ]
     },
     "execution_count": 99,
     "metadata": {},
     "output_type": "execute_result"
    }
   ],
   "source": [
    "gu_car= car.groupby(\"시군구\")[\"계\"].sum()\n",
    "gu_car"
   ]
  },
  {
   "cell_type": "markdown",
   "id": "316ced5b",
   "metadata": {},
   "source": [
    "### 2) 광진구 행정동별"
   ]
  },
  {
   "cell_type": "code",
   "execution_count": 100,
   "id": "b7bd9b7d",
   "metadata": {},
   "outputs": [
    {
     "data": {
      "text/html": [
       "<div>\n",
       "<style scoped>\n",
       "    .dataframe tbody tr th:only-of-type {\n",
       "        vertical-align: middle;\n",
       "    }\n",
       "\n",
       "    .dataframe tbody tr th {\n",
       "        vertical-align: top;\n",
       "    }\n",
       "\n",
       "    .dataframe thead th {\n",
       "        text-align: right;\n",
       "    }\n",
       "</style>\n",
       "<table border=\"1\" class=\"dataframe\">\n",
       "  <thead>\n",
       "    <tr style=\"text-align: right;\">\n",
       "      <th></th>\n",
       "      <th>시군구</th>\n",
       "      <th>행정동</th>\n",
       "      <th>연료</th>\n",
       "      <th>관용합계</th>\n",
       "      <th>자가용합계</th>\n",
       "      <th>영업용합계</th>\n",
       "      <th>계</th>\n",
       "    </tr>\n",
       "  </thead>\n",
       "  <tbody>\n",
       "    <tr>\n",
       "      <th>557</th>\n",
       "      <td>광진구</td>\n",
       "      <td>기타</td>\n",
       "      <td>휘발유</td>\n",
       "      <td>0</td>\n",
       "      <td>1</td>\n",
       "      <td>0</td>\n",
       "      <td>1</td>\n",
       "    </tr>\n",
       "    <tr>\n",
       "      <th>558</th>\n",
       "      <td>광진구</td>\n",
       "      <td>기타</td>\n",
       "      <td>경유</td>\n",
       "      <td>0</td>\n",
       "      <td>2</td>\n",
       "      <td>0</td>\n",
       "      <td>2</td>\n",
       "    </tr>\n",
       "    <tr>\n",
       "      <th>559</th>\n",
       "      <td>광진구</td>\n",
       "      <td>기타</td>\n",
       "      <td>휘발유</td>\n",
       "      <td>0</td>\n",
       "      <td>3</td>\n",
       "      <td>0</td>\n",
       "      <td>3</td>\n",
       "    </tr>\n",
       "    <tr>\n",
       "      <th>560</th>\n",
       "      <td>광진구</td>\n",
       "      <td>기타1</td>\n",
       "      <td>경유</td>\n",
       "      <td>0</td>\n",
       "      <td>2</td>\n",
       "      <td>0</td>\n",
       "      <td>2</td>\n",
       "    </tr>\n",
       "    <tr>\n",
       "      <th>561</th>\n",
       "      <td>광진구</td>\n",
       "      <td>화양동</td>\n",
       "      <td>휘발유</td>\n",
       "      <td>0</td>\n",
       "      <td>2009</td>\n",
       "      <td>197</td>\n",
       "      <td>2206</td>\n",
       "    </tr>\n",
       "  </tbody>\n",
       "</table>\n",
       "</div>"
      ],
      "text/plain": [
       "     시군구  행정동   연료  관용합계  자가용합계  영업용합계     계\n",
       "557  광진구   기타  휘발유     0      1      0     1\n",
       "558  광진구   기타   경유     0      2      0     2\n",
       "559  광진구   기타  휘발유     0      3      0     3\n",
       "560  광진구  기타1   경유     0      2      0     2\n",
       "561  광진구  화양동  휘발유     0   2009    197  2206"
      ]
     },
     "execution_count": 100,
     "metadata": {},
     "output_type": "execute_result"
    }
   ],
   "source": [
    "gj_car= car[car[\"시군구\"]==\"광진구\"]\n",
    "gj_car.head()"
   ]
  },
  {
   "cell_type": "code",
   "execution_count": 101,
   "id": "6c299232",
   "metadata": {},
   "outputs": [],
   "source": [
    "gj_car.loc[gj_car[\"행정동\"].str.contains(\"기타\"), \"행정동\"] = \"기타\""
   ]
  },
  {
   "cell_type": "code",
   "execution_count": 102,
   "id": "cb4e26c8",
   "metadata": {},
   "outputs": [],
   "source": [
    "gj_dong_car = gj_car.groupby(\"행정동\")[\"계\"].sum()\n",
    "gj_dong_car.to_csv('동별차량등록대수.csv')"
   ]
  },
  {
   "cell_type": "code",
   "execution_count": null,
   "id": "cf4e8e58",
   "metadata": {},
   "outputs": [],
   "source": []
  },
  {
   "cell_type": "markdown",
   "id": "a51846bc",
   "metadata": {},
   "source": [
    "# 2. 주차면수"
   ]
  },
  {
   "cell_type": "markdown",
   "id": "9f843128",
   "metadata": {},
   "source": [
    "## (1) 데이터 처리"
   ]
  },
  {
   "cell_type": "markdown",
   "id": "462a1be1",
   "metadata": {},
   "source": [
    "### 1) 데이터 로드\n",
    "\n",
    "- 서울시 주차장 (동별) 통계(서울시열린광장) : 2022 기준\n",
    "- https://data.seoul.go.kr/dataList/10152/S/2/datasetView.do"
   ]
  },
  {
   "cell_type": "code",
   "execution_count": 103,
   "id": "52d00ebb",
   "metadata": {
    "scrolled": true
   },
   "outputs": [
    {
     "name": "stdout",
     "output_type": "stream",
     "text": [
      "<class 'pandas.core.frame.DataFrame'>\n",
      "RangeIndex: 452 entries, 0 to 451\n",
      "Data columns (total 31 columns):\n",
      " #   Column      Non-Null Count  Dtype \n",
      "---  ------      --------------  ----- \n",
      " 0   동별(1)       452 non-null    object\n",
      " 1   동별(2)       452 non-null    object\n",
      " 2   동별(3)       452 non-null    object\n",
      " 3   개소 (개소)     452 non-null    int64 \n",
      " 4   면수 (면수)     452 non-null    int64 \n",
      " 5   개소 (개소).1   452 non-null    object\n",
      " 6   면수 (면수).1   452 non-null    object\n",
      " 7   개소 (개소).2   452 non-null    int64 \n",
      " 8   면수 (면수).2   452 non-null    int64 \n",
      " 9   개소 (개소).3   452 non-null    object\n",
      " 10  면수 (면수).3   452 non-null    object\n",
      " 11  개소 (개소).4   452 non-null    object\n",
      " 12  면수 (면수).4   452 non-null    object\n",
      " 13  개소 (개소).5   452 non-null    object\n",
      " 14  면수 (면수).5   452 non-null    object\n",
      " 15  개소 (개소).6   452 non-null    object\n",
      " 16  면수 (면수).6   452 non-null    object\n",
      " 17  개소 (개소).7   452 non-null    object\n",
      " 18  면수 (면수).7   452 non-null    object\n",
      " 19  개소 (개소).8   452 non-null    object\n",
      " 20  면수 (면수).8   452 non-null    object\n",
      " 21  개소 (개소).9   452 non-null    object\n",
      " 22  면수 (면수).9   452 non-null    object\n",
      " 23  개소 (개소).10  452 non-null    int64 \n",
      " 24  면수 (면수).10  452 non-null    int64 \n",
      " 25  개소 (개소).11  452 non-null    object\n",
      " 26  면수 (면수).11  452 non-null    object\n",
      " 27  개소 (개소).12  452 non-null    object\n",
      " 28  면수 (면수).12  452 non-null    object\n",
      " 29  개소 (개소).13  452 non-null    int64 \n",
      " 30  면수 (면수).13  452 non-null    int64 \n",
      "dtypes: int64(8), object(23)\n",
      "memory usage: 109.6+ KB\n"
     ]
    },
    {
     "data": {
      "text/html": [
       "<div>\n",
       "<style scoped>\n",
       "    .dataframe tbody tr th:only-of-type {\n",
       "        vertical-align: middle;\n",
       "    }\n",
       "\n",
       "    .dataframe tbody tr th {\n",
       "        vertical-align: top;\n",
       "    }\n",
       "\n",
       "    .dataframe thead th {\n",
       "        text-align: right;\n",
       "    }\n",
       "</style>\n",
       "<table border=\"1\" class=\"dataframe\">\n",
       "  <thead>\n",
       "    <tr style=\"text-align: right;\">\n",
       "      <th></th>\n",
       "      <th>동별(1)</th>\n",
       "      <th>동별(2)</th>\n",
       "      <th>동별(3)</th>\n",
       "      <th>개소 (개소)</th>\n",
       "      <th>면수 (면수)</th>\n",
       "      <th>개소 (개소).1</th>\n",
       "      <th>면수 (면수).1</th>\n",
       "      <th>개소 (개소).2</th>\n",
       "      <th>면수 (면수).2</th>\n",
       "      <th>개소 (개소).3</th>\n",
       "      <th>...</th>\n",
       "      <th>개소 (개소).9</th>\n",
       "      <th>면수 (면수).9</th>\n",
       "      <th>개소 (개소).10</th>\n",
       "      <th>면수 (면수).10</th>\n",
       "      <th>개소 (개소).11</th>\n",
       "      <th>면수 (면수).11</th>\n",
       "      <th>개소 (개소).12</th>\n",
       "      <th>면수 (면수).12</th>\n",
       "      <th>개소 (개소).13</th>\n",
       "      <th>면수 (면수).13</th>\n",
       "    </tr>\n",
       "  </thead>\n",
       "  <tbody>\n",
       "    <tr>\n",
       "      <th>0</th>\n",
       "      <td>합계</td>\n",
       "      <td>소계</td>\n",
       "      <td>소계</td>\n",
       "      <td>309726</td>\n",
       "      <td>4501875</td>\n",
       "      <td>12304</td>\n",
       "      <td>177281</td>\n",
       "      <td>297422</td>\n",
       "      <td>4324594</td>\n",
       "      <td>11235</td>\n",
       "      <td>...</td>\n",
       "      <td>788</td>\n",
       "      <td>28279</td>\n",
       "      <td>296634</td>\n",
       "      <td>4296315</td>\n",
       "      <td>115597</td>\n",
       "      <td>282426</td>\n",
       "      <td>87393</td>\n",
       "      <td>2361583</td>\n",
       "      <td>93644</td>\n",
       "      <td>1652306</td>\n",
       "    </tr>\n",
       "    <tr>\n",
       "      <th>1</th>\n",
       "      <td>합계</td>\n",
       "      <td>종로구</td>\n",
       "      <td>소계</td>\n",
       "      <td>8232</td>\n",
       "      <td>92062</td>\n",
       "      <td>185</td>\n",
       "      <td>5833</td>\n",
       "      <td>8047</td>\n",
       "      <td>86229</td>\n",
       "      <td>147</td>\n",
       "      <td>...</td>\n",
       "      <td>60</td>\n",
       "      <td>1206</td>\n",
       "      <td>7987</td>\n",
       "      <td>85023</td>\n",
       "      <td>2658</td>\n",
       "      <td>6748</td>\n",
       "      <td>1448</td>\n",
       "      <td>25103</td>\n",
       "      <td>3881</td>\n",
       "      <td>53172</td>\n",
       "    </tr>\n",
       "    <tr>\n",
       "      <th>2</th>\n",
       "      <td>합계</td>\n",
       "      <td>종로구</td>\n",
       "      <td>사직동</td>\n",
       "      <td>362</td>\n",
       "      <td>12605</td>\n",
       "      <td>17</td>\n",
       "      <td>1422</td>\n",
       "      <td>345</td>\n",
       "      <td>11183</td>\n",
       "      <td>13</td>\n",
       "      <td>...</td>\n",
       "      <td>5</td>\n",
       "      <td>115</td>\n",
       "      <td>340</td>\n",
       "      <td>11068</td>\n",
       "      <td>76</td>\n",
       "      <td>370</td>\n",
       "      <td>64</td>\n",
       "      <td>2442</td>\n",
       "      <td>200</td>\n",
       "      <td>8256</td>\n",
       "    </tr>\n",
       "    <tr>\n",
       "      <th>3</th>\n",
       "      <td>합계</td>\n",
       "      <td>종로구</td>\n",
       "      <td>삼청동</td>\n",
       "      <td>343</td>\n",
       "      <td>2237</td>\n",
       "      <td>16</td>\n",
       "      <td>122</td>\n",
       "      <td>327</td>\n",
       "      <td>2115</td>\n",
       "      <td>14</td>\n",
       "      <td>...</td>\n",
       "      <td>3</td>\n",
       "      <td>114</td>\n",
       "      <td>324</td>\n",
       "      <td>2001</td>\n",
       "      <td>84</td>\n",
       "      <td>183</td>\n",
       "      <td>9</td>\n",
       "      <td>68</td>\n",
       "      <td>231</td>\n",
       "      <td>1750</td>\n",
       "    </tr>\n",
       "    <tr>\n",
       "      <th>4</th>\n",
       "      <td>합계</td>\n",
       "      <td>종로구</td>\n",
       "      <td>부암동</td>\n",
       "      <td>596</td>\n",
       "      <td>3533</td>\n",
       "      <td>10</td>\n",
       "      <td>141</td>\n",
       "      <td>586</td>\n",
       "      <td>3392</td>\n",
       "      <td>8</td>\n",
       "      <td>...</td>\n",
       "      <td>-</td>\n",
       "      <td>-</td>\n",
       "      <td>586</td>\n",
       "      <td>3392</td>\n",
       "      <td>315</td>\n",
       "      <td>687</td>\n",
       "      <td>145</td>\n",
       "      <td>1202</td>\n",
       "      <td>126</td>\n",
       "      <td>1503</td>\n",
       "    </tr>\n",
       "  </tbody>\n",
       "</table>\n",
       "<p>5 rows × 31 columns</p>\n",
       "</div>"
      ],
      "text/plain": [
       "  동별(1) 동별(2) 동별(3)  개소 (개소)  면수 (면수) 개소 (개소).1 면수 (면수).1  개소 (개소).2  \\\n",
       "0    합계    소계    소계   309726  4501875     12304    177281     297422   \n",
       "1    합계   종로구    소계     8232    92062       185      5833       8047   \n",
       "2    합계   종로구   사직동      362    12605        17      1422        345   \n",
       "3    합계   종로구   삼청동      343     2237        16       122        327   \n",
       "4    합계   종로구   부암동      596     3533        10       141        586   \n",
       "\n",
       "   면수 (면수).2 개소 (개소).3  ... 개소 (개소).9 면수 (면수).9 개소 (개소).10 면수 (면수).10  \\\n",
       "0    4324594     11235  ...       788     28279     296634    4296315   \n",
       "1      86229       147  ...        60      1206       7987      85023   \n",
       "2      11183        13  ...         5       115        340      11068   \n",
       "3       2115        14  ...         3       114        324       2001   \n",
       "4       3392         8  ...         -         -        586       3392   \n",
       "\n",
       "  개소 (개소).11 면수 (면수).11 개소 (개소).12 면수 (면수).12 개소 (개소).13 면수 (면수).13  \n",
       "0     115597     282426      87393    2361583      93644    1652306  \n",
       "1       2658       6748       1448      25103       3881      53172  \n",
       "2         76        370         64       2442        200       8256  \n",
       "3         84        183          9         68        231       1750  \n",
       "4        315        687        145       1202        126       1503  \n",
       "\n",
       "[5 rows x 31 columns]"
      ]
     },
     "execution_count": 103,
     "metadata": {},
     "output_type": "execute_result"
    }
   ],
   "source": [
    "park_raw = pd.read_csv(\"../../Data/차,주차장/주차장(동별).csv\", skiprows=3 )\n",
    "park_raw.info()\n",
    "park_raw.head()"
   ]
  },
  {
   "cell_type": "code",
   "execution_count": 104,
   "id": "bb9cceec",
   "metadata": {},
   "outputs": [],
   "source": [
    "park_raw.columns=[\"합계\",\"시군구\",\"행정동\",\n",
    "                 \"합계개소\",\"합계면수\",\"공영개소\",\"공영면수\",\"민영개소\",\"민영면수\",\n",
    "                 \"노상개소\",\"노상면수\",\"노상시영개소\",\"노상시영면수\",\"노상구영개소\",\"노상구영면수\",\n",
    "                \"노외개소\", \"노외면수\",\"노외시영개소\",\"노외시영면수\",\"노외구영개소\",\n",
    "                 \"노외구영면수\",\"노외민영개소\",\"노외민영면수\",\n",
    "                 \"건축물부설개소\",\"건축물부설면수\",\n",
    "                 \"건축물부설일반주택개소\", \"건축물부설일반주택면수\",\n",
    "                 \"건축물부설공동주택개소\", \"건축물부설공동주택면수\",\n",
    "                 \"건축물부설일반건축물개소\", \"건축물부설일반건축물면수\"]"
   ]
  },
  {
   "cell_type": "code",
   "execution_count": 105,
   "id": "b616894c",
   "metadata": {},
   "outputs": [],
   "source": [
    "del park_raw[\"합계\"]"
   ]
  },
  {
   "cell_type": "code",
   "execution_count": 106,
   "id": "6f4552c0",
   "metadata": {},
   "outputs": [
    {
     "name": "stdout",
     "output_type": "stream",
     "text": [
      "<class 'pandas.core.frame.DataFrame'>\n",
      "RangeIndex: 452 entries, 0 to 451\n",
      "Data columns (total 30 columns):\n",
      " #   Column        Non-Null Count  Dtype \n",
      "---  ------        --------------  ----- \n",
      " 0   시군구           452 non-null    object\n",
      " 1   행정동           452 non-null    object\n",
      " 2   합계개소          452 non-null    int64 \n",
      " 3   합계면수          452 non-null    int64 \n",
      " 4   공영개소          452 non-null    object\n",
      " 5   공영면수          452 non-null    object\n",
      " 6   민영개소          452 non-null    int64 \n",
      " 7   민영면수          452 non-null    int64 \n",
      " 8   노상개소          452 non-null    object\n",
      " 9   노상면수          452 non-null    object\n",
      " 10  노상시영개소        452 non-null    object\n",
      " 11  노상시영면수        452 non-null    object\n",
      " 12  노상구영개소        452 non-null    object\n",
      " 13  노상구영면수        452 non-null    object\n",
      " 14  노외개소          452 non-null    object\n",
      " 15  노외면수          452 non-null    object\n",
      " 16  노외시영개소        452 non-null    object\n",
      " 17  노외시영면수        452 non-null    object\n",
      " 18  노외구영개소        452 non-null    object\n",
      " 19  노외구영면수        452 non-null    object\n",
      " 20  노외민영개소        452 non-null    object\n",
      " 21  노외민영면수        452 non-null    object\n",
      " 22  건축물부설개소       452 non-null    int64 \n",
      " 23  건축물부설면수       452 non-null    int64 \n",
      " 24  건축물부설일반주택개소   452 non-null    object\n",
      " 25  건축물부설일반주택면수   452 non-null    object\n",
      " 26  건축물부설공동주택개소   452 non-null    object\n",
      " 27  건축물부설공동주택면수   452 non-null    object\n",
      " 28  건축물부설일반건축물개소  452 non-null    int64 \n",
      " 29  건축물부설일반건축물면수  452 non-null    int64 \n",
      "dtypes: int64(8), object(22)\n",
      "memory usage: 106.1+ KB\n"
     ]
    }
   ],
   "source": [
    "park_raw.info()"
   ]
  },
  {
   "cell_type": "code",
   "execution_count": 107,
   "id": "5394c285",
   "metadata": {},
   "outputs": [],
   "source": [
    "park = park_raw[[\"시군구\",\"행정동\",\"합계면수\",\"공영면수\",\"민영면수\"]]"
   ]
  },
  {
   "cell_type": "code",
   "execution_count": 108,
   "id": "7293abc7",
   "metadata": {},
   "outputs": [],
   "source": [
    "park = park[park[\"행정동\"] != \"소계\"]"
   ]
  },
  {
   "cell_type": "markdown",
   "id": "9ac989f4",
   "metadata": {},
   "source": [
    "### (2) 구별, 행정동별 주차면수"
   ]
  },
  {
   "cell_type": "markdown",
   "id": "51c7a1c6",
   "metadata": {},
   "source": [
    "### 1) 구별"
   ]
  },
  {
   "cell_type": "code",
   "execution_count": 109,
   "id": "97829e99",
   "metadata": {},
   "outputs": [],
   "source": [
    "gu_park = park.groupby(\"시군구\")[[\"합계면수\"]].sum()\n",
    "# gu_park.su\n",
    "\n",
    "gu_park.reset_index()\n",
    "gu_park.to_csv('주차면수.csv')"
   ]
  },
  {
   "cell_type": "markdown",
   "id": "14a2e5ee",
   "metadata": {},
   "source": [
    "### 2) 광진구 행정동별"
   ]
  },
  {
   "cell_type": "code",
   "execution_count": 110,
   "id": "8f9590ef",
   "metadata": {},
   "outputs": [],
   "source": [
    "gj_park = park[park[\"시군구\"]== \"광진구\"]\n",
    "gj_dong_park = gj_park.groupby(\"행정동\")[[\"합계면수\"]].sum()"
   ]
  },
  {
   "cell_type": "code",
   "execution_count": null,
   "id": "24626258",
   "metadata": {},
   "outputs": [],
   "source": []
  },
  {
   "cell_type": "markdown",
   "id": "db7d9d0e",
   "metadata": {},
   "source": [
    "# 3. 구별 차량대비주차면수"
   ]
  },
  {
   "cell_type": "code",
   "execution_count": 111,
   "id": "16545068",
   "metadata": {},
   "outputs": [
    {
     "data": {
      "text/html": [
       "<div>\n",
       "<style scoped>\n",
       "    .dataframe tbody tr th:only-of-type {\n",
       "        vertical-align: middle;\n",
       "    }\n",
       "\n",
       "    .dataframe tbody tr th {\n",
       "        vertical-align: top;\n",
       "    }\n",
       "\n",
       "    .dataframe thead th {\n",
       "        text-align: right;\n",
       "    }\n",
       "</style>\n",
       "<table border=\"1\" class=\"dataframe\">\n",
       "  <thead>\n",
       "    <tr style=\"text-align: right;\">\n",
       "      <th></th>\n",
       "      <th>계</th>\n",
       "      <th>합계면수</th>\n",
       "    </tr>\n",
       "    <tr>\n",
       "      <th>시군구</th>\n",
       "      <th></th>\n",
       "      <th></th>\n",
       "    </tr>\n",
       "  </thead>\n",
       "  <tbody>\n",
       "    <tr>\n",
       "      <th>강남구</th>\n",
       "      <td>245487</td>\n",
       "      <td>413898</td>\n",
       "    </tr>\n",
       "    <tr>\n",
       "      <th>강동구</th>\n",
       "      <td>151959</td>\n",
       "      <td>209959</td>\n",
       "    </tr>\n",
       "    <tr>\n",
       "      <th>강북구</th>\n",
       "      <td>75122</td>\n",
       "      <td>96636</td>\n",
       "    </tr>\n",
       "    <tr>\n",
       "      <th>강서구</th>\n",
       "      <td>206522</td>\n",
       "      <td>315812</td>\n",
       "    </tr>\n",
       "    <tr>\n",
       "      <th>관악구</th>\n",
       "      <td>118273</td>\n",
       "      <td>153960</td>\n",
       "    </tr>\n",
       "  </tbody>\n",
       "</table>\n",
       "</div>"
      ],
      "text/plain": [
       "          계    합계면수\n",
       "시군구                \n",
       "강남구  245487  413898\n",
       "강동구  151959  209959\n",
       "강북구   75122   96636\n",
       "강서구  206522  315812\n",
       "관악구  118273  153960"
      ]
     },
     "execution_count": 111,
     "metadata": {},
     "output_type": "execute_result"
    }
   ],
   "source": [
    "p=pd.merge(gu_car, gu_park, on=\"시군구\")\n",
    "p.head()"
   ]
  },
  {
   "cell_type": "code",
   "execution_count": 112,
   "id": "2b57188f",
   "metadata": {},
   "outputs": [],
   "source": [
    "p[\"차량대비면수\"] = p[\"합계면수\"]/p[\"계\"]*100\n",
    "\n",
    "p.to_csv('차쟝대비면수.csv')"
   ]
  },
  {
   "cell_type": "code",
   "execution_count": 113,
   "id": "8ed7b0d6",
   "metadata": {},
   "outputs": [
    {
     "data": {
      "text/html": [
       "<div>\n",
       "<style scoped>\n",
       "    .dataframe tbody tr th:only-of-type {\n",
       "        vertical-align: middle;\n",
       "    }\n",
       "\n",
       "    .dataframe tbody tr th {\n",
       "        vertical-align: top;\n",
       "    }\n",
       "\n",
       "    .dataframe thead th {\n",
       "        text-align: right;\n",
       "    }\n",
       "</style>\n",
       "<table border=\"1\" class=\"dataframe\">\n",
       "  <thead>\n",
       "    <tr style=\"text-align: right;\">\n",
       "      <th></th>\n",
       "      <th>계</th>\n",
       "      <th>합계면수</th>\n",
       "      <th>차량대비면수</th>\n",
       "    </tr>\n",
       "    <tr>\n",
       "      <th>시군구</th>\n",
       "      <th></th>\n",
       "      <th></th>\n",
       "      <th></th>\n",
       "    </tr>\n",
       "  </thead>\n",
       "  <tbody>\n",
       "    <tr>\n",
       "      <th>중구</th>\n",
       "      <td>59744</td>\n",
       "      <td>109153</td>\n",
       "      <td>182.701192</td>\n",
       "    </tr>\n",
       "    <tr>\n",
       "      <th>종로구</th>\n",
       "      <td>50756</td>\n",
       "      <td>92062</td>\n",
       "      <td>181.381512</td>\n",
       "    </tr>\n",
       "    <tr>\n",
       "      <th>서초구</th>\n",
       "      <td>176494</td>\n",
       "      <td>310949</td>\n",
       "      <td>176.181060</td>\n",
       "    </tr>\n",
       "    <tr>\n",
       "      <th>강남구</th>\n",
       "      <td>245487</td>\n",
       "      <td>413898</td>\n",
       "      <td>168.602818</td>\n",
       "    </tr>\n",
       "    <tr>\n",
       "      <th>마포구</th>\n",
       "      <td>121250</td>\n",
       "      <td>199423</td>\n",
       "      <td>164.472577</td>\n",
       "    </tr>\n",
       "    <tr>\n",
       "      <th>용산구</th>\n",
       "      <td>75234</td>\n",
       "      <td>118632</td>\n",
       "      <td>157.684026</td>\n",
       "    </tr>\n",
       "    <tr>\n",
       "      <th>금천구</th>\n",
       "      <td>90501</td>\n",
       "      <td>139148</td>\n",
       "      <td>153.752997</td>\n",
       "    </tr>\n",
       "    <tr>\n",
       "      <th>강서구</th>\n",
       "      <td>206522</td>\n",
       "      <td>315812</td>\n",
       "      <td>152.919302</td>\n",
       "    </tr>\n",
       "    <tr>\n",
       "      <th>동대문구</th>\n",
       "      <td>98603</td>\n",
       "      <td>148103</td>\n",
       "      <td>150.201312</td>\n",
       "    </tr>\n",
       "    <tr>\n",
       "      <th>서대문구</th>\n",
       "      <td>89542</td>\n",
       "      <td>132942</td>\n",
       "      <td>148.468875</td>\n",
       "    </tr>\n",
       "    <tr>\n",
       "      <th>영등포구</th>\n",
       "      <td>145490</td>\n",
       "      <td>203359</td>\n",
       "      <td>139.775242</td>\n",
       "    </tr>\n",
       "    <tr>\n",
       "      <th>강동구</th>\n",
       "      <td>151959</td>\n",
       "      <td>209959</td>\n",
       "      <td>138.168190</td>\n",
       "    </tr>\n",
       "    <tr>\n",
       "      <th>송파구</th>\n",
       "      <td>249256</td>\n",
       "      <td>339227</td>\n",
       "      <td>136.095821</td>\n",
       "    </tr>\n",
       "    <tr>\n",
       "      <th>광진구</th>\n",
       "      <td>99115</td>\n",
       "      <td>134389</td>\n",
       "      <td>135.588962</td>\n",
       "    </tr>\n",
       "    <tr>\n",
       "      <th>은평구</th>\n",
       "      <td>133791</td>\n",
       "      <td>176603</td>\n",
       "      <td>131.999163</td>\n",
       "    </tr>\n",
       "    <tr>\n",
       "      <th>구로구</th>\n",
       "      <td>146038</td>\n",
       "      <td>191823</td>\n",
       "      <td>131.351429</td>\n",
       "    </tr>\n",
       "    <tr>\n",
       "      <th>관악구</th>\n",
       "      <td>118273</td>\n",
       "      <td>153960</td>\n",
       "      <td>130.173412</td>\n",
       "    </tr>\n",
       "    <tr>\n",
       "      <th>동작구</th>\n",
       "      <td>106417</td>\n",
       "      <td>137661</td>\n",
       "      <td>129.359971</td>\n",
       "    </tr>\n",
       "    <tr>\n",
       "      <th>강북구</th>\n",
       "      <td>75122</td>\n",
       "      <td>96636</td>\n",
       "      <td>128.638748</td>\n",
       "    </tr>\n",
       "    <tr>\n",
       "      <th>성북구</th>\n",
       "      <td>122216</td>\n",
       "      <td>155254</td>\n",
       "      <td>127.032467</td>\n",
       "    </tr>\n",
       "    <tr>\n",
       "      <th>성동구</th>\n",
       "      <td>106021</td>\n",
       "      <td>134544</td>\n",
       "      <td>126.903161</td>\n",
       "    </tr>\n",
       "    <tr>\n",
       "      <th>노원구</th>\n",
       "      <td>152375</td>\n",
       "      <td>178194</td>\n",
       "      <td>116.944381</td>\n",
       "    </tr>\n",
       "    <tr>\n",
       "      <th>도봉구</th>\n",
       "      <td>95608</td>\n",
       "      <td>110933</td>\n",
       "      <td>116.028993</td>\n",
       "    </tr>\n",
       "    <tr>\n",
       "      <th>중랑구</th>\n",
       "      <td>115099</td>\n",
       "      <td>132884</td>\n",
       "      <td>115.451915</td>\n",
       "    </tr>\n",
       "    <tr>\n",
       "      <th>양천구</th>\n",
       "      <td>151342</td>\n",
       "      <td>166327</td>\n",
       "      <td>109.901415</td>\n",
       "    </tr>\n",
       "  </tbody>\n",
       "</table>\n",
       "</div>"
      ],
      "text/plain": [
       "           계    합계면수      차량대비면수\n",
       "시군구                             \n",
       "중구     59744  109153  182.701192\n",
       "종로구    50756   92062  181.381512\n",
       "서초구   176494  310949  176.181060\n",
       "강남구   245487  413898  168.602818\n",
       "마포구   121250  199423  164.472577\n",
       "용산구    75234  118632  157.684026\n",
       "금천구    90501  139148  153.752997\n",
       "강서구   206522  315812  152.919302\n",
       "동대문구   98603  148103  150.201312\n",
       "서대문구   89542  132942  148.468875\n",
       "영등포구  145490  203359  139.775242\n",
       "강동구   151959  209959  138.168190\n",
       "송파구   249256  339227  136.095821\n",
       "광진구    99115  134389  135.588962\n",
       "은평구   133791  176603  131.999163\n",
       "구로구   146038  191823  131.351429\n",
       "관악구   118273  153960  130.173412\n",
       "동작구   106417  137661  129.359971\n",
       "강북구    75122   96636  128.638748\n",
       "성북구   122216  155254  127.032467\n",
       "성동구   106021  134544  126.903161\n",
       "노원구   152375  178194  116.944381\n",
       "도봉구    95608  110933  116.028993\n",
       "중랑구   115099  132884  115.451915\n",
       "양천구   151342  166327  109.901415"
      ]
     },
     "execution_count": 113,
     "metadata": {},
     "output_type": "execute_result"
    }
   ],
   "source": [
    "p.sort_values(by=\"차량대비면수\", ascending=False)"
   ]
  },
  {
   "cell_type": "code",
   "execution_count": 114,
   "id": "5b3ff87e",
   "metadata": {},
   "outputs": [
    {
     "data": {
      "text/plain": [
       "141.9911576615607"
      ]
     },
     "execution_count": 114,
     "metadata": {},
     "output_type": "execute_result"
    }
   ],
   "source": [
    "p[\"차량대비면수\"].mean()"
   ]
  },
  {
   "cell_type": "code",
   "execution_count": 115,
   "id": "b5eece2d",
   "metadata": {
    "scrolled": true
   },
   "outputs": [],
   "source": [
    "p[\"정규화\"]=(p[\"차량대비면수\"]-p[\"차량대비면수\"].min())/(p[\"차량대비면수\"].max()-p[\"차량대비면수\"].min())"
   ]
  },
  {
   "cell_type": "code",
   "execution_count": 116,
   "id": "0f858c35",
   "metadata": {},
   "outputs": [
    {
     "data": {
      "text/html": [
       "<div>\n",
       "<style scoped>\n",
       "    .dataframe tbody tr th:only-of-type {\n",
       "        vertical-align: middle;\n",
       "    }\n",
       "\n",
       "    .dataframe tbody tr th {\n",
       "        vertical-align: top;\n",
       "    }\n",
       "\n",
       "    .dataframe thead th {\n",
       "        text-align: right;\n",
       "    }\n",
       "</style>\n",
       "<table border=\"1\" class=\"dataframe\">\n",
       "  <thead>\n",
       "    <tr style=\"text-align: right;\">\n",
       "      <th></th>\n",
       "      <th>계</th>\n",
       "      <th>합계면수</th>\n",
       "      <th>차량대비면수</th>\n",
       "      <th>정규화</th>\n",
       "    </tr>\n",
       "    <tr>\n",
       "      <th>시군구</th>\n",
       "      <th></th>\n",
       "      <th></th>\n",
       "      <th></th>\n",
       "      <th></th>\n",
       "    </tr>\n",
       "  </thead>\n",
       "  <tbody>\n",
       "    <tr>\n",
       "      <th>중구</th>\n",
       "      <td>59744</td>\n",
       "      <td>109153</td>\n",
       "      <td>182.701192</td>\n",
       "      <td>1.000000</td>\n",
       "    </tr>\n",
       "    <tr>\n",
       "      <th>종로구</th>\n",
       "      <td>50756</td>\n",
       "      <td>92062</td>\n",
       "      <td>181.381512</td>\n",
       "      <td>0.981872</td>\n",
       "    </tr>\n",
       "    <tr>\n",
       "      <th>서초구</th>\n",
       "      <td>176494</td>\n",
       "      <td>310949</td>\n",
       "      <td>176.181060</td>\n",
       "      <td>0.910437</td>\n",
       "    </tr>\n",
       "    <tr>\n",
       "      <th>강남구</th>\n",
       "      <td>245487</td>\n",
       "      <td>413898</td>\n",
       "      <td>168.602818</td>\n",
       "      <td>0.806340</td>\n",
       "    </tr>\n",
       "    <tr>\n",
       "      <th>마포구</th>\n",
       "      <td>121250</td>\n",
       "      <td>199423</td>\n",
       "      <td>164.472577</td>\n",
       "      <td>0.749606</td>\n",
       "    </tr>\n",
       "    <tr>\n",
       "      <th>용산구</th>\n",
       "      <td>75234</td>\n",
       "      <td>118632</td>\n",
       "      <td>157.684026</td>\n",
       "      <td>0.656357</td>\n",
       "    </tr>\n",
       "    <tr>\n",
       "      <th>금천구</th>\n",
       "      <td>90501</td>\n",
       "      <td>139148</td>\n",
       "      <td>153.752997</td>\n",
       "      <td>0.602359</td>\n",
       "    </tr>\n",
       "    <tr>\n",
       "      <th>강서구</th>\n",
       "      <td>206522</td>\n",
       "      <td>315812</td>\n",
       "      <td>152.919302</td>\n",
       "      <td>0.590907</td>\n",
       "    </tr>\n",
       "    <tr>\n",
       "      <th>동대문구</th>\n",
       "      <td>98603</td>\n",
       "      <td>148103</td>\n",
       "      <td>150.201312</td>\n",
       "      <td>0.553572</td>\n",
       "    </tr>\n",
       "    <tr>\n",
       "      <th>서대문구</th>\n",
       "      <td>89542</td>\n",
       "      <td>132942</td>\n",
       "      <td>148.468875</td>\n",
       "      <td>0.529774</td>\n",
       "    </tr>\n",
       "    <tr>\n",
       "      <th>영등포구</th>\n",
       "      <td>145490</td>\n",
       "      <td>203359</td>\n",
       "      <td>139.775242</td>\n",
       "      <td>0.410356</td>\n",
       "    </tr>\n",
       "    <tr>\n",
       "      <th>강동구</th>\n",
       "      <td>151959</td>\n",
       "      <td>209959</td>\n",
       "      <td>138.168190</td>\n",
       "      <td>0.388281</td>\n",
       "    </tr>\n",
       "    <tr>\n",
       "      <th>송파구</th>\n",
       "      <td>249256</td>\n",
       "      <td>339227</td>\n",
       "      <td>136.095821</td>\n",
       "      <td>0.359814</td>\n",
       "    </tr>\n",
       "    <tr>\n",
       "      <th>광진구</th>\n",
       "      <td>99115</td>\n",
       "      <td>134389</td>\n",
       "      <td>135.588962</td>\n",
       "      <td>0.352852</td>\n",
       "    </tr>\n",
       "    <tr>\n",
       "      <th>은평구</th>\n",
       "      <td>133791</td>\n",
       "      <td>176603</td>\n",
       "      <td>131.999163</td>\n",
       "      <td>0.303541</td>\n",
       "    </tr>\n",
       "    <tr>\n",
       "      <th>구로구</th>\n",
       "      <td>146038</td>\n",
       "      <td>191823</td>\n",
       "      <td>131.351429</td>\n",
       "      <td>0.294644</td>\n",
       "    </tr>\n",
       "    <tr>\n",
       "      <th>관악구</th>\n",
       "      <td>118273</td>\n",
       "      <td>153960</td>\n",
       "      <td>130.173412</td>\n",
       "      <td>0.278462</td>\n",
       "    </tr>\n",
       "    <tr>\n",
       "      <th>동작구</th>\n",
       "      <td>106417</td>\n",
       "      <td>137661</td>\n",
       "      <td>129.359971</td>\n",
       "      <td>0.267289</td>\n",
       "    </tr>\n",
       "    <tr>\n",
       "      <th>강북구</th>\n",
       "      <td>75122</td>\n",
       "      <td>96636</td>\n",
       "      <td>128.638748</td>\n",
       "      <td>0.257382</td>\n",
       "    </tr>\n",
       "    <tr>\n",
       "      <th>성북구</th>\n",
       "      <td>122216</td>\n",
       "      <td>155254</td>\n",
       "      <td>127.032467</td>\n",
       "      <td>0.235317</td>\n",
       "    </tr>\n",
       "    <tr>\n",
       "      <th>성동구</th>\n",
       "      <td>106021</td>\n",
       "      <td>134544</td>\n",
       "      <td>126.903161</td>\n",
       "      <td>0.233541</td>\n",
       "    </tr>\n",
       "    <tr>\n",
       "      <th>노원구</th>\n",
       "      <td>152375</td>\n",
       "      <td>178194</td>\n",
       "      <td>116.944381</td>\n",
       "      <td>0.096744</td>\n",
       "    </tr>\n",
       "    <tr>\n",
       "      <th>도봉구</th>\n",
       "      <td>95608</td>\n",
       "      <td>110933</td>\n",
       "      <td>116.028993</td>\n",
       "      <td>0.084170</td>\n",
       "    </tr>\n",
       "    <tr>\n",
       "      <th>중랑구</th>\n",
       "      <td>115099</td>\n",
       "      <td>132884</td>\n",
       "      <td>115.451915</td>\n",
       "      <td>0.076243</td>\n",
       "    </tr>\n",
       "    <tr>\n",
       "      <th>양천구</th>\n",
       "      <td>151342</td>\n",
       "      <td>166327</td>\n",
       "      <td>109.901415</td>\n",
       "      <td>0.000000</td>\n",
       "    </tr>\n",
       "  </tbody>\n",
       "</table>\n",
       "</div>"
      ],
      "text/plain": [
       "           계    합계면수      차량대비면수       정규화\n",
       "시군구                                       \n",
       "중구     59744  109153  182.701192  1.000000\n",
       "종로구    50756   92062  181.381512  0.981872\n",
       "서초구   176494  310949  176.181060  0.910437\n",
       "강남구   245487  413898  168.602818  0.806340\n",
       "마포구   121250  199423  164.472577  0.749606\n",
       "용산구    75234  118632  157.684026  0.656357\n",
       "금천구    90501  139148  153.752997  0.602359\n",
       "강서구   206522  315812  152.919302  0.590907\n",
       "동대문구   98603  148103  150.201312  0.553572\n",
       "서대문구   89542  132942  148.468875  0.529774\n",
       "영등포구  145490  203359  139.775242  0.410356\n",
       "강동구   151959  209959  138.168190  0.388281\n",
       "송파구   249256  339227  136.095821  0.359814\n",
       "광진구    99115  134389  135.588962  0.352852\n",
       "은평구   133791  176603  131.999163  0.303541\n",
       "구로구   146038  191823  131.351429  0.294644\n",
       "관악구   118273  153960  130.173412  0.278462\n",
       "동작구   106417  137661  129.359971  0.267289\n",
       "강북구    75122   96636  128.638748  0.257382\n",
       "성북구   122216  155254  127.032467  0.235317\n",
       "성동구   106021  134544  126.903161  0.233541\n",
       "노원구   152375  178194  116.944381  0.096744\n",
       "도봉구    95608  110933  116.028993  0.084170\n",
       "중랑구   115099  132884  115.451915  0.076243\n",
       "양천구   151342  166327  109.901415  0.000000"
      ]
     },
     "execution_count": 116,
     "metadata": {},
     "output_type": "execute_result"
    }
   ],
   "source": [
    "p.sort_values(by=\"정규화\", ascending=False)"
   ]
  },
  {
   "cell_type": "code",
   "execution_count": null,
   "id": "c550428e",
   "metadata": {},
   "outputs": [],
   "source": []
  },
  {
   "cell_type": "code",
   "execution_count": null,
   "id": "9ba7833e",
   "metadata": {},
   "outputs": [],
   "source": []
  },
  {
   "cell_type": "code",
   "execution_count": null,
   "id": "c63b59aa",
   "metadata": {},
   "outputs": [],
   "source": []
  },
  {
   "cell_type": "code",
   "execution_count": null,
   "id": "88636c51",
   "metadata": {},
   "outputs": [],
   "source": []
  },
  {
   "cell_type": "code",
   "execution_count": null,
   "id": "b53885a9",
   "metadata": {},
   "outputs": [],
   "source": []
  }
 ],
 "metadata": {
  "kernelspec": {
   "display_name": "Python 3 (ipykernel)",
   "language": "python",
   "name": "python3"
  },
  "language_info": {
   "codemirror_mode": {
    "name": "ipython",
    "version": 3
   },
   "file_extension": ".py",
   "mimetype": "text/x-python",
   "name": "python",
   "nbconvert_exporter": "python",
   "pygments_lexer": "ipython3",
   "version": "3.9.13"
  }
 },
 "nbformat": 4,
 "nbformat_minor": 5
}
