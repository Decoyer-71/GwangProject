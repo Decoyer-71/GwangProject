{
 "cells": [
  {
   "cell_type": "code",
   "execution_count": 13,
   "id": "f5df1260",
   "metadata": {},
   "outputs": [
    {
     "name": "stdout",
     "output_type": "stream",
     "text": [
      "Int64Index([689611, 690231, 1892075, 1892076, 1892077, 1899073, 1907782], dtype='int64', name='pkCd')\n",
      "=============================\n"
     ]
    },
    {
     "name": "stderr",
     "output_type": "stream",
     "text": [
      "C:\\Users\\acorn\\AppData\\Local\\Temp\\ipykernel_50852\\1563868727.py:5: DtypeWarning: Columns (13) have mixed types. Specify dtype option on import or set low_memory=False.\n",
      "  df=pd.read_csv(f'{date}.csv')\n"
     ]
    },
    {
     "name": "stdout",
     "output_type": "stream",
     "text": [
      "Int64Index([689611, 690231, 690243, 1892075, 1892076, 1899073, 1907065,\n",
      "            1907782],\n",
      "           dtype='int64', name='pkCd')\n",
      "=============================\n"
     ]
    }
   ],
   "source": [
    "import pandas as pd\n",
    "\n",
    "dates=['20220406','20221101']\n",
    "for date in dates:\n",
    "    df=pd.read_csv(f'{date}.csv')\n",
    "    df2=pd.read_csv('광진구 주차장pk.csv')\n",
    "\n",
    "    join= pd.merge(df, df2, left_on='pkCd', right_on='고유번호', how='inner')\n",
    "    join['inoutGb']=join['inoutGb'].astype(int)\n",
    "\n",
    "    pk=join.groupby('pkCd').count().index\n",
    "    print(pk)\n",
    "#     for i in pk:\n",
    "#         print(date)\n",
    "#         print('주차장pk:', i)\n",
    "#         print(join[join['pkCd']==i].groupby('inoutGb').size())\n",
    "    print('=============================')"
   ]
  },
  {
   "cell_type": "code",
   "execution_count": 8,
   "id": "6c80b8bb",
   "metadata": {},
   "outputs": [
    {
     "name": "stdout",
     "output_type": "stream",
     "text": [
      "주차장pk: 689611\n",
      "inoutGb\n",
      "1    349\n",
      "2    332\n",
      "dtype: int64\n",
      "주차장pk: 690231\n",
      "inoutGb\n",
      "1    350\n",
      "2    265\n",
      "dtype: int64\n",
      "주차장pk: 1892075\n",
      "inoutGb\n",
      "1    678\n",
      "2    666\n",
      "dtype: int64\n",
      "주차장pk: 1892076\n",
      "inoutGb\n",
      "1    380\n",
      "2    349\n",
      "dtype: int64\n",
      "주차장pk: 1892077\n",
      "inoutGb\n",
      "1    702\n",
      "2    630\n",
      "dtype: int64\n",
      "주차장pk: 1899073\n",
      "inoutGb\n",
      "1    171\n",
      "2    134\n",
      "dtype: int64\n",
      "주차장pk: 1907782\n",
      "inoutGb\n",
      "1    99\n",
      "2    95\n",
      "dtype: int64\n",
      "=============================\n"
     ]
    }
   ],
   "source": [
    "import pandas as pd\n",
    "\n",
    "df=pd.read_csv(f'20220406.csv')\n",
    "df2=pd.read_csv('광진구 주차장pk.csv')\n",
    "\n",
    "join= pd.merge(df, df2, left_on='pkCd', right_on='고유번호', how='inner')\n",
    "join['inoutGb']=join['inoutGb'].astype(int)\n",
    "\n",
    "pk=join.groupby('pkCd').count().index\n",
    "\n",
    "for i in pk:\n",
    "#     print(date)\n",
    "    print('주차장pk:', i)\n",
    "    print(join[join['pkCd']==i].groupby('inoutGb').size())\n",
    "print('=============================')"
   ]
  },
  {
   "cell_type": "code",
   "execution_count": 7,
   "id": "34a10c63",
   "metadata": {},
   "outputs": [
    {
     "name": "stdout",
     "output_type": "stream",
     "text": [
      "674001\n",
      "37263\n",
      "8\n"
     ]
    }
   ],
   "source": [
    "print(len(df))\n",
    "print(len(df2))\n",
    "print(len(pk))"
   ]
  },
  {
   "cell_type": "code",
   "execution_count": 19,
   "id": "39b12eb2",
   "metadata": {},
   "outputs": [
    {
     "name": "stderr",
     "output_type": "stream",
     "text": [
      "C:\\Users\\acorn\\AppData\\Local\\Temp\\ipykernel_12752\\3112929480.py:1: DtypeWarning: Columns (13) have mixed types. Specify dtype option on import or set low_memory=False.\n",
      "  df=pd.read_csv('C:\\\\Users\\\\acorn\\\\Desktop\\\\오원석\\\\중간프로젝트\\\\광진구\\\\주차장\\\\20221101.csv')\n"
     ]
    }
   ],
   "source": [
    "df=pd.read_csv('C:\\\\Users\\\\acorn\\\\Desktop\\\\오원석\\\\중간프로젝트\\\\광진구\\\\주차장\\\\20221101.csv')"
   ]
  },
  {
   "cell_type": "code",
   "execution_count": 20,
   "id": "c89383f1",
   "metadata": {
    "scrolled": true
   },
   "outputs": [
    {
     "data": {
      "text/html": [
       "<div>\n",
       "<style scoped>\n",
       "    .dataframe tbody tr th:only-of-type {\n",
       "        vertical-align: middle;\n",
       "    }\n",
       "\n",
       "    .dataframe tbody tr th {\n",
       "        vertical-align: top;\n",
       "    }\n",
       "\n",
       "    .dataframe thead th {\n",
       "        text-align: right;\n",
       "    }\n",
       "</style>\n",
       "<table border=\"1\" class=\"dataframe\">\n",
       "  <thead>\n",
       "    <tr style=\"text-align: right;\">\n",
       "      <th></th>\n",
       "      <th>pkCd</th>\n",
       "      <th>payGb</th>\n",
       "      <th>discntHdcp</th>\n",
       "      <th>discntLpvhr</th>\n",
       "      <th>discntTrp</th>\n",
       "      <th>discntDub</th>\n",
       "      <th>discntWk</th>\n",
       "      <th>discntTen</th>\n",
       "      <th>discntMrt</th>\n",
       "      <th>tkGb</th>\n",
       "      <th>memo</th>\n",
       "      <th>pymntAmt</th>\n",
       "      <th>vhrNo</th>\n",
       "      <th>inoutGb</th>\n",
       "      <th>inDy</th>\n",
       "      <th>inTm</th>\n",
       "      <th>outDy</th>\n",
       "      <th>outTm</th>\n",
       "      <th>discntEtcNm</th>\n",
       "      <th>discntEtcRt</th>\n",
       "    </tr>\n",
       "  </thead>\n",
       "  <tbody>\n",
       "    <tr>\n",
       "      <th>0</th>\n",
       "      <td>1426397</td>\n",
       "      <td>NaN</td>\n",
       "      <td>NaN</td>\n",
       "      <td>NaN</td>\n",
       "      <td>NaN</td>\n",
       "      <td>NaN</td>\n",
       "      <td>NaN</td>\n",
       "      <td>NaN</td>\n",
       "      <td>NaN</td>\n",
       "      <td>NaN</td>\n",
       "      <td>NaN</td>\n",
       "      <td>NaN</td>\n",
       "      <td>43331291202210254b7d6879</td>\n",
       "      <td>1</td>\n",
       "      <td>20221025</td>\n",
       "      <td>85821</td>\n",
       "      <td>NaN</td>\n",
       "      <td>NaN</td>\n",
       "      <td>NaN</td>\n",
       "      <td>NaN</td>\n",
       "    </tr>\n",
       "    <tr>\n",
       "      <th>1</th>\n",
       "      <td>1473187</td>\n",
       "      <td>NaN</td>\n",
       "      <td>NaN</td>\n",
       "      <td>NaN</td>\n",
       "      <td>NaN</td>\n",
       "      <td>NaN</td>\n",
       "      <td>NaN</td>\n",
       "      <td>NaN</td>\n",
       "      <td>NaN</td>\n",
       "      <td>NaN</td>\n",
       "      <td>NaN</td>\n",
       "      <td>0.0</td>\n",
       "      <td>2160550797</td>\n",
       "      <td>1</td>\n",
       "      <td>20221025</td>\n",
       "      <td>90000</td>\n",
       "      <td>NaN</td>\n",
       "      <td>NaN</td>\n",
       "      <td>NaN</td>\n",
       "      <td>NaN</td>\n",
       "    </tr>\n",
       "    <tr>\n",
       "      <th>2</th>\n",
       "      <td>1568617</td>\n",
       "      <td>NaN</td>\n",
       "      <td>NaN</td>\n",
       "      <td>NaN</td>\n",
       "      <td>NaN</td>\n",
       "      <td>NaN</td>\n",
       "      <td>NaN</td>\n",
       "      <td>NaN</td>\n",
       "      <td>NaN</td>\n",
       "      <td>NaN</td>\n",
       "      <td>NaN</td>\n",
       "      <td>0.0</td>\n",
       "      <td>2924360229</td>\n",
       "      <td>1</td>\n",
       "      <td>20221025</td>\n",
       "      <td>90000</td>\n",
       "      <td>NaN</td>\n",
       "      <td>NaN</td>\n",
       "      <td>NaN</td>\n",
       "      <td>NaN</td>\n",
       "    </tr>\n",
       "    <tr>\n",
       "      <th>3</th>\n",
       "      <td>1426397</td>\n",
       "      <td>NaN</td>\n",
       "      <td>NaN</td>\n",
       "      <td>NaN</td>\n",
       "      <td>NaN</td>\n",
       "      <td>NaN</td>\n",
       "      <td>NaN</td>\n",
       "      <td>NaN</td>\n",
       "      <td>NaN</td>\n",
       "      <td>NaN</td>\n",
       "      <td>NaN</td>\n",
       "      <td>NaN</td>\n",
       "      <td>4333129120221025ac4b9e28</td>\n",
       "      <td>2</td>\n",
       "      <td>20221025</td>\n",
       "      <td>85735</td>\n",
       "      <td>20221025.0</td>\n",
       "      <td>85908.0</td>\n",
       "      <td>NaN</td>\n",
       "      <td>NaN</td>\n",
       "    </tr>\n",
       "    <tr>\n",
       "      <th>4</th>\n",
       "      <td>885057</td>\n",
       "      <td>NaN</td>\n",
       "      <td>NaN</td>\n",
       "      <td>NaN</td>\n",
       "      <td>NaN</td>\n",
       "      <td>NaN</td>\n",
       "      <td>NaN</td>\n",
       "      <td>NaN</td>\n",
       "      <td>NaN</td>\n",
       "      <td>NaN</td>\n",
       "      <td>NaN</td>\n",
       "      <td>0.0</td>\n",
       "      <td>968225516</td>\n",
       "      <td>1</td>\n",
       "      <td>20221025</td>\n",
       "      <td>85914</td>\n",
       "      <td>NaN</td>\n",
       "      <td>NaN</td>\n",
       "      <td>NaN</td>\n",
       "      <td>NaN</td>\n",
       "    </tr>\n",
       "    <tr>\n",
       "      <th>...</th>\n",
       "      <td>...</td>\n",
       "      <td>...</td>\n",
       "      <td>...</td>\n",
       "      <td>...</td>\n",
       "      <td>...</td>\n",
       "      <td>...</td>\n",
       "      <td>...</td>\n",
       "      <td>...</td>\n",
       "      <td>...</td>\n",
       "      <td>...</td>\n",
       "      <td>...</td>\n",
       "      <td>...</td>\n",
       "      <td>...</td>\n",
       "      <td>...</td>\n",
       "      <td>...</td>\n",
       "      <td>...</td>\n",
       "      <td>...</td>\n",
       "      <td>...</td>\n",
       "      <td>...</td>\n",
       "      <td>...</td>\n",
       "    </tr>\n",
       "    <tr>\n",
       "      <th>673996</th>\n",
       "      <td>791599</td>\n",
       "      <td>NaN</td>\n",
       "      <td>NaN</td>\n",
       "      <td>NaN</td>\n",
       "      <td>NaN</td>\n",
       "      <td>NaN</td>\n",
       "      <td>NaN</td>\n",
       "      <td>NaN</td>\n",
       "      <td>NaN</td>\n",
       "      <td>NaN</td>\n",
       "      <td>NaN</td>\n",
       "      <td>NaN</td>\n",
       "      <td>4160733420221025c4493ae6</td>\n",
       "      <td>2</td>\n",
       "      <td>20221025</td>\n",
       "      <td>93144</td>\n",
       "      <td>20221025.0</td>\n",
       "      <td>94406.0</td>\n",
       "      <td>NaN</td>\n",
       "      <td>NaN</td>\n",
       "    </tr>\n",
       "    <tr>\n",
       "      <th>673997</th>\n",
       "      <td>1431739</td>\n",
       "      <td>NaN</td>\n",
       "      <td>NaN</td>\n",
       "      <td>NaN</td>\n",
       "      <td>NaN</td>\n",
       "      <td>NaN</td>\n",
       "      <td>NaN</td>\n",
       "      <td>NaN</td>\n",
       "      <td>NaN</td>\n",
       "      <td>NaN</td>\n",
       "      <td>NaN</td>\n",
       "      <td>NaN</td>\n",
       "      <td>63구7750</td>\n",
       "      <td>입차</td>\n",
       "      <td>20221025</td>\n",
       "      <td>94400</td>\n",
       "      <td>NaN</td>\n",
       "      <td>NaN</td>\n",
       "      <td>NaN</td>\n",
       "      <td>NaN</td>\n",
       "    </tr>\n",
       "    <tr>\n",
       "      <th>673998</th>\n",
       "      <td>1431739</td>\n",
       "      <td>NaN</td>\n",
       "      <td>N</td>\n",
       "      <td>N</td>\n",
       "      <td>N</td>\n",
       "      <td>N</td>\n",
       "      <td>N</td>\n",
       "      <td>N</td>\n",
       "      <td>N</td>\n",
       "      <td>NaN</td>\n",
       "      <td>NaN</td>\n",
       "      <td>NaN</td>\n",
       "      <td>31거8739</td>\n",
       "      <td>출차</td>\n",
       "      <td>20221025</td>\n",
       "      <td>93500</td>\n",
       "      <td>20221025.0</td>\n",
       "      <td>94423.0</td>\n",
       "      <td>NaN</td>\n",
       "      <td>NaN</td>\n",
       "    </tr>\n",
       "    <tr>\n",
       "      <th>673999</th>\n",
       "      <td>1431739</td>\n",
       "      <td>NaN</td>\n",
       "      <td>N</td>\n",
       "      <td>N</td>\n",
       "      <td>N</td>\n",
       "      <td>N</td>\n",
       "      <td>N</td>\n",
       "      <td>N</td>\n",
       "      <td>N</td>\n",
       "      <td>NaN</td>\n",
       "      <td>NaN</td>\n",
       "      <td>NaN</td>\n",
       "      <td>250부1069</td>\n",
       "      <td>출차</td>\n",
       "      <td>20221025</td>\n",
       "      <td>74400</td>\n",
       "      <td>20221025.0</td>\n",
       "      <td>94424.0</td>\n",
       "      <td>NaN</td>\n",
       "      <td>NaN</td>\n",
       "    </tr>\n",
       "    <tr>\n",
       "      <th>674000</th>\n",
       "      <td>1431739</td>\n",
       "      <td>NaN</td>\n",
       "      <td>NaN</td>\n",
       "      <td>NaN</td>\n",
       "      <td>NaN</td>\n",
       "      <td>NaN</td>\n",
       "      <td>NaN</td>\n",
       "      <td>NaN</td>\n",
       "      <td>NaN</td>\n",
       "      <td>NaN</td>\n",
       "      <td>NaN</td>\n",
       "      <td>NaN</td>\n",
       "      <td>47가3887</td>\n",
       "      <td>입차</td>\n",
       "      <td>20221025</td>\n",
       "      <td>94400</td>\n",
       "      <td>NaN</td>\n",
       "      <td>NaN</td>\n",
       "      <td>NaN</td>\n",
       "      <td>NaN</td>\n",
       "    </tr>\n",
       "  </tbody>\n",
       "</table>\n",
       "<p>674001 rows × 20 columns</p>\n",
       "</div>"
      ],
      "text/plain": [
       "           pkCd  payGb discntHdcp discntLpvhr discntTrp discntDub discntWk  \\\n",
       "0       1426397    NaN        NaN         NaN       NaN       NaN      NaN   \n",
       "1       1473187    NaN        NaN         NaN       NaN       NaN      NaN   \n",
       "2       1568617    NaN        NaN         NaN       NaN       NaN      NaN   \n",
       "3       1426397    NaN        NaN         NaN       NaN       NaN      NaN   \n",
       "4        885057    NaN        NaN         NaN       NaN       NaN      NaN   \n",
       "...         ...    ...        ...         ...       ...       ...      ...   \n",
       "673996   791599    NaN        NaN         NaN       NaN       NaN      NaN   \n",
       "673997  1431739    NaN        NaN         NaN       NaN       NaN      NaN   \n",
       "673998  1431739    NaN          N           N         N         N        N   \n",
       "673999  1431739    NaN          N           N         N         N        N   \n",
       "674000  1431739    NaN        NaN         NaN       NaN       NaN      NaN   \n",
       "\n",
       "       discntTen discntMrt  tkGb memo  pymntAmt                     vhrNo  \\\n",
       "0            NaN       NaN   NaN  NaN       NaN  43331291202210254b7d6879   \n",
       "1            NaN       NaN   NaN  NaN       0.0                2160550797   \n",
       "2            NaN       NaN   NaN  NaN       0.0                2924360229   \n",
       "3            NaN       NaN   NaN  NaN       NaN  4333129120221025ac4b9e28   \n",
       "4            NaN       NaN   NaN  NaN       0.0                 968225516   \n",
       "...          ...       ...   ...  ...       ...                       ...   \n",
       "673996       NaN       NaN   NaN  NaN       NaN  4160733420221025c4493ae6   \n",
       "673997       NaN       NaN   NaN  NaN       NaN                   63구7750   \n",
       "673998         N         N   NaN  NaN       NaN                   31거8739   \n",
       "673999         N         N   NaN  NaN       NaN                  250부1069   \n",
       "674000       NaN       NaN   NaN  NaN       NaN                   47가3887   \n",
       "\n",
       "       inoutGb      inDy   inTm       outDy    outTm  discntEtcNm  discntEtcRt  \n",
       "0            1  20221025  85821         NaN      NaN          NaN          NaN  \n",
       "1            1  20221025  90000         NaN      NaN          NaN          NaN  \n",
       "2            1  20221025  90000         NaN      NaN          NaN          NaN  \n",
       "3            2  20221025  85735  20221025.0  85908.0          NaN          NaN  \n",
       "4            1  20221025  85914         NaN      NaN          NaN          NaN  \n",
       "...        ...       ...    ...         ...      ...          ...          ...  \n",
       "673996       2  20221025  93144  20221025.0  94406.0          NaN          NaN  \n",
       "673997      입차  20221025  94400         NaN      NaN          NaN          NaN  \n",
       "673998      출차  20221025  93500  20221025.0  94423.0          NaN          NaN  \n",
       "673999      출차  20221025  74400  20221025.0  94424.0          NaN          NaN  \n",
       "674000      입차  20221025  94400         NaN      NaN          NaN          NaN  \n",
       "\n",
       "[674001 rows x 20 columns]"
      ]
     },
     "execution_count": 20,
     "metadata": {},
     "output_type": "execute_result"
    }
   ],
   "source": [
    "df"
   ]
  },
  {
   "cell_type": "code",
   "execution_count": 21,
   "id": "1a4ef661",
   "metadata": {},
   "outputs": [
    {
     "data": {
      "text/plain": [
       "273"
      ]
     },
     "execution_count": 21,
     "metadata": {},
     "output_type": "execute_result"
    }
   ],
   "source": [
    "len(df['pkCd'].unique())"
   ]
  },
  {
   "cell_type": "code",
   "execution_count": 22,
   "id": "0182b798",
   "metadata": {},
   "outputs": [],
   "source": [
    "df2=pd.read_csv('C:\\\\Users\\\\acorn\\\\Desktop\\\\오원석\\\\중간프로젝트\\\\광진구\\\\주차장\\\\광진구 주차장pk.csv')"
   ]
  },
  {
   "cell_type": "code",
   "execution_count": 36,
   "id": "876ae342",
   "metadata": {},
   "outputs": [
    {
     "ename": "AttributeError",
     "evalue": "'DataFrame' object has no attribute 'unique'",
     "output_type": "error",
     "traceback": [
      "\u001b[1;31m---------------------------------------------------------------------------\u001b[0m",
      "\u001b[1;31mAttributeError\u001b[0m                            Traceback (most recent call last)",
      "\u001b[1;32m~\\AppData\\Local\\Temp\\ipykernel_12752\\817241515.py\u001b[0m in \u001b[0;36m<module>\u001b[1;34m\u001b[0m\n\u001b[1;32m----> 1\u001b[1;33m \u001b[0mdf2\u001b[0m\u001b[1;33m.\u001b[0m\u001b[0munique\u001b[0m\u001b[1;33m(\u001b[0m\u001b[1;33m)\u001b[0m\u001b[1;33m\u001b[0m\u001b[1;33m\u001b[0m\u001b[0m\n\u001b[0m",
      "\u001b[1;32m~\\anaconda3\\lib\\site-packages\\pandas\\core\\generic.py\u001b[0m in \u001b[0;36m__getattr__\u001b[1;34m(self, name)\u001b[0m\n\u001b[0;32m   5573\u001b[0m         ):\n\u001b[0;32m   5574\u001b[0m             \u001b[1;32mreturn\u001b[0m \u001b[0mself\u001b[0m\u001b[1;33m[\u001b[0m\u001b[0mname\u001b[0m\u001b[1;33m]\u001b[0m\u001b[1;33m\u001b[0m\u001b[1;33m\u001b[0m\u001b[0m\n\u001b[1;32m-> 5575\u001b[1;33m         \u001b[1;32mreturn\u001b[0m \u001b[0mobject\u001b[0m\u001b[1;33m.\u001b[0m\u001b[0m__getattribute__\u001b[0m\u001b[1;33m(\u001b[0m\u001b[0mself\u001b[0m\u001b[1;33m,\u001b[0m \u001b[0mname\u001b[0m\u001b[1;33m)\u001b[0m\u001b[1;33m\u001b[0m\u001b[1;33m\u001b[0m\u001b[0m\n\u001b[0m\u001b[0;32m   5576\u001b[0m \u001b[1;33m\u001b[0m\u001b[0m\n\u001b[0;32m   5577\u001b[0m     \u001b[1;32mdef\u001b[0m \u001b[0m__setattr__\u001b[0m\u001b[1;33m(\u001b[0m\u001b[0mself\u001b[0m\u001b[1;33m,\u001b[0m \u001b[0mname\u001b[0m\u001b[1;33m:\u001b[0m \u001b[0mstr\u001b[0m\u001b[1;33m,\u001b[0m \u001b[0mvalue\u001b[0m\u001b[1;33m)\u001b[0m \u001b[1;33m->\u001b[0m \u001b[1;32mNone\u001b[0m\u001b[1;33m:\u001b[0m\u001b[1;33m\u001b[0m\u001b[1;33m\u001b[0m\u001b[0m\n",
      "\u001b[1;31mAttributeError\u001b[0m: 'DataFrame' object has no attribute 'unique'"
     ]
    }
   ],
   "source": [
    "df2.unique()"
   ]
  },
  {
   "cell_type": "code",
   "execution_count": 24,
   "id": "490efe9a",
   "metadata": {},
   "outputs": [
    {
     "data": {
      "text/plain": [
       "Index(['pkCd', 'payGb', 'discntHdcp', 'discntLpvhr', 'discntTrp', 'discntDub',\n",
       "       'discntWk', 'discntTen', 'discntMrt', 'tkGb', 'memo', 'pymntAmt',\n",
       "       'vhrNo', 'inoutGb', 'inDy', 'inTm', 'outDy', 'outTm', 'discntEtcNm',\n",
       "       'discntEtcRt', '고유번호', '구코드', '법정동코드', '동명', '위도', '경도',\n",
       "       '노상_노외_부설_주차장구분'],\n",
       "      dtype='object')"
      ]
     },
     "execution_count": 24,
     "metadata": {},
     "output_type": "execute_result"
    }
   ],
   "source": [
    "df_INNER_JOIN = pd.merge(df, df2, left_on='pkCd', right_on='고유번호', how='inner')\n",
    "df_INNER_JOIN.columns"
   ]
  },
  {
   "cell_type": "code",
   "execution_count": 25,
   "id": "41bca167",
   "metadata": {},
   "outputs": [
    {
     "data": {
      "text/plain": [
       "inoutGb\n",
       "1    7287\n",
       "2    6418\n",
       "2     261\n",
       "1     244\n",
       "dtype: int64"
      ]
     },
     "execution_count": 25,
     "metadata": {},
     "output_type": "execute_result"
    }
   ],
   "source": [
    "df_INNER_JOIN.value_counts('inoutGb')"
   ]
  },
  {
   "cell_type": "code",
   "execution_count": 26,
   "id": "ee81287f",
   "metadata": {},
   "outputs": [],
   "source": [
    "df_INNER_JOIN['inoutGb']=df_INNER_JOIN['inoutGb'].astype(int)"
   ]
  },
  {
   "cell_type": "code",
   "execution_count": 27,
   "id": "cf899ea7",
   "metadata": {},
   "outputs": [
    {
     "name": "stdout",
     "output_type": "stream",
     "text": [
      "<class 'pandas.core.frame.DataFrame'>\n",
      "Int64Index: 14210 entries, 0 to 14209\n",
      "Data columns (total 27 columns):\n",
      " #   Column          Non-Null Count  Dtype  \n",
      "---  ------          --------------  -----  \n",
      " 0   pkCd            14210 non-null  int64  \n",
      " 1   payGb           796 non-null    float64\n",
      " 2   discntHdcp      796 non-null    object \n",
      " 3   discntLpvhr     796 non-null    object \n",
      " 4   discntTrp       796 non-null    object \n",
      " 5   discntDub       796 non-null    object \n",
      " 6   discntWk        0 non-null      object \n",
      " 7   discntTen       0 non-null      object \n",
      " 8   discntMrt       796 non-null    object \n",
      " 9   tkGb            20 non-null     float64\n",
      " 10  memo            0 non-null      object \n",
      " 11  pymntAmt        7484 non-null   float64\n",
      " 12  vhrNo           14210 non-null  object \n",
      " 13  inoutGb         14210 non-null  int32  \n",
      " 14  inDy            14210 non-null  int64  \n",
      " 15  inTm            14210 non-null  int64  \n",
      " 16  outDy           6679 non-null   float64\n",
      " 17  outTm           6679 non-null   float64\n",
      " 18  discntEtcNm     0 non-null      float64\n",
      " 19  discntEtcRt     0 non-null      float64\n",
      " 20  고유번호            14210 non-null  int64  \n",
      " 21  구코드             14210 non-null  int64  \n",
      " 22  법정동코드           14210 non-null  int64  \n",
      " 23  동명              14210 non-null  object \n",
      " 24  위도              14210 non-null  object \n",
      " 25  경도              14210 non-null  object \n",
      " 26  노상_노외_부설_주차장구분  14210 non-null  int64  \n",
      "dtypes: float64(7), int32(1), int64(7), object(12)\n",
      "memory usage: 3.0+ MB\n"
     ]
    }
   ],
   "source": [
    "df_INNER_JOIN.info()"
   ]
  },
  {
   "cell_type": "code",
   "execution_count": 28,
   "id": "2347b142",
   "metadata": {},
   "outputs": [
    {
     "data": {
      "text/plain": [
       "inoutGb\n",
       "1    7531\n",
       "2    6679\n",
       "dtype: int64"
      ]
     },
     "execution_count": 28,
     "metadata": {},
     "output_type": "execute_result"
    }
   ],
   "source": [
    "df_INNER_JOIN.value_counts('inoutGb')"
   ]
  },
  {
   "cell_type": "code",
   "execution_count": 29,
   "id": "e6e4e382",
   "metadata": {},
   "outputs": [
    {
     "data": {
      "text/plain": [
       "Int64Index([689611, 690231, 690243, 1892075, 1892076, 1899073, 1907065,\n",
       "            1907782],\n",
       "           dtype='int64', name='pkCd')"
      ]
     },
     "execution_count": 29,
     "metadata": {},
     "output_type": "execute_result"
    }
   ],
   "source": [
    "pk=df_INNER_JOIN.groupby('pkCd').count().index\n",
    "pk"
   ]
  },
  {
   "cell_type": "code",
   "execution_count": 30,
   "id": "ce9a7150",
   "metadata": {},
   "outputs": [
    {
     "data": {
      "text/plain": [
       "pkCd\n",
       "689611      2032\n",
       "690231      1988\n",
       "690243     12549\n",
       "1892075     1295\n",
       "1892076     1175\n",
       "1899073      945\n",
       "1907065      339\n",
       "1907782      566\n",
       "Name: inoutGb, dtype: int32"
      ]
     },
     "execution_count": 30,
     "metadata": {},
     "output_type": "execute_result"
    }
   ],
   "source": [
    "df_INNER_JOIN.groupby('pkCd')['inoutGb'].sum()"
   ]
  },
  {
   "cell_type": "code",
   "execution_count": 31,
   "id": "42c821e7",
   "metadata": {},
   "outputs": [
    {
     "ename": "SyntaxError",
     "evalue": "invalid syntax (2415726164.py, line 1)",
     "output_type": "error",
     "traceback": [
      "\u001b[1;36m  File \u001b[1;32m\"C:\\Users\\acorn\\AppData\\Local\\Temp\\ipykernel_12752\\2415726164.py\"\u001b[1;36m, line \u001b[1;32m1\u001b[0m\n\u001b[1;33m    df_INNER_JOIN[df_INNER_JOIN['pkCd']==689611].groupby('inoutGb').\u001b[0m\n\u001b[1;37m                                                                    ^\u001b[0m\n\u001b[1;31mSyntaxError\u001b[0m\u001b[1;31m:\u001b[0m invalid syntax\n"
     ]
    }
   ],
   "source": [
    "df_INNER_JOIN[df_INNER_JOIN['pkCd']==689611].groupby('inoutGb')."
   ]
  },
  {
   "cell_type": "code",
   "execution_count": 35,
   "id": "68c6f006",
   "metadata": {
    "scrolled": true
   },
   "outputs": [
    {
     "name": "stdout",
     "output_type": "stream",
     "text": [
      "inoutGb\n",
      "1    710\n",
      "2    661\n",
      "dtype: int64\n",
      "inoutGb\n",
      "1    764\n",
      "2    612\n",
      "dtype: int64\n",
      "inoutGb\n",
      "1    4503\n",
      "2    4023\n",
      "dtype: int64\n",
      "inoutGb\n",
      "1    435\n",
      "2    430\n",
      "dtype: int64\n",
      "inoutGb\n",
      "1    443\n",
      "2    366\n",
      "dtype: int64\n",
      "inoutGb\n",
      "1    357\n",
      "2    294\n",
      "dtype: int64\n",
      "inoutGb\n",
      "1    127\n",
      "2    106\n",
      "dtype: int64\n",
      "inoutGb\n",
      "1    192\n",
      "2    187\n",
      "dtype: int64\n"
     ]
    }
   ],
   "source": [
    "for i in pk:\n",
    "    print(df_INNER_JOIN[df_INNER_JOIN['pkCd']==i].groupby('inoutGb').size())"
   ]
  },
  {
   "cell_type": "code",
   "execution_count": null,
   "id": "e4ba606a",
   "metadata": {},
   "outputs": [],
   "source": []
  }
 ],
 "metadata": {
  "kernelspec": {
   "display_name": "Python 3 (ipykernel)",
   "language": "python",
   "name": "python3"
  },
  "language_info": {
   "codemirror_mode": {
    "name": "ipython",
    "version": 3
   },
   "file_extension": ".py",
   "mimetype": "text/x-python",
   "name": "python",
   "nbconvert_exporter": "python",
   "pygments_lexer": "ipython3",
   "version": "3.9.13"
  }
 },
 "nbformat": 4,
 "nbformat_minor": 5
}
