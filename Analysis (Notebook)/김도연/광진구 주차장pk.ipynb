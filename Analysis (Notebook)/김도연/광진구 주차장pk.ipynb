{
 "cells": [
  {
   "cell_type": "code",
   "execution_count": 1,
   "id": "926f343d",
   "metadata": {},
   "outputs": [],
   "source": [
    "import re\n",
    "import csv\n",
    "import pandas as pd"
   ]
  },
  {
   "cell_type": "code",
   "execution_count": 2,
   "id": "64dd9f37",
   "metadata": {},
   "outputs": [],
   "source": [
    "data = \"\"\"\n",
    "<a href=\"abc1.html\">abc1</a>\n",
    "<a href=\"abc2.html\">abc2</a>\n",
    "<a href=\"abc3.html\">abc3</a>\n",
    "<a href=\"xyz.html\">xyz</a>\n",
    "<a href=\"pic.jpg\">pic</a>\n",
    "\"\"\""
   ]
  },
  {
   "cell_type": "code",
   "execution_count": 3,
   "id": "077c63c6",
   "metadata": {},
   "outputs": [
    {
     "data": {
      "text/plain": [
       "['abc1.html', 'abc2.html', 'abc3.html', 'xyz.html', 'pic.jpg']"
      ]
     },
     "execution_count": 3,
     "metadata": {},
     "output_type": "execute_result"
    }
   ],
   "source": [
    "re.findall('href=\"(.+)\"', data) # href=\" 와 \" 사이에 있는 문자 추출"
   ]
  },
  {
   "cell_type": "code",
   "execution_count": 4,
   "id": "41614baa",
   "metadata": {},
   "outputs": [
    {
     "name": "stderr",
     "output_type": "stream",
     "text": [
      "C:\\Users\\acorn\\AppData\\Local\\Temp\\ipykernel_28348\\2382175523.py:1: DtypeWarning: Columns (6,7,8,9,11,12,17,18,19,20,21,22,23,24,25,35,37,40,41,42,43,44,45,62,64,65) have mixed types. Specify dtype option on import or set low_memory=False.\n",
      "  master= pd.read_csv('../../Data/차,주차장/주차장 마스터테이블.csv')\n"
     ]
    }
   ],
   "source": [
    "master= pd.read_csv('../../Data/차,주차장/주차장 마스터테이블.csv')"
   ]
  },
  {
   "cell_type": "code",
   "execution_count": 5,
   "id": "81dbcbf8",
   "metadata": {},
   "outputs": [
    {
     "data": {
      "text/html": [
       "<div>\n",
       "<style scoped>\n",
       "    .dataframe tbody tr th:only-of-type {\n",
       "        vertical-align: middle;\n",
       "    }\n",
       "\n",
       "    .dataframe tbody tr th {\n",
       "        vertical-align: top;\n",
       "    }\n",
       "\n",
       "    .dataframe thead th {\n",
       "        text-align: right;\n",
       "    }\n",
       "</style>\n",
       "<table border=\"1\" class=\"dataframe\">\n",
       "  <thead>\n",
       "    <tr style=\"text-align: right;\">\n",
       "      <th></th>\n",
       "      <th>고유번호</th>\n",
       "      <th>구코드</th>\n",
       "    </tr>\n",
       "  </thead>\n",
       "  <tbody>\n",
       "    <tr>\n",
       "      <th>0</th>\n",
       "      <td>1655132</td>\n",
       "      <td>11440</td>\n",
       "    </tr>\n",
       "    <tr>\n",
       "      <th>1</th>\n",
       "      <td>1655139</td>\n",
       "      <td>11440</td>\n",
       "    </tr>\n",
       "    <tr>\n",
       "      <th>2</th>\n",
       "      <td>1655143</td>\n",
       "      <td>11440</td>\n",
       "    </tr>\n",
       "    <tr>\n",
       "      <th>3</th>\n",
       "      <td>1665752</td>\n",
       "      <td>11200</td>\n",
       "    </tr>\n",
       "    <tr>\n",
       "      <th>4</th>\n",
       "      <td>1665753</td>\n",
       "      <td>11200</td>\n",
       "    </tr>\n",
       "    <tr>\n",
       "      <th>...</th>\n",
       "      <td>...</td>\n",
       "      <td>...</td>\n",
       "    </tr>\n",
       "    <tr>\n",
       "      <th>591901</th>\n",
       "      <td>1054860</td>\n",
       "      <td>11500</td>\n",
       "    </tr>\n",
       "    <tr>\n",
       "      <th>591902</th>\n",
       "      <td>1055083</td>\n",
       "      <td>11500</td>\n",
       "    </tr>\n",
       "    <tr>\n",
       "      <th>591903</th>\n",
       "      <td>1136889</td>\n",
       "      <td>11290</td>\n",
       "    </tr>\n",
       "    <tr>\n",
       "      <th>591904</th>\n",
       "      <td>1055197</td>\n",
       "      <td>11500</td>\n",
       "    </tr>\n",
       "    <tr>\n",
       "      <th>591905</th>\n",
       "      <td>1441248</td>\n",
       "      <td>11305</td>\n",
       "    </tr>\n",
       "  </tbody>\n",
       "</table>\n",
       "<p>591906 rows × 2 columns</p>\n",
       "</div>"
      ],
      "text/plain": [
       "           고유번호    구코드\n",
       "0       1655132  11440\n",
       "1       1655139  11440\n",
       "2       1655143  11440\n",
       "3       1665752  11200\n",
       "4       1665753  11200\n",
       "...         ...    ...\n",
       "591901  1054860  11500\n",
       "591902  1055083  11500\n",
       "591903  1136889  11290\n",
       "591904  1055197  11500\n",
       "591905  1441248  11305\n",
       "\n",
       "[591906 rows x 2 columns]"
      ]
     },
     "execution_count": 5,
     "metadata": {},
     "output_type": "execute_result"
    }
   ],
   "source": [
    "master[['고유번호','구코드']]"
   ]
  },
  {
   "cell_type": "code",
   "execution_count": 6,
   "id": "49f99c22",
   "metadata": {},
   "outputs": [
    {
     "data": {
      "text/plain": [
       "Index(['고유번호', '노상/노외/부설/주차장구분', '설치일자 허가일자', '폐쇄일자', '가동여부', '건축물명 또는 주차장명',\n",
       "       '구코드', '블럭번호', '행정동코드', '법정동코드', '산', '번지', '호', '기타주소', '새주소1(~로)',\n",
       "       '새주소2(순번)', '새주소2(세부)', '소유주체', '급지', '유무료', '평일운영시작시간', '평일운영종료시간',\n",
       "       '토요일운영시작시간', '토요일운영종료시간', '공휴일운영시작시간', '공휴일운영종료시간', '일반차량 기본단위시간',\n",
       "       '일반차량 기본단위금액', '일반차량 추가단위시간', '일반차량 추가단위금액', '일반차량 전일요금',\n",
       "       '일반차량 전일 월정기요금', '주간 월정기요금', '야간 월정기요금', '주차요금 지불방식', '총주차대수', '주차상한제',\n",
       "       '자율요일제', '수정일자', '특기사항', '야간개방사업여부', '지원주차장설치여부', '주차장사진매수', '도면매수',\n",
       "       '일반인 개방여부', 'GIS링크', '과거 GIS링크', 'JM_ISCHK', '기타사항', '메모', '휴대폰번호',\n",
       "       'JM_SJ_CONT', 'JM_KJ_CONT', 'JM_N_STTIME', 'JM_N_EDTIME',\n",
       "       'JM_OPN_STTIME', 'JM_OPN_EDTIME', 'JM_OPH_STTIME', 'JM_OPH_EDTIME',\n",
       "       'JM_OPE_STTIME', 'JM_OPE_EDTIME', 'JM_IN_CHARGE', '대시민표출주차면수',\n",
       "       '공유주차장 코드', '위도', '경도', 'GEOM'],\n",
       "      dtype='object')"
      ]
     },
     "execution_count": 6,
     "metadata": {},
     "output_type": "execute_result"
    }
   ],
   "source": [
    "master.columns"
   ]
  },
  {
   "cell_type": "code",
   "execution_count": 8,
   "id": "95300016",
   "metadata": {},
   "outputs": [
    {
     "name": "stderr",
     "output_type": "stream",
     "text": [
      "C:\\Users\\acorn\\AppData\\Local\\Temp\\ipykernel_28348\\66357396.py:1: DtypeWarning: Columns (21,22,23,24,25,26,27,28,29,30,31,32,43,44,46,65,66) have mixed types. Specify dtype option on import or set low_memory=False.\n",
      "  master= pd.read_csv('../../Data/차,주차장/광진구 마스터(수정본).csv')\n"
     ]
    }
   ],
   "source": [
    "master= pd.read_csv('../../Data/차,주차장/광진구 마스터(수정본).csv')"
   ]
  },
  {
   "cell_type": "code",
   "execution_count": 12,
   "id": "b7025b37",
   "metadata": {},
   "outputs": [],
   "source": [
    "?pd.read_csv"
   ]
  },
  {
   "cell_type": "code",
   "execution_count": 9,
   "id": "26b75c2f",
   "metadata": {},
   "outputs": [
    {
     "data": {
      "text/plain": [
       "Index(['Unnamed: 0', '고유번호', '노상/노외/부설/주차장구분', '설치일자 허가일자', '폐쇄일자', '가동여부',\n",
       "       '건축물명 또는 주차장명', '구코드', '블럭번호', '행정동코드', '법정동코드', '산', '번지', '호', '기타주소',\n",
       "       '새주소1(~로)', '새주소2(순번)', '새주소2(세부)', '소유주체', '급지', '유무료', '평일운영시작시간',\n",
       "       '평일운영종료시간', '토요일운영시작시간', '토요일운영종료시간', '공휴일운영시작시간', '공휴일운영종료시간',\n",
       "       '일반차량 기본단위시간', '일반차량 기본단위금액', '일반차량 추가단위시간', '일반차량 추가단위금액', '일반차량 전일요금',\n",
       "       '일반차량 전일 월정기요금', '주간 월정기요금', '야간 월정기요금', '주차요금 지불방식', '총주차대수', '주차상한제',\n",
       "       '자율요일제', '수정일자', '특기사항', '야간개방사업여부', '지원주차장설치여부', '주차장사진매수', '도면매수',\n",
       "       '일반인 개방여부', 'GIS링크', '과거 GIS링크', 'JM_ISCHK', '기타사항', '메모', '휴대폰번호',\n",
       "       'JM_SJ_CONT', 'JM_KJ_CONT', 'JM_N_STTIME', 'JM_N_EDTIME',\n",
       "       'JM_OPN_STTIME', 'JM_OPN_EDTIME', 'JM_OPH_STTIME', 'JM_OPH_EDTIME',\n",
       "       'JM_OPE_STTIME', 'JM_OPE_EDTIME', 'JM_IN_CHARGE', '대시민표출주차면수',\n",
       "       '공유주차장 코드', '위도', '경도', 'GEOM', '동명'],\n",
       "      dtype='object')"
      ]
     },
     "execution_count": 9,
     "metadata": {},
     "output_type": "execute_result"
    }
   ],
   "source": [
    "master.columns"
   ]
  },
  {
   "cell_type": "code",
   "execution_count": 10,
   "id": "e54f1f6c",
   "metadata": {},
   "outputs": [
    {
     "data": {
      "text/html": [
       "<div>\n",
       "<style scoped>\n",
       "    .dataframe tbody tr th:only-of-type {\n",
       "        vertical-align: middle;\n",
       "    }\n",
       "\n",
       "    .dataframe tbody tr th {\n",
       "        vertical-align: top;\n",
       "    }\n",
       "\n",
       "    .dataframe thead th {\n",
       "        text-align: right;\n",
       "    }\n",
       "</style>\n",
       "<table border=\"1\" class=\"dataframe\">\n",
       "  <thead>\n",
       "    <tr style=\"text-align: right;\">\n",
       "      <th></th>\n",
       "      <th>고유번호</th>\n",
       "      <th>구코드</th>\n",
       "      <th>법정동코드</th>\n",
       "      <th>동명</th>\n",
       "      <th>위도</th>\n",
       "      <th>경도</th>\n",
       "      <th>노상/노외/부설/주차장구분</th>\n",
       "    </tr>\n",
       "  </thead>\n",
       "  <tbody>\n",
       "    <tr>\n",
       "      <th>0</th>\n",
       "      <td>1627724</td>\n",
       "      <td>11215</td>\n",
       "      <td>10200</td>\n",
       "      <td>능동</td>\n",
       "      <td>37.552251</td>\n",
       "      <td>127.088208</td>\n",
       "      <td>1</td>\n",
       "    </tr>\n",
       "    <tr>\n",
       "      <th>1</th>\n",
       "      <td>1627725</td>\n",
       "      <td>11215</td>\n",
       "      <td>10300</td>\n",
       "      <td>구의동</td>\n",
       "      <td>37.549023</td>\n",
       "      <td>127.085946</td>\n",
       "      <td>1</td>\n",
       "    </tr>\n",
       "    <tr>\n",
       "      <th>2</th>\n",
       "      <td>1627728</td>\n",
       "      <td>11215</td>\n",
       "      <td>10300</td>\n",
       "      <td>구의동</td>\n",
       "      <td>37.548965</td>\n",
       "      <td>127.085803</td>\n",
       "      <td>1</td>\n",
       "    </tr>\n",
       "    <tr>\n",
       "      <th>3</th>\n",
       "      <td>1627731</td>\n",
       "      <td>11215</td>\n",
       "      <td>10300</td>\n",
       "      <td>구의동</td>\n",
       "      <td>37.548883</td>\n",
       "      <td>127.085671</td>\n",
       "      <td>1</td>\n",
       "    </tr>\n",
       "    <tr>\n",
       "      <th>4</th>\n",
       "      <td>1627733</td>\n",
       "      <td>11215</td>\n",
       "      <td>10300</td>\n",
       "      <td>구의동</td>\n",
       "      <td>37.548816</td>\n",
       "      <td>127.08559</td>\n",
       "      <td>1</td>\n",
       "    </tr>\n",
       "    <tr>\n",
       "      <th>...</th>\n",
       "      <td>...</td>\n",
       "      <td>...</td>\n",
       "      <td>...</td>\n",
       "      <td>...</td>\n",
       "      <td>...</td>\n",
       "      <td>...</td>\n",
       "      <td>...</td>\n",
       "    </tr>\n",
       "    <tr>\n",
       "      <th>37258</th>\n",
       "      <td>1902591</td>\n",
       "      <td>11215</td>\n",
       "      <td>10300</td>\n",
       "      <td>구의동</td>\n",
       "      <td>37.5490211</td>\n",
       "      <td>127.09126249</td>\n",
       "      <td>3</td>\n",
       "    </tr>\n",
       "    <tr>\n",
       "      <th>37259</th>\n",
       "      <td>1903528</td>\n",
       "      <td>11215</td>\n",
       "      <td>10300</td>\n",
       "      <td>구의동</td>\n",
       "      <td>37.54824788</td>\n",
       "      <td>127.09098561</td>\n",
       "      <td>3</td>\n",
       "    </tr>\n",
       "    <tr>\n",
       "      <th>37260</th>\n",
       "      <td>1903957</td>\n",
       "      <td>11215</td>\n",
       "      <td>10300</td>\n",
       "      <td>구의동</td>\n",
       "      <td>37.55114473</td>\n",
       "      <td>127.0926895</td>\n",
       "      <td>3</td>\n",
       "    </tr>\n",
       "    <tr>\n",
       "      <th>37261</th>\n",
       "      <td>1904348</td>\n",
       "      <td>11215</td>\n",
       "      <td>10500</td>\n",
       "      <td>자양동</td>\n",
       "      <td>37.53029473</td>\n",
       "      <td>127.07451527</td>\n",
       "      <td>3</td>\n",
       "    </tr>\n",
       "    <tr>\n",
       "      <th>37262</th>\n",
       "      <td>1905510</td>\n",
       "      <td>11215</td>\n",
       "      <td>10500</td>\n",
       "      <td>자양동</td>\n",
       "      <td>37.538317</td>\n",
       "      <td>127.077816</td>\n",
       "      <td>3</td>\n",
       "    </tr>\n",
       "  </tbody>\n",
       "</table>\n",
       "<p>37263 rows × 7 columns</p>\n",
       "</div>"
      ],
      "text/plain": [
       "          고유번호    구코드  법정동코드   동명           위도            경도  노상/노외/부설/주차장구분\n",
       "0      1627724  11215  10200   능동    37.552251    127.088208               1\n",
       "1      1627725  11215  10300  구의동    37.549023    127.085946               1\n",
       "2      1627728  11215  10300  구의동    37.548965    127.085803               1\n",
       "3      1627731  11215  10300  구의동    37.548883    127.085671               1\n",
       "4      1627733  11215  10300  구의동    37.548816     127.08559               1\n",
       "...        ...    ...    ...  ...          ...           ...             ...\n",
       "37258  1902591  11215  10300  구의동   37.5490211  127.09126249               3\n",
       "37259  1903528  11215  10300  구의동  37.54824788  127.09098561               3\n",
       "37260  1903957  11215  10300  구의동  37.55114473   127.0926895               3\n",
       "37261  1904348  11215  10500  자양동  37.53029473  127.07451527               3\n",
       "37262  1905510  11215  10500  자양동    37.538317    127.077816               3\n",
       "\n",
       "[37263 rows x 7 columns]"
      ]
     },
     "execution_count": 10,
     "metadata": {},
     "output_type": "execute_result"
    }
   ],
   "source": [
    "master2= master[['고유번호','구코드','법정동코드','동명','위도','경도','노상/노외/부설/주차장구분']]\n",
    "master2"
   ]
  },
  {
   "cell_type": "code",
   "execution_count": null,
   "id": "57965085",
   "metadata": {},
   "outputs": [],
   "source": [
    "master2['동명'].unique()\n",
    "# '능동', '구의동', '화양동', '자양동', '중곡동', '광장동', '군자동'"
   ]
  },
  {
   "cell_type": "code",
   "execution_count": null,
   "id": "38dbdf10",
   "metadata": {
    "scrolled": false
   },
   "outputs": [],
   "source": [
    "master2[master2['동명']=='능동'] # 2077\n",
    "master2[master2['동명']=='구의동'] # 7837\n",
    "master2[master2['동명']=='화양동'] # 2626\n",
    "master2[master2['동명']=='자양동'] # 9202\n",
    "master2[master2['동명']=='중곡동'] # 12114\n",
    "master2[master2['동명']=='광장동'] # 1108\n",
    "master2[master2['동명']=='군자동'] # 2299"
   ]
  },
  {
   "cell_type": "code",
   "execution_count": null,
   "id": "342feff0",
   "metadata": {
    "scrolled": true
   },
   "outputs": [],
   "source": [
    "master2[master2['노상/노외/부설/주차장구분']==1] # 노상 6518\n",
    "master2[master2['노상/노외/부설/주차장구분']==2] # 노외 97\n",
    "master2[master2['노상/노외/부설/주차장구분']==3] # 부설 30648"
   ]
  },
  {
   "cell_type": "code",
   "execution_count": 11,
   "id": "3f1e3900",
   "metadata": {},
   "outputs": [],
   "source": [
    "master2.to_csv('광진구 주차장pk.csv', index=False)"
   ]
  },
  {
   "cell_type": "code",
   "execution_count": null,
   "id": "118b9798",
   "metadata": {},
   "outputs": [],
   "source": [
    "# 20221101 입출차 데이터에서 광진구의 주차장 뽑기\n"
   ]
  }
 ],
 "metadata": {
  "kernelspec": {
   "display_name": "Python 3 (ipykernel)",
   "language": "python",
   "name": "python3"
  },
  "language_info": {
   "codemirror_mode": {
    "name": "ipython",
    "version": 3
   },
   "file_extension": ".py",
   "mimetype": "text/x-python",
   "name": "python",
   "nbconvert_exporter": "python",
   "pygments_lexer": "ipython3",
   "version": "3.9.13"
  }
 },
 "nbformat": 4,
 "nbformat_minor": 5
}
