{
 "cells": [
  {
   "cell_type": "code",
   "execution_count": 2,
   "id": "531dcb4d",
   "metadata": {},
   "outputs": [],
   "source": [
    "import numpy as np\n",
    "import pandas as pd\n",
    "import matplotlib.pyplot as plt\n",
    "import seaborn as sns\n",
    "\n",
    "import matplotlib.font_manager as fm\n",
    "font_name= fm.FontProperties(fname='C:\\\\Windows\\\\Fonts\\\\malgun.ttf').get_name()\n",
    "plt.rc('font',family=font_name)\n",
    "\n",
    "import matplotlib as mlp\n",
    "mlp.rcParams['axes.unicode_minus']=False\n",
    "\n",
    "from bs4 import BeautifulSoup\n",
    "import requests"
   ]
  },
  {
   "cell_type": "code",
   "execution_count": 3,
   "id": "0c83aef7",
   "metadata": {},
   "outputs": [],
   "source": [
    "import urllib.request as req\n",
    "from urllib.error import HTTPError, URLError"
   ]
  },
  {
   "cell_type": "code",
   "execution_count": 6,
   "id": "d7484ca7",
   "metadata": {},
   "outputs": [],
   "source": [
    "from urllib.request import urlopen\n",
    "from bs4 import BeautifulSoup"
   ]
  },
  {
   "cell_type": "code",
   "execution_count": 9,
   "id": "ae8b8355",
   "metadata": {},
   "outputs": [
    {
     "name": "stdout",
     "output_type": "stream",
     "text": [
      "[]\n"
     ]
    }
   ],
   "source": [
    "page=urlopen('https://golmok.seoul.go.kr/stateArea.do')\n",
    "soup=BeautifulSoup(page, 'html.parser')\n",
    "\n",
    "print(soup.find_all('tr', class_='total branch expanded'))"
   ]
  },
  {
   "cell_type": "code",
   "execution_count": null,
   "id": "0e8c93a7",
   "metadata": {},
   "outputs": [],
   "source": []
  }
 ],
 "metadata": {
  "kernelspec": {
   "display_name": "Python 3 (ipykernel)",
   "language": "python",
   "name": "python3"
  },
  "language_info": {
   "codemirror_mode": {
    "name": "ipython",
    "version": 3
   },
   "file_extension": ".py",
   "mimetype": "text/x-python",
   "name": "python",
   "nbconvert_exporter": "python",
   "pygments_lexer": "ipython3",
   "version": "3.9.13"
  }
 },
 "nbformat": 4,
 "nbformat_minor": 5
}
