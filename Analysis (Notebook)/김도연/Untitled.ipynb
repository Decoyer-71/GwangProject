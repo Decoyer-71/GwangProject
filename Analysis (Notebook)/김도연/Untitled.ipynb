{
 "cells": [
  {
   "cell_type": "code",
   "execution_count": 1,
   "id": "926f343d",
   "metadata": {},
   "outputs": [],
   "source": [
    "import re"
   ]
  },
  {
   "cell_type": "code",
   "execution_count": 2,
   "id": "64dd9f37",
   "metadata": {},
   "outputs": [],
   "source": [
    "data = \"\"\"\n",
    "<a href=\"abc1.html\">abc1</a>\n",
    "<a href=\"abc2.html\">abc2</a>\n",
    "<a href=\"abc3.html\">abc3</a>\n",
    "<a href=\"xyz.html\">xyz</a>\n",
    "<a href=\"pic.jpg\">pic</a>\n",
    "\"\"\""
   ]
  },
  {
   "cell_type": "code",
   "execution_count": 3,
   "id": "077c63c6",
   "metadata": {},
   "outputs": [
    {
     "data": {
      "text/plain": [
       "['abc1.html', 'abc2.html', 'abc3.html', 'xyz.html', 'pic.jpg']"
      ]
     },
     "execution_count": 3,
     "metadata": {},
     "output_type": "execute_result"
    }
   ],
   "source": [
    "re.findall('href=\"(.+)\"', data) # href=\" 와 \" 사이에 있는 문자 추출"
   ]
  },
  {
   "cell_type": "code",
   "execution_count": 6,
   "id": "41614baa",
   "metadata": {},
   "outputs": [
    {
     "name": "stderr",
     "output_type": "stream",
     "text": [
      "C:\\Users\\acorn\\AppData\\Local\\Temp\\ipykernel_16164\\1865751890.py:4: DtypeWarning: Columns (6,7,8,9,11,12,17,18,19,20,21,22,23,24,25,35,37,40,41,42,43,44,45,62,64,65) have mixed types. Specify dtype option on import or set low_memory=False.\n",
      "  master= pd.read_csv('../../Data/차,주차장/주차장 마스터테이블.csv')\n"
     ]
    }
   ],
   "source": [
    "import csv\n",
    "import pandas as pd\n",
    "\n",
    "master= pd.read_csv('../../Data/차,주차장/주차장 마스터테이블.csv')"
   ]
  },
  {
   "cell_type": "code",
   "execution_count": 9,
   "id": "81dbcbf8",
   "metadata": {},
   "outputs": [
    {
     "data": {
      "text/html": [
       "<div>\n",
       "<style scoped>\n",
       "    .dataframe tbody tr th:only-of-type {\n",
       "        vertical-align: middle;\n",
       "    }\n",
       "\n",
       "    .dataframe tbody tr th {\n",
       "        vertical-align: top;\n",
       "    }\n",
       "\n",
       "    .dataframe thead th {\n",
       "        text-align: right;\n",
       "    }\n",
       "</style>\n",
       "<table border=\"1\" class=\"dataframe\">\n",
       "  <thead>\n",
       "    <tr style=\"text-align: right;\">\n",
       "      <th></th>\n",
       "      <th>고유번호</th>\n",
       "      <th>구코드</th>\n",
       "    </tr>\n",
       "  </thead>\n",
       "  <tbody>\n",
       "    <tr>\n",
       "      <th>0</th>\n",
       "      <td>1655132</td>\n",
       "      <td>11440</td>\n",
       "    </tr>\n",
       "    <tr>\n",
       "      <th>1</th>\n",
       "      <td>1655139</td>\n",
       "      <td>11440</td>\n",
       "    </tr>\n",
       "    <tr>\n",
       "      <th>2</th>\n",
       "      <td>1655143</td>\n",
       "      <td>11440</td>\n",
       "    </tr>\n",
       "    <tr>\n",
       "      <th>3</th>\n",
       "      <td>1665752</td>\n",
       "      <td>11200</td>\n",
       "    </tr>\n",
       "    <tr>\n",
       "      <th>4</th>\n",
       "      <td>1665753</td>\n",
       "      <td>11200</td>\n",
       "    </tr>\n",
       "    <tr>\n",
       "      <th>...</th>\n",
       "      <td>...</td>\n",
       "      <td>...</td>\n",
       "    </tr>\n",
       "    <tr>\n",
       "      <th>591901</th>\n",
       "      <td>1054860</td>\n",
       "      <td>11500</td>\n",
       "    </tr>\n",
       "    <tr>\n",
       "      <th>591902</th>\n",
       "      <td>1055083</td>\n",
       "      <td>11500</td>\n",
       "    </tr>\n",
       "    <tr>\n",
       "      <th>591903</th>\n",
       "      <td>1136889</td>\n",
       "      <td>11290</td>\n",
       "    </tr>\n",
       "    <tr>\n",
       "      <th>591904</th>\n",
       "      <td>1055197</td>\n",
       "      <td>11500</td>\n",
       "    </tr>\n",
       "    <tr>\n",
       "      <th>591905</th>\n",
       "      <td>1441248</td>\n",
       "      <td>11305</td>\n",
       "    </tr>\n",
       "  </tbody>\n",
       "</table>\n",
       "<p>591906 rows × 2 columns</p>\n",
       "</div>"
      ],
      "text/plain": [
       "           고유번호    구코드\n",
       "0       1655132  11440\n",
       "1       1655139  11440\n",
       "2       1655143  11440\n",
       "3       1665752  11200\n",
       "4       1665753  11200\n",
       "...         ...    ...\n",
       "591901  1054860  11500\n",
       "591902  1055083  11500\n",
       "591903  1136889  11290\n",
       "591904  1055197  11500\n",
       "591905  1441248  11305\n",
       "\n",
       "[591906 rows x 2 columns]"
      ]
     },
     "execution_count": 9,
     "metadata": {},
     "output_type": "execute_result"
    }
   ],
   "source": [
    "master[['고유번호','구코드']]"
   ]
  },
  {
   "cell_type": "code",
   "execution_count": 13,
   "id": "49f99c22",
   "metadata": {},
   "outputs": [
    {
     "data": {
      "text/plain": [
       "Index(['고유번호', '노상/노외/부설/주차장구분', '설치일자 허가일자', '폐쇄일자', '가동여부', '건축물명 또는 주차장명',\n",
       "       '구코드', '블럭번호', '행정동코드', '법정동코드', '산', '번지', '호', '기타주소', '새주소1(~로)',\n",
       "       '새주소2(순번)', '새주소2(세부)', '소유주체', '급지', '유무료', '평일운영시작시간', '평일운영종료시간',\n",
       "       '토요일운영시작시간', '토요일운영종료시간', '공휴일운영시작시간', '공휴일운영종료시간', '일반차량 기본단위시간',\n",
       "       '일반차량 기본단위금액', '일반차량 추가단위시간', '일반차량 추가단위금액', '일반차량 전일요금',\n",
       "       '일반차량 전일 월정기요금', '주간 월정기요금', '야간 월정기요금', '주차요금 지불방식', '총주차대수', '주차상한제',\n",
       "       '자율요일제', '수정일자', '특기사항', '야간개방사업여부', '지원주차장설치여부', '주차장사진매수', '도면매수',\n",
       "       '일반인 개방여부', 'GIS링크', '과거 GIS링크', 'JM_ISCHK', '기타사항', '메모', '휴대폰번호',\n",
       "       'JM_SJ_CONT', 'JM_KJ_CONT', 'JM_N_STTIME', 'JM_N_EDTIME',\n",
       "       'JM_OPN_STTIME', 'JM_OPN_EDTIME', 'JM_OPH_STTIME', 'JM_OPH_EDTIME',\n",
       "       'JM_OPE_STTIME', 'JM_OPE_EDTIME', 'JM_IN_CHARGE', '대시민표출주차면수',\n",
       "       '공유주차장 코드', '위도', '경도', 'GEOM'],\n",
       "      dtype='object')"
      ]
     },
     "execution_count": 13,
     "metadata": {},
     "output_type": "execute_result"
    }
   ],
   "source": [
    "master.columns"
   ]
  },
  {
   "cell_type": "code",
   "execution_count": null,
   "id": "95300016",
   "metadata": {},
   "outputs": [],
   "source": []
  }
 ],
 "metadata": {
  "kernelspec": {
   "display_name": "Python 3 (ipykernel)",
   "language": "python",
   "name": "python3"
  },
  "language_info": {
   "codemirror_mode": {
    "name": "ipython",
    "version": 3
   },
   "file_extension": ".py",
   "mimetype": "text/x-python",
   "name": "python",
   "nbconvert_exporter": "python",
   "pygments_lexer": "ipython3",
   "version": "3.9.13"
  }
 },
 "nbformat": 4,
 "nbformat_minor": 5
}
