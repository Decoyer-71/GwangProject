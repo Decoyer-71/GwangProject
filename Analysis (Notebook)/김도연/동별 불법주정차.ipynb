{
 "cells": [
  {
   "cell_type": "code",
   "execution_count": 21,
   "id": "f4dd461c",
   "metadata": {
    "scrolled": true
   },
   "outputs": [
    {
     "data": {
      "text/plain": [
       "['../../Data/불법주정차\\\\금천구 주정차위반 단속위치 및 단속현황(2017년).xls',\n",
       " '../../Data/불법주정차\\\\금천구 주정차위반 단속위치 및 단속현황(2018년).xls',\n",
       " '../../Data/불법주정차\\\\금천구 주정차위반 단속위치 및 단속현황(2019년).xls',\n",
       " '../../Data/불법주정차\\\\금천구 주정차위반 단속위치 및 단속현황(2020년).xls',\n",
       " '../../Data/불법주정차\\\\금천구 주정차위반 단속위치 및 단속현황(2021년).xls']"
      ]
     },
     "execution_count": 21,
     "metadata": {},
     "output_type": "execute_result"
    }
   ],
   "source": [
    "import os\n",
    "import pandas as pd\n",
    "import glob\n",
    "\n",
    "file_path = r'../../Data/불법주정차/*.csv'\n",
    "\n",
    "all_files = glob.glob(file_path)\n",
    "\n",
    "# keys 옵션으로 파일명을 인덱스로 지정\n",
    "# df = pd.concat([pd.read_csv(f) for f in all_files], keys=[os.path.basename(f).replace('.csv', '') for f in all_files])\n",
    "# # df = df.drop('Unnamed: 0', axis=1)\n",
    "all_files\n",
    "all_xls= glob.glob(r'../../Data/불법주정차/*.xls')\n",
    "all_xls"
   ]
  },
  {
   "cell_type": "code",
   "execution_count": 22,
   "id": "10bd393c",
   "metadata": {},
   "outputs": [],
   "source": [
    "강동구=pd.read_csv(all_files[0],encoding='ANSI')\n",
    "강북구=pd.read_csv(all_files[2],encoding='ANSI')\n",
    "노원구=pd.read_csv(all_files[6],encoding='ANSI')\n",
    "서초구=pd.read_csv(all_files[10],encoding='ANSI')\n",
    "송파구=pd.read_csv(all_files[12],encoding='ANSI')\n",
    "양천구=pd.read_csv(all_files[15],encoding='ANSI')\n",
    "용산구=pd.read_csv(all_files[17],encoding='ANSI')\n",
    "종로구=pd.read_csv(all_files[18],encoding='ANSI')\n",
    "강남구=pd.read_csv(all_files[22],encoding='ANSI')\n",
    "강서구=pd.read_csv(all_files[23],encoding='ANSI')\n",
    "강서구2=pd.read_csv(all_files[24],encoding='ANSI')\n",
    "서대문구=pd.read_csv(all_files[25],encoding='ANSI')\n",
    "성동구=pd.read_csv(all_files[26],encoding='ANSI')\n",
    "도봉구=pd.read_csv(all_files[29],encoding='ANSI')"
   ]
  },
  {
   "cell_type": "code",
   "execution_count": 23,
   "id": "27f2f11d",
   "metadata": {},
   "outputs": [],
   "source": [
    "금천구=pd.read_excel('../../Data/불법주정차/금천구 주정차위반 단속위치 및 단속현황(2021년).xls')"
   ]
  },
  {
   "cell_type": "code",
   "execution_count": 24,
   "id": "bb5098b6",
   "metadata": {},
   "outputs": [
    {
     "data": {
      "text/html": [
       "<div>\n",
       "<style scoped>\n",
       "    .dataframe tbody tr th:only-of-type {\n",
       "        vertical-align: middle;\n",
       "    }\n",
       "\n",
       "    .dataframe tbody tr th {\n",
       "        vertical-align: top;\n",
       "    }\n",
       "\n",
       "    .dataframe thead th {\n",
       "        text-align: right;\n",
       "    }\n",
       "</style>\n",
       "<table border=\"1\" class=\"dataframe\">\n",
       "  <thead>\n",
       "    <tr style=\"text-align: right;\">\n",
       "      <th></th>\n",
       "      <th>단속동</th>\n",
       "      <th>단속건수</th>\n",
       "    </tr>\n",
       "  </thead>\n",
       "  <tbody>\n",
       "    <tr>\n",
       "      <th>1</th>\n",
       "      <td>미아동</td>\n",
       "      <td>18606</td>\n",
       "    </tr>\n",
       "    <tr>\n",
       "      <th>5</th>\n",
       "      <td>번동</td>\n",
       "      <td>7978</td>\n",
       "    </tr>\n",
       "    <tr>\n",
       "      <th>11</th>\n",
       "      <td>수유동</td>\n",
       "      <td>23719</td>\n",
       "    </tr>\n",
       "    <tr>\n",
       "      <th>13</th>\n",
       "      <td>우이동</td>\n",
       "      <td>1828</td>\n",
       "    </tr>\n",
       "  </tbody>\n",
       "</table>\n",
       "</div>"
      ],
      "text/plain": [
       "    단속동   단속건수\n",
       "1   미아동  18606\n",
       "5    번동   7978\n",
       "11  수유동  23719\n",
       "13  우이동   1828"
      ]
     },
     "execution_count": 24,
     "metadata": {},
     "output_type": "execute_result"
    }
   ],
   "source": [
    "강북= 강북구[강북구['연도']==2021].drop(['연도','견인건수','단속원금(원)'],axis=1)\n",
    "강북.drop([2,3,4,0,6,7,8,9,10,12,14],axis=0,inplace=True)\n",
    "강북.rename(columns={'통계기준':'단속동'},inplace=True)\n",
    "강북"
   ]
  },
  {
   "cell_type": "code",
   "execution_count": 25,
   "id": "d714db62",
   "metadata": {
    "scrolled": false
   },
   "outputs": [
    {
     "data": {
      "text/html": [
       "<div>\n",
       "<style scoped>\n",
       "    .dataframe tbody tr th:only-of-type {\n",
       "        vertical-align: middle;\n",
       "    }\n",
       "\n",
       "    .dataframe tbody tr th {\n",
       "        vertical-align: top;\n",
       "    }\n",
       "\n",
       "    .dataframe thead th {\n",
       "        text-align: right;\n",
       "    }\n",
       "</style>\n",
       "<table border=\"1\" class=\"dataframe\">\n",
       "  <thead>\n",
       "    <tr style=\"text-align: right;\">\n",
       "      <th></th>\n",
       "      <th>단속동</th>\n",
       "      <th>단속건수</th>\n",
       "    </tr>\n",
       "  </thead>\n",
       "  <tbody>\n",
       "    <tr>\n",
       "      <th>0</th>\n",
       "      <td>강일동</td>\n",
       "      <td>2,790</td>\n",
       "    </tr>\n",
       "    <tr>\n",
       "      <th>1</th>\n",
       "      <td>고덕동</td>\n",
       "      <td>4,039</td>\n",
       "    </tr>\n",
       "    <tr>\n",
       "      <th>2</th>\n",
       "      <td>길 동</td>\n",
       "      <td>12,096</td>\n",
       "    </tr>\n",
       "    <tr>\n",
       "      <th>3</th>\n",
       "      <td>둔촌동</td>\n",
       "      <td>3,437</td>\n",
       "    </tr>\n",
       "    <tr>\n",
       "      <th>4</th>\n",
       "      <td>명일동</td>\n",
       "      <td>5,327</td>\n",
       "    </tr>\n",
       "    <tr>\n",
       "      <th>5</th>\n",
       "      <td>상일동</td>\n",
       "      <td>7,785</td>\n",
       "    </tr>\n",
       "    <tr>\n",
       "      <th>6</th>\n",
       "      <td>성내동</td>\n",
       "      <td>9,149</td>\n",
       "    </tr>\n",
       "    <tr>\n",
       "      <th>7</th>\n",
       "      <td>암사동</td>\n",
       "      <td>9,526</td>\n",
       "    </tr>\n",
       "    <tr>\n",
       "      <th>8</th>\n",
       "      <td>천호동</td>\n",
       "      <td>16,971</td>\n",
       "    </tr>\n",
       "  </tbody>\n",
       "</table>\n",
       "</div>"
      ],
      "text/plain": [
       "    단속동    단속건수\n",
       "0  강일동    2,790\n",
       "1  고덕동    4,039\n",
       "2  길 동   12,096\n",
       "3  둔촌동    3,437\n",
       "4  명일동    5,327\n",
       "5  상일동    7,785\n",
       "6  성내동    9,149\n",
       "7  암사동    9,526\n",
       "8  천호동   16,971"
      ]
     },
     "execution_count": 25,
     "metadata": {},
     "output_type": "execute_result"
    }
   ],
   "source": [
    "강동= 강동구.drop('기준일자',axis=1)\n",
    "강동"
   ]
  },
  {
   "cell_type": "code",
   "execution_count": 26,
   "id": "50c812b4",
   "metadata": {},
   "outputs": [
    {
     "ename": "NameError",
     "evalue": "name 'c' is not defined",
     "output_type": "error",
     "traceback": [
      "\u001b[1;31m---------------------------------------------------------------------------\u001b[0m",
      "\u001b[1;31mNameError\u001b[0m                                 Traceback (most recent call last)",
      "\u001b[1;32m~\\AppData\\Local\\Temp\\ipykernel_35564\\73857308.py\u001b[0m in \u001b[0;36m<module>\u001b[1;34m\u001b[0m\n\u001b[0;32m      6\u001b[0m \u001b[1;31m# c=pd.DataFrame(data)\u001b[0m\u001b[1;33m\u001b[0m\u001b[1;33m\u001b[0m\u001b[0m\n\u001b[0;32m      7\u001b[0m \u001b[1;31m# c.drop([6,7,10,13,14,15,16], axis=0, inplace=True)\u001b[0m\u001b[1;33m\u001b[0m\u001b[1;33m\u001b[0m\u001b[0m\n\u001b[1;32m----> 8\u001b[1;33m \u001b[0mc\u001b[0m\u001b[1;33m.\u001b[0m\u001b[0mrename\u001b[0m\u001b[1;33m(\u001b[0m\u001b[0mcolumns\u001b[0m\u001b[1;33m=\u001b[0m\u001b[1;33m{\u001b[0m\u001b[1;34m'동'\u001b[0m\u001b[1;33m:\u001b[0m\u001b[1;34m'단속동'\u001b[0m\u001b[1;33m,\u001b[0m\u001b[1;34m'단속'\u001b[0m\u001b[1;33m:\u001b[0m\u001b[1;34m'단속건수'\u001b[0m\u001b[1;33m}\u001b[0m\u001b[1;33m,\u001b[0m\u001b[0minplace\u001b[0m\u001b[1;33m=\u001b[0m\u001b[1;32mTrue\u001b[0m\u001b[1;33m)\u001b[0m\u001b[1;33m\u001b[0m\u001b[1;33m\u001b[0m\u001b[0m\n\u001b[0m\u001b[0;32m      9\u001b[0m \u001b[0m노원\u001b[0m\u001b[1;33m=\u001b[0m \u001b[0mc\u001b[0m\u001b[1;33m\u001b[0m\u001b[1;33m\u001b[0m\u001b[0m\n\u001b[0;32m     10\u001b[0m \u001b[0m노원\u001b[0m\u001b[1;33m\u001b[0m\u001b[1;33m\u001b[0m\u001b[0m\n",
      "\u001b[1;31mNameError\u001b[0m: name 'c' is not defined"
     ]
    }
   ],
   "source": [
    "# 노원구.drop(['단속일시','단속장소','위반내용','견인지시','관리부서','기준일자'],axis=1)\n",
    "# 노원구.groupby('단속동').count()\n",
    "# c=['월계1동','월계2동','월계3동','공릉1동','공릉2동','하계1동','하계2동','중계본동','중계1동','중계4동','중계2·3동','상계1동','상계2동','상계3·4동','상계5동','상계6·7동','상계8동','상계9동','상계10동']\n",
    "# cc=[len(노원구[노원구['단속동']==f'{i}']) for i in c]\n",
    "# data={'동':c, '단속':cc}\n",
    "# c=pd.DataFrame(data)\n",
    "# c.drop([6,7,10,13,14,15,16], axis=0, inplace=True)\n",
    "c.rename(columns={'동':'단속동','단속':'단속건수'},inplace=True)\n",
    "노원= c\n",
    "노원"
   ]
  },
  {
   "cell_type": "code",
   "execution_count": null,
   "id": "6578adf9",
   "metadata": {},
   "outputs": [],
   "source": [
    "dd=['서초1동','서초2동','서초3동','서초4동', '잠원동', '반포본동', '반포1동', '반포2동','반포3동','방배본동','방배1동','방배2동','방배3동','방배4동','양재1동','양재2동','내곡동']\n",
    "\n",
    "ddd= [len(서초구[서초구['단속동']==f'{i}']) for i in dd]\n",
    "ddd"
   ]
  },
  {
   "cell_type": "code",
   "execution_count": null,
   "id": "703b3a21",
   "metadata": {},
   "outputs": [],
   "source": [
    "data= {'동':['서초1동','서초2동','서초3동', '서초4동', '잠원동', '반포본동', '반포1동', '반포2동', '반포3동', '방배본동', '방배1동', '방배2동', '방배3동', '방배4동', '양재1동', '양재2동', '내곡동'], '단속':[27878, 28213, 33558, 33841, 22311, 279, 9441, 3865, 3064, 7184, 7037, 7025, 6140, 10500, 14712, 15048, 7076]}\n",
    "d= pd.DataFrame({'동':['서초1동','서초2동','서초3동', '서초4동', '잠원동', '반포본동', '반포1동', '반포2동', '반포3동', '방배본동', '방배1동', '방배2동', '방배3동', '방배4동', '양재1동', '양재2동', '내곡동'], '단속':[27878, 28213, 33558, 33841, 22311, 279, 9441, 3865, 3064, 7184, 7037, 7025, 6140, 10500, 14712, 15048, 7076]})"
   ]
  },
  {
   "cell_type": "code",
   "execution_count": null,
   "id": "2a67c79e",
   "metadata": {},
   "outputs": [],
   "source": [
    "d= pd.DataFrame({'동':['서초1동','서초2동','서초3동', '서초4동', '잠원동', '반포본동', '반포1동', '반포2동', '반포3동', '방배본동', '방배1동', '방배2동', '방배3동', '방배4동', '양재1동', '양재2동', '내곡동'], '단속':[27878, 28213, 33558, 33841, 22311, 279, 9441, 3865, 3064, 7184, 7037, 7025, 6140, 10500, 14712, 15048, 7076]})"
   ]
  },
  {
   "cell_type": "code",
   "execution_count": null,
   "id": "39cf5aa0",
   "metadata": {},
   "outputs": [],
   "source": [
    "d.rename(columns={'동':'단속동','단속':'단속건수'},inplace=True)\n",
    "서초=d\n",
    "서초"
   ]
  },
  {
   "cell_type": "code",
   "execution_count": null,
   "id": "ceae4848",
   "metadata": {},
   "outputs": [],
   "source": [
    "송파= 송파구[송파구['단속연도']==2020][['단속동','단속건수']]\n",
    "송파"
   ]
  },
  {
   "cell_type": "code",
   "execution_count": null,
   "id": "c76cf0dd",
   "metadata": {
    "scrolled": false
   },
   "outputs": [],
   "source": [
    "양천= 양천구.groupby('단속동').count()\n",
    "양천.reset_index(inplace=True)\n",
    "양천.drop([0,2,3,5,6,7,9], inplace=True)\n",
    "양천2= 양천[['단속동','연번']]\n",
    "양천2.rename(columns={'연번':'단속건수'}, inplace=True)\n",
    "양천2"
   ]
  },
  {
   "cell_type": "code",
   "execution_count": null,
   "id": "25fe9aa7",
   "metadata": {},
   "outputs": [],
   "source": [
    "용산구.groupby(['단속동']).count()\n",
    "aa=['후암동','용산2가동','남영동','청파동','원효로1동','원효로2동','효창동','용문동','한강로동','이촌1동','이촌2동','이태원1동','이태원2동','한남동','서빙고동','보광동']\n",
    "aaa=[len(용산구[용산구['단속동']==f'{i}']) for i in aa]\n",
    "data={'동':aa, '단속':aaa}\n",
    "a=pd.DataFrame(data)\n",
    "용산= a.drop([1])\n",
    "용산.rename(columns={'동':'단속동','단속':'단속건수'},inplace=True)\n",
    "용산"
   ]
  },
  {
   "cell_type": "code",
   "execution_count": null,
   "id": "d93370a3",
   "metadata": {},
   "outputs": [],
   "source": [
    "종로= 종로구[['행정동','단속건']]\n",
    "종로.rename(columns={'행정동':'단속동','단속건':'단속건수'},inplace=True)\n",
    "종로"
   ]
  },
  {
   "cell_type": "code",
   "execution_count": null,
   "id": "c5f5c750",
   "metadata": {},
   "outputs": [],
   "source": [
    "강남= 강남구[강남구['연도']==2021][['동명','부과건수']]\n",
    "강남.rename(columns={'동명':'단속동','부과건수':'단속건수'},inplace=True)\n",
    "강남"
   ]
  },
  {
   "cell_type": "code",
   "execution_count": null,
   "id": "8eb977f7",
   "metadata": {},
   "outputs": [],
   "source": [
    "서대문구.groupby('단속동').count()\n",
    "bb=['충현동','천연동','북아현동','신촌동','연희동','홍제1동','홍제2동','홍제3동','홍은1동','홍은2동','남가좌1동','남가좌2동','북가좌1동','북가좌2동']\n",
    "bbb=[len(서대문구[서대문구['단속동']==f'{i}']) for i in bb]\n",
    "data={'동':bb, '단속':bbb}\n",
    "서대문=pd.DataFrame(data)\n",
    "서대문.rename(columns={'동':'단속동','단속':'단속건수'},inplace=True)\n",
    "서대문"
   ]
  },
  {
   "cell_type": "code",
   "execution_count": null,
   "id": "9e719169",
   "metadata": {},
   "outputs": [],
   "source": [
    "도봉= 도봉구.T[[0]].drop(['연도']).reset_index()\n",
    "도봉.rename(columns={'index':'단속동',0:'단속건수'},inplace=True)\n",
    "도봉"
   ]
  },
  {
   "cell_type": "code",
   "execution_count": null,
   "id": "c59e6d69",
   "metadata": {},
   "outputs": [],
   "source": [
    "금천= 금천구.groupby('단속동').count().reset_index()[['단속동','단속일시']]\n",
    "금천.rename(columns= {'단속일시':'단속건수'}, inplace=True)\n",
    "금천"
   ]
  },
  {
   "cell_type": "code",
   "execution_count": null,
   "id": "1ba2049d",
   "metadata": {},
   "outputs": [],
   "source": [
    "concat= pd.concat([강북, 강동, 노원, 서초, 송파, 양천2, 용산, 종로, 강남, 서대문, 도봉, 금천])\n",
    "concat"
   ]
  },
  {
   "cell_type": "code",
   "execution_count": null,
   "id": "79cbf3be",
   "metadata": {},
   "outputs": [],
   "source": []
  }
 ],
 "metadata": {
  "kernelspec": {
   "display_name": "Python 3 (ipykernel)",
   "language": "python",
   "name": "python3"
  },
  "language_info": {
   "codemirror_mode": {
    "name": "ipython",
    "version": 3
   },
   "file_extension": ".py",
   "mimetype": "text/x-python",
   "name": "python",
   "nbconvert_exporter": "python",
   "pygments_lexer": "ipython3",
   "version": "3.9.13"
  }
 },
 "nbformat": 4,
 "nbformat_minor": 5
}
