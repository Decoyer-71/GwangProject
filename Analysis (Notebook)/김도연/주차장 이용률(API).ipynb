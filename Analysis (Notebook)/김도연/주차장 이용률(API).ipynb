{
 "cells": [
  {
   "cell_type": "markdown",
   "id": "14b7009e",
   "metadata": {},
   "source": [
    "주차장 실시간 데이터 목록 api를 통해서 주차장 이용률 데이터 수집\n",
    "\n",
    "주차장 입출차 데이터 목록 api를 통해서 주차장 이용률 데이터 수집\n",
    "\n",
    "출처: https://t-data.seoul.go.kr/"
   ]
  },
  {
   "cell_type": "code",
   "execution_count": 172,
   "id": "6e11d235",
   "metadata": {},
   "outputs": [],
   "source": [
    "from urllib.parse import urlencode, unquote\n",
    "import json\n",
    "import pandas as pd\n",
    "import math\n",
    "import numpy as np\n",
    "import requests\n",
    "from tqdm.notebook import tqdm\n",
    "\n",
    "# 주차장 실시간 데이터 목록(주차가능면수)\n",
    "url='http://t-data.seoul.go.kr/apig/apiman-gateway/tapi/ParkingParkingRealtimeInfo/1.0'\n",
    "\n",
    "# 20220405~\n",
    "# 20220405: 3301462개\n",
    "# 20220406: 3311368\n",
    "queryString= '?'+ urlencode({\n",
    "    'startRow': 1,\n",
    "    'apikey': 'a203679a-5313-493b-8777-1ee3bc671e61',\n",
    "    'rowCnt': 9,\n",
    "    'yyyyMMdd':'20230407'\n",
    "})\n",
    " \n",
    "queryURL= url+queryString\n",
    "\n",
    "response= requests.get(queryURL)\n",
    "parking= json.loads(response.text)\n",
    "\n",
    "# molit2= et.fromstring(molit.text)\n",
    "# news= molit2.find('channel').findall('item')\n",
    "# for news in news:\n",
    "#     print(news.find('title').text)\n",
    "#     print(news.find('link').text)"
   ]
  },
  {
   "cell_type": "code",
   "execution_count": 173,
   "id": "7eb765bb",
   "metadata": {
    "scrolled": true
   },
   "outputs": [
    {
     "data": {
      "text/plain": [
       "[{'pkCd': '1473884', 'curPkNo': '0', 'curPkTm': '2023-04-06'},\n",
       " {'pkCd': '1473884', 'curPkNo': '0', 'curPkTm': '2023-04-06'},\n",
       " {'pkCd': '1473884', 'curPkNo': '0', 'curPkTm': '2023-04-06'},\n",
       " {'pkCd': '1473884', 'curPkNo': '0', 'curPkTm': '2023-04-06'},\n",
       " {'pkCd': '1473884', 'curPkNo': '0', 'curPkTm': '2023-04-06'},\n",
       " {'pkCd': '1473884', 'curPkNo': '0', 'curPkTm': '2023-04-06'},\n",
       " {'pkCd': '1473884', 'curPkNo': '0', 'curPkTm': '2023-04-06'},\n",
       " {'pkCd': '173184', 'curPkNo': '15', 'curPkTm': '2023-04-06'},\n",
       " {'pkCd': '1473884', 'curPkNo': '0', 'curPkTm': '2023-04-06'}]"
      ]
     },
     "execution_count": 173,
     "metadata": {},
     "output_type": "execute_result"
    }
   ],
   "source": [
    "parking"
   ]
  },
  {
   "cell_type": "code",
   "execution_count": 162,
   "id": "81bd9f2c",
   "metadata": {},
   "outputs": [],
   "source": [
    "# file= pd.DataFrame(parking)\n",
    "# file.to_csv('20220407.csv')"
   ]
  },
  {
   "cell_type": "code",
   "execution_count": 169,
   "id": "0197206b",
   "metadata": {},
   "outputs": [
    {
     "name": "stdout",
     "output_type": "stream",
     "text": [
      "            pkCd curPkNo     curPkTm\n",
      "0        1384198     189  2022-04-07\n",
      "1        1384198     190  2022-04-07\n",
      "2        1384198     746  2022-04-07\n",
      "3        1384198     740  2022-04-07\n",
      "4        1384198     738  2022-04-07\n",
      "...          ...     ...         ...\n",
      "1999994   173582      56  2022-04-07\n",
      "1999995   798382      85  2022-04-07\n",
      "1999996   816782     144  2022-04-07\n",
      "1999997   173582      56  2022-04-07\n",
      "1999998   798382      85  2022-04-07\n",
      "\n",
      "[1999999 rows x 3 columns]\n",
      "            pkCd curPkNo     curPkTm\n",
      "0         173437     198  2022-04-08\n",
      "1        1056837      12  2022-04-08\n",
      "2        1056837      12  2022-04-08\n",
      "3        1570437       0  2022-04-08\n",
      "4         173437     196  2022-04-08\n",
      "...          ...     ...         ...\n",
      "1999994   795976      72  2022-04-07\n",
      "1999995   795976      72  2022-04-07\n",
      "1999996   173776       6  2022-04-07\n",
      "1999997   795976      72  2022-04-07\n",
      "1999998   795976      72  2022-04-07\n",
      "\n",
      "[1999999 rows x 3 columns]\n"
     ]
    }
   ],
   "source": [
    "dates= pd.date_range('20230301','20230331').strftime('%Y%m%d')\n",
    "\n",
    "for date in dates:\n",
    "    queryString= '?'+ urlencode({\n",
    "        'startRow': 1000000,\n",
    "        'apikey': 'a203679a-5313-493b-8777-1ee3bc671e61',\n",
    "        'rowCnt': 1999999,\n",
    "        'yyyyMMdd':f'{date}'\n",
    "    })\n",
    "\n",
    "    queryURL= url+queryString\n",
    "\n",
    "    response= requests.get(queryURL)\n",
    "    parking= json.loads(response.text)\n",
    "    \n",
    "    df= pd.DataFrame(parking)\n",
    "    print(df)\n",
    "    df.to_csv(f'{date}.csv', index=False)"
   ]
  },
  {
   "cell_type": "code",
   "execution_count": 151,
   "id": "fa641872",
   "metadata": {},
   "outputs": [
    {
     "name": "stdout",
     "output_type": "stream",
     "text": [
      "20220406\n",
      "20220407\n"
     ]
    }
   ],
   "source": [
    "for i in dates:\n",
    "    print(i)"
   ]
  },
  {
   "cell_type": "code",
   "execution_count": 196,
   "id": "ca16206f",
   "metadata": {},
   "outputs": [
    {
     "data": {
      "text/plain": [
       "[]"
      ]
     },
     "execution_count": 196,
     "metadata": {},
     "output_type": "execute_result"
    }
   ],
   "source": [
    "# from urllib.parse import urlencode, unquote\n",
    "# import json\n",
    "# import pandas as pd\n",
    "# import math\n",
    "# import numpy as np\n",
    "# import requests\n",
    "\n",
    "# 주차장 입출차 데이터 목록\n",
    "url= 'http://t-data.seoul.go.kr/apig/apiman-gateway/tapi/ParkingParkingIoInfo/1.0'\n",
    "\n",
    "# 20220406: 613502개\n",
    "# 20220405: 307243개\n",
    "queryString= '?'+ urlencode({\n",
    "    'startRow': 1,\n",
    "    'apikey': 'a203679a-5313-493b-8777-1ee3bc671e61',\n",
    "    'rowCnt': 9,\n",
    "    'yyyyMMdd':'2022045'\n",
    "})\n",
    " \n",
    "queryURL= url+queryString\n",
    "\n",
    "response= requests.get(queryURL)\n",
    "inout= json.loads(response.text)\n",
    "inout"
   ]
  },
  {
   "cell_type": "code",
   "execution_count": 191,
   "id": "a6898b0f",
   "metadata": {},
   "outputs": [
    {
     "data": {
      "text/plain": [
       "3"
      ]
     },
     "execution_count": 191,
     "metadata": {},
     "output_type": "execute_result"
    }
   ],
   "source": [
    "len(inout)"
   ]
  },
  {
   "cell_type": "code",
   "execution_count": 195,
   "id": "f0065a3a",
   "metadata": {},
   "outputs": [
    {
     "name": "stdout",
     "output_type": "stream",
     "text": [
      "Empty DataFrame\n",
      "Columns: []\n",
      "Index: []\n",
      "           pkCd payGb discntHdcp discntLpvhr discntTrp discntDub discntWk  \\\n",
      "0       1910360  None       None        None      None      None     None   \n",
      "1        940960  None       None        None      None      None     None   \n",
      "2       1910360  None       None        None      None      None     None   \n",
      "3       1910360  None       None        None      None      None     None   \n",
      "4        869620     0          N           N         N         N        N   \n",
      "...         ...   ...        ...         ...       ...       ...      ...   \n",
      "306254   878920  None       None        None      None      None     None   \n",
      "306255   816890  None       None        None      None      None     None   \n",
      "306256   816890  None       None        None      None      None     None   \n",
      "306257  1892060  None       None        None      None      None     None   \n",
      "306258  1892060     1          N           N         N         N     None   \n",
      "\n",
      "       discntTen discntMrt  tkGb  memo pymntAmt                     vhrNo  \\\n",
      "0           None      None  None  None     None  698280102022040500001719   \n",
      "1           None      None  None  None     None  280503152022040500000587   \n",
      "2           None      None  None  None     None  698280102022040500001925   \n",
      "3           None      None  None  None     None  698280102022040500001134   \n",
      "4              N         N  None  None        0                   64소1596   \n",
      "...          ...       ...   ...   ...      ...                       ...   \n",
      "306254      None      None  None  None     None                0000000000   \n",
      "306255      None      None  None  None     None                   95조0381   \n",
      "306256      None      None  None  None        0                   95조0381   \n",
      "306257      None      None  None  None     None                  110노9250   \n",
      "306258      None         N  None  None     None                   54무7353   \n",
      "\n",
      "       inoutGb      inDy    inTm     outDy   outTm discntEtcNm discntEtcRt  \n",
      "0            2  20220405  152127  20220405  171742        None        None  \n",
      "1            2  20220405  131042  20220405  171817        None        None  \n",
      "2            1  20220405  171835      None    None        None        None  \n",
      "3            2  20220405  123542  20220405  171926        None        None  \n",
      "4            2  20220405  084133  20220405  181332        None        None  \n",
      "...        ...       ...     ...       ...     ...         ...         ...  \n",
      "306254       2  20220405  002732      None    None        None        None  \n",
      "306255       2  20220405  021408      None    None        None        None  \n",
      "306256       2  20220405  020818      None    None        None        None  \n",
      "306257       1  20220405  044900      None    None        None        None  \n",
      "306258       2  20220405  042100  20220405  045300        None        None  \n",
      "\n",
      "[306259 rows x 20 columns]\n"
     ]
    }
   ],
   "source": [
    "dates= pd.date_range('20220405','20220406').strftime('%Y%m%d')\n",
    "\n",
    "for date in dates:\n",
    "    queryString= '?'+ urlencode({\n",
    "        'startRow': 1,\n",
    "        'apikey': 'a203679a-5313-493b-8777-1ee3bc671e61',\n",
    "        'rowCnt': 999999,\n",
    "        'yyyyMMdd':f'{date}'\n",
    "    })\n",
    "\n",
    "    queryURL= url+queryString\n",
    "\n",
    "    response= requests.get(queryURL)\n",
    "    parking= json.loads(response.text)\n",
    "    \n",
    "    df= pd.DataFrame(parking)\n",
    "    print(df)\n",
    "    df.to_csv(f'{date}.csv', index=False)"
   ]
  },
  {
   "cell_type": "code",
   "execution_count": null,
   "id": "a165a623",
   "metadata": {},
   "outputs": [],
   "source": []
  },
  {
   "cell_type": "code",
   "execution_count": null,
   "id": "2c8b8e00",
   "metadata": {},
   "outputs": [],
   "source": []
  },
  {
   "cell_type": "code",
   "execution_count": 126,
   "id": "58028acc",
   "metadata": {},
   "outputs": [],
   "source": [
    "url = 'http://t-data.seoul.go.kr/apig/apiman-gateway/tapi/ParkingParkingAddrCodeInfo/1.0'\n",
    "\n",
    "queryString= '?'+ urlencode({\n",
    "    'startRow': 1,\n",
    "    'apikey': 'a203679a-5313-493b-8777-1ee3bc671e61',\n",
    "    'rowCnt': 9999999\n",
    "})\n",
    " \n",
    "queryURL= url+queryString\n",
    "\n",
    "response= requests.get(queryURL)\n",
    "dong= json.loads(response.text)"
   ]
  },
  {
   "cell_type": "code",
   "execution_count": 127,
   "id": "015cce76",
   "metadata": {},
   "outputs": [
    {
     "data": {
      "text/plain": [
       "[]"
      ]
     },
     "execution_count": 127,
     "metadata": {},
     "output_type": "execute_result"
    }
   ],
   "source": [
    "dong"
   ]
  },
  {
   "cell_type": "code",
   "execution_count": 114,
   "id": "56b1d80c",
   "metadata": {},
   "outputs": [
    {
     "name": "stdout",
     "output_type": "stream",
     "text": [
      "b'<?xml version=\"1.0\" encoding=\"UTF-8\"?>\\n\\n<StanReginCd>\\n  <head>\\n    <totalCount>1</totalCount>\\n    <numOfRows>3</numOfRows>\\n    <pageNo>1</pageNo>\\n    <type>XML</type>\\n    <RESULT>\\n      <resultCode>INFO-0</resultCode>\\n      <resultMsg>NOMAL SERVICE</resultMsg>\\n    </RESULT>\\n  </head>\\n  <row>\\n    <region_cd>1100000000</region_cd>\\n    <sido_cd>11</sido_cd>\\n    <sgg_cd>000</sgg_cd>\\n    <umd_cd>000</umd_cd>\\n    <ri_cd>00</ri_cd>\\n    <locatjumin_cd>1100000000</locatjumin_cd>\\n    <locatjijuk_cd>1100000000</locatjijuk_cd>\\n    <locatadd_nm>\\xec\\x84\\x9c\\xec\\x9a\\xb8\\xed\\x8a\\xb9\\xeb\\xb3\\x84\\xec\\x8b\\x9c</locatadd_nm>\\n    <locat_order>11</locat_order>\\n    <locat_rm></locat_rm>\\n    <locathigh_cd>0000000000</locathigh_cd>\\n    <locallow_nm>\\xec\\x84\\x9c\\xec\\x9a\\xb8\\xed\\x8a\\xb9\\xeb\\xb3\\x84\\xec\\x8b\\x9c</locallow_nm>\\n    <adpt_de>20000101</adpt_de>\\n  </row>\\n</StanReginCd>\\n\\n'\n"
     ]
    }
   ],
   "source": [
    "import requests\n",
    "\n",
    "url = 'http://apis.data.go.kr/1741000/StanReginCd/getStanReginCdList'\n",
    "params ={'serviceKey' : 'm8FTt1N2/0aMCqRLlpXK3XKW9Xz5M/vIxYjfQQcxHsKaRQHUTzd1x3PyWMeDT+wLrhyBqjy5P16EJ6e9d2mY/Q==',\n",
    "         'pageNo' : '1', \n",
    "         'numOfRows' : '3', \n",
    "         'type' : 'xml', \n",
    "         'locatadd_nm' : '서울특별시' }\n",
    "\n",
    "response = requests.get(url, params=params)\n",
    "print(response.content)"
   ]
  },
  {
   "cell_type": "code",
   "execution_count": null,
   "id": "badbcd24",
   "metadata": {},
   "outputs": [],
   "source": []
  }
 ],
 "metadata": {
  "kernelspec": {
   "display_name": "Python 3 (ipykernel)",
   "language": "python",
   "name": "python3"
  },
  "language_info": {
   "codemirror_mode": {
    "name": "ipython",
    "version": 3
   },
   "file_extension": ".py",
   "mimetype": "text/x-python",
   "name": "python",
   "nbconvert_exporter": "python",
   "pygments_lexer": "ipython3",
   "version": "3.9.13"
  }
 },
 "nbformat": 4,
 "nbformat_minor": 5
}
