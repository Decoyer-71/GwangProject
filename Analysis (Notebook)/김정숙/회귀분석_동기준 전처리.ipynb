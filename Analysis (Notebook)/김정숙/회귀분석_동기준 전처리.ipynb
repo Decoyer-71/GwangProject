{
 "cells": [
  {
   "cell_type": "code",
   "execution_count": 3,
   "id": "5fc3724f",
   "metadata": {},
   "outputs": [],
   "source": [
    "import numpy as np\n",
    "import pandas as pd\n",
    "import matplotlib.pyplot as plt\n",
    "import seaborn as sns\n",
    "\n",
    "import matplotlib.font_manager as fm\n",
    "font_name = fm.FontProperties(fname=\"C:\\\\Windows\\\\Fonts\\\\malgun.ttf\").get_name()\n",
    "plt.rc(\"font\", family = font_name)\n",
    "\n",
    "import matplotlib as mlp\n",
    "mlp.rcParams[\"axes.unicode_minus\"] = False"
   ]
  },
  {
   "cell_type": "markdown",
   "id": "f9a4540b",
   "metadata": {},
   "source": [
    "# 동명칭 통일"
   ]
  },
  {
   "cell_type": "markdown",
   "id": "da058805",
   "metadata": {},
   "source": [
    "## (1) 기준 : 유동인구"
   ]
  },
  {
   "cell_type": "code",
   "execution_count": 4,
   "id": "1967ab57",
   "metadata": {},
   "outputs": [],
   "source": [
    "pop1=pd.read_csv(\"../../Data/회귀분석/2018~2022유동인구.csv\")"
   ]
  },
  {
   "cell_type": "code",
   "execution_count": 5,
   "id": "9f86f4f1",
   "metadata": {},
   "outputs": [],
   "source": [
    "pop2=pd.read_csv(\"../../Data/회귀분석/2018~2022직장인구.csv\")"
   ]
  },
  {
   "cell_type": "code",
   "execution_count": 6,
   "id": "0404a540",
   "metadata": {},
   "outputs": [],
   "source": [
    "pop3=pd.read_csv(\"../../Data/회귀분석/2018~2022거주인구.csv\")"
   ]
  },
  {
   "cell_type": "code",
   "execution_count": 7,
   "id": "8125ed88",
   "metadata": {},
   "outputs": [],
   "source": [
    "flow=pd.merge(pop1, pop2, on=[\"구\",\"동\",\"연도\"], how=\"outer\")"
   ]
  },
  {
   "cell_type": "code",
   "execution_count": 8,
   "id": "8fca9385",
   "metadata": {},
   "outputs": [],
   "source": [
    "flow=pd.merge(flow, pop3, on=[\"구\",\"동\",\"연도\"], how=\"outer\")"
   ]
  },
  {
   "cell_type": "code",
   "execution_count": 9,
   "id": "bd85c1b1",
   "metadata": {},
   "outputs": [],
   "source": [
    "del flow[\"Unnamed: 0_x\"]\n",
    "del flow[\"Unnamed: 0_y\"]\n",
    "del flow[\"Unnamed: 0\"]"
   ]
  },
  {
   "cell_type": "code",
   "execution_count": 10,
   "id": "2787a1bd",
   "metadata": {},
   "outputs": [
    {
     "data": {
      "text/html": [
       "<div>\n",
       "<style scoped>\n",
       "    .dataframe tbody tr th:only-of-type {\n",
       "        vertical-align: middle;\n",
       "    }\n",
       "\n",
       "    .dataframe tbody tr th {\n",
       "        vertical-align: top;\n",
       "    }\n",
       "\n",
       "    .dataframe thead th {\n",
       "        text-align: right;\n",
       "    }\n",
       "</style>\n",
       "<table border=\"1\" class=\"dataframe\">\n",
       "  <thead>\n",
       "    <tr style=\"text-align: right;\">\n",
       "      <th></th>\n",
       "      <th>구</th>\n",
       "      <th>동</th>\n",
       "      <th>평균유동인구</th>\n",
       "      <th>연도</th>\n",
       "      <th>평균직장인구</th>\n",
       "      <th>평균거주인구</th>\n",
       "    </tr>\n",
       "  </thead>\n",
       "  <tbody>\n",
       "    <tr>\n",
       "      <th>1696</th>\n",
       "      <td>종로구</td>\n",
       "      <td>청운효자동</td>\n",
       "      <td>13676.833333</td>\n",
       "      <td>2022</td>\n",
       "      <td>44.0</td>\n",
       "      <td>51.0</td>\n",
       "    </tr>\n",
       "    <tr>\n",
       "      <th>1697</th>\n",
       "      <td>종로구</td>\n",
       "      <td>사직동</td>\n",
       "      <td>21816.666667</td>\n",
       "      <td>2022</td>\n",
       "      <td>410.0</td>\n",
       "      <td>82.0</td>\n",
       "    </tr>\n",
       "    <tr>\n",
       "      <th>1698</th>\n",
       "      <td>종로구</td>\n",
       "      <td>삼청동</td>\n",
       "      <td>4547.833333</td>\n",
       "      <td>2022</td>\n",
       "      <td>42.0</td>\n",
       "      <td>19.0</td>\n",
       "    </tr>\n",
       "    <tr>\n",
       "      <th>1699</th>\n",
       "      <td>종로구</td>\n",
       "      <td>부암동</td>\n",
       "      <td>4436.166667</td>\n",
       "      <td>2022</td>\n",
       "      <td>19.0</td>\n",
       "      <td>45.0</td>\n",
       "    </tr>\n",
       "    <tr>\n",
       "      <th>1700</th>\n",
       "      <td>종로구</td>\n",
       "      <td>평창동</td>\n",
       "      <td>1126.500000</td>\n",
       "      <td>2022</td>\n",
       "      <td>28.0</td>\n",
       "      <td>22.0</td>\n",
       "    </tr>\n",
       "    <tr>\n",
       "      <th>...</th>\n",
       "      <td>...</td>\n",
       "      <td>...</td>\n",
       "      <td>...</td>\n",
       "      <td>...</td>\n",
       "      <td>...</td>\n",
       "      <td>...</td>\n",
       "    </tr>\n",
       "    <tr>\n",
       "      <th>2115</th>\n",
       "      <td>강동구</td>\n",
       "      <td>성내2동</td>\n",
       "      <td>150514.500000</td>\n",
       "      <td>2022</td>\n",
       "      <td>37.0</td>\n",
       "      <td>389.0</td>\n",
       "    </tr>\n",
       "    <tr>\n",
       "      <th>2116</th>\n",
       "      <td>강동구</td>\n",
       "      <td>성내3동</td>\n",
       "      <td>127091.166667</td>\n",
       "      <td>2022</td>\n",
       "      <td>72.0</td>\n",
       "      <td>365.0</td>\n",
       "    </tr>\n",
       "    <tr>\n",
       "      <th>2117</th>\n",
       "      <td>강동구</td>\n",
       "      <td>길동</td>\n",
       "      <td>100750.833333</td>\n",
       "      <td>2022</td>\n",
       "      <td>60.0</td>\n",
       "      <td>293.0</td>\n",
       "    </tr>\n",
       "    <tr>\n",
       "      <th>2118</th>\n",
       "      <td>강동구</td>\n",
       "      <td>둔촌1동</td>\n",
       "      <td>9407.833333</td>\n",
       "      <td>2022</td>\n",
       "      <td>17.0</td>\n",
       "      <td>0.0</td>\n",
       "    </tr>\n",
       "    <tr>\n",
       "      <th>2119</th>\n",
       "      <td>강동구</td>\n",
       "      <td>둔촌2동</td>\n",
       "      <td>44231.000000</td>\n",
       "      <td>2022</td>\n",
       "      <td>31.0</td>\n",
       "      <td>165.0</td>\n",
       "    </tr>\n",
       "  </tbody>\n",
       "</table>\n",
       "<p>424 rows × 6 columns</p>\n",
       "</div>"
      ],
      "text/plain": [
       "        구      동         평균유동인구    연도  평균직장인구  평균거주인구\n",
       "1696  종로구  청운효자동   13676.833333  2022    44.0    51.0\n",
       "1697  종로구    사직동   21816.666667  2022   410.0    82.0\n",
       "1698  종로구    삼청동    4547.833333  2022    42.0    19.0\n",
       "1699  종로구    부암동    4436.166667  2022    19.0    45.0\n",
       "1700  종로구    평창동    1126.500000  2022    28.0    22.0\n",
       "...   ...    ...            ...   ...     ...     ...\n",
       "2115  강동구   성내2동  150514.500000  2022    37.0   389.0\n",
       "2116  강동구   성내3동  127091.166667  2022    72.0   365.0\n",
       "2117  강동구     길동  100750.833333  2022    60.0   293.0\n",
       "2118  강동구   둔촌1동    9407.833333  2022    17.0     0.0\n",
       "2119  강동구   둔촌2동   44231.000000  2022    31.0   165.0\n",
       "\n",
       "[424 rows x 6 columns]"
      ]
     },
     "execution_count": 10,
     "metadata": {},
     "output_type": "execute_result"
    }
   ],
   "source": [
    "flow22=flow[flow[\"연도\"]==2022]\n",
    "flow22.head()"
   ]
  },
  {
   "cell_type": "code",
   "execution_count": 12,
   "id": "69b64888",
   "metadata": {},
   "outputs": [],
   "source": [
    "flow_dong=set(flow22[\"동\"])\n",
    "dong_std=list(flow_dong)"
   ]
  },
  {
   "cell_type": "code",
   "execution_count": 15,
   "id": "5dcaf071",
   "metadata": {},
   "outputs": [
    {
     "name": "stdout",
     "output_type": "stream",
     "text": [
      "25\n"
     ]
    }
   ],
   "source": [
    "gu=list(set(flow22[\"구\"].unique()))\n",
    "print(len(gu))"
   ]
  },
  {
   "cell_type": "markdown",
   "id": "05324e3f",
   "metadata": {},
   "source": [
    "## (1) 자동차등록대수"
   ]
  },
  {
   "cell_type": "code",
   "execution_count": 46,
   "id": "6898f1a2",
   "metadata": {},
   "outputs": [],
   "source": [
    "car= pd.read_csv(\"../../Data/회귀분석/동별차량등록대수.csv\")\n",
    "car.columns=[\"연도\",\"구별\",\"동별\",\"차량등록대수\"]"
   ]
  },
  {
   "cell_type": "code",
   "execution_count": 49,
   "id": "16514b83",
   "metadata": {},
   "outputs": [],
   "source": [
    "car=car[car[\"동별\"]!=\"기타\"]"
   ]
  },
  {
   "cell_type": "code",
   "execution_count": 52,
   "id": "1c189d55",
   "metadata": {},
   "outputs": [],
   "source": [
    "car.loc[car[\"동별\"]==\"명륜3가동\",\"동별\"]=\"혜화동\"\n",
    "car.loc[car[\"동별\"]==\"공릉1.3동\",\"동별\"]=\"공릉1동\"\n",
    "car.loc[car[\"동별\"].str.contains(\"도화\"),\"동별\"]=\"도화동\"\n",
    "car.loc[car[\"동별\"]==\"독산1동분소\",\"동별\"]=\"독산1동\"\n",
    "car.loc[car[\"동별\"]==\"길1동\",\"동별\"]=\"길동\"\n",
    "car.loc[car[\"동별\"]==\"하일동\",\"동별\"]=\"강일동\"\n",
    "car.loc[car[\"동별\"].str.contains(\"상일\"),\"동별\"]=\"상일동\"\n",
    "car.loc[car[\"동별\"]==\"남대문로5가동\",\"동별\"]=\"회현동\"\n",
    "car.loc[car[\"동별\"]==\"신당1동\",\"동별\"]=\"신당동\"\n",
    "car.loc[car[\"동별\"]==\"신당2동\",\"동별\"]=\"신당동\"\n",
    "car.loc[car[\"동별\"]==\"신당3동\",\"동별\"]=\"신당동\"\n",
    "car.loc[car[\"동별\"]==\"신당4동\",\"동별\"]=\"신당동\"\n",
    "car.loc[car[\"동별\"]==\"신당6동\",\"동별\"]=\"신당동\"\n",
    "car.loc[car[\"동별\"]==\"을지로3.4.5가동\",\"동별\"]=\"을지로동\"\n",
    "car.loc[car[\"동별\"]==\"영등포1동\",\"동별\"]=\"영등포동\"\n",
    "car.loc[car[\"동별\"]==\"태평로1가동\",\"동별\"]=\"명동\""
   ]
  },
  {
   "cell_type": "code",
   "execution_count": null,
   "id": "bcd44f83",
   "metadata": {},
   "outputs": [],
   "source": [
    "print(car.loc[car[\"동별\"]==\"노고산동\",\"동별\"])\n",
    "print(car.loc[car[\"동별\"]==\"도곡동\",\"동별\"])\n",
    "print(car.loc[car[\"동별\"]==\"논현동\",\"동별\"])\n",
    "print(car.loc[car[\"동별\"]==\"월계4동\",\"동별\"])\n",
    "print(car.loc[car[\"동별\"]==\"평택시\"])\n",
    "print(car.loc[car[\"동별\"]==\"개봉본동\",\"동별\"])\n",
    "print(car.loc[car[\"동별\"]==\"구로본동\",\"동별\"])\n",
    "print(car.loc[car[\"동별\"]==\"항동\",\"동별\"])"
   ]
  },
  {
   "cell_type": "code",
   "execution_count": 56,
   "id": "6e812974",
   "metadata": {},
   "outputs": [],
   "source": [
    "car.drop([218,687,1158,1633,2107,\n",
    "          1193,1668,2142,\n",
    "          6,475,944,1418,1892,\n",
    "          163,632,1103,1578,2052,\n",
    "          2266,\n",
    "          122,591,1061,1536,2010,\n",
    "          130,599,1069,1544,2018,\n",
    "          1075, 1550, 2024], inplace=True)"
   ]
  },
  {
   "cell_type": "code",
   "execution_count": 57,
   "id": "6efd0260",
   "metadata": {},
   "outputs": [],
   "source": [
    "car22=car[car[\"연도\"]==2022]"
   ]
  },
  {
   "cell_type": "code",
   "execution_count": 58,
   "id": "ee33e4a2",
   "metadata": {},
   "outputs": [
    {
     "name": "stdout",
     "output_type": "stream",
     "text": [
      "마포구\n",
      "---------------------------------------------------\n",
      "서초구\n",
      "---------------------------------------------------\n",
      "송파구\n",
      "---------------------------------------------------\n",
      "중랑구\n",
      "---------------------------------------------------\n",
      "강남구\n",
      "---------------------------------------------------\n",
      "성북구\n",
      "---------------------------------------------------\n",
      "관악구\n",
      "---------------------------------------------------\n",
      "동작구\n",
      "---------------------------------------------------\n",
      "노원구\n",
      "---------------------------------------------------\n",
      "양천구\n",
      "---------------------------------------------------\n",
      "용산구\n",
      "---------------------------------------------------\n",
      "광진구\n",
      "---------------------------------------------------\n",
      "서대문구\n",
      "---------------------------------------------------\n",
      "도봉구\n",
      "---------------------------------------------------\n",
      "중구\n",
      "---------------------------------------------------\n",
      "성동구\n",
      "---------------------------------------------------\n",
      "동대문구\n",
      "---------------------------------------------------\n",
      "은평구\n",
      "---------------------------------------------------\n",
      "강서구\n",
      "---------------------------------------------------\n",
      "종로구\n",
      "---------------------------------------------------\n",
      "영등포구\n",
      "---------------------------------------------------\n",
      "강동구\n",
      "---------------------------------------------------\n",
      "금천구\n",
      "---------------------------------------------------\n",
      "구로구\n",
      "---------------------------------------------------\n",
      "강북구\n",
      "---------------------------------------------------\n"
     ]
    }
   ],
   "source": [
    "for i in gu : \n",
    "    std_c=flow22.loc[flow22[\"구\"]== i,[\"동\"]].sort_values(by=\"동\")\n",
    "    con_c=car22.loc[car22[\"구별\"]== i,[\"동별\"]].sort_values(by=\"동별\")\n",
    "    df_c=pd.merge(std_c,con_c,left_on=\"동\", right_on=\"동별\", how=\"outer\")\n",
    "    df_c[\"동\"]=df_c[\"동\"].astype(str)\n",
    "    df_c[\"동별\"]=df_c[\"동별\"].astype(str)\n",
    "    df_c[\"판단\"]=\"\"\n",
    "    for j in df_c.index :\n",
    "        if df_c[\"동\"][j].strip() != df_c[\"동별\"][j].strip() :\n",
    "            df_c[\"판단\"][j]=\"수정\"\n",
    "        else : \n",
    "            df_c[\"판단\"][j]=\"pass\"\n",
    "    if df_c[\"판단\"].str.contains(\"수정\").any() :\n",
    "        print(i, df_c[df_c[\"판단\"]==\"수정\"])\n",
    "        print(\"---------------------------------------------------\")\n",
    "    else :\n",
    "        print(i)\n",
    "        print(\"---------------------------------------------------\")"
   ]
  },
  {
   "cell_type": "code",
   "execution_count": 59,
   "id": "5df13bca",
   "metadata": {},
   "outputs": [],
   "source": [
    "car=car.groupby([\"구별\",\"동별\",\"연도\"])[[\"차량등록대수\"]].sum()"
   ]
  },
  {
   "cell_type": "code",
   "execution_count": 60,
   "id": "f9c3a88a",
   "metadata": {},
   "outputs": [],
   "source": [
    "car.to_csv(\"../../Data/회귀분석/동별차량(수정).csv\",encoding=\"utf-8\")"
   ]
  },
  {
   "cell_type": "markdown",
   "id": "8334db01",
   "metadata": {},
   "source": [
    "## (2) 면적"
   ]
  },
  {
   "cell_type": "code",
   "execution_count": 295,
   "id": "d3aaaf0a",
   "metadata": {},
   "outputs": [],
   "source": [
    "area=pd.read_csv(\"../../Data/회귀분석/동별면적.csv\")"
   ]
  },
  {
   "cell_type": "code",
   "execution_count": 296,
   "id": "333233e9",
   "metadata": {},
   "outputs": [],
   "source": [
    "area.loc[area[\"동별\"].str.contains(\"상일\"),\"동별\"]=\"상일동\""
   ]
  },
  {
   "cell_type": "code",
   "execution_count": 292,
   "id": "8747d87d",
   "metadata": {},
   "outputs": [
    {
     "name": "stdout",
     "output_type": "stream",
     "text": [
      "2058    개포3동\n",
      "Name: 동별, dtype: object\n",
      "1123    항동\n",
      "1548    항동\n",
      "1974    항동\n",
      "Name: 동별, dtype: object\n"
     ]
    }
   ],
   "source": [
    "# print(area.loc[area[\"동별\"]==\"일원2동\",\"동별\"])\n",
    "print(area.loc[area[\"동별\"]==\"개포3동\",\"동별\"])\n",
    "print(area.loc[area[\"동별\"]==\"항동\",\"동별\"])\n",
    "area.drop([2058,\n",
    "          1123,1548,1974], inplace=True)"
   ]
  },
  {
   "cell_type": "code",
   "execution_count": 300,
   "id": "1ef00868",
   "metadata": {},
   "outputs": [],
   "source": [
    "area22=area[area[\"연도\"]==2022]"
   ]
  },
  {
   "cell_type": "code",
   "execution_count": 301,
   "id": "7477f799",
   "metadata": {},
   "outputs": [
    {
     "name": "stdout",
     "output_type": "stream",
     "text": [
      "강\n",
      "---------------------------------------------------\n",
      "동\n",
      "---------------------------------------------------\n",
      "구\n",
      "---------------------------------------------------\n"
     ]
    }
   ],
   "source": [
    "for i in gu : \n",
    "    std_p=flow22.loc[flow22[\"구\"]== i,[\"동\"]].sort_values(by=\"동\")\n",
    "    con_p=area22.loc[area22[\"구별\"]== i,[\"동별\"]].sort_values(by=\"동별\")\n",
    "    df_p=pd.merge(std_p,con_p,left_on=\"동\", right_on=\"동별\", how=\"outer\")\n",
    "    df_p[\"동\"]=df_p[\"동\"].astype(str)\n",
    "    df_p[\"동별\"]=df_p[\"동별\"].astype(str)\n",
    "    df_p[\"판단\"]=\"\"\n",
    "    for j in df_p.index :\n",
    "        if df_p[\"동\"][j].strip() != df_p[\"동별\"][j].strip() :\n",
    "            df_p[\"판단\"][j]=\"수정\"\n",
    "        else : \n",
    "            df_p[\"판단\"][j]=\"pass\"\n",
    "    if df_p[\"판단\"].str.contains(\"수정\").any() :\n",
    "        print(i, df_p[df_p[\"판단\"]==\"수정\"])\n",
    "        print(\"---------------------------------------------------\")\n",
    "    else :\n",
    "        print(i)\n",
    "        print(\"---------------------------------------------------\")"
   ]
  },
  {
   "cell_type": "code",
   "execution_count": 89,
   "id": "2dc9c22d",
   "metadata": {},
   "outputs": [],
   "source": [
    "area=area.groupby([\"구별\",\"동별\",\"연도\"])[[\"면적\"]].sum()"
   ]
  },
  {
   "cell_type": "code",
   "execution_count": 90,
   "id": "54685294",
   "metadata": {},
   "outputs": [],
   "source": [
    "area.to_csv(\"../../Data/회귀분석/동별면적(수정).csv\", encoding=\"utf-8\")"
   ]
  },
  {
   "cell_type": "markdown",
   "id": "f34c2bcc",
   "metadata": {},
   "source": [
    "## (4) 인구밀도"
   ]
  },
  {
   "cell_type": "code",
   "execution_count": 91,
   "id": "8056f5e0",
   "metadata": {},
   "outputs": [],
   "source": [
    "p_den=pd.read_csv(\"../../Data/회귀분석/인구밀도_20230424093342.csv\", usecols=[0,2,3,6])\n",
    "p_den.columns=[\"연도\",\"구별\",\"동별\",\"인구밀도\"]"
   ]
  },
  {
   "cell_type": "code",
   "execution_count": 92,
   "id": "a322cb85",
   "metadata": {},
   "outputs": [],
   "source": [
    "p_den=p_den[(p_den[\"구별\"]!=\"소계\")& (p_den[\"동별\"]!=\"소계\")]"
   ]
  },
  {
   "cell_type": "code",
   "execution_count": 98,
   "id": "14ddf59d",
   "metadata": {},
   "outputs": [],
   "source": [
    "p_den.loc[p_den[\"동별\"].str.contains(\"상일\"),\"동별\"]=\"상일동\""
   ]
  },
  {
   "cell_type": "code",
   "execution_count": 102,
   "id": "562dee93",
   "metadata": {},
   "outputs": [
    {
     "name": "stdout",
     "output_type": "stream",
     "text": [
      "2186    개포3동\n",
      "Name: 동별, dtype: object\n",
      "1193    항동\n",
      "1644    항동\n",
      "2096    항동\n",
      "Name: 동별, dtype: object\n"
     ]
    }
   ],
   "source": [
    "print(p_den.loc[p_den[\"동별\"]==\"개포3동\",\"동별\"])\n",
    "print(p_den.loc[p_den[\"동별\"]==\"항동\",\"동별\"])\n",
    "p_den.drop([2186,\n",
    "          1193, 1644, 2096], inplace=True)"
   ]
  },
  {
   "cell_type": "code",
   "execution_count": 103,
   "id": "e21cb065",
   "metadata": {},
   "outputs": [
    {
     "data": {
      "text/html": [
       "<div>\n",
       "<style scoped>\n",
       "    .dataframe tbody tr th:only-of-type {\n",
       "        vertical-align: middle;\n",
       "    }\n",
       "\n",
       "    .dataframe tbody tr th {\n",
       "        vertical-align: top;\n",
       "    }\n",
       "\n",
       "    .dataframe thead th {\n",
       "        text-align: right;\n",
       "    }\n",
       "</style>\n",
       "<table border=\"1\" class=\"dataframe\">\n",
       "  <thead>\n",
       "    <tr style=\"text-align: right;\">\n",
       "      <th></th>\n",
       "      <th>연도</th>\n",
       "      <th>구별</th>\n",
       "      <th>동별</th>\n",
       "      <th>인구밀도</th>\n",
       "    </tr>\n",
       "  </thead>\n",
       "  <tbody>\n",
       "    <tr>\n",
       "      <th>1805</th>\n",
       "      <td>2022</td>\n",
       "      <td>종로구</td>\n",
       "      <td>사직동</td>\n",
       "      <td>7606</td>\n",
       "    </tr>\n",
       "    <tr>\n",
       "      <th>1806</th>\n",
       "      <td>2022</td>\n",
       "      <td>종로구</td>\n",
       "      <td>삼청동</td>\n",
       "      <td>1773</td>\n",
       "    </tr>\n",
       "    <tr>\n",
       "      <th>1807</th>\n",
       "      <td>2022</td>\n",
       "      <td>종로구</td>\n",
       "      <td>부암동</td>\n",
       "      <td>4201</td>\n",
       "    </tr>\n",
       "    <tr>\n",
       "      <th>1808</th>\n",
       "      <td>2022</td>\n",
       "      <td>종로구</td>\n",
       "      <td>평창동</td>\n",
       "      <td>2013</td>\n",
       "    </tr>\n",
       "    <tr>\n",
       "      <th>1809</th>\n",
       "      <td>2022</td>\n",
       "      <td>종로구</td>\n",
       "      <td>무악동</td>\n",
       "      <td>22367</td>\n",
       "    </tr>\n",
       "    <tr>\n",
       "      <th>...</th>\n",
       "      <td>...</td>\n",
       "      <td>...</td>\n",
       "      <td>...</td>\n",
       "      <td>...</td>\n",
       "    </tr>\n",
       "    <tr>\n",
       "      <th>2250</th>\n",
       "      <td>2022</td>\n",
       "      <td>강동구</td>\n",
       "      <td>천호2동</td>\n",
       "      <td>21545</td>\n",
       "    </tr>\n",
       "    <tr>\n",
       "      <th>2251</th>\n",
       "      <td>2022</td>\n",
       "      <td>강동구</td>\n",
       "      <td>길동</td>\n",
       "      <td>20910</td>\n",
       "    </tr>\n",
       "    <tr>\n",
       "      <th>2252</th>\n",
       "      <td>2022</td>\n",
       "      <td>강동구</td>\n",
       "      <td>강일동</td>\n",
       "      <td>14627</td>\n",
       "    </tr>\n",
       "    <tr>\n",
       "      <th>2253</th>\n",
       "      <td>2022</td>\n",
       "      <td>강동구</td>\n",
       "      <td>상일동</td>\n",
       "      <td>14784</td>\n",
       "    </tr>\n",
       "    <tr>\n",
       "      <th>2254</th>\n",
       "      <td>2022</td>\n",
       "      <td>강동구</td>\n",
       "      <td>상일동</td>\n",
       "      <td>22098</td>\n",
       "    </tr>\n",
       "  </tbody>\n",
       "</table>\n",
       "<p>424 rows × 4 columns</p>\n",
       "</div>"
      ],
      "text/plain": [
       "        연도   구별    동별   인구밀도\n",
       "1805  2022  종로구   사직동   7606\n",
       "1806  2022  종로구   삼청동   1773\n",
       "1807  2022  종로구   부암동   4201\n",
       "1808  2022  종로구   평창동   2013\n",
       "1809  2022  종로구   무악동  22367\n",
       "...    ...  ...   ...    ...\n",
       "2250  2022  강동구  천호2동  21545\n",
       "2251  2022  강동구    길동  20910\n",
       "2252  2022  강동구   강일동  14627\n",
       "2253  2022  강동구   상일동  14784\n",
       "2254  2022  강동구   상일동  22098\n",
       "\n",
       "[424 rows x 4 columns]"
      ]
     },
     "execution_count": 103,
     "metadata": {},
     "output_type": "execute_result"
    }
   ],
   "source": [
    "p_den22=p_den[p_den[\"연도\"]==2022]\n",
    "p_den22"
   ]
  },
  {
   "cell_type": "code",
   "execution_count": 104,
   "id": "949fb35c",
   "metadata": {},
   "outputs": [
    {
     "name": "stdout",
     "output_type": "stream",
     "text": [
      "마포구\n",
      "---------------------------------------------------\n",
      "서초구\n",
      "---------------------------------------------------\n",
      "송파구\n",
      "---------------------------------------------------\n",
      "중랑구\n",
      "---------------------------------------------------\n",
      "강남구        동   동별  판단\n",
      "19  일원2동  nan  수정\n",
      "---------------------------------------------------\n",
      "성북구\n",
      "---------------------------------------------------\n",
      "관악구\n",
      "---------------------------------------------------\n",
      "동작구\n",
      "---------------------------------------------------\n",
      "노원구\n",
      "---------------------------------------------------\n",
      "양천구\n",
      "---------------------------------------------------\n",
      "용산구\n",
      "---------------------------------------------------\n",
      "광진구\n",
      "---------------------------------------------------\n",
      "서대문구\n",
      "---------------------------------------------------\n",
      "도봉구\n",
      "---------------------------------------------------\n",
      "중구\n",
      "---------------------------------------------------\n",
      "성동구\n",
      "---------------------------------------------------\n",
      "동대문구\n",
      "---------------------------------------------------\n",
      "은평구\n",
      "---------------------------------------------------\n",
      "강서구\n",
      "---------------------------------------------------\n",
      "종로구\n",
      "---------------------------------------------------\n",
      "영등포구\n",
      "---------------------------------------------------\n",
      "강동구\n",
      "---------------------------------------------------\n",
      "금천구\n",
      "---------------------------------------------------\n",
      "구로구\n",
      "---------------------------------------------------\n",
      "강북구\n",
      "---------------------------------------------------\n"
     ]
    }
   ],
   "source": [
    "for i in gu : \n",
    "    std_d=flow22.loc[flow22[\"구\"]== i,[\"동\"]].sort_values(by=\"동\")\n",
    "    con_d=p_den22.loc[p_den22[\"구별\"]== i,[\"동별\"]].sort_values(by=\"동별\")\n",
    "    df_d=pd.merge(std_d,con_d,left_on=\"동\", right_on=\"동별\", how=\"outer\")\n",
    "    df_d[\"동\"]=df_d[\"동\"].astype(str)\n",
    "    df_d[\"동별\"]=df_d[\"동별\"].astype(str)\n",
    "    df_d[\"판단\"]=\"\"\n",
    "    for j in df_d.index :\n",
    "        if df_d[\"동\"][j].strip() != df_d[\"동별\"][j].strip() :\n",
    "            df_d[\"판단\"][j]=\"수정\"\n",
    "        else : \n",
    "            df_d[\"판단\"][j]=\"pass\"\n",
    "    if df_d[\"판단\"].str.contains(\"수정\").any() :\n",
    "        print(i, df_d[df_d[\"판단\"]==\"수정\"])\n",
    "        print(\"---------------------------------------------------\")\n",
    "    else :\n",
    "        print(i)\n",
    "        print(\"---------------------------------------------------\")"
   ]
  },
  {
   "cell_type": "code",
   "execution_count": 105,
   "id": "c8869182",
   "metadata": {},
   "outputs": [],
   "source": [
    "p_den.to_csv(\"../../Data/회귀분석/인구밀도.csv\", encoding=\"utf-8\")"
   ]
  },
  {
   "cell_type": "markdown",
   "id": "4e69a274",
   "metadata": {},
   "source": [
    "## (5) 교통량 "
   ]
  },
  {
   "cell_type": "code",
   "execution_count": 257,
   "id": "abc671e8",
   "metadata": {},
   "outputs": [],
   "source": [
    "traffic=pd.read_csv(\"../../Data/회귀분석/교통량_18_22.csv\",\n",
    "            header=None)"
   ]
  },
  {
   "cell_type": "code",
   "execution_count": 258,
   "id": "24d67d86",
   "metadata": {},
   "outputs": [],
   "source": [
    "traffic.columns=[\"구별\", \"동별\",\"연도\",\"평균교통량\"]"
   ]
  },
  {
   "cell_type": "code",
   "execution_count": 259,
   "id": "e0734add",
   "metadata": {},
   "outputs": [],
   "source": [
    "# t22=traffic[traffic[\"연도\"]==2022]"
   ]
  },
  {
   "cell_type": "code",
   "execution_count": 285,
   "id": "46e19f23",
   "metadata": {},
   "outputs": [],
   "source": [
    "df_m=traffic.groupby([\"연도\",\"구별\"])[[\"평균교통량\"]].mean()\n",
    "df_m.reset_index(inplace=True)"
   ]
  },
  {
   "cell_type": "code",
   "execution_count": 287,
   "id": "ce82ebf4",
   "metadata": {},
   "outputs": [
    {
     "data": {
      "text/html": [
       "<div>\n",
       "<style scoped>\n",
       "    .dataframe tbody tr th:only-of-type {\n",
       "        vertical-align: middle;\n",
       "    }\n",
       "\n",
       "    .dataframe tbody tr th {\n",
       "        vertical-align: top;\n",
       "    }\n",
       "\n",
       "    .dataframe thead th {\n",
       "        text-align: right;\n",
       "    }\n",
       "</style>\n",
       "<table border=\"1\" class=\"dataframe\">\n",
       "  <thead>\n",
       "    <tr style=\"text-align: right;\">\n",
       "      <th></th>\n",
       "      <th>연도</th>\n",
       "      <th>구별</th>\n",
       "      <th>평균교통량</th>\n",
       "    </tr>\n",
       "  </thead>\n",
       "  <tbody>\n",
       "    <tr>\n",
       "      <th>99</th>\n",
       "      <td>2022</td>\n",
       "      <td>관악구</td>\n",
       "      <td>1044.853917</td>\n",
       "    </tr>\n",
       "  </tbody>\n",
       "</table>\n",
       "</div>"
      ],
      "text/plain": [
       "      연도   구별        평균교통량\n",
       "99  2022  관악구  1044.853917"
      ]
     },
     "execution_count": 287,
     "metadata": {},
     "output_type": "execute_result"
    }
   ],
   "source": [
    "df_m[(df_m[\"구별\"]==\"관악구\") & (df_m[\"연도\"]==2022)]"
   ]
  },
  {
   "cell_type": "code",
   "execution_count": 261,
   "id": "33f5f13d",
   "metadata": {},
   "outputs": [],
   "source": [
    "df_t=df_m.groupby(\"연도\")[[\"평균교통량\"]].mean()\n",
    "df_t.reset_index(inplace=True)"
   ]
  },
  {
   "cell_type": "code",
   "execution_count": 282,
   "id": "86bbf45a",
   "metadata": {
    "scrolled": true
   },
   "outputs": [
    {
     "data": {
      "text/html": [
       "<div>\n",
       "<style scoped>\n",
       "    .dataframe tbody tr th:only-of-type {\n",
       "        vertical-align: middle;\n",
       "    }\n",
       "\n",
       "    .dataframe tbody tr th {\n",
       "        vertical-align: top;\n",
       "    }\n",
       "\n",
       "    .dataframe thead th {\n",
       "        text-align: right;\n",
       "    }\n",
       "</style>\n",
       "<table border=\"1\" class=\"dataframe\">\n",
       "  <thead>\n",
       "    <tr style=\"text-align: right;\">\n",
       "      <th></th>\n",
       "      <th>구</th>\n",
       "      <th>동</th>\n",
       "      <th>연도</th>\n",
       "    </tr>\n",
       "  </thead>\n",
       "  <tbody>\n",
       "    <tr>\n",
       "      <th>318</th>\n",
       "      <td>관악구</td>\n",
       "      <td>보라매동</td>\n",
       "      <td>2018</td>\n",
       "    </tr>\n",
       "    <tr>\n",
       "      <th>319</th>\n",
       "      <td>관악구</td>\n",
       "      <td>청림동</td>\n",
       "      <td>2018</td>\n",
       "    </tr>\n",
       "    <tr>\n",
       "      <th>320</th>\n",
       "      <td>관악구</td>\n",
       "      <td>성현동</td>\n",
       "      <td>2018</td>\n",
       "    </tr>\n",
       "    <tr>\n",
       "      <th>321</th>\n",
       "      <td>관악구</td>\n",
       "      <td>행운동</td>\n",
       "      <td>2018</td>\n",
       "    </tr>\n",
       "    <tr>\n",
       "      <th>322</th>\n",
       "      <td>관악구</td>\n",
       "      <td>낙성대동</td>\n",
       "      <td>2018</td>\n",
       "    </tr>\n",
       "    <tr>\n",
       "      <th>...</th>\n",
       "      <td>...</td>\n",
       "      <td>...</td>\n",
       "      <td>...</td>\n",
       "    </tr>\n",
       "    <tr>\n",
       "      <th>2030</th>\n",
       "      <td>관악구</td>\n",
       "      <td>조원동</td>\n",
       "      <td>2022</td>\n",
       "    </tr>\n",
       "    <tr>\n",
       "      <th>2031</th>\n",
       "      <td>관악구</td>\n",
       "      <td>대학동</td>\n",
       "      <td>2022</td>\n",
       "    </tr>\n",
       "    <tr>\n",
       "      <th>2032</th>\n",
       "      <td>관악구</td>\n",
       "      <td>삼성동</td>\n",
       "      <td>2022</td>\n",
       "    </tr>\n",
       "    <tr>\n",
       "      <th>2033</th>\n",
       "      <td>관악구</td>\n",
       "      <td>미성동</td>\n",
       "      <td>2022</td>\n",
       "    </tr>\n",
       "    <tr>\n",
       "      <th>2034</th>\n",
       "      <td>관악구</td>\n",
       "      <td>난곡동</td>\n",
       "      <td>2022</td>\n",
       "    </tr>\n",
       "  </tbody>\n",
       "</table>\n",
       "<p>105 rows × 3 columns</p>\n",
       "</div>"
      ],
      "text/plain": [
       "        구     동    연도\n",
       "318   관악구  보라매동  2018\n",
       "319   관악구   청림동  2018\n",
       "320   관악구   성현동  2018\n",
       "321   관악구   행운동  2018\n",
       "322   관악구  낙성대동  2018\n",
       "...   ...   ...   ...\n",
       "2030  관악구   조원동  2022\n",
       "2031  관악구   대학동  2022\n",
       "2032  관악구   삼성동  2022\n",
       "2033  관악구   미성동  2022\n",
       "2034  관악구   난곡동  2022\n",
       "\n",
       "[105 rows x 3 columns]"
      ]
     },
     "execution_count": 282,
     "metadata": {},
     "output_type": "execute_result"
    }
   ],
   "source": [
    "df_std=flow[[\"구\",\"동\",\"연도\"]]"
   ]
  },
  {
   "cell_type": "code",
   "execution_count": 268,
   "id": "c0eb6271",
   "metadata": {},
   "outputs": [
    {
     "data": {
      "text/html": [
       "<div>\n",
       "<style scoped>\n",
       "    .dataframe tbody tr th:only-of-type {\n",
       "        vertical-align: middle;\n",
       "    }\n",
       "\n",
       "    .dataframe tbody tr th {\n",
       "        vertical-align: top;\n",
       "    }\n",
       "\n",
       "    .dataframe thead th {\n",
       "        text-align: right;\n",
       "    }\n",
       "</style>\n",
       "<table border=\"1\" class=\"dataframe\">\n",
       "  <thead>\n",
       "    <tr style=\"text-align: right;\">\n",
       "      <th></th>\n",
       "      <th>구</th>\n",
       "      <th>동</th>\n",
       "      <th>연도</th>\n",
       "      <th>구별_x</th>\n",
       "      <th>동별</th>\n",
       "      <th>평균교통량_x</th>\n",
       "      <th>구별_y</th>\n",
       "      <th>평균교통량_y</th>\n",
       "    </tr>\n",
       "  </thead>\n",
       "  <tbody>\n",
       "    <tr>\n",
       "      <th>0</th>\n",
       "      <td>종로구</td>\n",
       "      <td>청운효자동</td>\n",
       "      <td>2018</td>\n",
       "      <td>종로구</td>\n",
       "      <td>청운효자동</td>\n",
       "      <td>641.593260</td>\n",
       "      <td>종로구</td>\n",
       "      <td>985.40366</td>\n",
       "    </tr>\n",
       "    <tr>\n",
       "      <th>1</th>\n",
       "      <td>종로구</td>\n",
       "      <td>사직동</td>\n",
       "      <td>2018</td>\n",
       "      <td>종로구</td>\n",
       "      <td>사직동</td>\n",
       "      <td>990.459829</td>\n",
       "      <td>종로구</td>\n",
       "      <td>985.40366</td>\n",
       "    </tr>\n",
       "    <tr>\n",
       "      <th>2</th>\n",
       "      <td>종로구</td>\n",
       "      <td>삼청동</td>\n",
       "      <td>2018</td>\n",
       "      <td>NaN</td>\n",
       "      <td>NaN</td>\n",
       "      <td>NaN</td>\n",
       "      <td>종로구</td>\n",
       "      <td>985.40366</td>\n",
       "    </tr>\n",
       "    <tr>\n",
       "      <th>3</th>\n",
       "      <td>종로구</td>\n",
       "      <td>부암동</td>\n",
       "      <td>2018</td>\n",
       "      <td>NaN</td>\n",
       "      <td>NaN</td>\n",
       "      <td>NaN</td>\n",
       "      <td>종로구</td>\n",
       "      <td>985.40366</td>\n",
       "    </tr>\n",
       "    <tr>\n",
       "      <th>4</th>\n",
       "      <td>종로구</td>\n",
       "      <td>평창동</td>\n",
       "      <td>2018</td>\n",
       "      <td>종로구</td>\n",
       "      <td>평창동</td>\n",
       "      <td>932.114484</td>\n",
       "      <td>종로구</td>\n",
       "      <td>985.40366</td>\n",
       "    </tr>\n",
       "    <tr>\n",
       "      <th>...</th>\n",
       "      <td>...</td>\n",
       "      <td>...</td>\n",
       "      <td>...</td>\n",
       "      <td>...</td>\n",
       "      <td>...</td>\n",
       "      <td>...</td>\n",
       "      <td>...</td>\n",
       "      <td>...</td>\n",
       "    </tr>\n",
       "    <tr>\n",
       "      <th>2140</th>\n",
       "      <td>NaN</td>\n",
       "      <td>NaN</td>\n",
       "      <td>2022</td>\n",
       "      <td>강남구</td>\n",
       "      <td>개포3동</td>\n",
       "      <td>2728.373885</td>\n",
       "      <td>NaN</td>\n",
       "      <td>NaN</td>\n",
       "    </tr>\n",
       "    <tr>\n",
       "      <th>2141</th>\n",
       "      <td>NaN</td>\n",
       "      <td>NaN</td>\n",
       "      <td>2022</td>\n",
       "      <td>강동구</td>\n",
       "      <td>상일2동</td>\n",
       "      <td>2015.964228</td>\n",
       "      <td>NaN</td>\n",
       "      <td>NaN</td>\n",
       "    </tr>\n",
       "    <tr>\n",
       "      <th>2142</th>\n",
       "      <td>NaN</td>\n",
       "      <td>NaN</td>\n",
       "      <td>2022</td>\n",
       "      <td>광진구</td>\n",
       "      <td>자양동</td>\n",
       "      <td>2441.924718</td>\n",
       "      <td>NaN</td>\n",
       "      <td>NaN</td>\n",
       "    </tr>\n",
       "    <tr>\n",
       "      <th>2143</th>\n",
       "      <td>NaN</td>\n",
       "      <td>NaN</td>\n",
       "      <td>2022</td>\n",
       "      <td>구로구</td>\n",
       "      <td>궁동</td>\n",
       "      <td>851.737562</td>\n",
       "      <td>NaN</td>\n",
       "      <td>NaN</td>\n",
       "    </tr>\n",
       "    <tr>\n",
       "      <th>2144</th>\n",
       "      <td>NaN</td>\n",
       "      <td>NaN</td>\n",
       "      <td>2022</td>\n",
       "      <td>서초구</td>\n",
       "      <td>서초동</td>\n",
       "      <td>3979.484266</td>\n",
       "      <td>NaN</td>\n",
       "      <td>NaN</td>\n",
       "    </tr>\n",
       "  </tbody>\n",
       "</table>\n",
       "<p>2145 rows × 8 columns</p>\n",
       "</div>"
      ],
      "text/plain": [
       "        구      동    연도 구별_x     동별      평균교통량_x 구별_y    평균교통량_y\n",
       "0     종로구  청운효자동  2018  종로구  청운효자동   641.593260  종로구  985.40366\n",
       "1     종로구    사직동  2018  종로구    사직동   990.459829  종로구  985.40366\n",
       "2     종로구    삼청동  2018  NaN    NaN          NaN  종로구  985.40366\n",
       "3     종로구    부암동  2018  NaN    NaN          NaN  종로구  985.40366\n",
       "4     종로구    평창동  2018  종로구    평창동   932.114484  종로구  985.40366\n",
       "...   ...    ...   ...  ...    ...          ...  ...        ...\n",
       "2140  NaN    NaN  2022  강남구   개포3동  2728.373885  NaN        NaN\n",
       "2141  NaN    NaN  2022  강동구   상일2동  2015.964228  NaN        NaN\n",
       "2142  NaN    NaN  2022  광진구    자양동  2441.924718  NaN        NaN\n",
       "2143  NaN    NaN  2022  구로구     궁동   851.737562  NaN        NaN\n",
       "2144  NaN    NaN  2022  서초구    서초동  3979.484266  NaN        NaN\n",
       "\n",
       "[2145 rows x 8 columns]"
      ]
     },
     "execution_count": 268,
     "metadata": {},
     "output_type": "execute_result"
    }
   ],
   "source": [
    "m=pd.merge(df_std, traffic,left_on=[\"동\",\"연도\"], right_on=[\"동별\",\"연도\"], how=\"outer\")\n",
    "# m\n",
    "m=pd.merge(m, df_m,left_on=[\"구\",\"연도\"], right_on=[\"구별\",\"연도\"], how=\"outer\")\n",
    "m"
   ]
  },
  {
   "cell_type": "code",
   "execution_count": 269,
   "id": "2eace7dd",
   "metadata": {
    "scrolled": true
   },
   "outputs": [
    {
     "data": {
      "text/plain": [
       "array(['개포3동', '상일2동', '자양동', '궁동', '서초동'], dtype=object)"
      ]
     },
     "execution_count": 269,
     "metadata": {},
     "output_type": "execute_result"
    }
   ],
   "source": [
    "m.loc[m[\"동\"].isna(),\"동별\"].unique()"
   ]
  },
  {
   "cell_type": "code",
   "execution_count": 270,
   "id": "ef307a74",
   "metadata": {},
   "outputs": [],
   "source": [
    "m=m.loc[~ m[\"동별\"].isin(['개포3동', '상일2동', '자양동', '궁동', '서초동'])]"
   ]
  },
  {
   "cell_type": "markdown",
   "id": "f14287b9",
   "metadata": {},
   "source": [
    "### 결측치\n",
    "\n",
    "- 구별 평균교통량 대체\n",
    "- 강북구의 경우 지점이 없어 구별 평균교통량의 평균으로 대체"
   ]
  },
  {
   "cell_type": "code",
   "execution_count": 271,
   "id": "507f6060",
   "metadata": {
    "scrolled": true
   },
   "outputs": [
    {
     "data": {
      "text/html": [
       "<div>\n",
       "<style scoped>\n",
       "    .dataframe tbody tr th:only-of-type {\n",
       "        vertical-align: middle;\n",
       "    }\n",
       "\n",
       "    .dataframe tbody tr th {\n",
       "        vertical-align: top;\n",
       "    }\n",
       "\n",
       "    .dataframe thead th {\n",
       "        text-align: right;\n",
       "    }\n",
       "</style>\n",
       "<table border=\"1\" class=\"dataframe\">\n",
       "  <thead>\n",
       "    <tr style=\"text-align: right;\">\n",
       "      <th></th>\n",
       "      <th>구</th>\n",
       "      <th>동</th>\n",
       "      <th>연도</th>\n",
       "      <th>구별_x</th>\n",
       "      <th>동별</th>\n",
       "      <th>평균교통량_x</th>\n",
       "      <th>구별_y</th>\n",
       "      <th>평균교통량_y</th>\n",
       "    </tr>\n",
       "  </thead>\n",
       "  <tbody>\n",
       "    <tr>\n",
       "      <th>2</th>\n",
       "      <td>종로구</td>\n",
       "      <td>삼청동</td>\n",
       "      <td>2018</td>\n",
       "      <td>NaN</td>\n",
       "      <td>NaN</td>\n",
       "      <td>NaN</td>\n",
       "      <td>종로구</td>\n",
       "      <td>985.403660</td>\n",
       "    </tr>\n",
       "    <tr>\n",
       "      <th>3</th>\n",
       "      <td>종로구</td>\n",
       "      <td>부암동</td>\n",
       "      <td>2018</td>\n",
       "      <td>NaN</td>\n",
       "      <td>NaN</td>\n",
       "      <td>NaN</td>\n",
       "      <td>종로구</td>\n",
       "      <td>985.403660</td>\n",
       "    </tr>\n",
       "    <tr>\n",
       "      <th>5</th>\n",
       "      <td>종로구</td>\n",
       "      <td>무악동</td>\n",
       "      <td>2018</td>\n",
       "      <td>NaN</td>\n",
       "      <td>NaN</td>\n",
       "      <td>NaN</td>\n",
       "      <td>종로구</td>\n",
       "      <td>985.403660</td>\n",
       "    </tr>\n",
       "    <tr>\n",
       "      <th>7</th>\n",
       "      <td>종로구</td>\n",
       "      <td>가회동</td>\n",
       "      <td>2018</td>\n",
       "      <td>NaN</td>\n",
       "      <td>NaN</td>\n",
       "      <td>NaN</td>\n",
       "      <td>종로구</td>\n",
       "      <td>985.403660</td>\n",
       "    </tr>\n",
       "    <tr>\n",
       "      <th>9</th>\n",
       "      <td>종로구</td>\n",
       "      <td>종로5.6가동</td>\n",
       "      <td>2018</td>\n",
       "      <td>NaN</td>\n",
       "      <td>NaN</td>\n",
       "      <td>NaN</td>\n",
       "      <td>종로구</td>\n",
       "      <td>985.403660</td>\n",
       "    </tr>\n",
       "    <tr>\n",
       "      <th>...</th>\n",
       "      <td>...</td>\n",
       "      <td>...</td>\n",
       "      <td>...</td>\n",
       "      <td>...</td>\n",
       "      <td>...</td>\n",
       "      <td>...</td>\n",
       "      <td>...</td>\n",
       "      <td>...</td>\n",
       "    </tr>\n",
       "    <tr>\n",
       "      <th>2115</th>\n",
       "      <td>강동구</td>\n",
       "      <td>성내2동</td>\n",
       "      <td>2022</td>\n",
       "      <td>NaN</td>\n",
       "      <td>NaN</td>\n",
       "      <td>NaN</td>\n",
       "      <td>강동구</td>\n",
       "      <td>2124.166204</td>\n",
       "    </tr>\n",
       "    <tr>\n",
       "      <th>2116</th>\n",
       "      <td>강동구</td>\n",
       "      <td>성내3동</td>\n",
       "      <td>2022</td>\n",
       "      <td>NaN</td>\n",
       "      <td>NaN</td>\n",
       "      <td>NaN</td>\n",
       "      <td>강동구</td>\n",
       "      <td>2124.166204</td>\n",
       "    </tr>\n",
       "    <tr>\n",
       "      <th>2117</th>\n",
       "      <td>강동구</td>\n",
       "      <td>길동</td>\n",
       "      <td>2022</td>\n",
       "      <td>NaN</td>\n",
       "      <td>NaN</td>\n",
       "      <td>NaN</td>\n",
       "      <td>강동구</td>\n",
       "      <td>2124.166204</td>\n",
       "    </tr>\n",
       "    <tr>\n",
       "      <th>2118</th>\n",
       "      <td>강동구</td>\n",
       "      <td>둔촌1동</td>\n",
       "      <td>2022</td>\n",
       "      <td>NaN</td>\n",
       "      <td>NaN</td>\n",
       "      <td>NaN</td>\n",
       "      <td>강동구</td>\n",
       "      <td>2124.166204</td>\n",
       "    </tr>\n",
       "    <tr>\n",
       "      <th>2119</th>\n",
       "      <td>강동구</td>\n",
       "      <td>둔촌2동</td>\n",
       "      <td>2022</td>\n",
       "      <td>NaN</td>\n",
       "      <td>NaN</td>\n",
       "      <td>NaN</td>\n",
       "      <td>강동구</td>\n",
       "      <td>2124.166204</td>\n",
       "    </tr>\n",
       "  </tbody>\n",
       "</table>\n",
       "<p>1653 rows × 8 columns</p>\n",
       "</div>"
      ],
      "text/plain": [
       "        구        동    연도 구별_x   동별  평균교통량_x 구별_y      평균교통량_y\n",
       "2     종로구      삼청동  2018  NaN  NaN      NaN  종로구   985.403660\n",
       "3     종로구      부암동  2018  NaN  NaN      NaN  종로구   985.403660\n",
       "5     종로구      무악동  2018  NaN  NaN      NaN  종로구   985.403660\n",
       "7     종로구      가회동  2018  NaN  NaN      NaN  종로구   985.403660\n",
       "9     종로구  종로5.6가동  2018  NaN  NaN      NaN  종로구   985.403660\n",
       "...   ...      ...   ...  ...  ...      ...  ...          ...\n",
       "2115  강동구     성내2동  2022  NaN  NaN      NaN  강동구  2124.166204\n",
       "2116  강동구     성내3동  2022  NaN  NaN      NaN  강동구  2124.166204\n",
       "2117  강동구       길동  2022  NaN  NaN      NaN  강동구  2124.166204\n",
       "2118  강동구     둔촌1동  2022  NaN  NaN      NaN  강동구  2124.166204\n",
       "2119  강동구     둔촌2동  2022  NaN  NaN      NaN  강동구  2124.166204\n",
       "\n",
       "[1653 rows x 8 columns]"
      ]
     },
     "execution_count": 271,
     "metadata": {},
     "output_type": "execute_result"
    }
   ],
   "source": [
    "m[m[\"평균교통량_x\"].isna()]"
   ]
  },
  {
   "cell_type": "code",
   "execution_count": 275,
   "id": "6a30d418",
   "metadata": {},
   "outputs": [],
   "source": [
    "for i in m.index :\n",
    "    if np.isnan(m.loc[i, \"평균교통량_x\"]) :\n",
    "        year= m.loc[i, \"연도\"]\n",
    "        gu = m.loc[i, \"구\"]\n",
    "        dong = m.loc[i, \"동\"]\n",
    "        m.loc[i, \"구별_x\"]=gu\n",
    "        m.loc[i, \"동별\"]=dong       \n",
    "        if gu != \"강북구\" :\n",
    "            m.loc[i, \"평균교통량_x\"] = m.loc[i, \"평균교통량_y\"]\n",
    "        else :\n",
    "            m.loc[i, \"평균교통량_x\"]=df_t.loc[df_t[\"연도\"]==year,\"평균교통량\"].values\n",
    "    else :  pass"
   ]
  },
  {
   "cell_type": "code",
   "execution_count": 274,
   "id": "f1f29ac3",
   "metadata": {},
   "outputs": [
    {
     "data": {
      "text/html": [
       "<div>\n",
       "<style scoped>\n",
       "    .dataframe tbody tr th:only-of-type {\n",
       "        vertical-align: middle;\n",
       "    }\n",
       "\n",
       "    .dataframe tbody tr th {\n",
       "        vertical-align: top;\n",
       "    }\n",
       "\n",
       "    .dataframe thead th {\n",
       "        text-align: right;\n",
       "    }\n",
       "</style>\n",
       "<table border=\"1\" class=\"dataframe\">\n",
       "  <thead>\n",
       "    <tr style=\"text-align: right;\">\n",
       "      <th></th>\n",
       "      <th>연도</th>\n",
       "      <th>평균교통량</th>\n",
       "    </tr>\n",
       "  </thead>\n",
       "  <tbody>\n",
       "    <tr>\n",
       "      <th>4</th>\n",
       "      <td>2022</td>\n",
       "      <td>1569.546583</td>\n",
       "    </tr>\n",
       "  </tbody>\n",
       "</table>\n",
       "</div>"
      ],
      "text/plain": [
       "     연도        평균교통량\n",
       "4  2022  1569.546583"
      ]
     },
     "execution_count": 274,
     "metadata": {},
     "output_type": "execute_result"
    }
   ],
   "source": [
    "df_t.loc[df_t[\"연도\"]==2022,]"
   ]
  },
  {
   "cell_type": "code",
   "execution_count": 276,
   "id": "ac75a8fd",
   "metadata": {
    "scrolled": true
   },
   "outputs": [
    {
     "data": {
      "text/plain": [
       "130     1712.090976\n",
       "131     1712.090976\n",
       "132     1712.090976\n",
       "133     1712.090976\n",
       "134     1712.090976\n",
       "           ...     \n",
       "1834    1569.546583\n",
       "1835    1569.546583\n",
       "1836    1569.546583\n",
       "1837    1569.546583\n",
       "1838    1569.546583\n",
       "Name: 평균교통량_x, Length: 65, dtype: float64"
      ]
     },
     "execution_count": 276,
     "metadata": {},
     "output_type": "execute_result"
    }
   ],
   "source": [
    "m.loc[m[\"구\"]==\"강북구\",\"평균교통량_x\"]"
   ]
  },
  {
   "cell_type": "code",
   "execution_count": 280,
   "id": "becde257",
   "metadata": {},
   "outputs": [
    {
     "data": {
      "text/html": [
       "<div>\n",
       "<style scoped>\n",
       "    .dataframe tbody tr th:only-of-type {\n",
       "        vertical-align: middle;\n",
       "    }\n",
       "\n",
       "    .dataframe tbody tr th {\n",
       "        vertical-align: top;\n",
       "    }\n",
       "\n",
       "    .dataframe thead th {\n",
       "        text-align: right;\n",
       "    }\n",
       "</style>\n",
       "<table border=\"1\" class=\"dataframe\">\n",
       "  <thead>\n",
       "    <tr style=\"text-align: right;\">\n",
       "      <th></th>\n",
       "      <th>구</th>\n",
       "      <th>동</th>\n",
       "      <th>연도</th>\n",
       "      <th>구별_x</th>\n",
       "      <th>동별</th>\n",
       "      <th>평균교통량_x</th>\n",
       "      <th>구별_y</th>\n",
       "      <th>평균교통량_y</th>\n",
       "    </tr>\n",
       "  </thead>\n",
       "  <tbody>\n",
       "  </tbody>\n",
       "</table>\n",
       "</div>"
      ],
      "text/plain": [
       "Empty DataFrame\n",
       "Columns: [구, 동, 연도, 구별_x, 동별, 평균교통량_x, 구별_y, 평균교통량_y]\n",
       "Index: []"
      ]
     },
     "execution_count": 280,
     "metadata": {},
     "output_type": "execute_result"
    }
   ],
   "source": [
    "m.loc[m[\"평균교통량_x\"].isna()]"
   ]
  },
  {
   "cell_type": "code",
   "execution_count": 277,
   "id": "76944bd8",
   "metadata": {
    "scrolled": true
   },
   "outputs": [],
   "source": [
    "tm=m[[\"구별_x\",\"동별\",\"연도\",\"평균교통량_x\"]]"
   ]
  },
  {
   "cell_type": "code",
   "execution_count": 278,
   "id": "8f27ec00",
   "metadata": {
    "scrolled": true
   },
   "outputs": [
    {
     "name": "stderr",
     "output_type": "stream",
     "text": [
      "C:\\Users\\acorn\\AppData\\Local\\Temp\\ipykernel_20456\\3221923978.py:1: SettingWithCopyWarning: \n",
      "A value is trying to be set on a copy of a slice from a DataFrame\n",
      "\n",
      "See the caveats in the documentation: https://pandas.pydata.org/pandas-docs/stable/user_guide/indexing.html#returning-a-view-versus-a-copy\n",
      "  tm.rename(columns={\"구별_x\":\"구별\",\"평균교통량_x\":\"평균교통량\"}, inplace=True)\n"
     ]
    }
   ],
   "source": [
    "tm.rename(columns={\"구별_x\":\"구별\",\"평균교통량_x\":\"평균교통량\"}, inplace=True)"
   ]
  },
  {
   "cell_type": "code",
   "execution_count": 279,
   "id": "7c4f87b0",
   "metadata": {},
   "outputs": [],
   "source": [
    "tm.to_csv(\"../../Data/회귀분석/교통량(수정).csv\", encoding=\"utf-8\")"
   ]
  },
  {
   "cell_type": "markdown",
   "id": "31d30ac4",
   "metadata": {},
   "source": [
    "## (4) 승객수"
   ]
  },
  {
   "cell_type": "code",
   "execution_count": 303,
   "id": "18913394",
   "metadata": {},
   "outputs": [],
   "source": [
    "passenger=pd.read_csv(\"../../../GwangProject/Data/회귀분석/동별대중교통이용승객수.csv\", \n",
    "                encoding= \"utf-8\")"
   ]
  },
  {
   "cell_type": "code",
   "execution_count": 307,
   "id": "b3889473",
   "metadata": {
    "scrolled": true
   },
   "outputs": [],
   "source": [
    "del passenger[\"Unnamed: 0\"]"
   ]
  },
  {
   "cell_type": "code",
   "execution_count": 308,
   "id": "9b857b8e",
   "metadata": {},
   "outputs": [],
   "source": [
    "passenger.columns=[\"구별\",\"동별\",\"승객수\"]"
   ]
  },
  {
   "cell_type": "code",
   "execution_count": 315,
   "id": "48bccb2d",
   "metadata": {},
   "outputs": [
    {
     "name": "stdout",
     "output_type": "stream",
     "text": [
      "25\n",
      "마포구\n",
      "---------------------------------------------------\n",
      "서초구\n",
      "---------------------------------------------------\n",
      "송파구\n",
      "---------------------------------------------------\n",
      "중랑구\n",
      "---------------------------------------------------\n",
      "강남구\n",
      "---------------------------------------------------\n",
      "성북구\n",
      "---------------------------------------------------\n",
      "관악구\n",
      "---------------------------------------------------\n",
      "동작구\n",
      "---------------------------------------------------\n",
      "노원구\n",
      "---------------------------------------------------\n",
      "양천구\n",
      "---------------------------------------------------\n",
      "용산구\n",
      "---------------------------------------------------\n",
      "광진구\n",
      "---------------------------------------------------\n",
      "서대문구\n",
      "---------------------------------------------------\n",
      "도봉구\n",
      "---------------------------------------------------\n",
      "중구\n",
      "---------------------------------------------------\n",
      "성동구\n",
      "---------------------------------------------------\n",
      "동대문구\n",
      "---------------------------------------------------\n",
      "은평구\n",
      "---------------------------------------------------\n",
      "강서구\n",
      "---------------------------------------------------\n",
      "종로구\n",
      "---------------------------------------------------\n",
      "영등포구\n",
      "---------------------------------------------------\n",
      "강동구\n",
      "---------------------------------------------------\n",
      "금천구\n",
      "---------------------------------------------------\n",
      "구로구\n",
      "---------------------------------------------------\n",
      "강북구\n",
      "---------------------------------------------------\n"
     ]
    }
   ],
   "source": [
    "gu=list(set(flow22[\"구\"].unique()))\n",
    "print(len(gu))\n",
    "\n",
    "for i in gu : \n",
    "    std_ps=flow22.loc[flow22[\"구\"]== i,[\"동\"]].sort_values(by=\"동\")\n",
    "    con_ps=passenger.loc[passenger[\"구별\"]== i,[\"동별\"]].sort_values(by=\"동별\")\n",
    "    df_ps=pd.merge(std_ps,con_ps,left_on=\"동\", right_on=\"동별\", how=\"outer\")\n",
    "    df_ps[\"동\"]=df_ps[\"동\"].astype(str)\n",
    "    df_ps[\"동별\"]=df_ps[\"동별\"].astype(str)\n",
    "    df_ps[\"판단\"]=\"\"\n",
    "    for j in df_ps.index :\n",
    "        if df_ps[\"동\"][j].strip() != df_ps[\"동별\"][j].strip() :\n",
    "            df_ps[\"판단\"][j]=\"수정\"\n",
    "        else : \n",
    "            df_ps[\"판단\"][j]=\"pass\"\n",
    "    if df_ps[\"판단\"].str.contains(\"수정\").any() :\n",
    "        print(i, df_ps[df_ps[\"판단\"]==\"수정\"])\n",
    "        print(\"---------------------------------------------------\")\n",
    "    else :\n",
    "        print(i)\n",
    "        print(\"---------------------------------------------------\")"
   ]
  },
  {
   "cell_type": "code",
   "execution_count": 314,
   "id": "b57d062b",
   "metadata": {},
   "outputs": [],
   "source": [
    "passenger[\"동별\"]=passenger[\"동별\"].str.replace(\",\",\".\")"
   ]
  },
  {
   "cell_type": "code",
   "execution_count": 318,
   "id": "487314d4",
   "metadata": {},
   "outputs": [],
   "source": [
    "passenger.to_csv(\"../../Data/회귀분석/동별대중교통이용승객수(수정).csv\", \n",
    "                encoding= \"utf-8\")"
   ]
  },
  {
   "cell_type": "code",
   "execution_count": null,
   "id": "6e394fc4",
   "metadata": {},
   "outputs": [],
   "source": []
  },
  {
   "cell_type": "code",
   "execution_count": null,
   "id": "a360124e",
   "metadata": {},
   "outputs": [],
   "source": []
  },
  {
   "cell_type": "code",
   "execution_count": null,
   "id": "4049dec5",
   "metadata": {},
   "outputs": [],
   "source": []
  },
  {
   "cell_type": "code",
   "execution_count": null,
   "id": "8189e8fb",
   "metadata": {},
   "outputs": [],
   "source": []
  },
  {
   "cell_type": "code",
   "execution_count": null,
   "id": "9bb41045",
   "metadata": {},
   "outputs": [],
   "source": []
  },
  {
   "cell_type": "code",
   "execution_count": null,
   "id": "e58726b4",
   "metadata": {},
   "outputs": [],
   "source": []
  }
 ],
 "metadata": {
  "kernelspec": {
   "display_name": "Python 3 (ipykernel)",
   "language": "python",
   "name": "python3"
  },
  "language_info": {
   "codemirror_mode": {
    "name": "ipython",
    "version": 3
   },
   "file_extension": ".py",
   "mimetype": "text/x-python",
   "name": "python",
   "nbconvert_exporter": "python",
   "pygments_lexer": "ipython3",
   "version": "3.9.13"
  }
 },
 "nbformat": 4,
 "nbformat_minor": 5
}
