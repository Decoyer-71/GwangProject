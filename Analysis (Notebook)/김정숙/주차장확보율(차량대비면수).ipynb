{
 "cells": [
  {
   "cell_type": "code",
   "execution_count": 1,
   "id": "b950e55e",
   "metadata": {},
   "outputs": [],
   "source": [
    "import numpy as np\n",
    "import pandas as pd\n",
    "import matplotlib.pyplot as plt\n",
    "import seaborn as sns\n",
    "\n",
    "import matplotlib.font_manager as fm\n",
    "font_name = fm.FontProperties(fname=\"C:\\\\Windows\\\\Fonts\\\\malgun.ttf\").get_name()\n",
    "plt.rc(\"font\", family = font_name)\n",
    "\n",
    "import matplotlib as mlp\n",
    "mlp.rcParams[\"axes.unicode_minus\"] = False"
   ]
  },
  {
   "cell_type": "code",
   "execution_count": 2,
   "id": "2d5374ca",
   "metadata": {},
   "outputs": [],
   "source": [
    "# import urllib.request as req\n",
    "# from urllib.error import HTTPError, URLError\n",
    "# import requests\n",
    "# from bs4 import BeautifulSoup"
   ]
  },
  {
   "cell_type": "code",
   "execution_count": 3,
   "id": "9dfa05a1",
   "metadata": {},
   "outputs": [],
   "source": [
    "# from selenium import webdriver\n",
    "# from selenium.webdriver.common.by import By\n",
    "# from selenium.webdriver.common.keys import Keys\n",
    "\n",
    "# from webdriver_manager.chrome import ChromeDriverManager\n",
    "# from selenium.webdriver.chrome.service import Service\n",
    "\n",
    "# import time"
   ]
  },
  {
   "cell_type": "code",
   "execution_count": 4,
   "id": "7c0612f3",
   "metadata": {},
   "outputs": [],
   "source": [
    "# import json\n",
    "# from glob import glob"
   ]
  },
  {
   "cell_type": "markdown",
   "id": "002b490f",
   "metadata": {},
   "source": [
    "---"
   ]
  },
  {
   "cell_type": "markdown",
   "id": "fa705dec",
   "metadata": {},
   "source": [
    "# 1. 자동차등록대수"
   ]
  },
  {
   "cell_type": "markdown",
   "id": "122bb56c",
   "metadata": {},
   "source": [
    "## (1) 데이터 처리"
   ]
  },
  {
   "cell_type": "markdown",
   "id": "b4c38866",
   "metadata": {},
   "source": [
    "### 1) 데이터 로드\n",
    "\n",
    "- 서울특별시_행정동별 자동차 등록대수 현황(공공데이터포털) : 2022 기준\n",
    "- https://www.data.go.kr/data/15100168/fileData.do"
   ]
  },
  {
   "cell_type": "code",
   "execution_count": 5,
   "id": "41c27d6c",
   "metadata": {
    "scrolled": true
   },
   "outputs": [],
   "source": [
    "cars_raw = pd.read_csv(\"../../Data/차,주차장/서울특별시_행정동별 자동차 등록대수 현황_20220430.csv\",\n",
    "           encoding=\"euc-kr\")"
   ]
  },
  {
   "cell_type": "code",
   "execution_count": 6,
   "id": "678b7779",
   "metadata": {
    "scrolled": true
   },
   "outputs": [
    {
     "name": "stdout",
     "output_type": "stream",
     "text": [
      "<class 'pandas.core.frame.DataFrame'>\n",
      "RangeIndex: 3570 entries, 0 to 3569\n",
      "Data columns (total 16 columns):\n",
      " #   Column     Non-Null Count  Dtype  \n",
      "---  ------     --------------  -----  \n",
      " 0   사용본거지 시군구  3570 non-null   object \n",
      " 1   읍면동 (행정동)  3570 non-null   object \n",
      " 2   연료         3570 non-null   object \n",
      " 3   계          3506 non-null   float64\n",
      " 4   관용_승용      3570 non-null   int64  \n",
      " 5   관용_승합      3570 non-null   int64  \n",
      " 6   관용_화물      3570 non-null   int64  \n",
      " 7   관용_특수      3570 non-null   int64  \n",
      " 8   자가용_승용     3570 non-null   int64  \n",
      " 9   자가용승합      3570 non-null   int64  \n",
      " 10  자가용화물      3570 non-null   int64  \n",
      " 11  자가용특수      3570 non-null   int64  \n",
      " 12  영업용_승용     3570 non-null   int64  \n",
      " 13  영업용승합      3570 non-null   int64  \n",
      " 14  영업용화물      3570 non-null   int64  \n",
      " 15  영업용특수      3570 non-null   int64  \n",
      "dtypes: float64(1), int64(12), object(3)\n",
      "memory usage: 446.4+ KB\n"
     ]
    }
   ],
   "source": [
    "cars_raw.info()"
   ]
  },
  {
   "cell_type": "code",
   "execution_count": 7,
   "id": "2f367436",
   "metadata": {},
   "outputs": [],
   "source": [
    "car=cars_raw[[\"사용본거지 시군구\", \"읍면동 (행정동)\",\"연료\"]]"
   ]
  },
  {
   "cell_type": "code",
   "execution_count": 8,
   "id": "c229d6d5",
   "metadata": {},
   "outputs": [
    {
     "name": "stderr",
     "output_type": "stream",
     "text": [
      "C:\\Users\\acorn\\AppData\\Local\\Temp\\ipykernel_9660\\1726888252.py:1: SettingWithCopyWarning: \n",
      "A value is trying to be set on a copy of a slice from a DataFrame\n",
      "\n",
      "See the caveats in the documentation: https://pandas.pydata.org/pandas-docs/stable/user_guide/indexing.html#returning-a-view-versus-a-copy\n",
      "  car.rename(columns={\"사용본거지 시군구\":\"시군구\",\n"
     ]
    }
   ],
   "source": [
    "car.rename(columns={\"사용본거지 시군구\":\"시군구\",\n",
    "                    \"읍면동 (행정동)\":\"행정동\"}, inplace=True)"
   ]
  },
  {
   "cell_type": "code",
   "execution_count": 9,
   "id": "09dffa50",
   "metadata": {
    "scrolled": true
   },
   "outputs": [
    {
     "name": "stdout",
     "output_type": "stream",
     "text": [
      "<class 'pandas.core.frame.DataFrame'>\n",
      "RangeIndex: 3570 entries, 0 to 3569\n",
      "Data columns (total 3 columns):\n",
      " #   Column  Non-Null Count  Dtype \n",
      "---  ------  --------------  ----- \n",
      " 0   시군구     3570 non-null   object\n",
      " 1   행정동     3570 non-null   object\n",
      " 2   연료      3570 non-null   object\n",
      "dtypes: object(3)\n",
      "memory usage: 83.8+ KB\n"
     ]
    }
   ],
   "source": [
    "car.info()"
   ]
  },
  {
   "cell_type": "markdown",
   "id": "c1ec116c",
   "metadata": {},
   "source": [
    "### 2) 시군구, 행정동 분리"
   ]
  },
  {
   "cell_type": "code",
   "execution_count": 10,
   "id": "2dcf0587",
   "metadata": {},
   "outputs": [],
   "source": [
    "sigungu_car=[]\n",
    "for i in cars_raw[\"사용본거지 시군구\"].str.split(\" \") :\n",
    "    sigungu_car.append(i[1])"
   ]
  },
  {
   "cell_type": "code",
   "execution_count": 11,
   "id": "50e5bea5",
   "metadata": {},
   "outputs": [],
   "source": [
    "dong_car=[]\n",
    "for i in cars_raw[\"읍면동 (행정동)\"].str.split(\" \") :\n",
    "    dong_car.append(i[1])"
   ]
  },
  {
   "cell_type": "code",
   "execution_count": 12,
   "id": "65e6b79a",
   "metadata": {},
   "outputs": [
    {
     "name": "stderr",
     "output_type": "stream",
     "text": [
      "C:\\Users\\acorn\\AppData\\Local\\Temp\\ipykernel_9660\\1988335006.py:1: SettingWithCopyWarning: \n",
      "A value is trying to be set on a copy of a slice from a DataFrame.\n",
      "Try using .loc[row_indexer,col_indexer] = value instead\n",
      "\n",
      "See the caveats in the documentation: https://pandas.pydata.org/pandas-docs/stable/user_guide/indexing.html#returning-a-view-versus-a-copy\n",
      "  car[\"시군구\"]=sigungu_car\n",
      "C:\\Users\\acorn\\AppData\\Local\\Temp\\ipykernel_9660\\1988335006.py:2: SettingWithCopyWarning: \n",
      "A value is trying to be set on a copy of a slice from a DataFrame.\n",
      "Try using .loc[row_indexer,col_indexer] = value instead\n",
      "\n",
      "See the caveats in the documentation: https://pandas.pydata.org/pandas-docs/stable/user_guide/indexing.html#returning-a-view-versus-a-copy\n",
      "  car[\"행정동\"]=dong_car\n"
     ]
    }
   ],
   "source": [
    "car[\"시군구\"]=sigungu_car\n",
    "car[\"행정동\"]=dong_car"
   ]
  },
  {
   "cell_type": "markdown",
   "id": "a270fceb",
   "metadata": {},
   "source": [
    "### 3) 차량 용도별 합계"
   ]
  },
  {
   "cell_type": "code",
   "execution_count": 13,
   "id": "3d9a550f",
   "metadata": {},
   "outputs": [
    {
     "name": "stderr",
     "output_type": "stream",
     "text": [
      "C:\\Users\\acorn\\AppData\\Local\\Temp\\ipykernel_9660\\3197062585.py:1: SettingWithCopyWarning: \n",
      "A value is trying to be set on a copy of a slice from a DataFrame.\n",
      "Try using .loc[row_indexer,col_indexer] = value instead\n",
      "\n",
      "See the caveats in the documentation: https://pandas.pydata.org/pandas-docs/stable/user_guide/indexing.html#returning-a-view-versus-a-copy\n",
      "  car[\"관용합계\"]=cars_raw[\"관용_승용\"]+cars_raw[\"관용_승합\"]+cars_raw[\"관용_화물\"]+cars_raw[\"관용_특수\"]\n",
      "C:\\Users\\acorn\\AppData\\Local\\Temp\\ipykernel_9660\\3197062585.py:2: SettingWithCopyWarning: \n",
      "A value is trying to be set on a copy of a slice from a DataFrame.\n",
      "Try using .loc[row_indexer,col_indexer] = value instead\n",
      "\n",
      "See the caveats in the documentation: https://pandas.pydata.org/pandas-docs/stable/user_guide/indexing.html#returning-a-view-versus-a-copy\n",
      "  car[\"자가용합계\"]=cars_raw[\"자가용_승용\"]+cars_raw[\"자가용승합\"]+cars_raw[\"자가용화물\"]+cars_raw[\"자가용특수\"]\n",
      "C:\\Users\\acorn\\AppData\\Local\\Temp\\ipykernel_9660\\3197062585.py:3: SettingWithCopyWarning: \n",
      "A value is trying to be set on a copy of a slice from a DataFrame.\n",
      "Try using .loc[row_indexer,col_indexer] = value instead\n",
      "\n",
      "See the caveats in the documentation: https://pandas.pydata.org/pandas-docs/stable/user_guide/indexing.html#returning-a-view-versus-a-copy\n",
      "  car[\"영업용합계\"]=cars_raw[\"영업용_승용\"]+cars_raw[\"영업용승합\"]+cars_raw[\"영업용화물\"]+cars_raw[\"영업용특수\"]\n",
      "C:\\Users\\acorn\\AppData\\Local\\Temp\\ipykernel_9660\\3197062585.py:4: SettingWithCopyWarning: \n",
      "A value is trying to be set on a copy of a slice from a DataFrame.\n",
      "Try using .loc[row_indexer,col_indexer] = value instead\n",
      "\n",
      "See the caveats in the documentation: https://pandas.pydata.org/pandas-docs/stable/user_guide/indexing.html#returning-a-view-versus-a-copy\n",
      "  car[\"차량합계\"]=car[\"관용합계\"]+car[\"자가용합계\"]+car[\"영업용합계\"]\n"
     ]
    }
   ],
   "source": [
    "car[\"관용합계\"]=cars_raw[\"관용_승용\"]+cars_raw[\"관용_승합\"]+cars_raw[\"관용_화물\"]+cars_raw[\"관용_특수\"]\n",
    "car[\"자가용합계\"]=cars_raw[\"자가용_승용\"]+cars_raw[\"자가용승합\"]+cars_raw[\"자가용화물\"]+cars_raw[\"자가용특수\"]\n",
    "car[\"영업용합계\"]=cars_raw[\"영업용_승용\"]+cars_raw[\"영업용승합\"]+cars_raw[\"영업용화물\"]+cars_raw[\"영업용특수\"]\n",
    "car[\"차량합계\"]=car[\"관용합계\"]+car[\"자가용합계\"]+car[\"영업용합계\"]"
   ]
  },
  {
   "cell_type": "code",
   "execution_count": 14,
   "id": "55dfb949",
   "metadata": {},
   "outputs": [
    {
     "data": {
      "text/plain": [
       "3182255"
      ]
     },
     "execution_count": 14,
     "metadata": {},
     "output_type": "execute_result"
    }
   ],
   "source": [
    "car[\"차량합계\"].sum()"
   ]
  },
  {
   "cell_type": "code",
   "execution_count": 15,
   "id": "dceede5b",
   "metadata": {
    "scrolled": true
   },
   "outputs": [
    {
     "data": {
      "text/html": [
       "<div>\n",
       "<style scoped>\n",
       "    .dataframe tbody tr th:only-of-type {\n",
       "        vertical-align: middle;\n",
       "    }\n",
       "\n",
       "    .dataframe tbody tr th {\n",
       "        vertical-align: top;\n",
       "    }\n",
       "\n",
       "    .dataframe thead th {\n",
       "        text-align: right;\n",
       "    }\n",
       "</style>\n",
       "<table border=\"1\" class=\"dataframe\">\n",
       "  <thead>\n",
       "    <tr style=\"text-align: right;\">\n",
       "      <th></th>\n",
       "      <th>시군구</th>\n",
       "      <th>행정동</th>\n",
       "      <th>연료</th>\n",
       "      <th>관용합계</th>\n",
       "      <th>자가용합계</th>\n",
       "      <th>영업용합계</th>\n",
       "      <th>차량합계</th>\n",
       "    </tr>\n",
       "  </thead>\n",
       "  <tbody>\n",
       "    <tr>\n",
       "      <th>0</th>\n",
       "      <td>종로구</td>\n",
       "      <td>기타</td>\n",
       "      <td>휘발유</td>\n",
       "      <td>0</td>\n",
       "      <td>1</td>\n",
       "      <td>0</td>\n",
       "      <td>1</td>\n",
       "    </tr>\n",
       "    <tr>\n",
       "      <th>1</th>\n",
       "      <td>종로구</td>\n",
       "      <td>기타</td>\n",
       "      <td>휘발유</td>\n",
       "      <td>0</td>\n",
       "      <td>2</td>\n",
       "      <td>0</td>\n",
       "      <td>2</td>\n",
       "    </tr>\n",
       "    <tr>\n",
       "      <th>2</th>\n",
       "      <td>종로구</td>\n",
       "      <td>기타</td>\n",
       "      <td>휘발유</td>\n",
       "      <td>0</td>\n",
       "      <td>1</td>\n",
       "      <td>0</td>\n",
       "      <td>1</td>\n",
       "    </tr>\n",
       "    <tr>\n",
       "      <th>3</th>\n",
       "      <td>종로구</td>\n",
       "      <td>기타</td>\n",
       "      <td>경유</td>\n",
       "      <td>0</td>\n",
       "      <td>1</td>\n",
       "      <td>0</td>\n",
       "      <td>1</td>\n",
       "    </tr>\n",
       "    <tr>\n",
       "      <th>4</th>\n",
       "      <td>종로구</td>\n",
       "      <td>기타</td>\n",
       "      <td>경유</td>\n",
       "      <td>0</td>\n",
       "      <td>1</td>\n",
       "      <td>0</td>\n",
       "      <td>1</td>\n",
       "    </tr>\n",
       "  </tbody>\n",
       "</table>\n",
       "</div>"
      ],
      "text/plain": [
       "   시군구 행정동   연료  관용합계  자가용합계  영업용합계  차량합계\n",
       "0  종로구  기타  휘발유     0      1      0     1\n",
       "1  종로구  기타  휘발유     0      2      0     2\n",
       "2  종로구  기타  휘발유     0      1      0     1\n",
       "3  종로구  기타   경유     0      1      0     1\n",
       "4  종로구  기타   경유     0      1      0     1"
      ]
     },
     "execution_count": 15,
     "metadata": {},
     "output_type": "execute_result"
    }
   ],
   "source": [
    "car.head()"
   ]
  },
  {
   "cell_type": "markdown",
   "id": "5202b5ee",
   "metadata": {},
   "source": [
    "## (2) 구별, 행정동별 자동차등록대수"
   ]
  },
  {
   "cell_type": "markdown",
   "id": "896eb36a",
   "metadata": {},
   "source": [
    "### 1) 구별"
   ]
  },
  {
   "cell_type": "code",
   "execution_count": 63,
   "id": "14cd0632",
   "metadata": {
    "scrolled": true
   },
   "outputs": [
    {
     "data": {
      "text/html": [
       "<div>\n",
       "<style scoped>\n",
       "    .dataframe tbody tr th:only-of-type {\n",
       "        vertical-align: middle;\n",
       "    }\n",
       "\n",
       "    .dataframe tbody tr th {\n",
       "        vertical-align: top;\n",
       "    }\n",
       "\n",
       "    .dataframe thead th {\n",
       "        text-align: right;\n",
       "    }\n",
       "</style>\n",
       "<table border=\"1\" class=\"dataframe\">\n",
       "  <thead>\n",
       "    <tr style=\"text-align: right;\">\n",
       "      <th></th>\n",
       "      <th>차량합계</th>\n",
       "    </tr>\n",
       "    <tr>\n",
       "      <th>시군구</th>\n",
       "      <th></th>\n",
       "    </tr>\n",
       "  </thead>\n",
       "  <tbody>\n",
       "    <tr>\n",
       "      <th>강남구</th>\n",
       "      <td>245487</td>\n",
       "    </tr>\n",
       "    <tr>\n",
       "      <th>강동구</th>\n",
       "      <td>151959</td>\n",
       "    </tr>\n",
       "    <tr>\n",
       "      <th>강북구</th>\n",
       "      <td>75122</td>\n",
       "    </tr>\n",
       "    <tr>\n",
       "      <th>강서구</th>\n",
       "      <td>206522</td>\n",
       "    </tr>\n",
       "    <tr>\n",
       "      <th>관악구</th>\n",
       "      <td>118273</td>\n",
       "    </tr>\n",
       "  </tbody>\n",
       "</table>\n",
       "</div>"
      ],
      "text/plain": [
       "       차량합계\n",
       "시군구        \n",
       "강남구  245487\n",
       "강동구  151959\n",
       "강북구   75122\n",
       "강서구  206522\n",
       "관악구  118273"
      ]
     },
     "execution_count": 63,
     "metadata": {},
     "output_type": "execute_result"
    }
   ],
   "source": [
    "gu_car= car.groupby(\"시군구\")[[\"차량합계\"]].sum()\n",
    "gu_car.head()"
   ]
  },
  {
   "cell_type": "markdown",
   "id": "fad62c25",
   "metadata": {},
   "source": [
    "### ※ 구별차량등록대수 저장(check piont)"
   ]
  },
  {
   "cell_type": "code",
   "execution_count": 17,
   "id": "2b94b399",
   "metadata": {},
   "outputs": [],
   "source": [
    "# gu_car.to_csv(\"../../Data/차,주차장/구별차량등록대수.csv\")"
   ]
  },
  {
   "cell_type": "markdown",
   "id": "316ced5b",
   "metadata": {},
   "source": [
    "### 2) 광진구 행정동별"
   ]
  },
  {
   "cell_type": "code",
   "execution_count": 18,
   "id": "b7bd9b7d",
   "metadata": {},
   "outputs": [
    {
     "data": {
      "text/html": [
       "<div>\n",
       "<style scoped>\n",
       "    .dataframe tbody tr th:only-of-type {\n",
       "        vertical-align: middle;\n",
       "    }\n",
       "\n",
       "    .dataframe tbody tr th {\n",
       "        vertical-align: top;\n",
       "    }\n",
       "\n",
       "    .dataframe thead th {\n",
       "        text-align: right;\n",
       "    }\n",
       "</style>\n",
       "<table border=\"1\" class=\"dataframe\">\n",
       "  <thead>\n",
       "    <tr style=\"text-align: right;\">\n",
       "      <th></th>\n",
       "      <th>시군구</th>\n",
       "      <th>행정동</th>\n",
       "      <th>연료</th>\n",
       "      <th>관용합계</th>\n",
       "      <th>자가용합계</th>\n",
       "      <th>영업용합계</th>\n",
       "      <th>차량합계</th>\n",
       "    </tr>\n",
       "  </thead>\n",
       "  <tbody>\n",
       "    <tr>\n",
       "      <th>557</th>\n",
       "      <td>광진구</td>\n",
       "      <td>기타</td>\n",
       "      <td>휘발유</td>\n",
       "      <td>0</td>\n",
       "      <td>1</td>\n",
       "      <td>0</td>\n",
       "      <td>1</td>\n",
       "    </tr>\n",
       "    <tr>\n",
       "      <th>558</th>\n",
       "      <td>광진구</td>\n",
       "      <td>기타</td>\n",
       "      <td>경유</td>\n",
       "      <td>0</td>\n",
       "      <td>2</td>\n",
       "      <td>0</td>\n",
       "      <td>2</td>\n",
       "    </tr>\n",
       "    <tr>\n",
       "      <th>559</th>\n",
       "      <td>광진구</td>\n",
       "      <td>기타</td>\n",
       "      <td>휘발유</td>\n",
       "      <td>0</td>\n",
       "      <td>3</td>\n",
       "      <td>0</td>\n",
       "      <td>3</td>\n",
       "    </tr>\n",
       "    <tr>\n",
       "      <th>560</th>\n",
       "      <td>광진구</td>\n",
       "      <td>기타1</td>\n",
       "      <td>경유</td>\n",
       "      <td>0</td>\n",
       "      <td>2</td>\n",
       "      <td>0</td>\n",
       "      <td>2</td>\n",
       "    </tr>\n",
       "    <tr>\n",
       "      <th>561</th>\n",
       "      <td>광진구</td>\n",
       "      <td>화양동</td>\n",
       "      <td>휘발유</td>\n",
       "      <td>0</td>\n",
       "      <td>2009</td>\n",
       "      <td>197</td>\n",
       "      <td>2206</td>\n",
       "    </tr>\n",
       "  </tbody>\n",
       "</table>\n",
       "</div>"
      ],
      "text/plain": [
       "     시군구  행정동   연료  관용합계  자가용합계  영업용합계  차량합계\n",
       "557  광진구   기타  휘발유     0      1      0     1\n",
       "558  광진구   기타   경유     0      2      0     2\n",
       "559  광진구   기타  휘발유     0      3      0     3\n",
       "560  광진구  기타1   경유     0      2      0     2\n",
       "561  광진구  화양동  휘발유     0   2009    197  2206"
      ]
     },
     "execution_count": 18,
     "metadata": {},
     "output_type": "execute_result"
    }
   ],
   "source": [
    "gj_car= car[car[\"시군구\"]==\"광진구\"]\n",
    "gj_car.head()"
   ]
  },
  {
   "cell_type": "code",
   "execution_count": 19,
   "id": "6c299232",
   "metadata": {},
   "outputs": [],
   "source": [
    "gj_car.loc[gj_car[\"행정동\"].str.contains(\"기타\"), \"행정동\"] = \"기타\""
   ]
  },
  {
   "cell_type": "code",
   "execution_count": 64,
   "id": "cb4e26c8",
   "metadata": {},
   "outputs": [
    {
     "data": {
      "text/html": [
       "<div>\n",
       "<style scoped>\n",
       "    .dataframe tbody tr th:only-of-type {\n",
       "        vertical-align: middle;\n",
       "    }\n",
       "\n",
       "    .dataframe tbody tr th {\n",
       "        vertical-align: top;\n",
       "    }\n",
       "\n",
       "    .dataframe thead th {\n",
       "        text-align: right;\n",
       "    }\n",
       "</style>\n",
       "<table border=\"1\" class=\"dataframe\">\n",
       "  <thead>\n",
       "    <tr style=\"text-align: right;\">\n",
       "      <th></th>\n",
       "      <th>차량합계</th>\n",
       "    </tr>\n",
       "    <tr>\n",
       "      <th>행정동</th>\n",
       "      <th></th>\n",
       "    </tr>\n",
       "  </thead>\n",
       "  <tbody>\n",
       "    <tr>\n",
       "      <th>광장동</th>\n",
       "      <td>11677</td>\n",
       "    </tr>\n",
       "    <tr>\n",
       "      <th>구의1동</th>\n",
       "      <td>6686</td>\n",
       "    </tr>\n",
       "    <tr>\n",
       "      <th>구의2동</th>\n",
       "      <td>7279</td>\n",
       "    </tr>\n",
       "    <tr>\n",
       "      <th>구의3동</th>\n",
       "      <td>9168</td>\n",
       "    </tr>\n",
       "    <tr>\n",
       "      <th>군자동</th>\n",
       "      <td>5160</td>\n",
       "    </tr>\n",
       "  </tbody>\n",
       "</table>\n",
       "</div>"
      ],
      "text/plain": [
       "       차량합계\n",
       "행정동        \n",
       "광장동   11677\n",
       "구의1동   6686\n",
       "구의2동   7279\n",
       "구의3동   9168\n",
       "군자동    5160"
      ]
     },
     "execution_count": 64,
     "metadata": {},
     "output_type": "execute_result"
    }
   ],
   "source": [
    "gj_dong_car = gj_car.groupby(\"행정동\")[[\"차량합계\"]].sum()\n",
    "gj_dong_car.head()"
   ]
  },
  {
   "cell_type": "markdown",
   "id": "4e07c65b",
   "metadata": {},
   "source": [
    "### 3) 행정동 통일"
   ]
  },
  {
   "cell_type": "code",
   "execution_count": 21,
   "id": "cf4e8e58",
   "metadata": {},
   "outputs": [],
   "source": [
    "gj_car2=gj_car.copy()"
   ]
  },
  {
   "cell_type": "code",
   "execution_count": 22,
   "id": "867a878a",
   "metadata": {},
   "outputs": [],
   "source": [
    "gj_car2.loc[gj_car2[\"행정동\"].str.contains(\"구의\"), \"행정동\"] = \"구의동\"\n",
    "gj_car2.loc[gj_car2[\"행정동\"].str.contains(\"자양\"), \"행정동\"] = \"자양동\"\n",
    "gj_car2.loc[gj_car2[\"행정동\"].str.contains(\"중곡\"), \"행정동\"] = \"중곡동\""
   ]
  },
  {
   "cell_type": "code",
   "execution_count": 67,
   "id": "9906360f",
   "metadata": {
    "scrolled": true
   },
   "outputs": [
    {
     "data": {
      "text/html": [
       "<div>\n",
       "<style scoped>\n",
       "    .dataframe tbody tr th:only-of-type {\n",
       "        vertical-align: middle;\n",
       "    }\n",
       "\n",
       "    .dataframe tbody tr th {\n",
       "        vertical-align: top;\n",
       "    }\n",
       "\n",
       "    .dataframe thead th {\n",
       "        text-align: right;\n",
       "    }\n",
       "</style>\n",
       "<table border=\"1\" class=\"dataframe\">\n",
       "  <thead>\n",
       "    <tr style=\"text-align: right;\">\n",
       "      <th></th>\n",
       "      <th>차량합계</th>\n",
       "    </tr>\n",
       "    <tr>\n",
       "      <th>행정동</th>\n",
       "      <th></th>\n",
       "    </tr>\n",
       "  </thead>\n",
       "  <tbody>\n",
       "    <tr>\n",
       "      <th>자양동</th>\n",
       "      <td>30457</td>\n",
       "    </tr>\n",
       "    <tr>\n",
       "      <th>구의동</th>\n",
       "      <td>23133</td>\n",
       "    </tr>\n",
       "    <tr>\n",
       "      <th>중곡동</th>\n",
       "      <td>21432</td>\n",
       "    </tr>\n",
       "    <tr>\n",
       "      <th>광장동</th>\n",
       "      <td>11677</td>\n",
       "    </tr>\n",
       "    <tr>\n",
       "      <th>군자동</th>\n",
       "      <td>5160</td>\n",
       "    </tr>\n",
       "    <tr>\n",
       "      <th>화양동</th>\n",
       "      <td>4140</td>\n",
       "    </tr>\n",
       "    <tr>\n",
       "      <th>능동</th>\n",
       "      <td>3050</td>\n",
       "    </tr>\n",
       "    <tr>\n",
       "      <th>기타</th>\n",
       "      <td>66</td>\n",
       "    </tr>\n",
       "  </tbody>\n",
       "</table>\n",
       "</div>"
      ],
      "text/plain": [
       "      차량합계\n",
       "행정동       \n",
       "자양동  30457\n",
       "구의동  23133\n",
       "중곡동  21432\n",
       "광장동  11677\n",
       "군자동   5160\n",
       "화양동   4140\n",
       "능동    3050\n",
       "기타      66"
      ]
     },
     "execution_count": 67,
     "metadata": {},
     "output_type": "execute_result"
    }
   ],
   "source": [
    "gj_dong_car2=gj_car2.groupby(\"행정동\")[[\"차량합계\"]].sum()\n",
    "gj_dong_car2.sort_values(by=\"차량합계\",ascending=False)"
   ]
  },
  {
   "cell_type": "markdown",
   "id": "3ce16bd8",
   "metadata": {},
   "source": [
    "### (3) 시각화"
   ]
  },
  {
   "cell_type": "code",
   "execution_count": 70,
   "id": "a3eb6cf2",
   "metadata": {},
   "outputs": [
    {
     "data": {
      "text/plain": [
       "<AxesSubplot:ylabel='시군구'>"
      ]
     },
     "execution_count": 70,
     "metadata": {},
     "output_type": "execute_result"
    },
    {
     "data": {
      "image/png": "[encoded data removed]",
      "text/plain": [
       "<Figure size 640x480 with 1 Axes>"
      ]
     },
     "metadata": {},
     "output_type": "display_data"
    }
   ],
   "source": [
    "gu_car.sort_values(by=\"차량합계\").plot.barh()"
   ]
  },
  {
   "cell_type": "code",
   "execution_count": 72,
   "id": "7ed8ff44",
   "metadata": {},
   "outputs": [
    {
     "data": {
      "text/plain": [
       "<AxesSubplot:ylabel='행정동'>"
      ]
     },
     "execution_count": 72,
     "metadata": {},
     "output_type": "execute_result"
    },
    {
     "data": {
      "image/png": "[encoded data removed]",
      "text/plain": [
       "<Figure size 640x480 with 1 Axes>"
      ]
     },
     "metadata": {},
     "output_type": "display_data"
    }
   ],
   "source": [
    "gj_dong_car2.sort_values(by=\"차량합계\").plot.barh()"
   ]
  },
  {
   "cell_type": "markdown",
   "id": "a51846bc",
   "metadata": {},
   "source": [
    "# 2. 주차면수"
   ]
  },
  {
   "cell_type": "markdown",
   "id": "9f843128",
   "metadata": {},
   "source": [
    "## (1) 데이터 처리"
   ]
  },
  {
   "cell_type": "markdown",
   "id": "462a1be1",
   "metadata": {},
   "source": [
    "### 1) 데이터 로드\n",
    "\n",
    "- 서울시 주차장 (동별) 통계(서울시열린광장) : 2022 기준\n",
    "- https://data.seoul.go.kr/dataList/10152/S/2/datasetView.do"
   ]
  },
  {
   "cell_type": "code",
   "execution_count": 24,
   "id": "52d00ebb",
   "metadata": {},
   "outputs": [
    {
     "name": "stdout",
     "output_type": "stream",
     "text": [
      "<class 'pandas.core.frame.DataFrame'>\n",
      "RangeIndex: 452 entries, 0 to 451\n",
      "Data columns (total 31 columns):\n",
      " #   Column      Non-Null Count  Dtype \n",
      "---  ------      --------------  ----- \n",
      " 0   동별(1)       452 non-null    object\n",
      " 1   동별(2)       452 non-null    object\n",
      " 2   동별(3)       452 non-null    object\n",
      " 3   개소 (개소)     452 non-null    int64 \n",
      " 4   면수 (면수)     452 non-null    int64 \n",
      " 5   개소 (개소).1   452 non-null    object\n",
      " 6   면수 (면수).1   452 non-null    object\n",
      " 7   개소 (개소).2   452 non-null    int64 \n",
      " 8   면수 (면수).2   452 non-null    int64 \n",
      " 9   개소 (개소).3   452 non-null    object\n",
      " 10  면수 (면수).3   452 non-null    object\n",
      " 11  개소 (개소).4   452 non-null    object\n",
      " 12  면수 (면수).4   452 non-null    object\n",
      " 13  개소 (개소).5   452 non-null    object\n",
      " 14  면수 (면수).5   452 non-null    object\n",
      " 15  개소 (개소).6   452 non-null    object\n",
      " 16  면수 (면수).6   452 non-null    object\n",
      " 17  개소 (개소).7   452 non-null    object\n",
      " 18  면수 (면수).7   452 non-null    object\n",
      " 19  개소 (개소).8   452 non-null    object\n",
      " 20  면수 (면수).8   452 non-null    object\n",
      " 21  개소 (개소).9   452 non-null    object\n",
      " 22  면수 (면수).9   452 non-null    object\n",
      " 23  개소 (개소).10  452 non-null    int64 \n",
      " 24  면수 (면수).10  452 non-null    int64 \n",
      " 25  개소 (개소).11  452 non-null    object\n",
      " 26  면수 (면수).11  452 non-null    object\n",
      " 27  개소 (개소).12  452 non-null    object\n",
      " 28  면수 (면수).12  452 non-null    object\n",
      " 29  개소 (개소).13  452 non-null    int64 \n",
      " 30  면수 (면수).13  452 non-null    int64 \n",
      "dtypes: int64(8), object(23)\n",
      "memory usage: 109.6+ KB\n"
     ]
    },
    {
     "data": {
      "text/html": [
       "<div>\n",
       "<style scoped>\n",
       "    .dataframe tbody tr th:only-of-type {\n",
       "        vertical-align: middle;\n",
       "    }\n",
       "\n",
       "    .dataframe tbody tr th {\n",
       "        vertical-align: top;\n",
       "    }\n",
       "\n",
       "    .dataframe thead th {\n",
       "        text-align: right;\n",
       "    }\n",
       "</style>\n",
       "<table border=\"1\" class=\"dataframe\">\n",
       "  <thead>\n",
       "    <tr style=\"text-align: right;\">\n",
       "      <th></th>\n",
       "      <th>동별(1)</th>\n",
       "      <th>동별(2)</th>\n",
       "      <th>동별(3)</th>\n",
       "      <th>개소 (개소)</th>\n",
       "      <th>면수 (면수)</th>\n",
       "      <th>개소 (개소).1</th>\n",
       "      <th>면수 (면수).1</th>\n",
       "      <th>개소 (개소).2</th>\n",
       "      <th>면수 (면수).2</th>\n",
       "      <th>개소 (개소).3</th>\n",
       "      <th>...</th>\n",
       "      <th>개소 (개소).9</th>\n",
       "      <th>면수 (면수).9</th>\n",
       "      <th>개소 (개소).10</th>\n",
       "      <th>면수 (면수).10</th>\n",
       "      <th>개소 (개소).11</th>\n",
       "      <th>면수 (면수).11</th>\n",
       "      <th>개소 (개소).12</th>\n",
       "      <th>면수 (면수).12</th>\n",
       "      <th>개소 (개소).13</th>\n",
       "      <th>면수 (면수).13</th>\n",
       "    </tr>\n",
       "  </thead>\n",
       "  <tbody>\n",
       "    <tr>\n",
       "      <th>0</th>\n",
       "      <td>합계</td>\n",
       "      <td>소계</td>\n",
       "      <td>소계</td>\n",
       "      <td>309726</td>\n",
       "      <td>4501875</td>\n",
       "      <td>12304</td>\n",
       "      <td>177281</td>\n",
       "      <td>297422</td>\n",
       "      <td>4324594</td>\n",
       "      <td>11235</td>\n",
       "      <td>...</td>\n",
       "      <td>788</td>\n",
       "      <td>28279</td>\n",
       "      <td>296634</td>\n",
       "      <td>4296315</td>\n",
       "      <td>115597</td>\n",
       "      <td>282426</td>\n",
       "      <td>87393</td>\n",
       "      <td>2361583</td>\n",
       "      <td>93644</td>\n",
       "      <td>1652306</td>\n",
       "    </tr>\n",
       "    <tr>\n",
       "      <th>1</th>\n",
       "      <td>합계</td>\n",
       "      <td>종로구</td>\n",
       "      <td>소계</td>\n",
       "      <td>8232</td>\n",
       "      <td>92062</td>\n",
       "      <td>185</td>\n",
       "      <td>5833</td>\n",
       "      <td>8047</td>\n",
       "      <td>86229</td>\n",
       "      <td>147</td>\n",
       "      <td>...</td>\n",
       "      <td>60</td>\n",
       "      <td>1206</td>\n",
       "      <td>7987</td>\n",
       "      <td>85023</td>\n",
       "      <td>2658</td>\n",
       "      <td>6748</td>\n",
       "      <td>1448</td>\n",
       "      <td>25103</td>\n",
       "      <td>3881</td>\n",
       "      <td>53172</td>\n",
       "    </tr>\n",
       "    <tr>\n",
       "      <th>2</th>\n",
       "      <td>합계</td>\n",
       "      <td>종로구</td>\n",
       "      <td>사직동</td>\n",
       "      <td>362</td>\n",
       "      <td>12605</td>\n",
       "      <td>17</td>\n",
       "      <td>1422</td>\n",
       "      <td>345</td>\n",
       "      <td>11183</td>\n",
       "      <td>13</td>\n",
       "      <td>...</td>\n",
       "      <td>5</td>\n",
       "      <td>115</td>\n",
       "      <td>340</td>\n",
       "      <td>11068</td>\n",
       "      <td>76</td>\n",
       "      <td>370</td>\n",
       "      <td>64</td>\n",
       "      <td>2442</td>\n",
       "      <td>200</td>\n",
       "      <td>8256</td>\n",
       "    </tr>\n",
       "    <tr>\n",
       "      <th>3</th>\n",
       "      <td>합계</td>\n",
       "      <td>종로구</td>\n",
       "      <td>삼청동</td>\n",
       "      <td>343</td>\n",
       "      <td>2237</td>\n",
       "      <td>16</td>\n",
       "      <td>122</td>\n",
       "      <td>327</td>\n",
       "      <td>2115</td>\n",
       "      <td>14</td>\n",
       "      <td>...</td>\n",
       "      <td>3</td>\n",
       "      <td>114</td>\n",
       "      <td>324</td>\n",
       "      <td>2001</td>\n",
       "      <td>84</td>\n",
       "      <td>183</td>\n",
       "      <td>9</td>\n",
       "      <td>68</td>\n",
       "      <td>231</td>\n",
       "      <td>1750</td>\n",
       "    </tr>\n",
       "    <tr>\n",
       "      <th>4</th>\n",
       "      <td>합계</td>\n",
       "      <td>종로구</td>\n",
       "      <td>부암동</td>\n",
       "      <td>596</td>\n",
       "      <td>3533</td>\n",
       "      <td>10</td>\n",
       "      <td>141</td>\n",
       "      <td>586</td>\n",
       "      <td>3392</td>\n",
       "      <td>8</td>\n",
       "      <td>...</td>\n",
       "      <td>-</td>\n",
       "      <td>-</td>\n",
       "      <td>586</td>\n",
       "      <td>3392</td>\n",
       "      <td>315</td>\n",
       "      <td>687</td>\n",
       "      <td>145</td>\n",
       "      <td>1202</td>\n",
       "      <td>126</td>\n",
       "      <td>1503</td>\n",
       "    </tr>\n",
       "  </tbody>\n",
       "</table>\n",
       "<p>5 rows × 31 columns</p>\n",
       "</div>"
      ],
      "text/plain": [
       "  동별(1) 동별(2) 동별(3)  개소 (개소)  면수 (면수) 개소 (개소).1 면수 (면수).1  개소 (개소).2  \\\n",
       "0    합계    소계    소계   309726  4501875     12304    177281     297422   \n",
       "1    합계   종로구    소계     8232    92062       185      5833       8047   \n",
       "2    합계   종로구   사직동      362    12605        17      1422        345   \n",
       "3    합계   종로구   삼청동      343     2237        16       122        327   \n",
       "4    합계   종로구   부암동      596     3533        10       141        586   \n",
       "\n",
       "   면수 (면수).2 개소 (개소).3  ... 개소 (개소).9 면수 (면수).9 개소 (개소).10 면수 (면수).10  \\\n",
       "0    4324594     11235  ...       788     28279     296634    4296315   \n",
       "1      86229       147  ...        60      1206       7987      85023   \n",
       "2      11183        13  ...         5       115        340      11068   \n",
       "3       2115        14  ...         3       114        324       2001   \n",
       "4       3392         8  ...         -         -        586       3392   \n",
       "\n",
       "  개소 (개소).11 면수 (면수).11 개소 (개소).12 면수 (면수).12 개소 (개소).13 면수 (면수).13  \n",
       "0     115597     282426      87393    2361583      93644    1652306  \n",
       "1       2658       6748       1448      25103       3881      53172  \n",
       "2         76        370         64       2442        200       8256  \n",
       "3         84        183          9         68        231       1750  \n",
       "4        315        687        145       1202        126       1503  \n",
       "\n",
       "[5 rows x 31 columns]"
      ]
     },
     "execution_count": 24,
     "metadata": {},
     "output_type": "execute_result"
    }
   ],
   "source": [
    "park_raw = pd.read_csv(\"../../Data/차,주차장/주차장(동별).csv\", skiprows=3 )\n",
    "park_raw.info()\n",
    "park_raw.head()"
   ]
  },
  {
   "cell_type": "code",
   "execution_count": 25,
   "id": "bb9cceec",
   "metadata": {},
   "outputs": [],
   "source": [
    "park_raw.columns=[\"합계\",\"시군구\",\"행정동\",\n",
    "                 \"합계개소\",\"합계면수\",\"공영개소\",\"공영면수\",\"민영개소\",\"민영면수\",\n",
    "                 \"노상개소\",\"노상면수\",\"노상시영개소\",\"노상시영면수\",\"노상구영개소\",\"노상구영면수\",\n",
    "                \"노외개소\", \"노외면수\",\"노외시영개소\",\"노외시영면수\",\"노외구영개소\",\n",
    "                 \"노외구영면수\",\"노외민영개소\",\"노외민영면수\",\n",
    "                 \"건축물부설개소\",\"건축물부설면수\",\n",
    "                 \"건축물부설일반주택개소\", \"건축물부설일반주택면수\",\n",
    "                 \"건축물부설공동주택개소\", \"건축물부설공동주택면수\",\n",
    "                 \"건축물부설일반건축물개소\", \"건축물부설일반건축물면수\"]"
   ]
  },
  {
   "cell_type": "code",
   "execution_count": 26,
   "id": "b616894c",
   "metadata": {},
   "outputs": [],
   "source": [
    "del park_raw[\"합계\"]"
   ]
  },
  {
   "cell_type": "code",
   "execution_count": 27,
   "id": "6f4552c0",
   "metadata": {},
   "outputs": [
    {
     "name": "stdout",
     "output_type": "stream",
     "text": [
      "<class 'pandas.core.frame.DataFrame'>\n",
      "RangeIndex: 452 entries, 0 to 451\n",
      "Data columns (total 30 columns):\n",
      " #   Column        Non-Null Count  Dtype \n",
      "---  ------        --------------  ----- \n",
      " 0   시군구           452 non-null    object\n",
      " 1   행정동           452 non-null    object\n",
      " 2   합계개소          452 non-null    int64 \n",
      " 3   합계면수          452 non-null    int64 \n",
      " 4   공영개소          452 non-null    object\n",
      " 5   공영면수          452 non-null    object\n",
      " 6   민영개소          452 non-null    int64 \n",
      " 7   민영면수          452 non-null    int64 \n",
      " 8   노상개소          452 non-null    object\n",
      " 9   노상면수          452 non-null    object\n",
      " 10  노상시영개소        452 non-null    object\n",
      " 11  노상시영면수        452 non-null    object\n",
      " 12  노상구영개소        452 non-null    object\n",
      " 13  노상구영면수        452 non-null    object\n",
      " 14  노외개소          452 non-null    object\n",
      " 15  노외면수          452 non-null    object\n",
      " 16  노외시영개소        452 non-null    object\n",
      " 17  노외시영면수        452 non-null    object\n",
      " 18  노외구영개소        452 non-null    object\n",
      " 19  노외구영면수        452 non-null    object\n",
      " 20  노외민영개소        452 non-null    object\n",
      " 21  노외민영면수        452 non-null    object\n",
      " 22  건축물부설개소       452 non-null    int64 \n",
      " 23  건축물부설면수       452 non-null    int64 \n",
      " 24  건축물부설일반주택개소   452 non-null    object\n",
      " 25  건축물부설일반주택면수   452 non-null    object\n",
      " 26  건축물부설공동주택개소   452 non-null    object\n",
      " 27  건축물부설공동주택면수   452 non-null    object\n",
      " 28  건축물부설일반건축물개소  452 non-null    int64 \n",
      " 29  건축물부설일반건축물면수  452 non-null    int64 \n",
      "dtypes: int64(8), object(22)\n",
      "memory usage: 106.1+ KB\n"
     ]
    }
   ],
   "source": [
    "park_raw.info()"
   ]
  },
  {
   "cell_type": "code",
   "execution_count": 28,
   "id": "5394c285",
   "metadata": {},
   "outputs": [],
   "source": [
    "park = park_raw[[\"시군구\",\"행정동\",\"합계면수\",\"공영면수\",\"민영면수\"]]"
   ]
  },
  {
   "cell_type": "code",
   "execution_count": 29,
   "id": "7293abc7",
   "metadata": {},
   "outputs": [],
   "source": [
    "park = park[park[\"행정동\"] != \"소계\"]"
   ]
  },
  {
   "cell_type": "markdown",
   "id": "9ac989f4",
   "metadata": {},
   "source": [
    "### (2) 구별, 행정동별 주차면수"
   ]
  },
  {
   "cell_type": "markdown",
   "id": "51c7a1c6",
   "metadata": {},
   "source": [
    "### 1) 구별"
   ]
  },
  {
   "cell_type": "code",
   "execution_count": 30,
   "id": "97829e99",
   "metadata": {
    "scrolled": true
   },
   "outputs": [
    {
     "data": {
      "text/plain": [
       "합계면수    4501875\n",
       "dtype: int64"
      ]
     },
     "execution_count": 30,
     "metadata": {},
     "output_type": "execute_result"
    }
   ],
   "source": [
    "gu_park = park.groupby(\"시군구\")[[\"합계면수\"]].sum()\n",
    "gu_park.sum()"
   ]
  },
  {
   "cell_type": "markdown",
   "id": "14a2e5ee",
   "metadata": {},
   "source": [
    "### 2) 광진구 행정동별"
   ]
  },
  {
   "cell_type": "code",
   "execution_count": 31,
   "id": "8f9590ef",
   "metadata": {},
   "outputs": [],
   "source": [
    "gj_park = park[park[\"시군구\"]== \"광진구\"]\n",
    "gj_dong_park = gj_park.groupby(\"행정동\")[[\"합계면수\"]].sum()"
   ]
  },
  {
   "cell_type": "code",
   "execution_count": 32,
   "id": "24626258",
   "metadata": {
    "scrolled": true
   },
   "outputs": [
    {
     "data": {
      "text/html": [
       "<div>\n",
       "<style scoped>\n",
       "    .dataframe tbody tr th:only-of-type {\n",
       "        vertical-align: middle;\n",
       "    }\n",
       "\n",
       "    .dataframe tbody tr th {\n",
       "        vertical-align: top;\n",
       "    }\n",
       "\n",
       "    .dataframe thead th {\n",
       "        text-align: right;\n",
       "    }\n",
       "</style>\n",
       "<table border=\"1\" class=\"dataframe\">\n",
       "  <thead>\n",
       "    <tr style=\"text-align: right;\">\n",
       "      <th></th>\n",
       "      <th>합계면수</th>\n",
       "    </tr>\n",
       "    <tr>\n",
       "      <th>행정동</th>\n",
       "      <th></th>\n",
       "    </tr>\n",
       "  </thead>\n",
       "  <tbody>\n",
       "    <tr>\n",
       "      <th>광장동</th>\n",
       "      <td>16425</td>\n",
       "    </tr>\n",
       "    <tr>\n",
       "      <th>구의1동</th>\n",
       "      <td>8621</td>\n",
       "    </tr>\n",
       "    <tr>\n",
       "      <th>구의2동</th>\n",
       "      <td>8722</td>\n",
       "    </tr>\n",
       "    <tr>\n",
       "      <th>구의3동</th>\n",
       "      <td>14788</td>\n",
       "    </tr>\n",
       "    <tr>\n",
       "      <th>군자동</th>\n",
       "      <td>7263</td>\n",
       "    </tr>\n",
       "  </tbody>\n",
       "</table>\n",
       "</div>"
      ],
      "text/plain": [
       "       합계면수\n",
       "행정동        \n",
       "광장동   16425\n",
       "구의1동   8621\n",
       "구의2동   8722\n",
       "구의3동  14788\n",
       "군자동    7263"
      ]
     },
     "execution_count": 32,
     "metadata": {},
     "output_type": "execute_result"
    }
   ],
   "source": [
    "gj_dong_park.head()"
   ]
  },
  {
   "cell_type": "markdown",
   "id": "f474b569",
   "metadata": {},
   "source": [
    "### 3) 행정동 통일"
   ]
  },
  {
   "cell_type": "code",
   "execution_count": 33,
   "id": "d6494d4b",
   "metadata": {},
   "outputs": [],
   "source": [
    "gj_park2=gj_dong_park.reset_index()"
   ]
  },
  {
   "cell_type": "code",
   "execution_count": 34,
   "id": "6894a58b",
   "metadata": {},
   "outputs": [],
   "source": [
    "gj_park2.loc[gj_park2[\"행정동\"].str.contains(\"구의\"), \"행정동\"] = \"구의동\"\n",
    "gj_park2.loc[gj_park2[\"행정동\"].str.contains(\"자양\"), \"행정동\"] = \"자양동\"\n",
    "gj_park2.loc[gj_park2[\"행정동\"].str.contains(\"중곡\"), \"행정동\"] = \"중곡동\""
   ]
  },
  {
   "cell_type": "code",
   "execution_count": 74,
   "id": "d24b5efc",
   "metadata": {
    "scrolled": true
   },
   "outputs": [
    {
     "data": {
      "text/html": [
       "<div>\n",
       "<style scoped>\n",
       "    .dataframe tbody tr th:only-of-type {\n",
       "        vertical-align: middle;\n",
       "    }\n",
       "\n",
       "    .dataframe tbody tr th {\n",
       "        vertical-align: top;\n",
       "    }\n",
       "\n",
       "    .dataframe thead th {\n",
       "        text-align: right;\n",
       "    }\n",
       "</style>\n",
       "<table border=\"1\" class=\"dataframe\">\n",
       "  <thead>\n",
       "    <tr style=\"text-align: right;\">\n",
       "      <th></th>\n",
       "      <th>합계면수</th>\n",
       "    </tr>\n",
       "    <tr>\n",
       "      <th>행정동</th>\n",
       "      <th></th>\n",
       "    </tr>\n",
       "  </thead>\n",
       "  <tbody>\n",
       "    <tr>\n",
       "      <th>광장동</th>\n",
       "      <td>16425</td>\n",
       "    </tr>\n",
       "    <tr>\n",
       "      <th>구의동</th>\n",
       "      <td>32131</td>\n",
       "    </tr>\n",
       "    <tr>\n",
       "      <th>군자동</th>\n",
       "      <td>7263</td>\n",
       "    </tr>\n",
       "    <tr>\n",
       "      <th>능동</th>\n",
       "      <td>6560</td>\n",
       "    </tr>\n",
       "    <tr>\n",
       "      <th>자양동</th>\n",
       "      <td>36322</td>\n",
       "    </tr>\n",
       "    <tr>\n",
       "      <th>중곡동</th>\n",
       "      <td>25041</td>\n",
       "    </tr>\n",
       "    <tr>\n",
       "      <th>화양동</th>\n",
       "      <td>10647</td>\n",
       "    </tr>\n",
       "  </tbody>\n",
       "</table>\n",
       "</div>"
      ],
      "text/plain": [
       "      합계면수\n",
       "행정동       \n",
       "광장동  16425\n",
       "구의동  32131\n",
       "군자동   7263\n",
       "능동    6560\n",
       "자양동  36322\n",
       "중곡동  25041\n",
       "화양동  10647"
      ]
     },
     "execution_count": 74,
     "metadata": {},
     "output_type": "execute_result"
    }
   ],
   "source": [
    "gj_dong_pakr2=gj_park2.groupby(\"행정동\")[[\"합계면수\"]].sum()\n",
    "gj_dong_pakr2"
   ]
  },
  {
   "cell_type": "markdown",
   "id": "e68898c6",
   "metadata": {},
   "source": [
    "### 4) 시각화"
   ]
  },
  {
   "cell_type": "code",
   "execution_count": 73,
   "id": "52dac8fe",
   "metadata": {
    "scrolled": true
   },
   "outputs": [
    {
     "data": {
      "text/plain": [
       "<AxesSubplot:ylabel='시군구'>"
      ]
     },
     "execution_count": 73,
     "metadata": {},
     "output_type": "execute_result"
    },
    {
     "data": {
      "image/png": "[encoded data removed]",
      "text/plain": [
       "<Figure size 640x480 with 1 Axes>"
      ]
     },
     "metadata": {},
     "output_type": "display_data"
    }
   ],
   "source": [
    "gu_park.sort_values(by=\"합계면수\").plot.barh()"
   ]
  },
  {
   "cell_type": "code",
   "execution_count": 75,
   "id": "861423f4",
   "metadata": {},
   "outputs": [
    {
     "data": {
      "text/plain": [
       "<AxesSubplot:ylabel='행정동'>"
      ]
     },
     "execution_count": 75,
     "metadata": {},
     "output_type": "execute_result"
    },
    {
     "data": {
      "image/png": "[encoded data removed]",
      "text/plain": [
       "<Figure size 640x480 with 1 Axes>"
      ]
     },
     "metadata": {},
     "output_type": "display_data"
    }
   ],
   "source": [
    "gj_dong_pakr2.sort_values(by=\"합계면수\").plot.barh()"
   ]
  },
  {
   "cell_type": "markdown",
   "id": "db7d9d0e",
   "metadata": {},
   "source": [
    "# 3. 구별 차량확보율"
   ]
  },
  {
   "cell_type": "markdown",
   "id": "34dac18c",
   "metadata": {},
   "source": [
    "### (1) 병합"
   ]
  },
  {
   "cell_type": "code",
   "execution_count": 57,
   "id": "16545068",
   "metadata": {
    "scrolled": true
   },
   "outputs": [
    {
     "data": {
      "text/html": [
       "<div>\n",
       "<style scoped>\n",
       "    .dataframe tbody tr th:only-of-type {\n",
       "        vertical-align: middle;\n",
       "    }\n",
       "\n",
       "    .dataframe tbody tr th {\n",
       "        vertical-align: top;\n",
       "    }\n",
       "\n",
       "    .dataframe thead th {\n",
       "        text-align: right;\n",
       "    }\n",
       "</style>\n",
       "<table border=\"1\" class=\"dataframe\">\n",
       "  <thead>\n",
       "    <tr style=\"text-align: right;\">\n",
       "      <th></th>\n",
       "      <th>차량합계</th>\n",
       "      <th>합계면수</th>\n",
       "    </tr>\n",
       "    <tr>\n",
       "      <th>시군구</th>\n",
       "      <th></th>\n",
       "      <th></th>\n",
       "    </tr>\n",
       "  </thead>\n",
       "  <tbody>\n",
       "    <tr>\n",
       "      <th>강남구</th>\n",
       "      <td>245487</td>\n",
       "      <td>413898</td>\n",
       "    </tr>\n",
       "    <tr>\n",
       "      <th>강동구</th>\n",
       "      <td>151959</td>\n",
       "      <td>209959</td>\n",
       "    </tr>\n",
       "    <tr>\n",
       "      <th>강북구</th>\n",
       "      <td>75122</td>\n",
       "      <td>96636</td>\n",
       "    </tr>\n",
       "    <tr>\n",
       "      <th>강서구</th>\n",
       "      <td>206522</td>\n",
       "      <td>315812</td>\n",
       "    </tr>\n",
       "    <tr>\n",
       "      <th>관악구</th>\n",
       "      <td>118273</td>\n",
       "      <td>153960</td>\n",
       "    </tr>\n",
       "    <tr>\n",
       "      <th>광진구</th>\n",
       "      <td>99115</td>\n",
       "      <td>134389</td>\n",
       "    </tr>\n",
       "    <tr>\n",
       "      <th>구로구</th>\n",
       "      <td>146038</td>\n",
       "      <td>191823</td>\n",
       "    </tr>\n",
       "    <tr>\n",
       "      <th>금천구</th>\n",
       "      <td>90501</td>\n",
       "      <td>139148</td>\n",
       "    </tr>\n",
       "    <tr>\n",
       "      <th>노원구</th>\n",
       "      <td>152375</td>\n",
       "      <td>178194</td>\n",
       "    </tr>\n",
       "    <tr>\n",
       "      <th>도봉구</th>\n",
       "      <td>95608</td>\n",
       "      <td>110933</td>\n",
       "    </tr>\n",
       "    <tr>\n",
       "      <th>동대문구</th>\n",
       "      <td>98603</td>\n",
       "      <td>148103</td>\n",
       "    </tr>\n",
       "    <tr>\n",
       "      <th>동작구</th>\n",
       "      <td>106417</td>\n",
       "      <td>137661</td>\n",
       "    </tr>\n",
       "    <tr>\n",
       "      <th>마포구</th>\n",
       "      <td>121250</td>\n",
       "      <td>199423</td>\n",
       "    </tr>\n",
       "    <tr>\n",
       "      <th>서대문구</th>\n",
       "      <td>89542</td>\n",
       "      <td>132942</td>\n",
       "    </tr>\n",
       "    <tr>\n",
       "      <th>서초구</th>\n",
       "      <td>176494</td>\n",
       "      <td>310949</td>\n",
       "    </tr>\n",
       "    <tr>\n",
       "      <th>성동구</th>\n",
       "      <td>106021</td>\n",
       "      <td>134544</td>\n",
       "    </tr>\n",
       "    <tr>\n",
       "      <th>성북구</th>\n",
       "      <td>122216</td>\n",
       "      <td>155254</td>\n",
       "    </tr>\n",
       "    <tr>\n",
       "      <th>송파구</th>\n",
       "      <td>249256</td>\n",
       "      <td>339227</td>\n",
       "    </tr>\n",
       "    <tr>\n",
       "      <th>양천구</th>\n",
       "      <td>151342</td>\n",
       "      <td>166327</td>\n",
       "    </tr>\n",
       "    <tr>\n",
       "      <th>영등포구</th>\n",
       "      <td>145490</td>\n",
       "      <td>203359</td>\n",
       "    </tr>\n",
       "    <tr>\n",
       "      <th>용산구</th>\n",
       "      <td>75234</td>\n",
       "      <td>118632</td>\n",
       "    </tr>\n",
       "    <tr>\n",
       "      <th>은평구</th>\n",
       "      <td>133791</td>\n",
       "      <td>176603</td>\n",
       "    </tr>\n",
       "    <tr>\n",
       "      <th>종로구</th>\n",
       "      <td>50756</td>\n",
       "      <td>92062</td>\n",
       "    </tr>\n",
       "    <tr>\n",
       "      <th>중구</th>\n",
       "      <td>59744</td>\n",
       "      <td>109153</td>\n",
       "    </tr>\n",
       "    <tr>\n",
       "      <th>중랑구</th>\n",
       "      <td>115099</td>\n",
       "      <td>132884</td>\n",
       "    </tr>\n",
       "  </tbody>\n",
       "</table>\n",
       "</div>"
      ],
      "text/plain": [
       "        차량합계    합계면수\n",
       "시군구                 \n",
       "강남구   245487  413898\n",
       "강동구   151959  209959\n",
       "강북구    75122   96636\n",
       "강서구   206522  315812\n",
       "관악구   118273  153960\n",
       "광진구    99115  134389\n",
       "구로구   146038  191823\n",
       "금천구    90501  139148\n",
       "노원구   152375  178194\n",
       "도봉구    95608  110933\n",
       "동대문구   98603  148103\n",
       "동작구   106417  137661\n",
       "마포구   121250  199423\n",
       "서대문구   89542  132942\n",
       "서초구   176494  310949\n",
       "성동구   106021  134544\n",
       "성북구   122216  155254\n",
       "송파구   249256  339227\n",
       "양천구   151342  166327\n",
       "영등포구  145490  203359\n",
       "용산구    75234  118632\n",
       "은평구   133791  176603\n",
       "종로구    50756   92062\n",
       "중구     59744  109153\n",
       "중랑구   115099  132884"
      ]
     },
     "execution_count": 57,
     "metadata": {},
     "output_type": "execute_result"
    }
   ],
   "source": [
    "p=pd.merge(gu_car, gu_park, on=\"시군구\")\n",
    "p"
   ]
  },
  {
   "cell_type": "markdown",
   "id": "b294354d",
   "metadata": {},
   "source": [
    "### (2) 주차장 확보율"
   ]
  },
  {
   "cell_type": "code",
   "execution_count": 37,
   "id": "2b57188f",
   "metadata": {},
   "outputs": [],
   "source": [
    "p[\"주차장확보율\"] = p[\"합계면수\"]/p[\"차량합계\"]*100"
   ]
  },
  {
   "cell_type": "code",
   "execution_count": 38,
   "id": "8ed7b0d6",
   "metadata": {
    "scrolled": true
   },
   "outputs": [
    {
     "data": {
      "text/html": [
       "<div>\n",
       "<style scoped>\n",
       "    .dataframe tbody tr th:only-of-type {\n",
       "        vertical-align: middle;\n",
       "    }\n",
       "\n",
       "    .dataframe tbody tr th {\n",
       "        vertical-align: top;\n",
       "    }\n",
       "\n",
       "    .dataframe thead th {\n",
       "        text-align: right;\n",
       "    }\n",
       "</style>\n",
       "<table border=\"1\" class=\"dataframe\">\n",
       "  <thead>\n",
       "    <tr style=\"text-align: right;\">\n",
       "      <th></th>\n",
       "      <th>차량합계</th>\n",
       "      <th>합계면수</th>\n",
       "      <th>주차장확보율</th>\n",
       "    </tr>\n",
       "    <tr>\n",
       "      <th>시군구</th>\n",
       "      <th></th>\n",
       "      <th></th>\n",
       "      <th></th>\n",
       "    </tr>\n",
       "  </thead>\n",
       "  <tbody>\n",
       "    <tr>\n",
       "      <th>중구</th>\n",
       "      <td>59744</td>\n",
       "      <td>109153</td>\n",
       "      <td>182.701192</td>\n",
       "    </tr>\n",
       "    <tr>\n",
       "      <th>종로구</th>\n",
       "      <td>50756</td>\n",
       "      <td>92062</td>\n",
       "      <td>181.381512</td>\n",
       "    </tr>\n",
       "    <tr>\n",
       "      <th>서초구</th>\n",
       "      <td>176494</td>\n",
       "      <td>310949</td>\n",
       "      <td>176.181060</td>\n",
       "    </tr>\n",
       "    <tr>\n",
       "      <th>강남구</th>\n",
       "      <td>245487</td>\n",
       "      <td>413898</td>\n",
       "      <td>168.602818</td>\n",
       "    </tr>\n",
       "    <tr>\n",
       "      <th>마포구</th>\n",
       "      <td>121250</td>\n",
       "      <td>199423</td>\n",
       "      <td>164.472577</td>\n",
       "    </tr>\n",
       "    <tr>\n",
       "      <th>용산구</th>\n",
       "      <td>75234</td>\n",
       "      <td>118632</td>\n",
       "      <td>157.684026</td>\n",
       "    </tr>\n",
       "    <tr>\n",
       "      <th>금천구</th>\n",
       "      <td>90501</td>\n",
       "      <td>139148</td>\n",
       "      <td>153.752997</td>\n",
       "    </tr>\n",
       "    <tr>\n",
       "      <th>강서구</th>\n",
       "      <td>206522</td>\n",
       "      <td>315812</td>\n",
       "      <td>152.919302</td>\n",
       "    </tr>\n",
       "    <tr>\n",
       "      <th>동대문구</th>\n",
       "      <td>98603</td>\n",
       "      <td>148103</td>\n",
       "      <td>150.201312</td>\n",
       "    </tr>\n",
       "    <tr>\n",
       "      <th>서대문구</th>\n",
       "      <td>89542</td>\n",
       "      <td>132942</td>\n",
       "      <td>148.468875</td>\n",
       "    </tr>\n",
       "    <tr>\n",
       "      <th>영등포구</th>\n",
       "      <td>145490</td>\n",
       "      <td>203359</td>\n",
       "      <td>139.775242</td>\n",
       "    </tr>\n",
       "    <tr>\n",
       "      <th>강동구</th>\n",
       "      <td>151959</td>\n",
       "      <td>209959</td>\n",
       "      <td>138.168190</td>\n",
       "    </tr>\n",
       "    <tr>\n",
       "      <th>송파구</th>\n",
       "      <td>249256</td>\n",
       "      <td>339227</td>\n",
       "      <td>136.095821</td>\n",
       "    </tr>\n",
       "    <tr>\n",
       "      <th>광진구</th>\n",
       "      <td>99115</td>\n",
       "      <td>134389</td>\n",
       "      <td>135.588962</td>\n",
       "    </tr>\n",
       "    <tr>\n",
       "      <th>은평구</th>\n",
       "      <td>133791</td>\n",
       "      <td>176603</td>\n",
       "      <td>131.999163</td>\n",
       "    </tr>\n",
       "    <tr>\n",
       "      <th>구로구</th>\n",
       "      <td>146038</td>\n",
       "      <td>191823</td>\n",
       "      <td>131.351429</td>\n",
       "    </tr>\n",
       "    <tr>\n",
       "      <th>관악구</th>\n",
       "      <td>118273</td>\n",
       "      <td>153960</td>\n",
       "      <td>130.173412</td>\n",
       "    </tr>\n",
       "    <tr>\n",
       "      <th>동작구</th>\n",
       "      <td>106417</td>\n",
       "      <td>137661</td>\n",
       "      <td>129.359971</td>\n",
       "    </tr>\n",
       "    <tr>\n",
       "      <th>강북구</th>\n",
       "      <td>75122</td>\n",
       "      <td>96636</td>\n",
       "      <td>128.638748</td>\n",
       "    </tr>\n",
       "    <tr>\n",
       "      <th>성북구</th>\n",
       "      <td>122216</td>\n",
       "      <td>155254</td>\n",
       "      <td>127.032467</td>\n",
       "    </tr>\n",
       "    <tr>\n",
       "      <th>성동구</th>\n",
       "      <td>106021</td>\n",
       "      <td>134544</td>\n",
       "      <td>126.903161</td>\n",
       "    </tr>\n",
       "    <tr>\n",
       "      <th>노원구</th>\n",
       "      <td>152375</td>\n",
       "      <td>178194</td>\n",
       "      <td>116.944381</td>\n",
       "    </tr>\n",
       "    <tr>\n",
       "      <th>도봉구</th>\n",
       "      <td>95608</td>\n",
       "      <td>110933</td>\n",
       "      <td>116.028993</td>\n",
       "    </tr>\n",
       "    <tr>\n",
       "      <th>중랑구</th>\n",
       "      <td>115099</td>\n",
       "      <td>132884</td>\n",
       "      <td>115.451915</td>\n",
       "    </tr>\n",
       "    <tr>\n",
       "      <th>양천구</th>\n",
       "      <td>151342</td>\n",
       "      <td>166327</td>\n",
       "      <td>109.901415</td>\n",
       "    </tr>\n",
       "  </tbody>\n",
       "</table>\n",
       "</div>"
      ],
      "text/plain": [
       "        차량합계    합계면수      주차장확보율\n",
       "시군구                             \n",
       "중구     59744  109153  182.701192\n",
       "종로구    50756   92062  181.381512\n",
       "서초구   176494  310949  176.181060\n",
       "강남구   245487  413898  168.602818\n",
       "마포구   121250  199423  164.472577\n",
       "용산구    75234  118632  157.684026\n",
       "금천구    90501  139148  153.752997\n",
       "강서구   206522  315812  152.919302\n",
       "동대문구   98603  148103  150.201312\n",
       "서대문구   89542  132942  148.468875\n",
       "영등포구  145490  203359  139.775242\n",
       "강동구   151959  209959  138.168190\n",
       "송파구   249256  339227  136.095821\n",
       "광진구    99115  134389  135.588962\n",
       "은평구   133791  176603  131.999163\n",
       "구로구   146038  191823  131.351429\n",
       "관악구   118273  153960  130.173412\n",
       "동작구   106417  137661  129.359971\n",
       "강북구    75122   96636  128.638748\n",
       "성북구   122216  155254  127.032467\n",
       "성동구   106021  134544  126.903161\n",
       "노원구   152375  178194  116.944381\n",
       "도봉구    95608  110933  116.028993\n",
       "중랑구   115099  132884  115.451915\n",
       "양천구   151342  166327  109.901415"
      ]
     },
     "execution_count": 38,
     "metadata": {},
     "output_type": "execute_result"
    }
   ],
   "source": [
    "p.sort_values(by=\"주차장확보율\", ascending=False)"
   ]
  },
  {
   "cell_type": "code",
   "execution_count": 39,
   "id": "5b3ff87e",
   "metadata": {},
   "outputs": [
    {
     "data": {
      "text/plain": [
       "141.9911576615607"
      ]
     },
     "execution_count": 39,
     "metadata": {},
     "output_type": "execute_result"
    }
   ],
   "source": [
    "# 구별 평균\n",
    "\n",
    "p[\"주차장확보율\"].mean()"
   ]
  },
  {
   "cell_type": "markdown",
   "id": "00b21536",
   "metadata": {},
   "source": [
    "### (3) 시각화"
   ]
  },
  {
   "cell_type": "code",
   "execution_count": 40,
   "id": "641b2f86",
   "metadata": {
    "scrolled": false
   },
   "outputs": [],
   "source": [
    "import json\n",
    "geo=json.load(open(\"../../Data/기타/skorea_municipalities_geo_simple_seoul.json\",\n",
    "                  encoding=\"utf-8\"))"
   ]
  },
  {
   "cell_type": "code",
   "execution_count": 51,
   "id": "c410401d",
   "metadata": {
    "scrolled": true
   },
   "outputs": [
    {
     "name": "stderr",
     "output_type": "stream",
     "text": [
      "C:\\Users\\acorn\\anaconda3\\lib\\site-packages\\folium\\folium.py:465: FutureWarning: The choropleth  method has been deprecated. Instead use the new Choropleth class, which has the same arguments. See the example notebook 'GeoJSON_and_choropleth' for how to do this.\n",
      "  warnings.warn(\n"
     ]
    },
    {
     "data": {
      "text/html": [
       "<div style=\"width:100%;\"><div style=\"position:relative;width:100%;height:0;padding-bottom:60%;\"><span style=\"color:#565656\">Make this Notebook Trusted to load map: File -> Trust Notebook</span><iframe srcdoc=\"&lt;!DOCTYPE html&gt;\n",
       "&lt;html&gt;\n",
       "&lt;head&gt;\n",
       "    \n",
       "    &lt;meta http-equiv=&quot;content-type&quot; content=&quot;text/html; charset=UTF-8&quot; /&gt;\n",
       "    \n",
       "        &lt;script&gt;\n",
       "            L_NO_TOUCH = false;\n",
       "            L_DISABLE_3D = false;\n",
       "        &lt;/script&gt;\n",
       "    \n",
       "    &lt;style&gt;html, body {width: 100%;height: 100%;margin: 0;padding: 0;}&lt;/style&gt;\n",
       "    &lt;style&gt;#map {position:absolute;top:0;bottom:0;right:0;left:0;}&lt;/style&gt;\n",
       "    &lt;script src=&quot;https://cdn.jsdelivr.net/npm/leaflet@1.9.3/dist/leaflet.js&quot;&gt;&lt;/script&gt;\n",
       "    &lt;script src=&quot;https://code.jquery.com/jquery-1.12.4.min.js&quot;&gt;&lt;/script&gt;\n",
       "    &lt;script src=&quot;https://cdn.jsdelivr.net/npm/bootstrap@5.2.2/dist/js/bootstrap.bundle.min.js&quot;&gt;&lt;/script&gt;\n",
       "    &lt;script src=&quot;https://cdnjs.cloudflare.com/ajax/libs/Leaflet.awesome-markers/2.0.2/leaflet.awesome-markers.js&quot;&gt;&lt;/script&gt;\n",
       "    &lt;link rel=&quot;stylesheet&quot; href=&quot;https://cdn.jsdelivr.net/npm/leaflet@1.9.3/dist/leaflet.css&quot;/&gt;\n",
       "    &lt;link rel=&quot;stylesheet&quot; href=&quot;https://cdn.jsdelivr.net/npm/bootstrap@5.2.2/dist/css/bootstrap.min.css&quot;/&gt;\n",
       "    &lt;link rel=&quot;stylesheet&quot; href=&quot;https://netdna.bootstrapcdn.com/bootstrap/3.0.0/css/bootstrap.min.css&quot;/&gt;\n",
       "    &lt;link rel=&quot;stylesheet&quot; href=&quot;https://cdn.jsdelivr.net/npm/@fortawesome/fontawesome-free@6.2.0/css/all.min.css&quot;/&gt;\n",
       "    &lt;link rel=&quot;stylesheet&quot; href=&quot;https://cdnjs.cloudflare.com/ajax/libs/Leaflet.awesome-markers/2.0.2/leaflet.awesome-markers.css&quot;/&gt;\n",
       "    &lt;link rel=&quot;stylesheet&quot; href=&quot;https://cdn.jsdelivr.net/gh/python-visualization/folium/folium/templates/leaflet.awesome.rotate.min.css&quot;/&gt;\n",
       "    \n",
       "            &lt;meta name=&quot;viewport&quot; content=&quot;width=device-width,\n",
       "                initial-scale=1.0, maximum-scale=1.0, user-scalable=no&quot; /&gt;\n",
       "            &lt;style&gt;\n",
       "                #map_65d5013c5309d11a49b11ff30d8f2202 {\n",
       "                    position: relative;\n",
       "                    width: 100.0%;\n",
       "                    height: 100.0%;\n",
       "                    left: 0.0%;\n",
       "                    top: 0.0%;\n",
       "                }\n",
       "                .leaflet-container { font-size: 1rem; }\n",
       "            &lt;/style&gt;\n",
       "        \n",
       "    &lt;script src=&quot;https://cdnjs.cloudflare.com/ajax/libs/d3/3.5.5/d3.min.js&quot;&gt;&lt;/script&gt;\n",
       "&lt;/head&gt;\n",
       "&lt;body&gt;\n",
       "    \n",
       "    \n",
       "            &lt;div class=&quot;folium-map&quot; id=&quot;map_65d5013c5309d11a49b11ff30d8f2202&quot; &gt;&lt;/div&gt;\n",
       "        \n",
       "&lt;/body&gt;\n",
       "&lt;script&gt;\n",
       "    \n",
       "    \n",
       "            var map_65d5013c5309d11a49b11ff30d8f2202 = L.map(\n",
       "                &quot;map_65d5013c5309d11a49b11ff30d8f2202&quot;,\n",
       "                {\n",
       "                    center: [37.5000195, 127.0229206],\n",
       "                    crs: L.CRS.EPSG3857,\n",
       "                    zoom: 11,\n",
       "                    zoomControl: true,\n",
       "                    preferCanvas: false,\n",
       "                }\n",
       "            );\n",
       "\n",
       "            \n",
       "\n",
       "        \n",
       "    \n",
       "            var tile_layer_a8b5956f72a00553ce9e63071fa47caf = L.tileLayer(\n",
       "                &quot;https://{s}.tile.openstreetmap.org/{z}/{x}/{y}.png&quot;,\n",
       "                {&quot;attribution&quot;: &quot;Data by \\u0026copy; \\u003ca target=\\&quot;_blank\\&quot; href=\\&quot;http://openstreetmap.org\\&quot;\\u003eOpenStreetMap\\u003c/a\\u003e, under \\u003ca target=\\&quot;_blank\\&quot; href=\\&quot;http://www.openstreetmap.org/copyright\\&quot;\\u003eODbL\\u003c/a\\u003e.&quot;, &quot;detectRetina&quot;: false, &quot;maxNativeZoom&quot;: 18, &quot;maxZoom&quot;: 18, &quot;minZoom&quot;: 0, &quot;noWrap&quot;: false, &quot;opacity&quot;: 1, &quot;subdomains&quot;: &quot;abc&quot;, &quot;tms&quot;: false}\n",
       "            ).addTo(map_65d5013c5309d11a49b11ff30d8f2202);\n",
       "        \n",
       "    \n",
       "            var choropleth_d0a032c048ecf38e8dd25c756c77fe4d = L.featureGroup(\n",
       "                {}\n",
       "            ).addTo(map_65d5013c5309d11a49b11ff30d8f2202);\n",
       "        \n",
       "    \n",
       "        function geo_json_d1017c4acc70163825e7c38a545d7bb9_styler(feature) {\n",
       "            switch(feature.id) {\n",
       "                case &quot;\\uac15\\ub3d9\\uad6c&quot;: case &quot;\\uc1a1\\ud30c\\uad6c&quot;: case &quot;\\uc601\\ub4f1\\ud3ec\\uad6c&quot;: case &quot;\\uad11\\uc9c4\\uad6c&quot;: \n",
       "                    return {&quot;color&quot;: &quot;black&quot;, &quot;fillColor&quot;: &quot;#c994c7&quot;, &quot;fillOpacity&quot;: 0.6, &quot;opacity&quot;: 1, &quot;weight&quot;: 1};\n",
       "                case &quot;\\uac15\\ub0a8\\uad6c&quot;: case &quot;\\ub9c8\\ud3ec\\uad6c&quot;: \n",
       "                    return {&quot;color&quot;: &quot;black&quot;, &quot;fillColor&quot;: &quot;#dd1c77&quot;, &quot;fillOpacity&quot;: 0.6, &quot;opacity&quot;: 1, &quot;weight&quot;: 1};\n",
       "                case &quot;\\uc11c\\ucd08\\uad6c&quot;: case &quot;\\uc911\\uad6c&quot;: case &quot;\\uc885\\ub85c\\uad6c&quot;: \n",
       "                    return {&quot;color&quot;: &quot;black&quot;, &quot;fillColor&quot;: &quot;#980043&quot;, &quot;fillOpacity&quot;: 0.6, &quot;opacity&quot;: 1, &quot;weight&quot;: 1};\n",
       "                case &quot;\\uae08\\ucc9c\\uad6c&quot;: case &quot;\\uac15\\uc11c\\uad6c&quot;: case &quot;\\uc11c\\ub300\\ubb38\\uad6c&quot;: case &quot;\\ub3d9\\ub300\\ubb38\\uad6c&quot;: case &quot;\\uc6a9\\uc0b0\\uad6c&quot;: \n",
       "                    return {&quot;color&quot;: &quot;black&quot;, &quot;fillColor&quot;: &quot;#df65b0&quot;, &quot;fillOpacity&quot;: 0.6, &quot;opacity&quot;: 1, &quot;weight&quot;: 1};\n",
       "                case &quot;\\uc591\\ucc9c\\uad6c&quot;: case &quot;\\ub178\\uc6d0\\uad6c&quot;: case &quot;\\ub3c4\\ubd09\\uad6c&quot;: case &quot;\\uc911\\ub791\\uad6c&quot;: \n",
       "                    return {&quot;color&quot;: &quot;black&quot;, &quot;fillColor&quot;: &quot;#f1eef6&quot;, &quot;fillOpacity&quot;: 0.6, &quot;opacity&quot;: 1, &quot;weight&quot;: 1};\n",
       "                default:\n",
       "                    return {&quot;color&quot;: &quot;black&quot;, &quot;fillColor&quot;: &quot;#d4b9da&quot;, &quot;fillOpacity&quot;: 0.6, &quot;opacity&quot;: 1, &quot;weight&quot;: 1};\n",
       "            }\n",
       "        }\n",
       "\n",
       "        function geo_json_d1017c4acc70163825e7c38a545d7bb9_onEachFeature(feature, layer) {\n",
       "            layer.on({\n",
       "            });\n",
       "        };\n",
       "        var geo_json_d1017c4acc70163825e7c38a545d7bb9 = L.geoJson(null, {\n",
       "                onEachFeature: geo_json_d1017c4acc70163825e7c38a545d7bb9_onEachFeature,\n",
       "            \n",
       "                style: geo_json_d1017c4acc70163825e7c38a545d7bb9_styler,\n",
       "        });\n",
       "\n",
       "        function geo_json_d1017c4acc70163825e7c38a545d7bb9_add (data) {\n",
       "            geo_json_d1017c4acc70163825e7c38a545d7bb9\n",
       "                .addData(data)\n",
       "                .addTo(choropleth_d0a032c048ecf38e8dd25c756c77fe4d);\n",
       "        }\n",
       "            geo_json_d1017c4acc70163825e7c38a545d7bb9_add({&quot;features&quot;: [{&quot;geometry&quot;: {&quot;coordinates&quot;: [[[127.11519584981606, 37.557533180704915], [127.16683184366129, 37.57672487388627], [127.18408792330152, 37.55814280369575], [127.16530984307447, 37.54221851258693], [127.14672806823502, 37.51415680680291], [127.12123165719615, 37.52528270089], [127.1116764203608, 37.540669955324965], [127.11519584981606, 37.557533180704915]]], &quot;type&quot;: &quot;Polygon&quot;}, &quot;id&quot;: &quot;\\uac15\\ub3d9\\uad6c&quot;, &quot;properties&quot;: {&quot;base_year&quot;: &quot;2013&quot;, &quot;code&quot;: &quot;11250&quot;, &quot;name&quot;: &quot;\\uac15\\ub3d9\\uad6c&quot;, &quot;name_eng&quot;: &quot;Gangdong-gu&quot;}, &quot;type&quot;: &quot;Feature&quot;}, {&quot;geometry&quot;: {&quot;coordinates&quot;: [[[127.0690698130372, 37.522279423505026], [127.10087519791962, 37.524841220167055], [127.1116764203608, 37.540669955324965], [127.12123165719615, 37.52528270089], [127.14672806823502, 37.51415680680291], [127.1634944215765, 37.497445406097484], [127.14206058413274, 37.47089819098501], [127.12440571080893, 37.46240445587048], [127.11117085201238, 37.485708381512445], [127.0719146000724, 37.50224013587669], [127.0690698130372, 37.522279423505026]]], &quot;type&quot;: &quot;Polygon&quot;}, &quot;id&quot;: &quot;\\uc1a1\\ud30c\\uad6c&quot;, &quot;properties&quot;: {&quot;base_year&quot;: &quot;2013&quot;, &quot;code&quot;: &quot;11240&quot;, &quot;name&quot;: &quot;\\uc1a1\\ud30c\\uad6c&quot;, &quot;name_eng&quot;: &quot;Songpa-gu&quot;}, &quot;type&quot;: &quot;Feature&quot;}, {&quot;geometry&quot;: {&quot;coordinates&quot;: [[[127.05867359288398, 37.52629974922568], [127.0690698130372, 37.522279423505026], [127.0719146000724, 37.50224013587669], [127.11117085201238, 37.485708381512445], [127.12440571080893, 37.46240445587048], [127.09842759318751, 37.45862253857461], [127.08640440578156, 37.472697935184655], [127.0559170481904, 37.4659228914077], [127.03621915098798, 37.48175802427603], [127.01397119667513, 37.52503988289669], [127.02302831890559, 37.53231899582663], [127.05867359288398, 37.52629974922568]]], &quot;type&quot;: &quot;Polygon&quot;}, &quot;id&quot;: &quot;\\uac15\\ub0a8\\uad6c&quot;, &quot;properties&quot;: {&quot;base_year&quot;: &quot;2013&quot;, &quot;code&quot;: &quot;11230&quot;, &quot;name&quot;: &quot;\\uac15\\ub0a8\\uad6c&quot;, &quot;name_eng&quot;: &quot;Gangnam-gu&quot;}, &quot;type&quot;: &quot;Feature&quot;}, {&quot;geometry&quot;: {&quot;coordinates&quot;: [[[127.01397119667513, 37.52503988289669], [127.03621915098798, 37.48175802427603], [127.0559170481904, 37.4659228914077], [127.08640440578156, 37.472697935184655], [127.09842759318751, 37.45862253857461], [127.09046928565951, 37.44296826114185], [127.06778107605433, 37.426197424057314], [127.04957232987142, 37.42805836845694], [127.03881782597922, 37.45382039851715], [126.99072073195462, 37.455326143310025], [126.98367668291802, 37.473856492692086], [126.98223807916081, 37.509314966770326], [127.01397119667513, 37.52503988289669]]], &quot;type&quot;: &quot;Polygon&quot;}, &quot;id&quot;: &quot;\\uc11c\\ucd08\\uad6c&quot;, &quot;properties&quot;: {&quot;base_year&quot;: &quot;2013&quot;, &quot;code&quot;: &quot;11220&quot;, &quot;name&quot;: &quot;\\uc11c\\ucd08\\uad6c&quot;, &quot;name_eng&quot;: &quot;Seocho-gu&quot;}, &quot;type&quot;: &quot;Feature&quot;}, {&quot;geometry&quot;: {&quot;coordinates&quot;: [[[126.98367668291802, 37.473856492692086], [126.99072073195462, 37.455326143310025], [126.96520439085143, 37.438249784006246], [126.95000001010182, 37.43613451165719], [126.93084408056525, 37.447382928333994], [126.9167728146601, 37.45490566423789], [126.90156094129895, 37.47753842789901], [126.90531975801812, 37.48218087575429], [126.94922661389508, 37.49125437495649], [126.9725891850662, 37.472561363278125], [126.98367668291802, 37.473856492692086]]], &quot;type&quot;: &quot;Polygon&quot;}, &quot;id&quot;: &quot;\\uad00\\uc545\\uad6c&quot;, &quot;properties&quot;: {&quot;base_year&quot;: &quot;2013&quot;, &quot;code&quot;: &quot;11210&quot;, &quot;name&quot;: &quot;\\uad00\\uc545\\uad6c&quot;, &quot;name_eng&quot;: &quot;Gwanak-gu&quot;}, &quot;type&quot;: &quot;Feature&quot;}, {&quot;geometry&quot;: {&quot;coordinates&quot;: [[[126.98223807916081, 37.509314966770326], [126.98367668291802, 37.473856492692086], [126.9725891850662, 37.472561363278125], [126.94922661389508, 37.49125437495649], [126.90531975801812, 37.48218087575429], [126.92177893174825, 37.494889877415176], [126.92810628828279, 37.51329595732015], [126.95249990298159, 37.51722500741813], [126.98223807916081, 37.509314966770326]]], &quot;type&quot;: &quot;Polygon&quot;}, &quot;id&quot;: &quot;\\ub3d9\\uc791\\uad6c&quot;, &quot;properties&quot;: {&quot;base_year&quot;: &quot;2013&quot;, &quot;code&quot;: &quot;11200&quot;, &quot;name&quot;: &quot;\\ub3d9\\uc791\\uad6c&quot;, &quot;name_eng&quot;: &quot;Dongjak-gu&quot;}, &quot;type&quot;: &quot;Feature&quot;}, {&quot;geometry&quot;: {&quot;coordinates&quot;: [[[126.89184663862764, 37.547373974997114], [126.94566733083212, 37.526617542453366], [126.95249990298159, 37.51722500741813], [126.92810628828279, 37.51329595732015], [126.92177893174825, 37.494889877415176], [126.90531975801812, 37.48218087575429], [126.89594776782485, 37.504675281309176], [126.88156402353862, 37.513970034765684], [126.88825757860099, 37.54079733630232], [126.89184663862764, 37.547373974997114]]], &quot;type&quot;: &quot;Polygon&quot;}, &quot;id&quot;: &quot;\\uc601\\ub4f1\\ud3ec\\uad6c&quot;, &quot;properties&quot;: {&quot;base_year&quot;: &quot;2013&quot;, &quot;code&quot;: &quot;11190&quot;, &quot;name&quot;: &quot;\\uc601\\ub4f1\\ud3ec\\uad6c&quot;, &quot;name_eng&quot;: &quot;Yeongdeungpo-gu&quot;}, &quot;type&quot;: &quot;Feature&quot;}, {&quot;geometry&quot;: {&quot;coordinates&quot;: [[[126.90156094129895, 37.47753842789901], [126.9167728146601, 37.45490566423789], [126.93084408056525, 37.447382928333994], [126.9025831711697, 37.434549366349124], [126.87683271502428, 37.482576591607305], [126.90156094129895, 37.47753842789901]]], &quot;type&quot;: &quot;Polygon&quot;}, &quot;id&quot;: &quot;\\uae08\\ucc9c\\uad6c&quot;, &quot;properties&quot;: {&quot;base_year&quot;: &quot;2013&quot;, &quot;code&quot;: &quot;11180&quot;, &quot;name&quot;: &quot;\\uae08\\ucc9c\\uad6c&quot;, &quot;name_eng&quot;: &quot;Geumcheon-gu&quot;}, &quot;type&quot;: &quot;Feature&quot;}, {&quot;geometry&quot;: {&quot;coordinates&quot;: [[[126.82688081517314, 37.50548972232896], [126.88156402353862, 37.513970034765684], [126.89594776782485, 37.504675281309176], [126.90531975801812, 37.48218087575429], [126.90156094129895, 37.47753842789901], [126.87683271502428, 37.482576591607305], [126.84762676054953, 37.47146723936323], [126.83549485076196, 37.474098236975095], [126.82264796791348, 37.4878476492147], [126.82504736331406, 37.50302612640443], [126.82688081517314, 37.50548972232896]]], &quot;type&quot;: &quot;Polygon&quot;}, &quot;id&quot;: &quot;\\uad6c\\ub85c\\uad6c&quot;, &quot;properties&quot;: {&quot;base_year&quot;: &quot;2013&quot;, &quot;code&quot;: &quot;11170&quot;, &quot;name&quot;: &quot;\\uad6c\\ub85c\\uad6c&quot;, &quot;name_eng&quot;: &quot;Guro-gu&quot;}, &quot;type&quot;: &quot;Feature&quot;}, {&quot;geometry&quot;: {&quot;coordinates&quot;: [[[126.79575768552907, 37.57881087633202], [126.80702115023597, 37.60123001013228], [126.82251438477105, 37.5880430810082], [126.85984199399667, 37.571847855292745], [126.89184663862764, 37.547373974997114], [126.88825757860099, 37.54079733630232], [126.86637464321238, 37.54859191094823], [126.86610073476395, 37.52699964144669], [126.84257291943153, 37.52373707805596], [126.8242331426722, 37.53788078753248], [126.77324417717703, 37.5459123450554], [126.76979180579352, 37.55139183008809], [126.79575768552907, 37.57881087633202]]], &quot;type&quot;: &quot;Polygon&quot;}, &quot;id&quot;: &quot;\\uac15\\uc11c\\uad6c&quot;, &quot;properties&quot;: {&quot;base_year&quot;: &quot;2013&quot;, &quot;code&quot;: &quot;11160&quot;, &quot;name&quot;: &quot;\\uac15\\uc11c\\uad6c&quot;, &quot;name_eng&quot;: &quot;Gangseo-gu&quot;}, &quot;type&quot;: &quot;Feature&quot;}, {&quot;geometry&quot;: {&quot;coordinates&quot;: [[[126.8242331426722, 37.53788078753248], [126.84257291943153, 37.52373707805596], [126.86610073476395, 37.52699964144669], [126.86637464321238, 37.54859191094823], [126.88825757860099, 37.54079733630232], [126.88156402353862, 37.513970034765684], [126.82688081517314, 37.50548972232896], [126.8242331426722, 37.53788078753248]]], &quot;type&quot;: &quot;Polygon&quot;}, &quot;id&quot;: &quot;\\uc591\\ucc9c\\uad6c&quot;, &quot;properties&quot;: {&quot;base_year&quot;: &quot;2013&quot;, &quot;code&quot;: &quot;11150&quot;, &quot;name&quot;: &quot;\\uc591\\ucc9c\\uad6c&quot;, &quot;name_eng&quot;: &quot;Yangcheon-gu&quot;}, &quot;type&quot;: &quot;Feature&quot;}, {&quot;geometry&quot;: {&quot;coordinates&quot;: [[[126.90522065831053, 37.57409700522574], [126.93898161798973, 37.552310003728124], [126.96358226710812, 37.55605635475154], [126.96448570553055, 37.548705692021635], [126.94566733083212, 37.526617542453366], [126.89184663862764, 37.547373974997114], [126.85984199399667, 37.571847855292745], [126.88433284773288, 37.588143322880526], [126.90522065831053, 37.57409700522574]]], &quot;type&quot;: &quot;Polygon&quot;}, &quot;id&quot;: &quot;\\ub9c8\\ud3ec\\uad6c&quot;, &quot;properties&quot;: {&quot;base_year&quot;: &quot;2013&quot;, &quot;code&quot;: &quot;11140&quot;, &quot;name&quot;: &quot;\\ub9c8\\ud3ec\\uad6c&quot;, &quot;name_eng&quot;: &quot;Mapo-gu&quot;}, &quot;type&quot;: &quot;Feature&quot;}, {&quot;geometry&quot;: {&quot;coordinates&quot;: [[[126.9524752030572, 37.60508692737045], [126.95565425846463, 37.576080790881456], [126.96873633279075, 37.56313604690827], [126.96358226710812, 37.55605635475154], [126.93898161798973, 37.552310003728124], [126.90522065831053, 37.57409700522574], [126.9524752030572, 37.60508692737045]]], &quot;type&quot;: &quot;Polygon&quot;}, &quot;id&quot;: &quot;\\uc11c\\ub300\\ubb38\\uad6c&quot;, &quot;properties&quot;: {&quot;base_year&quot;: &quot;2013&quot;, &quot;code&quot;: &quot;11130&quot;, &quot;name&quot;: &quot;\\uc11c\\ub300\\ubb38\\uad6c&quot;, &quot;name_eng&quot;: &quot;Seodaemun-gu&quot;}, &quot;type&quot;: &quot;Feature&quot;}, {&quot;geometry&quot;: {&quot;coordinates&quot;: [[[126.9738864128702, 37.62949634786888], [126.95427017006129, 37.622033431339425], [126.9524752030572, 37.60508692737045], [126.90522065831053, 37.57409700522574], [126.88433284773288, 37.588143322880526], [126.90396681003595, 37.59227403419942], [126.90303066177668, 37.609977911401344], [126.91455481429648, 37.64150050996935], [126.956473797387, 37.652480737339445], [126.9738864128702, 37.62949634786888]]], &quot;type&quot;: &quot;Polygon&quot;}, &quot;id&quot;: &quot;\\uc740\\ud3c9\\uad6c&quot;, &quot;properties&quot;: {&quot;base_year&quot;: &quot;2013&quot;, &quot;code&quot;: &quot;11120&quot;, &quot;name&quot;: &quot;\\uc740\\ud3c9\\uad6c&quot;, &quot;name_eng&quot;: &quot;Eunpyeong-gu&quot;}, &quot;type&quot;: &quot;Feature&quot;}, {&quot;geometry&quot;: {&quot;coordinates&quot;: [[[127.0838752703195, 37.69359534202034], [127.09706391309695, 37.686383719372294], [127.09440766298717, 37.64713490473045], [127.11326795855199, 37.639622905315925], [127.10782277688129, 37.61804244241069], [127.07351243825278, 37.61283660342313], [127.05209373568619, 37.62164065487782], [127.04358800895609, 37.62848931298715], [127.05800075220091, 37.64318263878276], [127.05288479710485, 37.68423857084347], [127.0838752703195, 37.69359534202034]]], &quot;type&quot;: &quot;Polygon&quot;}, &quot;id&quot;: &quot;\\ub178\\uc6d0\\uad6c&quot;, &quot;properties&quot;: {&quot;base_year&quot;: &quot;2013&quot;, &quot;code&quot;: &quot;11110&quot;, &quot;name&quot;: &quot;\\ub178\\uc6d0\\uad6c&quot;, &quot;name_eng&quot;: &quot;Nowon-gu&quot;}, &quot;type&quot;: &quot;Feature&quot;}, {&quot;geometry&quot;: {&quot;coordinates&quot;: [[[127.05288479710485, 37.68423857084347], [127.05800075220091, 37.64318263878276], [127.04358800895609, 37.62848931298715], [127.01465935892466, 37.64943687496812], [127.02062116141389, 37.667173575971205], [127.01039666042071, 37.681894589603594], [127.01795099203432, 37.69824412775662], [127.05288479710485, 37.68423857084347]]], &quot;type&quot;: &quot;Polygon&quot;}, &quot;id&quot;: &quot;\\ub3c4\\ubd09\\uad6c&quot;, &quot;properties&quot;: {&quot;base_year&quot;: &quot;2013&quot;, &quot;code&quot;: &quot;11100&quot;, &quot;name&quot;: &quot;\\ub3c4\\ubd09\\uad6c&quot;, &quot;name_eng&quot;: &quot;Dobong-gu&quot;}, &quot;type&quot;: &quot;Feature&quot;}, {&quot;geometry&quot;: {&quot;coordinates&quot;: [[[126.99383903424, 37.676681761199085], [127.01039666042071, 37.681894589603594], [127.02062116141389, 37.667173575971205], [127.01465935892466, 37.64943687496812], [127.04358800895609, 37.62848931298715], [127.05209373568619, 37.62164065487782], [127.03892400992301, 37.609715611023816], [127.0128154749523, 37.613652243470256], [126.98672705513869, 37.63377641288196], [126.9817452676551, 37.65209769387776], [126.99383903424, 37.676681761199085]]], &quot;type&quot;: &quot;Polygon&quot;}, &quot;id&quot;: &quot;\\uac15\\ubd81\\uad6c&quot;, &quot;properties&quot;: {&quot;base_year&quot;: &quot;2013&quot;, &quot;code&quot;: &quot;11090&quot;, &quot;name&quot;: &quot;\\uac15\\ubd81\\uad6c&quot;, &quot;name_eng&quot;: &quot;Gangbuk-gu&quot;}, &quot;type&quot;: &quot;Feature&quot;}, {&quot;geometry&quot;: {&quot;coordinates&quot;: [[[126.977175406416, 37.62859715400388], [126.98672705513869, 37.63377641288196], [127.0128154749523, 37.613652243470256], [127.03892400992301, 37.609715611023816], [127.05209373568619, 37.62164065487782], [127.07351243825278, 37.61283660342313], [127.07382707099227, 37.60401928986419], [127.042705222094, 37.59239437593391], [127.02527254528003, 37.57524616245249], [126.99348293358314, 37.588565457216156], [126.98879865992384, 37.6118927319756], [126.977175406416, 37.62859715400388]]], &quot;type&quot;: &quot;Polygon&quot;}, &quot;id&quot;: &quot;\\uc131\\ubd81\\uad6c&quot;, &quot;properties&quot;: {&quot;base_year&quot;: &quot;2013&quot;, &quot;code&quot;: &quot;11080&quot;, &quot;name&quot;: &quot;\\uc131\\ubd81\\uad6c&quot;, &quot;name_eng&quot;: &quot;Seongbuk-gu&quot;}, &quot;type&quot;: &quot;Feature&quot;}, {&quot;geometry&quot;: {&quot;coordinates&quot;: [[[127.07351243825278, 37.61283660342313], [127.10782277688129, 37.61804244241069], [127.1201246020114, 37.60178457598188], [127.10304174249214, 37.57076342290955], [127.08068541280403, 37.56906425519017], [127.07382707099227, 37.60401928986419], [127.07351243825278, 37.61283660342313]]], &quot;type&quot;: &quot;Polygon&quot;}, &quot;id&quot;: &quot;\\uc911\\ub791\\uad6c&quot;, &quot;properties&quot;: {&quot;base_year&quot;: &quot;2013&quot;, &quot;code&quot;: &quot;11070&quot;, &quot;name&quot;: &quot;\\uc911\\ub791\\uad6c&quot;, &quot;name_eng&quot;: &quot;Jungnang-gu&quot;}, &quot;type&quot;: &quot;Feature&quot;}, {&quot;geometry&quot;: {&quot;coordinates&quot;: [[[127.02527254528003, 37.57524616245249], [127.042705222094, 37.59239437593391], [127.07382707099227, 37.60401928986419], [127.08068541280403, 37.56906425519017], [127.07421053024362, 37.55724769712085], [127.05005601081567, 37.567577612590846], [127.02547266349976, 37.568943552237734], [127.02527254528003, 37.57524616245249]]], &quot;type&quot;: &quot;Polygon&quot;}, &quot;id&quot;: &quot;\\ub3d9\\ub300\\ubb38\\uad6c&quot;, &quot;properties&quot;: {&quot;base_year&quot;: &quot;2013&quot;, &quot;code&quot;: &quot;11060&quot;, &quot;name&quot;: &quot;\\ub3d9\\ub300\\ubb38\\uad6c&quot;, &quot;name_eng&quot;: &quot;Dongdaemun-gu&quot;}, &quot;type&quot;: &quot;Feature&quot;}, {&quot;geometry&quot;: {&quot;coordinates&quot;: [[[127.08068541280403, 37.56906425519017], [127.10304174249214, 37.57076342290955], [127.11519584981606, 37.557533180704915], [127.1116764203608, 37.540669955324965], [127.10087519791962, 37.524841220167055], [127.0690698130372, 37.522279423505026], [127.05867359288398, 37.52629974922568], [127.07421053024362, 37.55724769712085], [127.08068541280403, 37.56906425519017]]], &quot;type&quot;: &quot;Polygon&quot;}, &quot;id&quot;: &quot;\\uad11\\uc9c4\\uad6c&quot;, &quot;properties&quot;: {&quot;base_year&quot;: &quot;2013&quot;, &quot;code&quot;: &quot;11050&quot;, &quot;name&quot;: &quot;\\uad11\\uc9c4\\uad6c&quot;, &quot;name_eng&quot;: &quot;Gwangjin-gu&quot;}, &quot;type&quot;: &quot;Feature&quot;}, {&quot;geometry&quot;: {&quot;coordinates&quot;: [[[127.02547266349976, 37.568943552237734], [127.05005601081567, 37.567577612590846], [127.07421053024362, 37.55724769712085], [127.05867359288398, 37.52629974922568], [127.02302831890559, 37.53231899582663], [127.01070894177482, 37.54118048964762], [127.02547266349976, 37.568943552237734]]], &quot;type&quot;: &quot;Polygon&quot;}, &quot;id&quot;: &quot;\\uc131\\ub3d9\\uad6c&quot;, &quot;properties&quot;: {&quot;base_year&quot;: &quot;2013&quot;, &quot;code&quot;: &quot;11040&quot;, &quot;name&quot;: &quot;\\uc131\\ub3d9\\uad6c&quot;, &quot;name_eng&quot;: &quot;Seongdong-gu&quot;}, &quot;type&quot;: &quot;Feature&quot;}, {&quot;geometry&quot;: {&quot;coordinates&quot;: [[[127.01070894177482, 37.54118048964762], [127.02302831890559, 37.53231899582663], [127.01397119667513, 37.52503988289669], [126.98223807916081, 37.509314966770326], [126.95249990298159, 37.51722500741813], [126.94566733083212, 37.526617542453366], [126.96448570553055, 37.548705692021635], [126.98752996903328, 37.55094818807139], [127.01070894177482, 37.54118048964762]]], &quot;type&quot;: &quot;Polygon&quot;}, &quot;id&quot;: &quot;\\uc6a9\\uc0b0\\uad6c&quot;, &quot;properties&quot;: {&quot;base_year&quot;: &quot;2013&quot;, &quot;code&quot;: &quot;11030&quot;, &quot;name&quot;: &quot;\\uc6a9\\uc0b0\\uad6c&quot;, &quot;name_eng&quot;: &quot;Yongsan-gu&quot;}, &quot;type&quot;: &quot;Feature&quot;}, {&quot;geometry&quot;: {&quot;coordinates&quot;: [[[127.02547266349976, 37.568943552237734], [127.01070894177482, 37.54118048964762], [126.98752996903328, 37.55094818807139], [126.96448570553055, 37.548705692021635], [126.96358226710812, 37.55605635475154], [126.96873633279075, 37.56313604690827], [127.02547266349976, 37.568943552237734]]], &quot;type&quot;: &quot;Polygon&quot;}, &quot;id&quot;: &quot;\\uc911\\uad6c&quot;, &quot;properties&quot;: {&quot;base_year&quot;: &quot;2013&quot;, &quot;code&quot;: &quot;11020&quot;, &quot;name&quot;: &quot;\\uc911\\uad6c&quot;, &quot;name_eng&quot;: &quot;Jung-gu&quot;}, &quot;type&quot;: &quot;Feature&quot;}, {&quot;geometry&quot;: {&quot;coordinates&quot;: [[[126.9738864128702, 37.62949634786888], [126.977175406416, 37.62859715400388], [126.98879865992384, 37.6118927319756], [126.99348293358314, 37.588565457216156], [127.02527254528003, 37.57524616245249], [127.02547266349976, 37.568943552237734], [126.96873633279075, 37.56313604690827], [126.95565425846463, 37.576080790881456], [126.9524752030572, 37.60508692737045], [126.95427017006129, 37.622033431339425], [126.9738864128702, 37.62949634786888]]], &quot;type&quot;: &quot;Polygon&quot;}, &quot;id&quot;: &quot;\\uc885\\ub85c\\uad6c&quot;, &quot;properties&quot;: {&quot;base_year&quot;: &quot;2013&quot;, &quot;code&quot;: &quot;11010&quot;, &quot;name&quot;: &quot;\\uc885\\ub85c\\uad6c&quot;, &quot;name_eng&quot;: &quot;Jongno-gu&quot;}, &quot;type&quot;: &quot;Feature&quot;}], &quot;type&quot;: &quot;FeatureCollection&quot;});\n",
       "\n",
       "        \n",
       "    \n",
       "    var color_map_f54afdc3808f74da5cde16b4ec903f7d = {};\n",
       "\n",
       "    \n",
       "    color_map_f54afdc3808f74da5cde16b4ec903f7d.color = d3.scale.threshold()\n",
       "              .domain([109.90141533744765, 110.04730667294669, 110.19319800844575, 110.33908934394479, 110.48498067944384, 110.6308720149429, 110.77676335044194, 110.92265468594098, 111.06854602144003, 111.21443735693909, 111.36032869243813, 111.50622002793718, 111.65211136343623, 111.79800269893528, 111.94389403443432, 112.08978536993338, 112.23567670543243, 112.38156804093147, 112.52745937643053, 112.67335071192957, 112.81924204742862, 112.96513338292766, 113.11102471842672, 113.25691605392576, 113.40280738942481, 113.54869872492387, 113.69459006042291, 113.84048139592196, 113.98637273142101, 114.13226406692006, 114.2781554024191, 114.42404673791816, 114.5699380734172, 114.71582940891625, 114.8617207444153, 115.00761207991435, 115.1535034154134, 115.29939475091244, 115.4452860864115, 115.59117742191054, 115.73706875740959, 115.88296009290865, 116.02885142840769, 116.17474276390674, 116.3206340994058, 116.46652543490484, 116.61241677040388, 116.75830810590293, 116.90419944140199, 117.05009077690103, 117.19598211240007, 117.34187344789913, 117.48776478339818, 117.63365611889722, 117.77954745439628, 117.92543878989532, 118.07133012539437, 118.21722146089343, 118.36311279639247, 118.50900413189152, 118.65489546739056, 118.80078680288962, 118.94667813838866, 119.0925694738877, 119.23846080938677, 119.38435214488581, 119.53024348038485, 119.67613481588391, 119.82202615138296, 119.967917486882, 120.11380882238106, 120.2597001578801, 120.40559149337915, 120.55148282887819, 120.69737416437725, 120.8432654998763, 120.98915683537535, 121.1350481708744, 121.28093950637344, 121.42683084187249, 121.57272217737155, 121.71861351287059, 121.86450484836963, 122.01039618386869, 122.15628751936774, 122.30217885486678, 122.44807019036583, 122.59396152586488, 122.73985286136393, 122.88574419686297, 123.03163553236203, 123.17752686786108, 123.32341820336012, 123.46930953885918, 123.61520087435822, 123.76109220985727, 123.90698354535633, 124.05287488085537, 124.19876621635441, 124.34465755185346, 124.49054888735252, 124.63644022285156, 124.78233155835062, 124.92822289384966, 125.07411422934871, 125.22000556484775, 125.36589690034681, 125.51178823584586, 125.6576795713449, 125.80357090684396, 125.949462242343, 126.09535357784205, 126.24124491334109, 126.38713624884015, 126.5330275843392, 126.67891891983825, 126.8248102553373, 126.97070159083634, 127.11659292633539, 127.26248426183444, 127.40837559733349, 127.55426693283255, 127.70015826833159, 127.84604960383064, 127.99194093932968, 128.13783227482872, 128.28372361032777, 128.42961494582684, 128.5755062813259, 128.72139761682493, 128.86728895232397, 129.01318028782302, 129.15907162332206, 129.30496295882114, 129.45085429432018, 129.59674562981922, 129.74263696531827, 129.8885283008173, 130.03441963631636, 130.1803109718154, 130.32620230731447, 130.47209364281352, 130.61798497831256, 130.7638763138116, 130.90976764931065, 131.0556589848097, 131.20155032030874, 131.3474416558078, 131.49333299130686, 131.6392243268059, 131.78511566230495, 131.931006997804, 132.07689833330306, 132.2227896688021, 132.36868100430115, 132.5145723398002, 132.66046367529924, 132.80635501079828, 132.95224634629733, 133.0981376817964, 133.24402901729545, 133.3899203527945, 133.53581168829353, 133.68170302379258, 133.82759435929162, 133.97348569479067, 134.11937703028974, 134.26526836578878, 134.41115970128783, 134.55705103678687, 134.70294237228592, 134.84883370778496, 134.994725043284, 135.14061637878308, 135.28650771428212, 135.43239904978117, 135.5782903852802, 135.72418172077926, 135.8700730562783, 136.01596439177737, 136.16185572727642, 136.30774706277546, 136.4536383982745, 136.59952973377355, 136.7454210692726, 136.89131240477167, 137.0372037402707, 137.18309507576976, 137.3289864112688, 137.47487774676785, 137.6207690822669, 137.76666041776593, 137.912551753265, 138.05844308876405, 138.2043344242631, 138.35022575976214, 138.49611709526118, 138.64200843076026, 138.78789976625927, 138.93379110175835, 139.0796824372574, 139.22557377275643, 139.37146510825548, 139.51735644375452, 139.6632477792536, 139.80913911475264, 139.95503045025168, 140.10092178575073, 140.24681312124977, 140.39270445674882, 140.53859579224786, 140.68448712774693, 140.83037846324598, 140.97626979874502, 141.12216113424407, 141.2680524697431, 141.41394380524216, 141.5598351407412, 141.70572647624027, 141.85161781173932, 141.99750914723836, 142.1434004827374, 142.28929181823645, 142.43518315373552, 142.58107448923454, 142.7269658247336, 142.87285716023266, 143.0187484957317, 143.16463983123074, 143.3105311667298, 143.45642250222886, 143.6023138377279, 143.74820517322695, 143.894096508726, 144.03998784422504, 144.18587917972408, 144.33177051522313, 144.4776618507222, 144.62355318622124, 144.7694445217203, 144.91533585721933, 145.06122719271838, 145.20711852821745, 145.35300986371647, 145.49890119921554, 145.64479253471458, 145.79068387021363, 145.93657520571267, 146.08246654121172, 146.2283578767108, 146.3742492122098, 146.52014054770888, 146.66603188320792, 146.81192321870697, 146.957814554206, 147.10370588970505, 147.24959722520413, 147.39548856070314, 147.54137989620222, 147.68727123170126, 147.8331625672003, 147.97905390269935, 148.1249452381984, 148.27083657369747, 148.4167279091965, 148.56261924469555, 148.7085105801946, 148.85440191569364, 149.0002932511927, 149.14618458669173, 149.2920759221908, 149.43796725768985, 149.5838585931889, 149.72974992868794, 149.87564126418698, 150.02153259968605, 150.16742393518507, 150.31331527068414, 150.4592066061832, 150.60509794168223, 150.75098927718128, 150.89688061268032, 151.0427719481794, 151.1886632836784, 151.33455461917748, 151.48044595467653, 151.62633729017557, 151.77222862567461, 151.91811996117366, 152.06401129667273, 152.20990263217178, 152.35579396767082, 152.50168530316986, 152.6475766386689, 152.79346797416795, 152.939359309667, 153.08525064516607, 153.23114198066511, 153.37703331616416, 153.5229246516632, 153.66881598716225, 153.8147073226613, 153.96059865816036, 154.1064899936594, 154.25238132915845, 154.3982726646575, 154.54416400015654, 154.6900553356556, 154.83594667115466, 154.9818380066537, 155.12772934215275, 155.2736206776518, 155.41951201315084, 155.56540334864988, 155.71129468414892, 155.857186019648, 156.00307735514704, 156.1489686906461, 156.29486002614513, 156.44075136164417, 156.58664269714325, 156.73253403264226, 156.87842536814134, 157.02431670364038, 157.17020803913942, 157.31609937463847, 157.4619907101375, 157.6078820456366, 157.75377338113563, 157.89966471663467, 158.04555605213372, 158.19144738763276, 158.3373387231318, 158.48323005863085, 158.62912139412992, 158.77501272962897, 158.920904065128, 159.06679540062706, 159.2126867361261, 159.35857807162517, 159.5044694071242, 159.65036074262326, 159.7962520781223, 159.94214341362135, 160.0880347491204, 160.23392608461944, 160.3798174201185, 160.52570875561753, 160.6716000911166, 160.81749142661565, 160.9633827621147, 161.10927409761373, 161.25516543311278, 161.40105676861185, 161.54694810411087, 161.69283943960994, 161.83873077510898, 161.98462211060803, 162.13051344610707, 162.27640478160612, 162.4222961171052, 162.56818745260423, 162.71407878810328, 162.85997012360232, 163.00586145910137, 163.1517527946004, 163.29764413009946, 163.44353546559853, 163.58942680109757, 163.73531813659662, 163.88120947209566, 164.0271008075947, 164.17299214309378, 164.3188834785928, 164.46477481409187, 164.6106661495909, 164.75655748508996, 164.902448820589, 165.04834015608805, 165.19423149158712, 165.34012282708613, 165.4860141625852, 165.63190549808425, 165.7777968335833, 165.92368816908234, 166.06957950458138, 166.21547084008046, 166.3613621755795, 166.50725351107855, 166.6531448465776, 166.79903618207663, 166.94492751757568, 167.09081885307472, 167.2367101885738, 167.38260152407284, 167.52849285957188, 167.67438419507093, 167.82027553056997, 167.96616686606902, 168.11205820156806, 168.25794953706713, 168.40384087256618, 168.54973220806522, 168.69562354356427, 168.8415148790633, 168.98740621456238, 169.13329755006143, 169.27918888556047, 169.42508022105952, 169.57097155655856, 169.7168628920576, 169.86275422755665, 170.00864556305572, 170.15453689855477, 170.3004282340538, 170.44631956955286, 170.5922109050519, 170.73810224055094, 170.88399357605, 171.02988491154906, 171.1757762470481, 171.32166758254715, 171.4675589180462, 171.61345025354524, 171.7593415890443, 171.90523292454336, 172.0511242600424, 172.19701559554144, 172.3429069310405, 172.48879826653953, 172.63468960203858, 172.78058093753765, 172.9264722730367, 173.07236360853574, 173.21825494403478, 173.36414627953383, 173.5100376150329, 173.65592895053192, 173.801820286031, 173.94771162153003, 174.09360295702908, 174.23949429252812, 174.38538562802717, 174.53127696352624, 174.67716829902525, 174.82305963452433, 174.96895097002337, 175.11484230552242, 175.26073364102146, 175.4066249765205, 175.55251631201958, 175.6984076475186, 175.84429898301767, 175.9901903185167, 176.13608165401575, 176.2819729895148, 176.42786432501384, 176.57375566051292, 176.71964699601196, 176.865538331511, 177.01142966701005, 177.1573210025091, 177.30321233800817, 177.44910367350718, 177.59499500900625, 177.74088634450527, 177.88677768000434, 178.0326690155034, 178.17856035100243, 178.32445168650148, 178.47034302200052, 178.6162343574996, 178.76212569299864, 178.90801702849768, 179.05390836399673, 179.19979969949577, 179.34569103499484, 179.49158237049386, 179.63747370599293, 179.78336504149198, 179.92925637699102, 180.07514771249006, 180.2210390479891, 180.36693038348818, 180.51282171898723, 180.65871305448627, 180.80460438998531, 180.95049572548436, 181.09638706098343, 181.24227839648245, 181.38816973198152, 181.53406106748054, 181.6799524029796, 181.82584373847865, 181.9717350739777, 182.11762640947677, 182.2635177449758, 182.40940908047486, 182.5553004159739, 182.70119175147295])\n",
       "              .range([&#x27;#f1eef6ff&#x27;, &#x27;#f1eef6ff&#x27;, &#x27;#f1eef6ff&#x27;, &#x27;#f1eef6ff&#x27;, &#x27;#f1eef6ff&#x27;, &#x27;#f1eef6ff&#x27;, &#x27;#f1eef6ff&#x27;, &#x27;#f1eef6ff&#x27;, &#x27;#f1eef6ff&#x27;, &#x27;#f1eef6ff&#x27;, &#x27;#f1eef6ff&#x27;, &#x27;#f1eef6ff&#x27;, &#x27;#f1eef6ff&#x27;, &#x27;#f1eef6ff&#x27;, &#x27;#f1eef6ff&#x27;, &#x27;#f1eef6ff&#x27;, &#x27;#f1eef6ff&#x27;, &#x27;#f1eef6ff&#x27;, &#x27;#f1eef6ff&#x27;, &#x27;#f1eef6ff&#x27;, &#x27;#f1eef6ff&#x27;, &#x27;#f1eef6ff&#x27;, &#x27;#f1eef6ff&#x27;, &#x27;#f1eef6ff&#x27;, &#x27;#f1eef6ff&#x27;, &#x27;#f1eef6ff&#x27;, &#x27;#f1eef6ff&#x27;, &#x27;#f1eef6ff&#x27;, &#x27;#f1eef6ff&#x27;, &#x27;#f1eef6ff&#x27;, &#x27;#f1eef6ff&#x27;, &#x27;#f1eef6ff&#x27;, &#x27;#f1eef6ff&#x27;, &#x27;#f1eef6ff&#x27;, &#x27;#f1eef6ff&#x27;, &#x27;#f1eef6ff&#x27;, &#x27;#f1eef6ff&#x27;, &#x27;#f1eef6ff&#x27;, &#x27;#f1eef6ff&#x27;, &#x27;#f1eef6ff&#x27;, &#x27;#f1eef6ff&#x27;, &#x27;#f1eef6ff&#x27;, &#x27;#f1eef6ff&#x27;, &#x27;#f1eef6ff&#x27;, &#x27;#f1eef6ff&#x27;, &#x27;#f1eef6ff&#x27;, &#x27;#f1eef6ff&#x27;, &#x27;#f1eef6ff&#x27;, &#x27;#f1eef6ff&#x27;, &#x27;#f1eef6ff&#x27;, &#x27;#f1eef6ff&#x27;, &#x27;#f1eef6ff&#x27;, &#x27;#f1eef6ff&#x27;, &#x27;#f1eef6ff&#x27;, &#x27;#f1eef6ff&#x27;, &#x27;#f1eef6ff&#x27;, &#x27;#f1eef6ff&#x27;, &#x27;#f1eef6ff&#x27;, &#x27;#f1eef6ff&#x27;, &#x27;#f1eef6ff&#x27;, &#x27;#f1eef6ff&#x27;, &#x27;#f1eef6ff&#x27;, &#x27;#f1eef6ff&#x27;, &#x27;#f1eef6ff&#x27;, &#x27;#f1eef6ff&#x27;, &#x27;#f1eef6ff&#x27;, &#x27;#f1eef6ff&#x27;, &#x27;#f1eef6ff&#x27;, &#x27;#f1eef6ff&#x27;, &#x27;#f1eef6ff&#x27;, &#x27;#f1eef6ff&#x27;, &#x27;#f1eef6ff&#x27;, &#x27;#f1eef6ff&#x27;, &#x27;#f1eef6ff&#x27;, &#x27;#f1eef6ff&#x27;, &#x27;#f1eef6ff&#x27;, &#x27;#f1eef6ff&#x27;, &#x27;#f1eef6ff&#x27;, &#x27;#f1eef6ff&#x27;, &#x27;#f1eef6ff&#x27;, &#x27;#f1eef6ff&#x27;, &#x27;#f1eef6ff&#x27;, &#x27;#f1eef6ff&#x27;, &#x27;#f1eef6ff&#x27;, &#x27;#d4b9daff&#x27;, &#x27;#d4b9daff&#x27;, &#x27;#d4b9daff&#x27;, &#x27;#d4b9daff&#x27;, &#x27;#d4b9daff&#x27;, &#x27;#d4b9daff&#x27;, &#x27;#d4b9daff&#x27;, &#x27;#d4b9daff&#x27;, &#x27;#d4b9daff&#x27;, &#x27;#d4b9daff&#x27;, &#x27;#d4b9daff&#x27;, &#x27;#d4b9daff&#x27;, &#x27;#d4b9daff&#x27;, &#x27;#d4b9daff&#x27;, &#x27;#d4b9daff&#x27;, &#x27;#d4b9daff&#x27;, &#x27;#d4b9daff&#x27;, &#x27;#d4b9daff&#x27;, &#x27;#d4b9daff&#x27;, &#x27;#d4b9daff&#x27;, &#x27;#d4b9daff&#x27;, &#x27;#d4b9daff&#x27;, &#x27;#d4b9daff&#x27;, &#x27;#d4b9daff&#x27;, &#x27;#d4b9daff&#x27;, &#x27;#d4b9daff&#x27;, &#x27;#d4b9daff&#x27;, &#x27;#d4b9daff&#x27;, &#x27;#d4b9daff&#x27;, &#x27;#d4b9daff&#x27;, &#x27;#d4b9daff&#x27;, &#x27;#d4b9daff&#x27;, &#x27;#d4b9daff&#x27;, &#x27;#d4b9daff&#x27;, &#x27;#d4b9daff&#x27;, &#x27;#d4b9daff&#x27;, &#x27;#d4b9daff&#x27;, &#x27;#d4b9daff&#x27;, &#x27;#d4b9daff&#x27;, &#x27;#d4b9daff&#x27;, &#x27;#d4b9daff&#x27;, &#x27;#d4b9daff&#x27;, &#x27;#d4b9daff&#x27;, &#x27;#d4b9daff&#x27;, &#x27;#d4b9daff&#x27;, &#x27;#d4b9daff&#x27;, &#x27;#d4b9daff&#x27;, &#x27;#d4b9daff&#x27;, &#x27;#d4b9daff&#x27;, &#x27;#d4b9daff&#x27;, &#x27;#d4b9daff&#x27;, &#x27;#d4b9daff&#x27;, &#x27;#d4b9daff&#x27;, &#x27;#d4b9daff&#x27;, &#x27;#d4b9daff&#x27;, &#x27;#d4b9daff&#x27;, &#x27;#d4b9daff&#x27;, &#x27;#d4b9daff&#x27;, &#x27;#d4b9daff&#x27;, &#x27;#d4b9daff&#x27;, &#x27;#d4b9daff&#x27;, &#x27;#d4b9daff&#x27;, &#x27;#d4b9daff&#x27;, &#x27;#d4b9daff&#x27;, &#x27;#d4b9daff&#x27;, &#x27;#d4b9daff&#x27;, &#x27;#d4b9daff&#x27;, &#x27;#d4b9daff&#x27;, &#x27;#d4b9daff&#x27;, &#x27;#d4b9daff&#x27;, &#x27;#d4b9daff&#x27;, &#x27;#d4b9daff&#x27;, &#x27;#d4b9daff&#x27;, &#x27;#d4b9daff&#x27;, &#x27;#d4b9daff&#x27;, &#x27;#d4b9daff&#x27;, &#x27;#d4b9daff&#x27;, &#x27;#d4b9daff&#x27;, &#x27;#d4b9daff&#x27;, &#x27;#d4b9daff&#x27;, &#x27;#d4b9daff&#x27;, &#x27;#d4b9daff&#x27;, &#x27;#d4b9daff&#x27;, &#x27;#c994c7ff&#x27;, &#x27;#c994c7ff&#x27;, &#x27;#c994c7ff&#x27;, &#x27;#c994c7ff&#x27;, &#x27;#c994c7ff&#x27;, &#x27;#c994c7ff&#x27;, &#x27;#c994c7ff&#x27;, &#x27;#c994c7ff&#x27;, &#x27;#c994c7ff&#x27;, &#x27;#c994c7ff&#x27;, &#x27;#c994c7ff&#x27;, &#x27;#c994c7ff&#x27;, &#x27;#c994c7ff&#x27;, &#x27;#c994c7ff&#x27;, &#x27;#c994c7ff&#x27;, &#x27;#c994c7ff&#x27;, &#x27;#c994c7ff&#x27;, &#x27;#c994c7ff&#x27;, &#x27;#c994c7ff&#x27;, &#x27;#c994c7ff&#x27;, &#x27;#c994c7ff&#x27;, &#x27;#c994c7ff&#x27;, &#x27;#c994c7ff&#x27;, &#x27;#c994c7ff&#x27;, &#x27;#c994c7ff&#x27;, &#x27;#c994c7ff&#x27;, &#x27;#c994c7ff&#x27;, &#x27;#c994c7ff&#x27;, &#x27;#c994c7ff&#x27;, &#x27;#c994c7ff&#x27;, &#x27;#c994c7ff&#x27;, &#x27;#c994c7ff&#x27;, &#x27;#c994c7ff&#x27;, &#x27;#c994c7ff&#x27;, &#x27;#c994c7ff&#x27;, &#x27;#c994c7ff&#x27;, &#x27;#c994c7ff&#x27;, &#x27;#c994c7ff&#x27;, &#x27;#c994c7ff&#x27;, &#x27;#c994c7ff&#x27;, &#x27;#c994c7ff&#x27;, &#x27;#c994c7ff&#x27;, &#x27;#c994c7ff&#x27;, &#x27;#c994c7ff&#x27;, &#x27;#c994c7ff&#x27;, &#x27;#c994c7ff&#x27;, &#x27;#c994c7ff&#x27;, &#x27;#c994c7ff&#x27;, &#x27;#c994c7ff&#x27;, &#x27;#c994c7ff&#x27;, &#x27;#c994c7ff&#x27;, &#x27;#c994c7ff&#x27;, &#x27;#c994c7ff&#x27;, &#x27;#c994c7ff&#x27;, &#x27;#c994c7ff&#x27;, &#x27;#c994c7ff&#x27;, &#x27;#c994c7ff&#x27;, &#x27;#c994c7ff&#x27;, &#x27;#c994c7ff&#x27;, &#x27;#c994c7ff&#x27;, &#x27;#c994c7ff&#x27;, &#x27;#c994c7ff&#x27;, &#x27;#c994c7ff&#x27;, &#x27;#c994c7ff&#x27;, &#x27;#c994c7ff&#x27;, &#x27;#c994c7ff&#x27;, &#x27;#c994c7ff&#x27;, &#x27;#c994c7ff&#x27;, &#x27;#c994c7ff&#x27;, &#x27;#c994c7ff&#x27;, &#x27;#c994c7ff&#x27;, &#x27;#c994c7ff&#x27;, &#x27;#c994c7ff&#x27;, &#x27;#c994c7ff&#x27;, &#x27;#c994c7ff&#x27;, &#x27;#c994c7ff&#x27;, &#x27;#c994c7ff&#x27;, &#x27;#c994c7ff&#x27;, &#x27;#c994c7ff&#x27;, &#x27;#c994c7ff&#x27;, &#x27;#c994c7ff&#x27;, &#x27;#c994c7ff&#x27;, &#x27;#c994c7ff&#x27;, &#x27;#df65b0ff&#x27;, &#x27;#df65b0ff&#x27;, &#x27;#df65b0ff&#x27;, &#x27;#df65b0ff&#x27;, &#x27;#df65b0ff&#x27;, &#x27;#df65b0ff&#x27;, &#x27;#df65b0ff&#x27;, &#x27;#df65b0ff&#x27;, &#x27;#df65b0ff&#x27;, &#x27;#df65b0ff&#x27;, &#x27;#df65b0ff&#x27;, &#x27;#df65b0ff&#x27;, &#x27;#df65b0ff&#x27;, &#x27;#df65b0ff&#x27;, &#x27;#df65b0ff&#x27;, &#x27;#df65b0ff&#x27;, &#x27;#df65b0ff&#x27;, &#x27;#df65b0ff&#x27;, &#x27;#df65b0ff&#x27;, &#x27;#df65b0ff&#x27;, &#x27;#df65b0ff&#x27;, &#x27;#df65b0ff&#x27;, &#x27;#df65b0ff&#x27;, &#x27;#df65b0ff&#x27;, &#x27;#df65b0ff&#x27;, &#x27;#df65b0ff&#x27;, &#x27;#df65b0ff&#x27;, &#x27;#df65b0ff&#x27;, &#x27;#df65b0ff&#x27;, &#x27;#df65b0ff&#x27;, &#x27;#df65b0ff&#x27;, &#x27;#df65b0ff&#x27;, &#x27;#df65b0ff&#x27;, &#x27;#df65b0ff&#x27;, &#x27;#df65b0ff&#x27;, &#x27;#df65b0ff&#x27;, &#x27;#df65b0ff&#x27;, &#x27;#df65b0ff&#x27;, &#x27;#df65b0ff&#x27;, &#x27;#df65b0ff&#x27;, &#x27;#df65b0ff&#x27;, &#x27;#df65b0ff&#x27;, &#x27;#df65b0ff&#x27;, &#x27;#df65b0ff&#x27;, &#x27;#df65b0ff&#x27;, &#x27;#df65b0ff&#x27;, &#x27;#df65b0ff&#x27;, &#x27;#df65b0ff&#x27;, &#x27;#df65b0ff&#x27;, &#x27;#df65b0ff&#x27;, &#x27;#df65b0ff&#x27;, &#x27;#df65b0ff&#x27;, &#x27;#df65b0ff&#x27;, &#x27;#df65b0ff&#x27;, &#x27;#df65b0ff&#x27;, &#x27;#df65b0ff&#x27;, &#x27;#df65b0ff&#x27;, &#x27;#df65b0ff&#x27;, &#x27;#df65b0ff&#x27;, &#x27;#df65b0ff&#x27;, &#x27;#df65b0ff&#x27;, &#x27;#df65b0ff&#x27;, &#x27;#df65b0ff&#x27;, &#x27;#df65b0ff&#x27;, &#x27;#df65b0ff&#x27;, &#x27;#df65b0ff&#x27;, &#x27;#df65b0ff&#x27;, &#x27;#df65b0ff&#x27;, &#x27;#df65b0ff&#x27;, &#x27;#df65b0ff&#x27;, &#x27;#df65b0ff&#x27;, &#x27;#df65b0ff&#x27;, &#x27;#df65b0ff&#x27;, &#x27;#df65b0ff&#x27;, &#x27;#df65b0ff&#x27;, &#x27;#df65b0ff&#x27;, &#x27;#df65b0ff&#x27;, &#x27;#df65b0ff&#x27;, &#x27;#df65b0ff&#x27;, &#x27;#df65b0ff&#x27;, &#x27;#df65b0ff&#x27;, &#x27;#df65b0ff&#x27;, &#x27;#df65b0ff&#x27;, &#x27;#dd1c77ff&#x27;, &#x27;#dd1c77ff&#x27;, &#x27;#dd1c77ff&#x27;, &#x27;#dd1c77ff&#x27;, &#x27;#dd1c77ff&#x27;, &#x27;#dd1c77ff&#x27;, &#x27;#dd1c77ff&#x27;, &#x27;#dd1c77ff&#x27;, &#x27;#dd1c77ff&#x27;, &#x27;#dd1c77ff&#x27;, &#x27;#dd1c77ff&#x27;, &#x27;#dd1c77ff&#x27;, &#x27;#dd1c77ff&#x27;, &#x27;#dd1c77ff&#x27;, &#x27;#dd1c77ff&#x27;, &#x27;#dd1c77ff&#x27;, &#x27;#dd1c77ff&#x27;, &#x27;#dd1c77ff&#x27;, &#x27;#dd1c77ff&#x27;, &#x27;#dd1c77ff&#x27;, &#x27;#dd1c77ff&#x27;, &#x27;#dd1c77ff&#x27;, &#x27;#dd1c77ff&#x27;, &#x27;#dd1c77ff&#x27;, &#x27;#dd1c77ff&#x27;, &#x27;#dd1c77ff&#x27;, &#x27;#dd1c77ff&#x27;, &#x27;#dd1c77ff&#x27;, &#x27;#dd1c77ff&#x27;, &#x27;#dd1c77ff&#x27;, &#x27;#dd1c77ff&#x27;, &#x27;#dd1c77ff&#x27;, &#x27;#dd1c77ff&#x27;, &#x27;#dd1c77ff&#x27;, &#x27;#dd1c77ff&#x27;, &#x27;#dd1c77ff&#x27;, &#x27;#dd1c77ff&#x27;, &#x27;#dd1c77ff&#x27;, &#x27;#dd1c77ff&#x27;, &#x27;#dd1c77ff&#x27;, &#x27;#dd1c77ff&#x27;, &#x27;#dd1c77ff&#x27;, &#x27;#dd1c77ff&#x27;, &#x27;#dd1c77ff&#x27;, &#x27;#dd1c77ff&#x27;, &#x27;#dd1c77ff&#x27;, &#x27;#dd1c77ff&#x27;, &#x27;#dd1c77ff&#x27;, &#x27;#dd1c77ff&#x27;, &#x27;#dd1c77ff&#x27;, &#x27;#dd1c77ff&#x27;, &#x27;#dd1c77ff&#x27;, &#x27;#dd1c77ff&#x27;, &#x27;#dd1c77ff&#x27;, &#x27;#dd1c77ff&#x27;, &#x27;#dd1c77ff&#x27;, &#x27;#dd1c77ff&#x27;, &#x27;#dd1c77ff&#x27;, &#x27;#dd1c77ff&#x27;, &#x27;#dd1c77ff&#x27;, &#x27;#dd1c77ff&#x27;, &#x27;#dd1c77ff&#x27;, &#x27;#dd1c77ff&#x27;, &#x27;#dd1c77ff&#x27;, &#x27;#dd1c77ff&#x27;, &#x27;#dd1c77ff&#x27;, &#x27;#dd1c77ff&#x27;, &#x27;#dd1c77ff&#x27;, &#x27;#dd1c77ff&#x27;, &#x27;#dd1c77ff&#x27;, &#x27;#dd1c77ff&#x27;, &#x27;#dd1c77ff&#x27;, &#x27;#dd1c77ff&#x27;, &#x27;#dd1c77ff&#x27;, &#x27;#dd1c77ff&#x27;, &#x27;#dd1c77ff&#x27;, &#x27;#dd1c77ff&#x27;, &#x27;#dd1c77ff&#x27;, &#x27;#dd1c77ff&#x27;, &#x27;#dd1c77ff&#x27;, &#x27;#dd1c77ff&#x27;, &#x27;#dd1c77ff&#x27;, &#x27;#dd1c77ff&#x27;, &#x27;#980043ff&#x27;, &#x27;#980043ff&#x27;, &#x27;#980043ff&#x27;, &#x27;#980043ff&#x27;, &#x27;#980043ff&#x27;, &#x27;#980043ff&#x27;, &#x27;#980043ff&#x27;, &#x27;#980043ff&#x27;, &#x27;#980043ff&#x27;, &#x27;#980043ff&#x27;, &#x27;#980043ff&#x27;, &#x27;#980043ff&#x27;, &#x27;#980043ff&#x27;, &#x27;#980043ff&#x27;, &#x27;#980043ff&#x27;, &#x27;#980043ff&#x27;, &#x27;#980043ff&#x27;, &#x27;#980043ff&#x27;, &#x27;#980043ff&#x27;, &#x27;#980043ff&#x27;, &#x27;#980043ff&#x27;, &#x27;#980043ff&#x27;, &#x27;#980043ff&#x27;, &#x27;#980043ff&#x27;, &#x27;#980043ff&#x27;, &#x27;#980043ff&#x27;, &#x27;#980043ff&#x27;, &#x27;#980043ff&#x27;, &#x27;#980043ff&#x27;, &#x27;#980043ff&#x27;, &#x27;#980043ff&#x27;, &#x27;#980043ff&#x27;, &#x27;#980043ff&#x27;, &#x27;#980043ff&#x27;, &#x27;#980043ff&#x27;, &#x27;#980043ff&#x27;, &#x27;#980043ff&#x27;, &#x27;#980043ff&#x27;, &#x27;#980043ff&#x27;, &#x27;#980043ff&#x27;, &#x27;#980043ff&#x27;, &#x27;#980043ff&#x27;, &#x27;#980043ff&#x27;, &#x27;#980043ff&#x27;, &#x27;#980043ff&#x27;, &#x27;#980043ff&#x27;, &#x27;#980043ff&#x27;, &#x27;#980043ff&#x27;, &#x27;#980043ff&#x27;, &#x27;#980043ff&#x27;, &#x27;#980043ff&#x27;, &#x27;#980043ff&#x27;, &#x27;#980043ff&#x27;, &#x27;#980043ff&#x27;, &#x27;#980043ff&#x27;, &#x27;#980043ff&#x27;, &#x27;#980043ff&#x27;, &#x27;#980043ff&#x27;, &#x27;#980043ff&#x27;, &#x27;#980043ff&#x27;, &#x27;#980043ff&#x27;, &#x27;#980043ff&#x27;, &#x27;#980043ff&#x27;, &#x27;#980043ff&#x27;, &#x27;#980043ff&#x27;, &#x27;#980043ff&#x27;, &#x27;#980043ff&#x27;, &#x27;#980043ff&#x27;, &#x27;#980043ff&#x27;, &#x27;#980043ff&#x27;, &#x27;#980043ff&#x27;, &#x27;#980043ff&#x27;, &#x27;#980043ff&#x27;, &#x27;#980043ff&#x27;, &#x27;#980043ff&#x27;, &#x27;#980043ff&#x27;, &#x27;#980043ff&#x27;, &#x27;#980043ff&#x27;, &#x27;#980043ff&#x27;, &#x27;#980043ff&#x27;, &#x27;#980043ff&#x27;, &#x27;#980043ff&#x27;, &#x27;#980043ff&#x27;, &#x27;#980043ff&#x27;]);\n",
       "    \n",
       "\n",
       "    color_map_f54afdc3808f74da5cde16b4ec903f7d.x = d3.scale.linear()\n",
       "              .domain([109.90141533744765, 182.70119175147295])\n",
       "              .range([0, 450 - 50]);\n",
       "\n",
       "    color_map_f54afdc3808f74da5cde16b4ec903f7d.legend = L.control({position: &#x27;topright&#x27;});\n",
       "    color_map_f54afdc3808f74da5cde16b4ec903f7d.legend.onAdd = function (map) {var div = L.DomUtil.create(&#x27;div&#x27;, &#x27;legend&#x27;); return div};\n",
       "    color_map_f54afdc3808f74da5cde16b4ec903f7d.legend.addTo(map_65d5013c5309d11a49b11ff30d8f2202);\n",
       "\n",
       "    color_map_f54afdc3808f74da5cde16b4ec903f7d.xAxis = d3.svg.axis()\n",
       "        .scale(color_map_f54afdc3808f74da5cde16b4ec903f7d.x)\n",
       "        .orient(&quot;top&quot;)\n",
       "        .tickSize(1)\n",
       "        .tickValues([109.90141533744765, 122.03471140645186, 134.16800747545608, 146.3013035444603, 158.4345996134645, 170.56789568246873, 182.70119175147295]);\n",
       "\n",
       "    color_map_f54afdc3808f74da5cde16b4ec903f7d.svg = d3.select(&quot;.legend.leaflet-control&quot;).append(&quot;svg&quot;)\n",
       "        .attr(&quot;id&quot;, &#x27;legend&#x27;)\n",
       "        .attr(&quot;width&quot;, 450)\n",
       "        .attr(&quot;height&quot;, 40);\n",
       "\n",
       "    color_map_f54afdc3808f74da5cde16b4ec903f7d.g = color_map_f54afdc3808f74da5cde16b4ec903f7d.svg.append(&quot;g&quot;)\n",
       "        .attr(&quot;class&quot;, &quot;key&quot;)\n",
       "        .attr(&quot;transform&quot;, &quot;translate(25,16)&quot;);\n",
       "\n",
       "    color_map_f54afdc3808f74da5cde16b4ec903f7d.g.selectAll(&quot;rect&quot;)\n",
       "        .data(color_map_f54afdc3808f74da5cde16b4ec903f7d.color.range().map(function(d, i) {\n",
       "          return {\n",
       "            x0: i ? color_map_f54afdc3808f74da5cde16b4ec903f7d.x(color_map_f54afdc3808f74da5cde16b4ec903f7d.color.domain()[i - 1]) : color_map_f54afdc3808f74da5cde16b4ec903f7d.x.range()[0],\n",
       "            x1: i &lt; color_map_f54afdc3808f74da5cde16b4ec903f7d.color.domain().length ? color_map_f54afdc3808f74da5cde16b4ec903f7d.x(color_map_f54afdc3808f74da5cde16b4ec903f7d.color.domain()[i]) : color_map_f54afdc3808f74da5cde16b4ec903f7d.x.range()[1],\n",
       "            z: d\n",
       "          };\n",
       "        }))\n",
       "      .enter().append(&quot;rect&quot;)\n",
       "        .attr(&quot;height&quot;, 40 - 30)\n",
       "        .attr(&quot;x&quot;, function(d) { return d.x0; })\n",
       "        .attr(&quot;width&quot;, function(d) { return d.x1 - d.x0; })\n",
       "        .style(&quot;fill&quot;, function(d) { return d.z; });\n",
       "\n",
       "    color_map_f54afdc3808f74da5cde16b4ec903f7d.g.call(color_map_f54afdc3808f74da5cde16b4ec903f7d.xAxis).append(&quot;text&quot;)\n",
       "        .attr(&quot;class&quot;, &quot;caption&quot;)\n",
       "        .attr(&quot;y&quot;, 21)\n",
       "        .text(&quot;&quot;);\n",
       "&lt;/script&gt;\n",
       "&lt;/html&gt;\" style=\"position:absolute;width:100%;height:100%;left:0;top:0;border:none !important;\" allowfullscreen webkitallowfullscreen mozallowfullscreen></iframe></div></div>"
      ],
      "text/plain": [
       "<folium.folium.Map at 0x1c22a5ef190>"
      ]
     },
     "execution_count": 51,
     "metadata": {},
     "output_type": "execute_result"
    }
   ],
   "source": [
    "# 지도 시각화\n",
    "\n",
    "import folium\n",
    "\n",
    "map = folium.Map(location=[37.5000195, 127.0229206],zoom_start=11)\n",
    "\n",
    "# path = \"../../Data/기타/skorea_municipalities_geo_simple_seoul.json\"\n",
    "\n",
    "map.choropleth(geo_data=geo,  data=p[\"주차장확보율\"], \n",
    "               key_on=\"feature.id\",\n",
    "               columns=[p.index, p[\"주차장확보율\"]],\n",
    "               fill_color=\"PuRd\")\n",
    "map"
   ]
  },
  {
   "cell_type": "code",
   "execution_count": 42,
   "id": "0c94c951",
   "metadata": {},
   "outputs": [
    {
     "data": {
      "text/plain": [
       "<AxesSubplot:ylabel='시군구'>"
      ]
     },
     "execution_count": 42,
     "metadata": {},
     "output_type": "execute_result"
    },
    {
     "data": {
      "image/png": "[encoded data removed]",
      "text/plain": [
       "<Figure size 640x480 with 1 Axes>"
      ]
     },
     "metadata": {},
     "output_type": "display_data"
    }
   ],
   "source": [
    "# 막대그래프\n",
    "\n",
    "p[\"주차장확보율\"].sort_values().plot(kind=\"barh\")"
   ]
  },
  {
   "cell_type": "code",
   "execution_count": 43,
   "id": "b5eece2d",
   "metadata": {
    "scrolled": true
   },
   "outputs": [],
   "source": [
    "# p[\"정규화\"]=(p[\"차량대비면수\"]-p[\"차량대비면수\"].min())/(p[\"차량대비면수\"].max()-p[\"차량대비면수\"].min())"
   ]
  },
  {
   "cell_type": "code",
   "execution_count": 44,
   "id": "0f858c35",
   "metadata": {},
   "outputs": [],
   "source": [
    "# p.sort_values(by=\"정규화\", ascending=False)"
   ]
  },
  {
   "cell_type": "markdown",
   "id": "72377273",
   "metadata": {},
   "source": [
    "### ※ 구별 차량대비 주차면수 저장(check piont)"
   ]
  },
  {
   "cell_type": "code",
   "execution_count": 45,
   "id": "c550428e",
   "metadata": {},
   "outputs": [],
   "source": [
    "# p.to_csv(\"../../Data/차,주차장/구별 차량대비 주차면수.csv\")"
   ]
  },
  {
   "cell_type": "markdown",
   "id": "bf3cf3f5",
   "metadata": {},
   "source": [
    "# 4. 동별 주차장 확보율\n",
    "\n",
    "- 결과 : 광진구의 주차장 확보율이 100이 넘는 반면 행정동별 주차장 확보율은 100을 넘지 못함\n",
    "        화양동의 주차장 확보율이 가장 낮음"
   ]
  },
  {
   "cell_type": "code",
   "execution_count": 48,
   "id": "837e135f",
   "metadata": {},
   "outputs": [
    {
     "name": "stdout",
     "output_type": "stream",
     "text": [
      "<class 'pandas.core.frame.DataFrame'>\n",
      "Index: 7 entries, 광장동 to 화양동\n",
      "Data columns (total 2 columns):\n",
      " #   Column  Non-Null Count  Dtype\n",
      "---  ------  --------------  -----\n",
      " 0   차량합계    7 non-null      int64\n",
      " 1   합계면수    7 non-null      int64\n",
      "dtypes: int64(2)\n",
      "memory usage: 168.0+ bytes\n"
     ]
    }
   ],
   "source": [
    "res_dong=pd.merge(gj_dong_car2,gj_dong_pakr2,on=\"행정동\")\n",
    "res_dong.info()"
   ]
  },
  {
   "cell_type": "code",
   "execution_count": 49,
   "id": "b525e41e",
   "metadata": {},
   "outputs": [],
   "source": [
    "res_dong[\"주차장확보율\"]=res_dong[\"차량합계\"]/res_dong[\"합계면수\"]*100"
   ]
  },
  {
   "cell_type": "code",
   "execution_count": 50,
   "id": "4725e224",
   "metadata": {
    "scrolled": true
   },
   "outputs": [
    {
     "data": {
      "text/html": [
       "<div>\n",
       "<style scoped>\n",
       "    .dataframe tbody tr th:only-of-type {\n",
       "        vertical-align: middle;\n",
       "    }\n",
       "\n",
       "    .dataframe tbody tr th {\n",
       "        vertical-align: top;\n",
       "    }\n",
       "\n",
       "    .dataframe thead th {\n",
       "        text-align: right;\n",
       "    }\n",
       "</style>\n",
       "<table border=\"1\" class=\"dataframe\">\n",
       "  <thead>\n",
       "    <tr style=\"text-align: right;\">\n",
       "      <th></th>\n",
       "      <th>차량합계</th>\n",
       "      <th>합계면수</th>\n",
       "      <th>주차장확보율</th>\n",
       "    </tr>\n",
       "    <tr>\n",
       "      <th>행정동</th>\n",
       "      <th></th>\n",
       "      <th></th>\n",
       "      <th></th>\n",
       "    </tr>\n",
       "  </thead>\n",
       "  <tbody>\n",
       "    <tr>\n",
       "      <th>중곡동</th>\n",
       "      <td>21432</td>\n",
       "      <td>25041</td>\n",
       "      <td>85.587636</td>\n",
       "    </tr>\n",
       "    <tr>\n",
       "      <th>자양동</th>\n",
       "      <td>30457</td>\n",
       "      <td>36322</td>\n",
       "      <td>83.852761</td>\n",
       "    </tr>\n",
       "    <tr>\n",
       "      <th>구의동</th>\n",
       "      <td>23133</td>\n",
       "      <td>32131</td>\n",
       "      <td>71.995892</td>\n",
       "    </tr>\n",
       "    <tr>\n",
       "      <th>광장동</th>\n",
       "      <td>11677</td>\n",
       "      <td>16425</td>\n",
       "      <td>71.092846</td>\n",
       "    </tr>\n",
       "    <tr>\n",
       "      <th>군자동</th>\n",
       "      <td>5160</td>\n",
       "      <td>7263</td>\n",
       "      <td>71.045023</td>\n",
       "    </tr>\n",
       "    <tr>\n",
       "      <th>능동</th>\n",
       "      <td>3050</td>\n",
       "      <td>6560</td>\n",
       "      <td>46.493902</td>\n",
       "    </tr>\n",
       "    <tr>\n",
       "      <th>화양동</th>\n",
       "      <td>4140</td>\n",
       "      <td>10647</td>\n",
       "      <td>38.884193</td>\n",
       "    </tr>\n",
       "  </tbody>\n",
       "</table>\n",
       "</div>"
      ],
      "text/plain": [
       "      차량합계   합계면수     주차장확보율\n",
       "행정동                         \n",
       "중곡동  21432  25041  85.587636\n",
       "자양동  30457  36322  83.852761\n",
       "구의동  23133  32131  71.995892\n",
       "광장동  11677  16425  71.092846\n",
       "군자동   5160   7263  71.045023\n",
       "능동    3050   6560  46.493902\n",
       "화양동   4140  10647  38.884193"
      ]
     },
     "execution_count": 50,
     "metadata": {},
     "output_type": "execute_result"
    }
   ],
   "source": [
    "res_dong.sort_values(by=\"주차장확보율\",ascending=False)"
   ]
  },
  {
   "cell_type": "markdown",
   "id": "e7a994d7",
   "metadata": {},
   "source": [
    "### 1) 시각화"
   ]
  },
  {
   "cell_type": "code",
   "execution_count": 60,
   "id": "ef38d2d6",
   "metadata": {},
   "outputs": [
    {
     "data": {
      "text/plain": [
       "<AxesSubplot:ylabel='행정동'>"
      ]
     },
     "execution_count": 60,
     "metadata": {},
     "output_type": "execute_result"
    },
    {
     "data": {
      "image/png": "[encoded data removed]",
      "text/plain": [
       "<Figure size 640x480 with 1 Axes>"
      ]
     },
     "metadata": {},
     "output_type": "display_data"
    }
   ],
   "source": [
    "res_dong[\"주차장확보율\"].sort_values().plot.barh()"
   ]
  },
  {
   "cell_type": "code",
   "execution_count": null,
   "id": "cff01b78",
   "metadata": {},
   "outputs": [],
   "source": []
  },
  {
   "cell_type": "markdown",
   "id": "b1c4bf48",
   "metadata": {},
   "source": [
    "#### ※ 광진구동별주차장확보율 저장(check point)"
   ]
  },
  {
   "cell_type": "code",
   "execution_count": 59,
   "id": "4521c788",
   "metadata": {},
   "outputs": [],
   "source": [
    "res_dong.to_csv(\"../../Data/차,주차장/광진구동별주차장확보율.csv\",\n",
    "                encoding=\"utf-8\")"
   ]
  },
  {
   "cell_type": "code",
   "execution_count": null,
   "id": "5e0e2a20",
   "metadata": {},
   "outputs": [],
   "source": []
  },
  {
   "cell_type": "code",
   "execution_count": null,
   "id": "e7a1aaf2",
   "metadata": {},
   "outputs": [],
   "source": []
  },
  {
   "cell_type": "code",
   "execution_count": null,
   "id": "f6d0342d",
   "metadata": {},
   "outputs": [],
   "source": []
  },
  {
   "cell_type": "code",
   "execution_count": null,
   "id": "41c0a0d7",
   "metadata": {},
   "outputs": [],
   "source": []
  },
  {
   "cell_type": "code",
   "execution_count": null,
   "id": "fe110fe7",
   "metadata": {},
   "outputs": [],
   "source": []
  },
  {
   "cell_type": "code",
   "execution_count": null,
   "id": "9c992b15",
   "metadata": {},
   "outputs": [],
   "source": []
  },
  {
   "cell_type": "code",
   "execution_count": null,
   "id": "d558d4e2",
   "metadata": {},
   "outputs": [],
   "source": []
  },
  {
   "cell_type": "code",
   "execution_count": null,
   "id": "41a72799",
   "metadata": {},
   "outputs": [],
   "source": []
  },
  {
   "cell_type": "code",
   "execution_count": null,
   "id": "85ecb447",
   "metadata": {},
   "outputs": [],
   "source": []
  },
  {
   "cell_type": "code",
   "execution_count": null,
   "id": "ca05cab8",
   "metadata": {},
   "outputs": [],
   "source": []
  },
  {
   "cell_type": "code",
   "execution_count": null,
   "id": "3d0855b9",
   "metadata": {},
   "outputs": [],
   "source": []
  },
  {
   "cell_type": "code",
   "execution_count": null,
   "id": "966963d6",
   "metadata": {},
   "outputs": [],
   "source": []
  },
  {
   "cell_type": "code",
   "execution_count": null,
   "id": "492671d3",
   "metadata": {},
   "outputs": [],
   "source": []
  },
  {
   "cell_type": "code",
   "execution_count": null,
   "id": "bada64f8",
   "metadata": {},
   "outputs": [],
   "source": []
  },
  {
   "cell_type": "code",
   "execution_count": null,
   "id": "85fb3e48",
   "metadata": {},
   "outputs": [],
   "source": []
  },
  {
   "cell_type": "code",
   "execution_count": null,
   "id": "838be39e",
   "metadata": {},
   "outputs": [],
   "source": []
  },
  {
   "cell_type": "code",
   "execution_count": null,
   "id": "3c47e695",
   "metadata": {},
   "outputs": [],
   "source": []
  },
  {
   "cell_type": "code",
   "execution_count": null,
   "id": "d13f50b5",
   "metadata": {},
   "outputs": [],
   "source": []
  }
 ],
 "metadata": {
  "kernelspec": {
   "display_name": "Python 3 (ipykernel)",
   "language": "python",
   "name": "python3"
  },
  "language_info": {
   "codemirror_mode": {
    "name": "ipython",
    "version": 3
   },
   "file_extension": ".py",
   "mimetype": "text/x-python",
   "name": "python",
   "nbconvert_exporter": "python",
   "pygments_lexer": "ipython3",
   "version": "3.9.13"
  }
 },
 "nbformat": 4,
 "nbformat_minor": 5
}
