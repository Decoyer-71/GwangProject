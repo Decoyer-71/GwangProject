{
 "cells": [
  {
   "cell_type": "code",
   "execution_count": 1,
   "id": "085a91fe",
   "metadata": {},
   "outputs": [],
   "source": [
    "import numpy as np\n",
    "import pandas as pd\n",
    "import matplotlib.pyplot as plt\n",
    "import seaborn as sns\n",
    "\n",
    "import matplotlib.font_manager as fm\n",
    "font_name = fm.FontProperties(fname=\"C:\\\\Windows\\\\Fonts\\\\malgun.ttf\").get_name()\n",
    "plt.rc(\"font\", family = font_name)\n",
    "\n",
    "import matplotlib as mlp\n",
    "mlp.rcParams[\"axes.unicode_minus\"] = False"
   ]
  },
  {
   "cell_type": "markdown",
   "id": "04fa5901",
   "metadata": {},
   "source": [
    "## (1) 데이터 출처\n",
    "\n",
    "- 동별 자동차등록대수 : \n",
    "    - 서울특별시_행정동별 자동차 등록대수 현황(공공데이터포털) : 2022 기준\n",
    "        - https://www.data.go.kr/data/15100168/fileData.do\n",
    "        \n",
    "    - 15~21년 행정동별 연료별 자동차 등록현황.xlsx\n",
    "        - https://data.seoul.go.kr/dataList/OA-21236/F/1/datasetView.do#\n",
    "\n",
    "- 동별 면적 :\n",
    "    - https://data.seoul.go.kr/dataList/10584/S/2/datasetView.do"
   ]
  },
  {
   "cell_type": "markdown",
   "id": "188d2784",
   "metadata": {},
   "source": [
    "## (2) 자동차등록대수"
   ]
  },
  {
   "cell_type": "code",
   "execution_count": 79,
   "id": "40b062f7",
   "metadata": {
    "scrolled": true
   },
   "outputs": [
    {
     "name": "stdout",
     "output_type": "stream",
     "text": [
      "<class 'pandas.core.frame.DataFrame'>\n",
      "RangeIndex: 3570 entries, 0 to 3569\n",
      "Data columns (total 16 columns):\n",
      " #   Column     Non-Null Count  Dtype  \n",
      "---  ------     --------------  -----  \n",
      " 0   사용본거지 시군구  3570 non-null   object \n",
      " 1   읍면동 (행정동)  3570 non-null   object \n",
      " 2   연료         3570 non-null   object \n",
      " 3   계          3506 non-null   float64\n",
      " 4   관용_승용      3570 non-null   int64  \n",
      " 5   관용_승합      3570 non-null   int64  \n",
      " 6   관용_화물      3570 non-null   int64  \n",
      " 7   관용_특수      3570 non-null   int64  \n",
      " 8   자가용_승용     3570 non-null   int64  \n",
      " 9   자가용승합      3570 non-null   int64  \n",
      " 10  자가용화물      3570 non-null   int64  \n",
      " 11  자가용특수      3570 non-null   int64  \n",
      " 12  영업용_승용     3570 non-null   int64  \n",
      " 13  영업용승합      3570 non-null   int64  \n",
      " 14  영업용화물      3570 non-null   int64  \n",
      " 15  영업용특수      3570 non-null   int64  \n",
      "dtypes: float64(1), int64(12), object(3)\n",
      "memory usage: 446.4+ KB\n"
     ]
    },
    {
     "data": {
      "text/plain": [
       "사용본거지 시군구     0\n",
       "읍면동 (행정동)     0\n",
       "연료            0\n",
       "계            64\n",
       "관용_승용         0\n",
       "관용_승합         0\n",
       "관용_화물         0\n",
       "관용_특수         0\n",
       "자가용_승용        0\n",
       "자가용승합         0\n",
       "자가용화물         0\n",
       "자가용특수         0\n",
       "영업용_승용        0\n",
       "영업용승합         0\n",
       "영업용화물         0\n",
       "영업용특수         0\n",
       "dtype: int64"
      ]
     },
     "execution_count": 79,
     "metadata": {},
     "output_type": "execute_result"
    }
   ],
   "source": [
    "car22= pd.read_csv(\"../../Data/차,주차장/서울특별시_행정동별 자동차 등록대수 현황_20220430.csv\",\n",
    "           encoding=\"euc-kr\")\n",
    "car22.head()\n",
    "car22.info()\n",
    "car22.isna().sum()"
   ]
  },
  {
   "cell_type": "code",
   "execution_count": 80,
   "id": "5972ef70",
   "metadata": {},
   "outputs": [],
   "source": [
    "del car22[\"계\"]"
   ]
  },
  {
   "cell_type": "code",
   "execution_count": 81,
   "id": "24a70f36",
   "metadata": {
    "scrolled": false
   },
   "outputs": [
    {
     "name": "stderr",
     "output_type": "stream",
     "text": [
      "C:\\Users\\acorn\\AppData\\Local\\Temp\\ipykernel_8944\\1019585463.py:1: FutureWarning: Dropping of nuisance columns in DataFrame reductions (with 'numeric_only=None') is deprecated; in a future version this will raise TypeError.  Select only valid columns before calling the reduction.\n",
      "  car22[\"2022\"]=car22.sum(axis=1)\n"
     ]
    }
   ],
   "source": [
    "car22[\"2022\"]=car22.sum(axis=1)"
   ]
  },
  {
   "cell_type": "code",
   "execution_count": 85,
   "id": "a71f94ea",
   "metadata": {},
   "outputs": [],
   "source": [
    "gu=[]\n",
    "dong=[]\n",
    "sido=[]\n",
    "\n",
    "for i in car22[\"사용본거지 시군구\"]:\n",
    "    sido.append(i.split(\" \")[0])\n",
    "\n",
    "for i in car22[\"읍면동 (행정동)\"]:\n",
    "    gu.append(i.split(\" \")[0])\n",
    "    dong.append(i.split(\" \")[1])\n",
    "    \n",
    "car22[\"시도\"]=sido\n",
    "car22[\"구별\"]=gu\n",
    "car22[\"동별\"]=dong"
   ]
  },
  {
   "cell_type": "code",
   "execution_count": 86,
   "id": "79deb957",
   "metadata": {},
   "outputs": [],
   "source": [
    "car22.loc[car22[\"구별\"] == \"영둥포구\",\"구별\"]=\"영등포구\""
   ]
  },
  {
   "cell_type": "code",
   "execution_count": 88,
   "id": "234bbc53",
   "metadata": {},
   "outputs": [],
   "source": [
    "car22.loc[car22[\"동별\"].str.contains(\"기타\"),\"동별\"]=\"기타\""
   ]
  },
  {
   "cell_type": "code",
   "execution_count": 89,
   "id": "df56d978",
   "metadata": {},
   "outputs": [
    {
     "data": {
      "text/plain": [
       "array(['서울특별시'], dtype=object)"
      ]
     },
     "execution_count": 89,
     "metadata": {},
     "output_type": "execute_result"
    }
   ],
   "source": [
    "car22[\"시도\"].unique()"
   ]
  },
  {
   "cell_type": "code",
   "execution_count": 91,
   "id": "01056303",
   "metadata": {},
   "outputs": [
    {
     "data": {
      "text/html": [
       "<div>\n",
       "<style scoped>\n",
       "    .dataframe tbody tr th:only-of-type {\n",
       "        vertical-align: middle;\n",
       "    }\n",
       "\n",
       "    .dataframe tbody tr th {\n",
       "        vertical-align: top;\n",
       "    }\n",
       "\n",
       "    .dataframe thead th {\n",
       "        text-align: right;\n",
       "    }\n",
       "</style>\n",
       "<table border=\"1\" class=\"dataframe\">\n",
       "  <thead>\n",
       "    <tr style=\"text-align: right;\">\n",
       "      <th></th>\n",
       "      <th>구별</th>\n",
       "      <th>동별</th>\n",
       "      <th>2022</th>\n",
       "    </tr>\n",
       "  </thead>\n",
       "  <tbody>\n",
       "    <tr>\n",
       "      <th>0</th>\n",
       "      <td>종로구</td>\n",
       "      <td>기타</td>\n",
       "      <td>1</td>\n",
       "    </tr>\n",
       "    <tr>\n",
       "      <th>1</th>\n",
       "      <td>종로구</td>\n",
       "      <td>기타</td>\n",
       "      <td>2</td>\n",
       "    </tr>\n",
       "    <tr>\n",
       "      <th>2</th>\n",
       "      <td>종로구</td>\n",
       "      <td>기타</td>\n",
       "      <td>1</td>\n",
       "    </tr>\n",
       "    <tr>\n",
       "      <th>3</th>\n",
       "      <td>종로구</td>\n",
       "      <td>기타</td>\n",
       "      <td>1</td>\n",
       "    </tr>\n",
       "    <tr>\n",
       "      <th>4</th>\n",
       "      <td>종로구</td>\n",
       "      <td>기타</td>\n",
       "      <td>1</td>\n",
       "    </tr>\n",
       "    <tr>\n",
       "      <th>...</th>\n",
       "      <td>...</td>\n",
       "      <td>...</td>\n",
       "      <td>...</td>\n",
       "    </tr>\n",
       "    <tr>\n",
       "      <th>3565</th>\n",
       "      <td>강동구</td>\n",
       "      <td>둔촌2동</td>\n",
       "      <td>377</td>\n",
       "    </tr>\n",
       "    <tr>\n",
       "      <th>3566</th>\n",
       "      <td>강동구</td>\n",
       "      <td>둔촌2동</td>\n",
       "      <td>8</td>\n",
       "    </tr>\n",
       "    <tr>\n",
       "      <th>3567</th>\n",
       "      <td>강동구</td>\n",
       "      <td>둔촌2동</td>\n",
       "      <td>12</td>\n",
       "    </tr>\n",
       "    <tr>\n",
       "      <th>3568</th>\n",
       "      <td>강동구</td>\n",
       "      <td>기타</td>\n",
       "      <td>28</td>\n",
       "    </tr>\n",
       "    <tr>\n",
       "      <th>3569</th>\n",
       "      <td>강동구</td>\n",
       "      <td>기타</td>\n",
       "      <td>18</td>\n",
       "    </tr>\n",
       "  </tbody>\n",
       "</table>\n",
       "<p>3570 rows × 3 columns</p>\n",
       "</div>"
      ],
      "text/plain": [
       "       구별    동별  2022\n",
       "0     종로구    기타     1\n",
       "1     종로구    기타     2\n",
       "2     종로구    기타     1\n",
       "3     종로구    기타     1\n",
       "4     종로구    기타     1\n",
       "...   ...   ...   ...\n",
       "3565  강동구  둔촌2동   377\n",
       "3566  강동구  둔촌2동     8\n",
       "3567  강동구  둔촌2동    12\n",
       "3568  강동구    기타    28\n",
       "3569  강동구    기타    18\n",
       "\n",
       "[3570 rows x 3 columns]"
      ]
     },
     "execution_count": 91,
     "metadata": {},
     "output_type": "execute_result"
    }
   ],
   "source": [
    "car22=car22[[\"구별\",\"동별\",\"2022\"]]\n",
    "car22"
   ]
  },
  {
   "cell_type": "code",
   "execution_count": 92,
   "id": "15bc08c1",
   "metadata": {
    "scrolled": true
   },
   "outputs": [],
   "source": [
    "car22_sum=car22.groupby([\"구별\",\"동별\"])[[\"2022\"]].sum()"
   ]
  },
  {
   "cell_type": "code",
   "execution_count": 93,
   "id": "1d9f7281",
   "metadata": {},
   "outputs": [
    {
     "data": {
      "text/html": [
       "<div>\n",
       "<style scoped>\n",
       "    .dataframe tbody tr th:only-of-type {\n",
       "        vertical-align: middle;\n",
       "    }\n",
       "\n",
       "    .dataframe tbody tr th {\n",
       "        vertical-align: top;\n",
       "    }\n",
       "\n",
       "    .dataframe thead th {\n",
       "        text-align: right;\n",
       "    }\n",
       "</style>\n",
       "<table border=\"1\" class=\"dataframe\">\n",
       "  <thead>\n",
       "    <tr style=\"text-align: right;\">\n",
       "      <th></th>\n",
       "      <th></th>\n",
       "      <th>2022</th>\n",
       "    </tr>\n",
       "    <tr>\n",
       "      <th>구별</th>\n",
       "      <th>동별</th>\n",
       "      <th></th>\n",
       "    </tr>\n",
       "  </thead>\n",
       "  <tbody>\n",
       "    <tr>\n",
       "      <th rowspan=\"5\" valign=\"top\">강남구</th>\n",
       "      <th>개포1동</th>\n",
       "      <td>3875</td>\n",
       "    </tr>\n",
       "    <tr>\n",
       "      <th>개포2동</th>\n",
       "      <td>10266</td>\n",
       "    </tr>\n",
       "    <tr>\n",
       "      <th>개포4동</th>\n",
       "      <td>8552</td>\n",
       "    </tr>\n",
       "    <tr>\n",
       "      <th>기타</th>\n",
       "      <td>525</td>\n",
       "    </tr>\n",
       "    <tr>\n",
       "      <th>논현1동</th>\n",
       "      <td>10388</td>\n",
       "    </tr>\n",
       "    <tr>\n",
       "      <th>...</th>\n",
       "      <th>...</th>\n",
       "      <td>...</td>\n",
       "    </tr>\n",
       "    <tr>\n",
       "      <th rowspan=\"5\" valign=\"top\">중랑구</th>\n",
       "      <th>상봉2동</th>\n",
       "      <td>5353</td>\n",
       "    </tr>\n",
       "    <tr>\n",
       "      <th>신내1동</th>\n",
       "      <td>12815</td>\n",
       "    </tr>\n",
       "    <tr>\n",
       "      <th>신내2동</th>\n",
       "      <td>6891</td>\n",
       "    </tr>\n",
       "    <tr>\n",
       "      <th>중화1동</th>\n",
       "      <td>5571</td>\n",
       "    </tr>\n",
       "    <tr>\n",
       "      <th>중화2동</th>\n",
       "      <td>6185</td>\n",
       "    </tr>\n",
       "  </tbody>\n",
       "</table>\n",
       "<p>475 rows × 1 columns</p>\n",
       "</div>"
      ],
      "text/plain": [
       "           2022\n",
       "구별  동별         \n",
       "강남구 개포1동   3875\n",
       "    개포2동  10266\n",
       "    개포4동   8552\n",
       "    기타      525\n",
       "    논현1동  10388\n",
       "...         ...\n",
       "중랑구 상봉2동   5353\n",
       "    신내1동  12815\n",
       "    신내2동   6891\n",
       "    중화1동   5571\n",
       "    중화2동   6185\n",
       "\n",
       "[475 rows x 1 columns]"
      ]
     },
     "execution_count": 93,
     "metadata": {},
     "output_type": "execute_result"
    }
   ],
   "source": [
    "car22_sum"
   ]
  },
  {
   "cell_type": "code",
   "execution_count": 94,
   "id": "0ef0f019",
   "metadata": {
    "scrolled": true
   },
   "outputs": [
    {
     "name": "stdout",
     "output_type": "stream",
     "text": [
      "<class 'pandas.core.frame.DataFrame'>\n",
      "RangeIndex: 101561 entries, 0 to 101560\n",
      "Data columns (total 9 columns):\n",
      " #   Column      Non-Null Count   Dtype \n",
      "---  ------      --------------   ----- \n",
      " 0   연월          101561 non-null  int64 \n",
      " 1   사용본거지시군구    101561 non-null  object\n",
      " 2   시군구코드       101561 non-null  int64 \n",
      " 3   행정동사용본거지    90705 non-null   object\n",
      " 4   행정동사용본거지코드  101351 non-null  object\n",
      " 5   용도          101561 non-null  object\n",
      " 6   차종종별        101561 non-null  object\n",
      " 7   연료          101561 non-null  object\n",
      " 8   건수          101561 non-null  int64 \n",
      "dtypes: int64(3), object(6)\n",
      "memory usage: 7.0+ MB\n"
     ]
    }
   ],
   "source": [
    "car15_21= pd.read_excel(\"../../Data/회귀분석/15~21년 행정동별 연료별 자동차 등록현황.xlsx\",\n",
    "                        sheet_name=1, skiprows=1)\n",
    "car15_21.head()\n",
    "car15_21.info()"
   ]
  },
  {
   "cell_type": "code",
   "execution_count": 95,
   "id": "9274a523",
   "metadata": {},
   "outputs": [],
   "source": [
    "car15_21[\"연도\"]= car15_21[\"연월\"].astype(str).str.extract(\"(20\\d{2})\")"
   ]
  },
  {
   "cell_type": "code",
   "execution_count": 96,
   "id": "a16d1ac4",
   "metadata": {},
   "outputs": [],
   "source": [
    "car15_21.loc[car15_21[\"행정동사용본거지\"].isna(), \"행정동사용본거지\"] = car15_21[\"사용본거지시군구\"]"
   ]
  },
  {
   "cell_type": "code",
   "execution_count": 45,
   "id": "ff95ab58",
   "metadata": {
    "scrolled": true
   },
   "outputs": [
    {
     "name": "stdout",
     "output_type": "stream",
     "text": [
      "<class 'pandas.core.frame.DataFrame'>\n",
      "RangeIndex: 101561 entries, 0 to 101560\n",
      "Data columns (total 10 columns):\n",
      " #   Column      Non-Null Count   Dtype \n",
      "---  ------      --------------   ----- \n",
      " 0   연월          101561 non-null  int64 \n",
      " 1   사용본거지시군구    101561 non-null  object\n",
      " 2   시군구코드       101561 non-null  int64 \n",
      " 3   행정동사용본거지    101561 non-null  object\n",
      " 4   행정동사용본거지코드  101351 non-null  object\n",
      " 5   용도          101561 non-null  object\n",
      " 6   차종종별        101561 non-null  object\n",
      " 7   연료          101561 non-null  object\n",
      " 8   건수          101561 non-null  int64 \n",
      " 9   연도          101561 non-null  object\n",
      "dtypes: int64(3), object(7)\n",
      "memory usage: 7.7+ MB\n"
     ]
    },
    {
     "data": {
      "text/html": [
       "<div>\n",
       "<style scoped>\n",
       "    .dataframe tbody tr th:only-of-type {\n",
       "        vertical-align: middle;\n",
       "    }\n",
       "\n",
       "    .dataframe tbody tr th {\n",
       "        vertical-align: top;\n",
       "    }\n",
       "\n",
       "    .dataframe thead th {\n",
       "        text-align: right;\n",
       "    }\n",
       "</style>\n",
       "<table border=\"1\" class=\"dataframe\">\n",
       "  <thead>\n",
       "    <tr style=\"text-align: right;\">\n",
       "      <th></th>\n",
       "      <th>연월</th>\n",
       "      <th>사용본거지시군구</th>\n",
       "      <th>시군구코드</th>\n",
       "      <th>행정동사용본거지</th>\n",
       "      <th>행정동사용본거지코드</th>\n",
       "      <th>용도</th>\n",
       "      <th>차종종별</th>\n",
       "      <th>연료</th>\n",
       "      <th>건수</th>\n",
       "      <th>연도</th>\n",
       "    </tr>\n",
       "  </thead>\n",
       "  <tbody>\n",
       "    <tr>\n",
       "      <th>0</th>\n",
       "      <td>201512</td>\n",
       "      <td>서울특별시 종로구</td>\n",
       "      <td>11110</td>\n",
       "      <td>서울특별시 종로구</td>\n",
       "      <td>58000</td>\n",
       "      <td>자가용</td>\n",
       "      <td>화물</td>\n",
       "      <td>경유</td>\n",
       "      <td>1</td>\n",
       "      <td>2015</td>\n",
       "    </tr>\n",
       "    <tr>\n",
       "      <th>1</th>\n",
       "      <td>201512</td>\n",
       "      <td>서울특별시 종로구</td>\n",
       "      <td>11110</td>\n",
       "      <td>서울특별시 종로구</td>\n",
       "      <td>60000</td>\n",
       "      <td>자가용</td>\n",
       "      <td>승용</td>\n",
       "      <td>휘발유</td>\n",
       "      <td>2</td>\n",
       "      <td>2015</td>\n",
       "    </tr>\n",
       "    <tr>\n",
       "      <th>2</th>\n",
       "      <td>201512</td>\n",
       "      <td>서울특별시 종로구</td>\n",
       "      <td>11110</td>\n",
       "      <td>서울특별시 종로구</td>\n",
       "      <td>60000</td>\n",
       "      <td>자가용</td>\n",
       "      <td>화물</td>\n",
       "      <td>휘발유</td>\n",
       "      <td>1</td>\n",
       "      <td>2015</td>\n",
       "    </tr>\n",
       "    <tr>\n",
       "      <th>3</th>\n",
       "      <td>201512</td>\n",
       "      <td>서울특별시 종로구</td>\n",
       "      <td>11110</td>\n",
       "      <td>서울특별시 종로구</td>\n",
       "      <td>61500</td>\n",
       "      <td>자가용</td>\n",
       "      <td>화물</td>\n",
       "      <td>휘발유</td>\n",
       "      <td>2</td>\n",
       "      <td>2015</td>\n",
       "    </tr>\n",
       "    <tr>\n",
       "      <th>4</th>\n",
       "      <td>201512</td>\n",
       "      <td>서울특별시 종로구</td>\n",
       "      <td>11110</td>\n",
       "      <td>서울특별시 종로구</td>\n",
       "      <td>62000</td>\n",
       "      <td>자가용</td>\n",
       "      <td>화물</td>\n",
       "      <td>경유</td>\n",
       "      <td>1</td>\n",
       "      <td>2015</td>\n",
       "    </tr>\n",
       "  </tbody>\n",
       "</table>\n",
       "</div>"
      ],
      "text/plain": [
       "       연월   사용본거지시군구  시군구코드   행정동사용본거지  행정동사용본거지코드   용도 차종종별   연료  건수    연도\n",
       "0  201512  서울특별시 종로구  11110  서울특별시 종로구       58000  자가용   화물   경유   1  2015\n",
       "1  201512  서울특별시 종로구  11110  서울특별시 종로구       60000  자가용   승용  휘발유   2  2015\n",
       "2  201512  서울특별시 종로구  11110  서울특별시 종로구       60000  자가용   화물  휘발유   1  2015\n",
       "3  201512  서울특별시 종로구  11110  서울특별시 종로구       61500  자가용   화물  휘발유   2  2015\n",
       "4  201512  서울특별시 종로구  11110  서울특별시 종로구       62000  자가용   화물   경유   1  2015"
      ]
     },
     "execution_count": 45,
     "metadata": {},
     "output_type": "execute_result"
    }
   ],
   "source": [
    "# car15_21.info()\n",
    "# car15_21.head()"
   ]
  },
  {
   "cell_type": "code",
   "execution_count": 98,
   "id": "46a5391b",
   "metadata": {},
   "outputs": [],
   "source": [
    "sido=[]\n",
    "gu =[]\n",
    "dong =[] \n",
    "\n",
    "for i in car15_21[\"행정동사용본거지\"]:\n",
    "    sido.append(i.split(\" \")[0])  \n",
    "    gu.append(i.split(\" \")[1])\n",
    "    try :\n",
    "        dong.append(i.split(\" \")[2])\n",
    "    except :\n",
    "        dong.append(\"기타\")\n",
    "        \n",
    "car15_21[\"시도\"] = sido\n",
    "car15_21[\"구별\"] = gu\n",
    "car15_21[\"동별\"] = dong"
   ]
  },
  {
   "cell_type": "code",
   "execution_count": 100,
   "id": "900150f5",
   "metadata": {},
   "outputs": [],
   "source": [
    "car15_21=car15_21[car15_21[\"시도\"]==\"서울특별시\"]"
   ]
  },
  {
   "cell_type": "code",
   "execution_count": 101,
   "id": "bdd9940a",
   "metadata": {
    "scrolled": false
   },
   "outputs": [
    {
     "data": {
      "text/plain": [
       "array(['종로구', '중구', '용산구', '성동구', '광진구', '동대문구', '중랑구', '성북구', '구로구',\n",
       "       '강북구', '도봉구', '노원구', '은평구', '서대문구', '마포구', '양천구', '강서구', '금천구',\n",
       "       '영등포구', '동작구', '관악구', '서초구', '강남구', '송파구', '강동구'], dtype=object)"
      ]
     },
     "execution_count": 101,
     "metadata": {},
     "output_type": "execute_result"
    }
   ],
   "source": [
    "car15_21[\"구별\"].unique()"
   ]
  },
  {
   "cell_type": "code",
   "execution_count": 102,
   "id": "67a7d281",
   "metadata": {},
   "outputs": [
    {
     "data": {
      "text/plain": [
       "array(['기타', '청운효자동', '사직동', '삼청동', '부암동', '무악동', '교남동', '가회동',\n",
       "       '종로1.2.3.4가동', '종로5.6가동', '이화동', '혜화동', '창신1동', '창신3동', '숭인2동',\n",
       "       '필동', '소공동', '회현동', '명동', '장충동', '광희동', '을지로3.4.5가동', '을지로동',\n",
       "       '신당동', '다산동', '약수동', '신당4동', '청구동', '신당5동', '중림동', '후암동', '용산2가동',\n",
       "       '남영동', '청파동', '원효로1동', '원효로2동', '효창동', '용문동', '한강로동', '이촌2동',\n",
       "       '이태원1동', '이태원2동', '한남동', '보광동', '평창동', '왕십리2동', '왕십리도선동', '마장동',\n",
       "       '사근동', '행당1동', '행당2동', '응봉동', '금호1가동', '금호2.3가동', '금호4가동', '창신2동',\n",
       "       '숭인1동', '옥수동', '성수1가1동', '성수1가2동', '성수2가1동', '성수2가3동', '송정동',\n",
       "       '용답동', '화양동', '군자동', '중곡1동', '중곡2동', '신당2동', '중곡3동', '중곡4동', '능동',\n",
       "       '광장동', '신당6동', '동화동', '황학동', '자양1동', '자양2동', '자양3동', '자양4동',\n",
       "       '구의1동', '구의2동', '구의3동', '이촌1동', '서빙고동', '용신동', '제기동', '전농1동',\n",
       "       '전농2동', '답십리1동', '답십리2동', '장안1동', '장안2동', '청량리동', '회기동', '휘경1동',\n",
       "       '휘경2동', '이문1동', '이문2동', '면목4동', '면목5동', '면목본동', '면목7동', '면목3.8동',\n",
       "       '상봉1동', '상봉2동', '중화1동', '중화2동', '묵1동', '묵2동', '망우본동', '망우3동',\n",
       "       '신내1동', '신내2동', '성북동', '삼선동', '동선동', '돈암1동', '돈암2동', '안암동', '보문동',\n",
       "       '정릉1동', '정릉2동', '정릉3동', '정릉4동', '길음1동', '길음2동', '종암동', '월곡1동',\n",
       "       '면목2동', '월곡2동', '장위2동', '장위3동', '석관동', '가리봉동', '삼양동', '미아동', '송중동',\n",
       "       '송천동', '삼각산동', '번1동', '번2동', '번3동', '수유1동', '수유2동', '수유3동', '우이동',\n",
       "       '인수동', '창1동', '창2동', '창3동', '창4동', '창5동', '도봉1동', '도봉2동', '장위1동',\n",
       "       '쌍문1동', '쌍문3동', '쌍문4동', '방학1동', '방학2동', '방학3동', '월계1동', '월계2동',\n",
       "       '월계3동', '공릉1동', '공릉2동', '공릉1.3동', '하계1동', '하계2동', '중계본동', '중계1동',\n",
       "       '중계4동', '중계2.3동', '쌍문2동', '상계1동', '상계2동', '상계5동', '상계6.7동', '상계8동',\n",
       "       '상계9동', '상계10동', '녹번동', '불광1동', '불광2동', '갈현1동', '갈현2동', '구산동',\n",
       "       '대조동', '응암1동', '응암2동', '응암3동', '역촌동', '신사1동', '신사2동', '증산동',\n",
       "       '상계3.4동', '수색동', '진관동', '천연동', '북아현동', '충현동', '신촌동', '연희동', '홍제1동',\n",
       "       '홍제3동', '홍제2동', '홍은1동', '홍은2동', '남가좌1동', '남가좌2동', '북가좌1동', '북가좌2동',\n",
       "       '아현동', '공덕동', '도화동', '용강동', '대흥동', '염리동', '신수동', '서강동', '서교동',\n",
       "       '합정동', '망원1동', '도화2동', '연남동', '성산1동', '성산2동', '상암동', '목1동', '목2동',\n",
       "       '망원2동', '목3동', '목4동', '목5동', '신월1동', '신월2동', '신월3동', '신월4동',\n",
       "       '신월5동', '신월6동', '신월7동', '신정1동', '신정2동', '신정3동', '신정4동', '신정6동',\n",
       "       '신정7동', '염창동', '등촌1동', '등촌2동', '등촌3동', '화곡1동', '화곡2동', '화곡3동',\n",
       "       '화곡4동', '화곡본동', '화곡6동', '화곡8동', '가양1동', '가양2동', '가양3동', '발산1동',\n",
       "       '우장산동', '공항동', '방화1동', '방화2동', '방화3동', '신도림동', '구로1동', '구로2동',\n",
       "       '구로3동', '구로4동', '구로5동', '구로본동', '고척1동', '고척2동', '개봉1동', '개봉2동',\n",
       "       '개봉3동', '개봉본동', '오류1동', '오류2동', '수궁동', '가산동', '독산1동', '독산1동분소',\n",
       "       '독산2동', '독산3동', '독산4동', '시흥1동', '시흥2동', '시흥3동', '시흥4동', '시흥5동',\n",
       "       '영등포본동', '영등포동', '여의동', '당산1동', '당산2동', '도림동', '문래동', '양평1동',\n",
       "       '양평2동', '신길1동', '신길3동', '신길4동', '신길7동', '대림1동', '대림2동', '대림3동',\n",
       "       '신길5동', '노량진1동', '노량진2동', '상도1동', '상도2동', '상도3동', '상도4동', '흑석동',\n",
       "       '사당2동', '사당3동', '사당4동', '사당5동', '대방동', '사당1동', '신대방1동', '신대방2동',\n",
       "       '보라매동', '청림동', '성현동', '행운동', '낙성대동', '청룡동', '은천동', '중앙동', '인헌동',\n",
       "       '남현동', '서원동', '신원동', '서림동', '신사동', '신림동', '난향동', '조원동', '대학동',\n",
       "       '삼성동', '미성동', '난곡동', '서초1동', '서초2동', '서초3동', '서초4동', '잠원동', '반포본동',\n",
       "       '반포1동', '반포2동', '반포3동', '반포4동', '방배본동', '방배1동', '방배2동', '방배3동',\n",
       "       '방배4동', '양재1동', '양재2동', '내곡동', '논현1동', '논현2동', '압구정동', '청담동',\n",
       "       '삼성1동', '삼성2동', '대치1동', '대치2동', '대치4동', '역삼1동', '역삼2동', '도곡1동',\n",
       "       '도곡2동', '개포1동', '개포2동', '개포4동', '세곡동', '일원본동', '일원1동', '일원2동',\n",
       "       '수서동', '풍납1동', '풍납2동', '거여1동', '거여2동', '마천1동', '마천2동', '방이1동',\n",
       "       '방이2동', '오륜동', '오금동', '송파1동', '송파2동', '석촌동', '삼전동', '가락본동', '가락1동',\n",
       "       '가락2동', '문정1동', '문정2동', '장지동', '위례동', '잠실본동', '잠실2동', '잠실3동',\n",
       "       '잠실4동', '잠실6동', '잠실7동', '하일동', '강일동', '상일동', '명일1동', '명일2동',\n",
       "       '고덕1동', '고덕2동', '암사1동', '암사2동', '암사3동', '천호1동', '천호2동', '천호3동',\n",
       "       '성내1동', '성내2동', '명륜3가동', '성내3동', '길동', '둔촌1동', '둔촌2동', '길1동',\n",
       "       '신당3동', '태평로1가동', '신당1동', '남대문로5가동', '가산동민원분소', '신길6동', '동소문동',\n",
       "       '논현동', '도화1동', '노고산동', '월계4동', '항동', '도곡동', '봉천본동', '영등포1동',\n",
       "       '도림1동', '상일제1동', '상일제2동'], dtype=object)"
      ]
     },
     "execution_count": 102,
     "metadata": {},
     "output_type": "execute_result"
    }
   ],
   "source": [
    "car15_21[\"동별\"].unique()"
   ]
  },
  {
   "cell_type": "code",
   "execution_count": 103,
   "id": "a583bace",
   "metadata": {},
   "outputs": [
    {
     "data": {
      "text/html": [
       "<div>\n",
       "<style scoped>\n",
       "    .dataframe tbody tr th:only-of-type {\n",
       "        vertical-align: middle;\n",
       "    }\n",
       "\n",
       "    .dataframe tbody tr th {\n",
       "        vertical-align: top;\n",
       "    }\n",
       "\n",
       "    .dataframe thead th {\n",
       "        text-align: right;\n",
       "    }\n",
       "</style>\n",
       "<table border=\"1\" class=\"dataframe\">\n",
       "  <thead>\n",
       "    <tr style=\"text-align: right;\">\n",
       "      <th></th>\n",
       "      <th>연월</th>\n",
       "      <th>사용본거지시군구</th>\n",
       "      <th>시군구코드</th>\n",
       "      <th>행정동사용본거지</th>\n",
       "      <th>행정동사용본거지코드</th>\n",
       "      <th>용도</th>\n",
       "      <th>차종종별</th>\n",
       "      <th>연료</th>\n",
       "      <th>건수</th>\n",
       "      <th>연도</th>\n",
       "      <th>시도</th>\n",
       "      <th>구별</th>\n",
       "      <th>동별</th>\n",
       "    </tr>\n",
       "  </thead>\n",
       "  <tbody>\n",
       "    <tr>\n",
       "      <th>0</th>\n",
       "      <td>201512</td>\n",
       "      <td>서울특별시 종로구</td>\n",
       "      <td>11110</td>\n",
       "      <td>서울특별시 종로구</td>\n",
       "      <td>58000</td>\n",
       "      <td>자가용</td>\n",
       "      <td>화물</td>\n",
       "      <td>경유</td>\n",
       "      <td>1</td>\n",
       "      <td>2015</td>\n",
       "      <td>서울특별시</td>\n",
       "      <td>종로구</td>\n",
       "      <td>기타</td>\n",
       "    </tr>\n",
       "    <tr>\n",
       "      <th>1</th>\n",
       "      <td>201512</td>\n",
       "      <td>서울특별시 종로구</td>\n",
       "      <td>11110</td>\n",
       "      <td>서울특별시 종로구</td>\n",
       "      <td>60000</td>\n",
       "      <td>자가용</td>\n",
       "      <td>승용</td>\n",
       "      <td>휘발유</td>\n",
       "      <td>2</td>\n",
       "      <td>2015</td>\n",
       "      <td>서울특별시</td>\n",
       "      <td>종로구</td>\n",
       "      <td>기타</td>\n",
       "    </tr>\n",
       "    <tr>\n",
       "      <th>2</th>\n",
       "      <td>201512</td>\n",
       "      <td>서울특별시 종로구</td>\n",
       "      <td>11110</td>\n",
       "      <td>서울특별시 종로구</td>\n",
       "      <td>60000</td>\n",
       "      <td>자가용</td>\n",
       "      <td>화물</td>\n",
       "      <td>휘발유</td>\n",
       "      <td>1</td>\n",
       "      <td>2015</td>\n",
       "      <td>서울특별시</td>\n",
       "      <td>종로구</td>\n",
       "      <td>기타</td>\n",
       "    </tr>\n",
       "    <tr>\n",
       "      <th>3</th>\n",
       "      <td>201512</td>\n",
       "      <td>서울특별시 종로구</td>\n",
       "      <td>11110</td>\n",
       "      <td>서울특별시 종로구</td>\n",
       "      <td>61500</td>\n",
       "      <td>자가용</td>\n",
       "      <td>화물</td>\n",
       "      <td>휘발유</td>\n",
       "      <td>2</td>\n",
       "      <td>2015</td>\n",
       "      <td>서울특별시</td>\n",
       "      <td>종로구</td>\n",
       "      <td>기타</td>\n",
       "    </tr>\n",
       "    <tr>\n",
       "      <th>4</th>\n",
       "      <td>201512</td>\n",
       "      <td>서울특별시 종로구</td>\n",
       "      <td>11110</td>\n",
       "      <td>서울특별시 종로구</td>\n",
       "      <td>62000</td>\n",
       "      <td>자가용</td>\n",
       "      <td>화물</td>\n",
       "      <td>경유</td>\n",
       "      <td>1</td>\n",
       "      <td>2015</td>\n",
       "      <td>서울특별시</td>\n",
       "      <td>종로구</td>\n",
       "      <td>기타</td>\n",
       "    </tr>\n",
       "  </tbody>\n",
       "</table>\n",
       "</div>"
      ],
      "text/plain": [
       "       연월   사용본거지시군구  시군구코드   행정동사용본거지  행정동사용본거지코드   용도 차종종별   연료  건수    연도  \\\n",
       "0  201512  서울특별시 종로구  11110  서울특별시 종로구       58000  자가용   화물   경유   1  2015   \n",
       "1  201512  서울특별시 종로구  11110  서울특별시 종로구       60000  자가용   승용  휘발유   2  2015   \n",
       "2  201512  서울특별시 종로구  11110  서울특별시 종로구       60000  자가용   화물  휘발유   1  2015   \n",
       "3  201512  서울특별시 종로구  11110  서울특별시 종로구       61500  자가용   화물  휘발유   2  2015   \n",
       "4  201512  서울특별시 종로구  11110  서울특별시 종로구       62000  자가용   화물   경유   1  2015   \n",
       "\n",
       "      시도   구별  동별  \n",
       "0  서울특별시  종로구  기타  \n",
       "1  서울특별시  종로구  기타  \n",
       "2  서울특별시  종로구  기타  \n",
       "3  서울특별시  종로구  기타  \n",
       "4  서울특별시  종로구  기타  "
      ]
     },
     "execution_count": 103,
     "metadata": {},
     "output_type": "execute_result"
    }
   ],
   "source": [
    "car15_21.head()"
   ]
  },
  {
   "cell_type": "code",
   "execution_count": 117,
   "id": "004df21f",
   "metadata": {},
   "outputs": [],
   "source": [
    "car15_21=car15_21[[\"연도\",\"구별\",\"동별\",\"용도\",\"차종종별\",\"연료\",\"건수\"]]"
   ]
  },
  {
   "cell_type": "code",
   "execution_count": 118,
   "id": "cf5a84a9",
   "metadata": {
    "scrolled": true
   },
   "outputs": [],
   "source": [
    "car15_21_sum=car15_21.groupby([\"구별\",\"동별\",\"연도\"])[[\"건수\"]].sum()"
   ]
  },
  {
   "cell_type": "code",
   "execution_count": 119,
   "id": "595101c9",
   "metadata": {},
   "outputs": [],
   "source": [
    "car15_21_sum=car15_21_sum.unstack()"
   ]
  },
  {
   "cell_type": "code",
   "execution_count": 120,
   "id": "89df0aac",
   "metadata": {},
   "outputs": [
    {
     "data": {
      "text/html": [
       "<div>\n",
       "<style scoped>\n",
       "    .dataframe tbody tr th:only-of-type {\n",
       "        vertical-align: middle;\n",
       "    }\n",
       "\n",
       "    .dataframe tbody tr th {\n",
       "        vertical-align: top;\n",
       "    }\n",
       "\n",
       "    .dataframe thead tr th {\n",
       "        text-align: left;\n",
       "    }\n",
       "\n",
       "    .dataframe thead tr:last-of-type th {\n",
       "        text-align: right;\n",
       "    }\n",
       "</style>\n",
       "<table border=\"1\" class=\"dataframe\">\n",
       "  <thead>\n",
       "    <tr>\n",
       "      <th></th>\n",
       "      <th></th>\n",
       "      <th colspan=\"7\" halign=\"left\">건수</th>\n",
       "    </tr>\n",
       "    <tr>\n",
       "      <th></th>\n",
       "      <th>연도</th>\n",
       "      <th>2015</th>\n",
       "      <th>2016</th>\n",
       "      <th>2017</th>\n",
       "      <th>2018</th>\n",
       "      <th>2019</th>\n",
       "      <th>2020</th>\n",
       "      <th>2021</th>\n",
       "    </tr>\n",
       "    <tr>\n",
       "      <th>구별</th>\n",
       "      <th>동별</th>\n",
       "      <th></th>\n",
       "      <th></th>\n",
       "      <th></th>\n",
       "      <th></th>\n",
       "      <th></th>\n",
       "      <th></th>\n",
       "      <th></th>\n",
       "    </tr>\n",
       "  </thead>\n",
       "  <tbody>\n",
       "    <tr>\n",
       "      <th rowspan=\"5\" valign=\"top\">강남구</th>\n",
       "      <th>개포1동</th>\n",
       "      <td>7313.0</td>\n",
       "      <td>7400.0</td>\n",
       "      <td>7231.0</td>\n",
       "      <td>3773.0</td>\n",
       "      <td>3616.0</td>\n",
       "      <td>3608.0</td>\n",
       "      <td>3643.0</td>\n",
       "    </tr>\n",
       "    <tr>\n",
       "      <th>개포2동</th>\n",
       "      <td>8310.0</td>\n",
       "      <td>6828.0</td>\n",
       "      <td>4950.0</td>\n",
       "      <td>4746.0</td>\n",
       "      <td>7733.0</td>\n",
       "      <td>7963.0</td>\n",
       "      <td>10116.0</td>\n",
       "    </tr>\n",
       "    <tr>\n",
       "      <th>개포4동</th>\n",
       "      <td>7552.0</td>\n",
       "      <td>6514.0</td>\n",
       "      <td>6462.0</td>\n",
       "      <td>6492.0</td>\n",
       "      <td>6267.0</td>\n",
       "      <td>7930.0</td>\n",
       "      <td>8562.0</td>\n",
       "    </tr>\n",
       "    <tr>\n",
       "      <th>기타</th>\n",
       "      <td>531.0</td>\n",
       "      <td>676.0</td>\n",
       "      <td>788.0</td>\n",
       "      <td>675.0</td>\n",
       "      <td>611.0</td>\n",
       "      <td>582.0</td>\n",
       "      <td>531.0</td>\n",
       "    </tr>\n",
       "    <tr>\n",
       "      <th>논현1동</th>\n",
       "      <td>12235.0</td>\n",
       "      <td>13625.0</td>\n",
       "      <td>11037.0</td>\n",
       "      <td>10886.0</td>\n",
       "      <td>10583.0</td>\n",
       "      <td>10447.0</td>\n",
       "      <td>10455.0</td>\n",
       "    </tr>\n",
       "    <tr>\n",
       "      <th>...</th>\n",
       "      <th>...</th>\n",
       "      <td>...</td>\n",
       "      <td>...</td>\n",
       "      <td>...</td>\n",
       "      <td>...</td>\n",
       "      <td>...</td>\n",
       "      <td>...</td>\n",
       "      <td>...</td>\n",
       "    </tr>\n",
       "    <tr>\n",
       "      <th rowspan=\"5\" valign=\"top\">중랑구</th>\n",
       "      <th>상봉2동</th>\n",
       "      <td>5127.0</td>\n",
       "      <td>5264.0</td>\n",
       "      <td>5178.0</td>\n",
       "      <td>5362.0</td>\n",
       "      <td>5368.0</td>\n",
       "      <td>5379.0</td>\n",
       "      <td>5363.0</td>\n",
       "    </tr>\n",
       "    <tr>\n",
       "      <th>신내1동</th>\n",
       "      <td>12884.0</td>\n",
       "      <td>12815.0</td>\n",
       "      <td>12939.0</td>\n",
       "      <td>12890.0</td>\n",
       "      <td>12949.0</td>\n",
       "      <td>12846.0</td>\n",
       "      <td>12820.0</td>\n",
       "    </tr>\n",
       "    <tr>\n",
       "      <th>신내2동</th>\n",
       "      <td>6902.0</td>\n",
       "      <td>7086.0</td>\n",
       "      <td>7152.0</td>\n",
       "      <td>6950.0</td>\n",
       "      <td>6920.0</td>\n",
       "      <td>6871.0</td>\n",
       "      <td>6894.0</td>\n",
       "    </tr>\n",
       "    <tr>\n",
       "      <th>중화1동</th>\n",
       "      <td>5324.0</td>\n",
       "      <td>5489.0</td>\n",
       "      <td>5718.0</td>\n",
       "      <td>5779.0</td>\n",
       "      <td>5625.0</td>\n",
       "      <td>5585.0</td>\n",
       "      <td>5570.0</td>\n",
       "    </tr>\n",
       "    <tr>\n",
       "      <th>중화2동</th>\n",
       "      <td>6517.0</td>\n",
       "      <td>6424.0</td>\n",
       "      <td>6721.0</td>\n",
       "      <td>6804.0</td>\n",
       "      <td>6467.0</td>\n",
       "      <td>6244.0</td>\n",
       "      <td>6160.0</td>\n",
       "    </tr>\n",
       "  </tbody>\n",
       "</table>\n",
       "<p>478 rows × 7 columns</p>\n",
       "</div>"
      ],
      "text/plain": [
       "               건수                                                      \n",
       "연도           2015     2016     2017     2018     2019     2020     2021\n",
       "구별  동별                                                                 \n",
       "강남구 개포1동   7313.0   7400.0   7231.0   3773.0   3616.0   3608.0   3643.0\n",
       "    개포2동   8310.0   6828.0   4950.0   4746.0   7733.0   7963.0  10116.0\n",
       "    개포4동   7552.0   6514.0   6462.0   6492.0   6267.0   7930.0   8562.0\n",
       "    기타      531.0    676.0    788.0    675.0    611.0    582.0    531.0\n",
       "    논현1동  12235.0  13625.0  11037.0  10886.0  10583.0  10447.0  10455.0\n",
       "...           ...      ...      ...      ...      ...      ...      ...\n",
       "중랑구 상봉2동   5127.0   5264.0   5178.0   5362.0   5368.0   5379.0   5363.0\n",
       "    신내1동  12884.0  12815.0  12939.0  12890.0  12949.0  12846.0  12820.0\n",
       "    신내2동   6902.0   7086.0   7152.0   6950.0   6920.0   6871.0   6894.0\n",
       "    중화1동   5324.0   5489.0   5718.0   5779.0   5625.0   5585.0   5570.0\n",
       "    중화2동   6517.0   6424.0   6721.0   6804.0   6467.0   6244.0   6160.0\n",
       "\n",
       "[478 rows x 7 columns]"
      ]
     },
     "execution_count": 120,
     "metadata": {},
     "output_type": "execute_result"
    }
   ],
   "source": [
    "car15_21_sum"
   ]
  },
  {
   "cell_type": "code",
   "execution_count": 121,
   "id": "6af346f1",
   "metadata": {
    "scrolled": true
   },
   "outputs": [
    {
     "name": "stdout",
     "output_type": "stream",
     "text": [
      "<class 'pandas.core.frame.DataFrame'>\n",
      "MultiIndex: 478 entries, ('강남구', '개포1동') to ('중랑구', '중화2동')\n",
      "Data columns (total 7 columns):\n",
      " #   Column      Non-Null Count  Dtype  \n",
      "---  ------      --------------  -----  \n",
      " 0   (건수, 2015)  471 non-null    float64\n",
      " 1   (건수, 2016)  470 non-null    float64\n",
      " 2   (건수, 2017)  470 non-null    float64\n",
      " 3   (건수, 2018)  469 non-null    float64\n",
      " 4   (건수, 2019)  469 non-null    float64\n",
      " 5   (건수, 2020)  474 non-null    float64\n",
      " 6   (건수, 2021)  474 non-null    float64\n",
      "dtypes: float64(7)\n",
      "memory usage: 31.4+ KB\n"
     ]
    }
   ],
   "source": [
    "car15_21_sum.info()"
   ]
  },
  {
   "cell_type": "code",
   "execution_count": 58,
   "id": "c30f1bb5",
   "metadata": {},
   "outputs": [
    {
     "name": "stdout",
     "output_type": "stream",
     "text": [
      "<class 'pandas.core.frame.DataFrame'>\n",
      "MultiIndex: 475 entries, ('강남구', '개포1동') to ('중랑구', '중화2동')\n",
      "Data columns (total 1 columns):\n",
      " #   Column  Non-Null Count  Dtype\n",
      "---  ------  --------------  -----\n",
      " 0   2022    475 non-null    int64\n",
      "dtypes: int64(1)\n",
      "memory usage: 9.0+ KB\n"
     ]
    }
   ],
   "source": [
    "car22_sum.info()"
   ]
  },
  {
   "cell_type": "code",
   "execution_count": 157,
   "id": "87690ebb",
   "metadata": {
    "scrolled": false
   },
   "outputs": [
    {
     "name": "stderr",
     "output_type": "stream",
     "text": [
      "C:\\Users\\acorn\\AppData\\Local\\Temp\\ipykernel_8944\\2541952535.py:1: FutureWarning: merging between different levels is deprecated and will be removed in a future version. (2 levels on the left, 1 on the right)\n",
      "  df=pd.merge(car15_21_sum, car22_sum, on=[\"구별\",\"동별\"], how=\"outer\")\n"
     ]
    }
   ],
   "source": [
    "df=pd.merge(car15_21_sum, car22_sum, on=[\"구별\",\"동별\"], how=\"outer\")"
   ]
  },
  {
   "cell_type": "code",
   "execution_count": 158,
   "id": "4358a461",
   "metadata": {},
   "outputs": [],
   "source": [
    "del df[(\"건수\", \"2015\")]\n",
    "del df[(\"건수\", \"2016\")]\n",
    "del df[(\"건수\", \"2017\")]"
   ]
  },
  {
   "cell_type": "code",
   "execution_count": 159,
   "id": "b7b247d2",
   "metadata": {},
   "outputs": [],
   "source": [
    "df.columns=[2018,2019,2020,2021,2022]"
   ]
  },
  {
   "cell_type": "code",
   "execution_count": 162,
   "id": "3470bd97",
   "metadata": {
    "scrolled": false
   },
   "outputs": [],
   "source": [
    "df=df.T.stack([\"구별\",\"동별\"])"
   ]
  },
  {
   "cell_type": "code",
   "execution_count": 163,
   "id": "dc634fc6",
   "metadata": {
    "scrolled": true
   },
   "outputs": [
    {
     "data": {
      "text/plain": [
       "      구별   동별  \n",
       "2018  강남구  개포1동     3773.0\n",
       "           개포2동     4746.0\n",
       "           개포4동     6492.0\n",
       "           기타        675.0\n",
       "           논현1동    10886.0\n",
       "                    ...   \n",
       "2022  중랑구  상봉2동     5353.0\n",
       "           신내1동    12815.0\n",
       "           신내2동     6891.0\n",
       "           중화1동     5571.0\n",
       "           중화2동     6185.0\n",
       "Length: 2361, dtype: float64"
      ]
     },
     "execution_count": 163,
     "metadata": {},
     "output_type": "execute_result"
    }
   ],
   "source": [
    "df"
   ]
  },
  {
   "cell_type": "code",
   "execution_count": 164,
   "id": "d0e1f6cf",
   "metadata": {},
   "outputs": [],
   "source": [
    "df.to_csv(\"../../Data/회귀분석/동별차량등록대수.csv\", \n",
    "            encoding=\"utf-8\")"
   ]
  },
  {
   "cell_type": "markdown",
   "id": "618fad52",
   "metadata": {},
   "source": [
    "## (3) 면적"
   ]
  },
  {
   "cell_type": "code",
   "execution_count": 32,
   "id": "b269ac28",
   "metadata": {},
   "outputs": [
    {
     "data": {
      "text/html": [
       "<div>\n",
       "<style scoped>\n",
       "    .dataframe tbody tr th:only-of-type {\n",
       "        vertical-align: middle;\n",
       "    }\n",
       "\n",
       "    .dataframe tbody tr th {\n",
       "        vertical-align: top;\n",
       "    }\n",
       "\n",
       "    .dataframe thead th {\n",
       "        text-align: right;\n",
       "    }\n",
       "</style>\n",
       "<table border=\"1\" class=\"dataframe\">\n",
       "  <thead>\n",
       "    <tr style=\"text-align: right;\">\n",
       "      <th></th>\n",
       "      <th>시점</th>\n",
       "      <th>동별(1)</th>\n",
       "      <th>동별(2)</th>\n",
       "      <th>동별(3)</th>\n",
       "      <th>인구 (명)</th>\n",
       "      <th>면적 (㎢)</th>\n",
       "      <th>인구밀도 (명/㎢)</th>\n",
       "    </tr>\n",
       "  </thead>\n",
       "  <tbody>\n",
       "    <tr>\n",
       "      <th>0</th>\n",
       "      <td>2018</td>\n",
       "      <td>합계</td>\n",
       "      <td>소계</td>\n",
       "      <td>소계</td>\n",
       "      <td>10049607</td>\n",
       "      <td>605.24</td>\n",
       "      <td>16604</td>\n",
       "    </tr>\n",
       "    <tr>\n",
       "      <th>1</th>\n",
       "      <td>2018</td>\n",
       "      <td>합계</td>\n",
       "      <td>종로구</td>\n",
       "      <td>소계</td>\n",
       "      <td>163026</td>\n",
       "      <td>23.91</td>\n",
       "      <td>6817</td>\n",
       "    </tr>\n",
       "    <tr>\n",
       "      <th>2</th>\n",
       "      <td>2018</td>\n",
       "      <td>합계</td>\n",
       "      <td>종로구</td>\n",
       "      <td>사직동</td>\n",
       "      <td>9818</td>\n",
       "      <td>1.23</td>\n",
       "      <td>7982</td>\n",
       "    </tr>\n",
       "    <tr>\n",
       "      <th>3</th>\n",
       "      <td>2018</td>\n",
       "      <td>합계</td>\n",
       "      <td>종로구</td>\n",
       "      <td>삼청동</td>\n",
       "      <td>3073</td>\n",
       "      <td>1.49</td>\n",
       "      <td>2062</td>\n",
       "    </tr>\n",
       "    <tr>\n",
       "      <th>4</th>\n",
       "      <td>2018</td>\n",
       "      <td>합계</td>\n",
       "      <td>종로구</td>\n",
       "      <td>부암동</td>\n",
       "      <td>10537</td>\n",
       "      <td>2.27</td>\n",
       "      <td>4642</td>\n",
       "    </tr>\n",
       "  </tbody>\n",
       "</table>\n",
       "</div>"
      ],
      "text/plain": [
       "     시점 동별(1) 동별(2) 동별(3)    인구 (명)  면적 (㎢)  인구밀도 (명/㎢)\n",
       "0  2018    합계    소계    소계  10049607  605.24       16604\n",
       "1  2018    합계   종로구    소계    163026   23.91        6817\n",
       "2  2018    합계   종로구   사직동      9818    1.23        7982\n",
       "3  2018    합계   종로구   삼청동      3073    1.49        2062\n",
       "4  2018    합계   종로구   부암동     10537    2.27        4642"
      ]
     },
     "execution_count": 32,
     "metadata": {},
     "output_type": "execute_result"
    }
   ],
   "source": [
    "area= pd.read_csv(\"../../Data/회귀분석/인구밀도_20230424093342.csv\")\n",
    "area.head()"
   ]
  },
  {
   "cell_type": "code",
   "execution_count": 33,
   "id": "b984982e",
   "metadata": {},
   "outputs": [],
   "source": [
    "area=area[(area[\"동별(2)\"]!=\"소계\") & (area[\"동별(3)\"]!=\"소계\")]"
   ]
  },
  {
   "cell_type": "code",
   "execution_count": 34,
   "id": "871fcc8d",
   "metadata": {},
   "outputs": [],
   "source": [
    "area=area[[\"시점\",\"동별(2)\",\"동별(3)\",\"면적 (㎢)\"]]"
   ]
  },
  {
   "cell_type": "code",
   "execution_count": 35,
   "id": "d3b63de0",
   "metadata": {},
   "outputs": [
    {
     "data": {
      "text/html": [
       "<div>\n",
       "<style scoped>\n",
       "    .dataframe tbody tr th:only-of-type {\n",
       "        vertical-align: middle;\n",
       "    }\n",
       "\n",
       "    .dataframe tbody tr th {\n",
       "        vertical-align: top;\n",
       "    }\n",
       "\n",
       "    .dataframe thead th {\n",
       "        text-align: right;\n",
       "    }\n",
       "</style>\n",
       "<table border=\"1\" class=\"dataframe\">\n",
       "  <thead>\n",
       "    <tr style=\"text-align: right;\">\n",
       "      <th></th>\n",
       "      <th>연도</th>\n",
       "      <th>구별</th>\n",
       "      <th>동별</th>\n",
       "      <th>면적</th>\n",
       "    </tr>\n",
       "  </thead>\n",
       "  <tbody>\n",
       "    <tr>\n",
       "      <th>2</th>\n",
       "      <td>2018</td>\n",
       "      <td>종로구</td>\n",
       "      <td>사직동</td>\n",
       "      <td>1.23</td>\n",
       "    </tr>\n",
       "    <tr>\n",
       "      <th>3</th>\n",
       "      <td>2018</td>\n",
       "      <td>종로구</td>\n",
       "      <td>삼청동</td>\n",
       "      <td>1.49</td>\n",
       "    </tr>\n",
       "    <tr>\n",
       "      <th>4</th>\n",
       "      <td>2018</td>\n",
       "      <td>종로구</td>\n",
       "      <td>부암동</td>\n",
       "      <td>2.27</td>\n",
       "    </tr>\n",
       "    <tr>\n",
       "      <th>5</th>\n",
       "      <td>2018</td>\n",
       "      <td>종로구</td>\n",
       "      <td>평창동</td>\n",
       "      <td>8.87</td>\n",
       "    </tr>\n",
       "    <tr>\n",
       "      <th>6</th>\n",
       "      <td>2018</td>\n",
       "      <td>종로구</td>\n",
       "      <td>무악동</td>\n",
       "      <td>0.36</td>\n",
       "    </tr>\n",
       "  </tbody>\n",
       "</table>\n",
       "</div>"
      ],
      "text/plain": [
       "     연도   구별   동별    면적\n",
       "2  2018  종로구  사직동  1.23\n",
       "3  2018  종로구  삼청동  1.49\n",
       "4  2018  종로구  부암동  2.27\n",
       "5  2018  종로구  평창동  8.87\n",
       "6  2018  종로구  무악동  0.36"
      ]
     },
     "execution_count": 35,
     "metadata": {},
     "output_type": "execute_result"
    }
   ],
   "source": [
    "area.columns=[\"연도\",\"구별\",\"동별\",\"면적\"]\n",
    "area.head()"
   ]
  },
  {
   "cell_type": "code",
   "execution_count": 36,
   "id": "9d615bc7",
   "metadata": {},
   "outputs": [],
   "source": [
    "area.to_csv(\"../../Data/회귀분석/동별면적.csv\", \n",
    "            encoding=\"utf-8\")"
   ]
  },
  {
   "cell_type": "code",
   "execution_count": null,
   "id": "faa21d22",
   "metadata": {},
   "outputs": [],
   "source": []
  },
  {
   "cell_type": "code",
   "execution_count": null,
   "id": "e90425de",
   "metadata": {},
   "outputs": [],
   "source": []
  },
  {
   "cell_type": "code",
   "execution_count": null,
   "id": "94338f79",
   "metadata": {},
   "outputs": [],
   "source": []
  },
  {
   "cell_type": "code",
   "execution_count": null,
   "id": "7356ee3a",
   "metadata": {},
   "outputs": [],
   "source": []
  },
  {
   "cell_type": "code",
   "execution_count": null,
   "id": "3a92ffaf",
   "metadata": {},
   "outputs": [],
   "source": []
  },
  {
   "cell_type": "code",
   "execution_count": null,
   "id": "3834a492",
   "metadata": {},
   "outputs": [],
   "source": []
  },
  {
   "cell_type": "code",
   "execution_count": null,
   "id": "1a2dc623",
   "metadata": {},
   "outputs": [],
   "source": []
  },
  {
   "cell_type": "code",
   "execution_count": null,
   "id": "11bef182",
   "metadata": {},
   "outputs": [],
   "source": []
  },
  {
   "cell_type": "code",
   "execution_count": null,
   "id": "f7bf365c",
   "metadata": {},
   "outputs": [],
   "source": []
  },
  {
   "cell_type": "code",
   "execution_count": null,
   "id": "6deaf39d",
   "metadata": {},
   "outputs": [],
   "source": []
  },
  {
   "cell_type": "code",
   "execution_count": null,
   "id": "68921947",
   "metadata": {},
   "outputs": [],
   "source": []
  },
  {
   "cell_type": "code",
   "execution_count": null,
   "id": "8332f308",
   "metadata": {},
   "outputs": [],
   "source": []
  }
 ],
 "metadata": {
  "kernelspec": {
   "display_name": "Python 3 (ipykernel)",
   "language": "python",
   "name": "python3"
  },
  "language_info": {
   "codemirror_mode": {
    "name": "ipython",
    "version": 3
   },
   "file_extension": ".py",
   "mimetype": "text/x-python",
   "name": "python",
   "nbconvert_exporter": "python",
   "pygments_lexer": "ipython3",
   "version": "3.9.13"
  }
 },
 "nbformat": 4,
 "nbformat_minor": 5
}
