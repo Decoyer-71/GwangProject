{
 "cells": [
  {
   "cell_type": "code",
   "execution_count": 1,
   "id": "b950e55e",
   "metadata": {},
   "outputs": [],
   "source": [
    "import numpy as np\n",
    "import pandas as pd\n",
    "import matplotlib.pyplot as plt\n",
    "import seaborn as sns\n",
    "\n",
    "import matplotlib.font_manager as fm\n",
    "font_name = fm.FontProperties(fname=\"C:\\\\Windows\\\\Fonts\\\\malgun.ttf\").get_name()\n",
    "plt.rc(\"font\", family = font_name)\n",
    "\n",
    "import matplotlib as mlp\n",
    "mlp.rcParams[\"axes.unicode_minus\"] = False"
   ]
  },
  {
   "cell_type": "code",
   "execution_count": 2,
   "id": "7c0612f3",
   "metadata": {},
   "outputs": [],
   "source": [
    "# from glob import glob"
   ]
  },
  {
   "cell_type": "markdown",
   "id": "002b490f",
   "metadata": {},
   "source": [
    "---"
   ]
  },
  {
   "cell_type": "markdown",
   "id": "ced90c9c",
   "metadata": {},
   "source": [
    "# 1. 구별 불법 주 · 정차 단속실적"
   ]
  },
  {
   "cell_type": "markdown",
   "id": "0c2ddfff",
   "metadata": {},
   "source": [
    "## (1) 데이터 처리"
   ]
  },
  {
   "cell_type": "markdown",
   "id": "20664086",
   "metadata": {},
   "source": [
    "### 1) 데이터 로드\n",
    "\n",
    "- 불법 주 · 정차 단속실적(서울특별시청) : 2022 기준\n",
    "- https://news.seoul.go.kr/traffic/archives/35239\n",
    "- 크롤링"
   ]
  },
  {
   "cell_type": "code",
   "execution_count": 3,
   "id": "42c707f5",
   "metadata": {},
   "outputs": [],
   "source": [
    "from urllib.request import urlopen\n",
    "from bs4 import BeautifulSoup\n",
    "\n",
    "page = urlopen(\"https://news.seoul.go.kr/traffic/archives/35239\")\n",
    "soup = BeautifulSoup(page, \"html.parser\")"
   ]
  },
  {
   "cell_type": "code",
   "execution_count": 4,
   "id": "2ac72eac",
   "metadata": {},
   "outputs": [],
   "source": [
    "post=soup.find(\"div\", id=\"post_content\")"
   ]
  },
  {
   "cell_type": "code",
   "execution_count": 5,
   "id": "8bdd5242",
   "metadata": {},
   "outputs": [],
   "source": [
    "violation_table = post.find_all(\"table\")[0]"
   ]
  },
  {
   "cell_type": "code",
   "execution_count": 6,
   "id": "a17359fd",
   "metadata": {},
   "outputs": [],
   "source": [
    "violation_tr=violation_table.find_all(\"tr\")[3:]\n",
    "\n",
    "gu_name =[]\n",
    "year18 = []\n",
    "year19 = []\n",
    "year20 = []\n",
    "year21 = []\n",
    "year22 = []\n",
    "\n",
    "# i=1\n",
    "for tr in violation_tr:\n",
    "    td = tr.find_all(\"td\")\n",
    "    if td[0].text.replace(\"\\n\",\"\") == \"중구\" :\n",
    "        gu_name.append(td[0].text.replace(\"\\n\",\"\"))\n",
    "    else : \n",
    "        gu_name.append(td[0].text.replace(\"\\n\",\"\")+'구')\n",
    "    year18.append(td[1].text.replace(\"\\n\",\"\"))\n",
    "    year19.append(td[2].text.replace(\"\\n\",\"\"))\n",
    "    year20.append(td[3].text.replace(\"\\n\",\"\"))\n",
    "    year21.append(td[4].text.replace(\"\\n\",\"\"))\n",
    "    year22.append(td[5].text.replace(\"\\n\",\"\"))"
   ]
  },
  {
   "cell_type": "code",
   "execution_count": 7,
   "id": "bc95db33",
   "metadata": {},
   "outputs": [
    {
     "data": {
      "text/html": [
       "<div>\n",
       "<style scoped>\n",
       "    .dataframe tbody tr th:only-of-type {\n",
       "        vertical-align: middle;\n",
       "    }\n",
       "\n",
       "    .dataframe tbody tr th {\n",
       "        vertical-align: top;\n",
       "    }\n",
       "\n",
       "    .dataframe thead th {\n",
       "        text-align: right;\n",
       "    }\n",
       "</style>\n",
       "<table border=\"1\" class=\"dataframe\">\n",
       "  <thead>\n",
       "    <tr style=\"text-align: right;\">\n",
       "      <th></th>\n",
       "      <th>구별</th>\n",
       "      <th>2018</th>\n",
       "      <th>2019</th>\n",
       "      <th>2020</th>\n",
       "      <th>2021</th>\n",
       "      <th>2022</th>\n",
       "    </tr>\n",
       "  </thead>\n",
       "  <tbody>\n",
       "    <tr>\n",
       "      <th>0</th>\n",
       "      <td>종로구</td>\n",
       "      <td>160,528</td>\n",
       "      <td>164,079</td>\n",
       "      <td>183,481</td>\n",
       "      <td>162,739</td>\n",
       "      <td>112,082</td>\n",
       "    </tr>\n",
       "    <tr>\n",
       "      <th>1</th>\n",
       "      <td>중구</td>\n",
       "      <td>158,119</td>\n",
       "      <td>172,213</td>\n",
       "      <td>153,967</td>\n",
       "      <td>155,137</td>\n",
       "      <td>182,320</td>\n",
       "    </tr>\n",
       "    <tr>\n",
       "      <th>2</th>\n",
       "      <td>용산구</td>\n",
       "      <td>94,529</td>\n",
       "      <td>65,339</td>\n",
       "      <td>70,902</td>\n",
       "      <td>72,531</td>\n",
       "      <td>83,674</td>\n",
       "    </tr>\n",
       "    <tr>\n",
       "      <th>3</th>\n",
       "      <td>성동구</td>\n",
       "      <td>92,167</td>\n",
       "      <td>86,771</td>\n",
       "      <td>64,482</td>\n",
       "      <td>63,102</td>\n",
       "      <td>60,161</td>\n",
       "    </tr>\n",
       "    <tr>\n",
       "      <th>4</th>\n",
       "      <td>광진구</td>\n",
       "      <td>65,839</td>\n",
       "      <td>61,448</td>\n",
       "      <td>60,043</td>\n",
       "      <td>58,019</td>\n",
       "      <td>42,221</td>\n",
       "    </tr>\n",
       "    <tr>\n",
       "      <th>5</th>\n",
       "      <td>동대문구</td>\n",
       "      <td>88,106</td>\n",
       "      <td>84,899</td>\n",
       "      <td>98,551</td>\n",
       "      <td>80,911</td>\n",
       "      <td>71,294</td>\n",
       "    </tr>\n",
       "    <tr>\n",
       "      <th>6</th>\n",
       "      <td>중랑구</td>\n",
       "      <td>47,691</td>\n",
       "      <td>46,548</td>\n",
       "      <td>37,111</td>\n",
       "      <td>38,434</td>\n",
       "      <td>41,410</td>\n",
       "    </tr>\n",
       "    <tr>\n",
       "      <th>7</th>\n",
       "      <td>성북구</td>\n",
       "      <td>49,560</td>\n",
       "      <td>59,805</td>\n",
       "      <td>50,663</td>\n",
       "      <td>41,141</td>\n",
       "      <td>40,401</td>\n",
       "    </tr>\n",
       "    <tr>\n",
       "      <th>8</th>\n",
       "      <td>강북구</td>\n",
       "      <td>50,378</td>\n",
       "      <td>59,388</td>\n",
       "      <td>52,034</td>\n",
       "      <td>53,283</td>\n",
       "      <td>47,523</td>\n",
       "    </tr>\n",
       "    <tr>\n",
       "      <th>9</th>\n",
       "      <td>도봉구</td>\n",
       "      <td>60,759</td>\n",
       "      <td>55,876</td>\n",
       "      <td>42,378</td>\n",
       "      <td>50,329</td>\n",
       "      <td>48,377</td>\n",
       "    </tr>\n",
       "    <tr>\n",
       "      <th>10</th>\n",
       "      <td>노원구</td>\n",
       "      <td>82,001</td>\n",
       "      <td>80,343</td>\n",
       "      <td>61,993</td>\n",
       "      <td>55,574</td>\n",
       "      <td>58,605</td>\n",
       "    </tr>\n",
       "    <tr>\n",
       "      <th>11</th>\n",
       "      <td>은평구</td>\n",
       "      <td>94,238</td>\n",
       "      <td>101,536</td>\n",
       "      <td>74,121</td>\n",
       "      <td>69,261</td>\n",
       "      <td>52,757</td>\n",
       "    </tr>\n",
       "    <tr>\n",
       "      <th>12</th>\n",
       "      <td>서대문구</td>\n",
       "      <td>64,355</td>\n",
       "      <td>67,032</td>\n",
       "      <td>52,186</td>\n",
       "      <td>42,421</td>\n",
       "      <td>45,879</td>\n",
       "    </tr>\n",
       "    <tr>\n",
       "      <th>13</th>\n",
       "      <td>마포구</td>\n",
       "      <td>153,066</td>\n",
       "      <td>153,511</td>\n",
       "      <td>115,731</td>\n",
       "      <td>100,582</td>\n",
       "      <td>95,923</td>\n",
       "    </tr>\n",
       "    <tr>\n",
       "      <th>14</th>\n",
       "      <td>양천구</td>\n",
       "      <td>106,517</td>\n",
       "      <td>116,091</td>\n",
       "      <td>87,355</td>\n",
       "      <td>75,744</td>\n",
       "      <td>70,248</td>\n",
       "    </tr>\n",
       "    <tr>\n",
       "      <th>15</th>\n",
       "      <td>강서구</td>\n",
       "      <td>148,538</td>\n",
       "      <td>175,000</td>\n",
       "      <td>170,141</td>\n",
       "      <td>182,210</td>\n",
       "      <td>145,065</td>\n",
       "    </tr>\n",
       "    <tr>\n",
       "      <th>16</th>\n",
       "      <td>구로구</td>\n",
       "      <td>99,637</td>\n",
       "      <td>97,027</td>\n",
       "      <td>76,618</td>\n",
       "      <td>66,904</td>\n",
       "      <td>69,162</td>\n",
       "    </tr>\n",
       "    <tr>\n",
       "      <th>17</th>\n",
       "      <td>금천구</td>\n",
       "      <td>55,896</td>\n",
       "      <td>59,891</td>\n",
       "      <td>53,328</td>\n",
       "      <td>52,403</td>\n",
       "      <td>44,746</td>\n",
       "    </tr>\n",
       "    <tr>\n",
       "      <th>18</th>\n",
       "      <td>영등포구</td>\n",
       "      <td>166,145</td>\n",
       "      <td>163,508</td>\n",
       "      <td>136,373</td>\n",
       "      <td>107,341</td>\n",
       "      <td>101,742</td>\n",
       "    </tr>\n",
       "    <tr>\n",
       "      <th>19</th>\n",
       "      <td>동작구</td>\n",
       "      <td>71,541</td>\n",
       "      <td>75,463</td>\n",
       "      <td>56,196</td>\n",
       "      <td>54,046</td>\n",
       "      <td>57,340</td>\n",
       "    </tr>\n",
       "    <tr>\n",
       "      <th>20</th>\n",
       "      <td>관악구</td>\n",
       "      <td>108,822</td>\n",
       "      <td>108,397</td>\n",
       "      <td>84,144</td>\n",
       "      <td>89,539</td>\n",
       "      <td>83,226</td>\n",
       "    </tr>\n",
       "    <tr>\n",
       "      <th>21</th>\n",
       "      <td>서초구</td>\n",
       "      <td>226,984</td>\n",
       "      <td>195,046</td>\n",
       "      <td>155,582</td>\n",
       "      <td>141,181</td>\n",
       "      <td>138,560</td>\n",
       "    </tr>\n",
       "    <tr>\n",
       "      <th>22</th>\n",
       "      <td>강남구</td>\n",
       "      <td>296,820</td>\n",
       "      <td>289,884</td>\n",
       "      <td>176,273</td>\n",
       "      <td>192,211</td>\n",
       "      <td>234,023</td>\n",
       "    </tr>\n",
       "    <tr>\n",
       "      <th>23</th>\n",
       "      <td>송파구</td>\n",
       "      <td>155,516</td>\n",
       "      <td>147,977</td>\n",
       "      <td>131,855</td>\n",
       "      <td>126,284</td>\n",
       "      <td>97,753</td>\n",
       "    </tr>\n",
       "    <tr>\n",
       "      <th>24</th>\n",
       "      <td>강동구</td>\n",
       "      <td>93,692</td>\n",
       "      <td>79,254</td>\n",
       "      <td>70,150</td>\n",
       "      <td>44,459</td>\n",
       "      <td>56,574</td>\n",
       "    </tr>\n",
       "  </tbody>\n",
       "</table>\n",
       "</div>"
      ],
      "text/plain": [
       "      구별     2018     2019     2020     2021     2022\n",
       "0    종로구  160,528  164,079  183,481  162,739  112,082\n",
       "1     중구  158,119  172,213  153,967  155,137  182,320\n",
       "2    용산구   94,529   65,339   70,902   72,531   83,674\n",
       "3    성동구   92,167   86,771   64,482   63,102   60,161\n",
       "4    광진구   65,839   61,448   60,043   58,019   42,221\n",
       "5   동대문구   88,106   84,899   98,551   80,911   71,294\n",
       "6    중랑구   47,691   46,548   37,111   38,434   41,410\n",
       "7    성북구   49,560   59,805   50,663   41,141   40,401\n",
       "8    강북구   50,378   59,388   52,034   53,283   47,523\n",
       "9    도봉구   60,759   55,876   42,378   50,329   48,377\n",
       "10   노원구   82,001   80,343   61,993   55,574   58,605\n",
       "11   은평구   94,238  101,536   74,121   69,261   52,757\n",
       "12  서대문구   64,355   67,032   52,186   42,421   45,879\n",
       "13   마포구  153,066  153,511  115,731  100,582   95,923\n",
       "14   양천구  106,517  116,091   87,355   75,744   70,248\n",
       "15   강서구  148,538  175,000  170,141  182,210  145,065\n",
       "16   구로구   99,637   97,027   76,618   66,904   69,162\n",
       "17   금천구   55,896   59,891   53,328   52,403   44,746\n",
       "18  영등포구  166,145  163,508  136,373  107,341  101,742\n",
       "19   동작구   71,541   75,463   56,196   54,046   57,340\n",
       "20   관악구  108,822  108,397   84,144   89,539   83,226\n",
       "21   서초구  226,984  195,046  155,582  141,181  138,560\n",
       "22   강남구  296,820  289,884  176,273  192,211  234,023\n",
       "23   송파구  155,516  147,977  131,855  126,284   97,753\n",
       "24   강동구   93,692   79,254   70,150   44,459   56,574"
      ]
     },
     "execution_count": 7,
     "metadata": {},
     "output_type": "execute_result"
    }
   ],
   "source": [
    "import pandas as pd\n",
    "df = pd.DataFrame({\"구별\":gu_name,\"2018\":year18,\"2019\":year19,\n",
    "                   \"2020\":year20,\"2021\":year21,\"2022\":year22})\n",
    "df"
   ]
  },
  {
   "cell_type": "code",
   "execution_count": 8,
   "id": "077586da",
   "metadata": {},
   "outputs": [
    {
     "name": "stdout",
     "output_type": "stream",
     "text": [
      "<class 'pandas.core.frame.DataFrame'>\n",
      "RangeIndex: 25 entries, 0 to 24\n",
      "Data columns (total 6 columns):\n",
      " #   Column  Non-Null Count  Dtype \n",
      "---  ------  --------------  ----- \n",
      " 0   구별      25 non-null     object\n",
      " 1   2018    25 non-null     object\n",
      " 2   2019    25 non-null     object\n",
      " 3   2020    25 non-null     object\n",
      " 4   2021    25 non-null     object\n",
      " 5   2022    25 non-null     object\n",
      "dtypes: object(6)\n",
      "memory usage: 1.3+ KB\n"
     ]
    }
   ],
   "source": [
    "df.info()"
   ]
  },
  {
   "cell_type": "code",
   "execution_count": 9,
   "id": "ee21e0a5",
   "metadata": {},
   "outputs": [],
   "source": [
    "df[\"2018\"]=df[\"2018\"].str.replace(\",\",\"\").astype(float)\n",
    "df[\"2019\"]=df[\"2019\"].str.replace(\",\",\"\").astype(float)\n",
    "df[\"2020\"]=df[\"2020\"].str.replace(\",\",\"\").astype(float)\n",
    "df[\"2021\"]=df[\"2021\"].str.replace(\",\",\"\").astype(float)\n",
    "df[\"2022\"]=df[\"2022\"].str.replace(\",\",\"\").astype(float)"
   ]
  },
  {
   "cell_type": "code",
   "execution_count": 13,
   "id": "32176e48",
   "metadata": {
    "scrolled": true
   },
   "outputs": [
    {
     "name": "stdout",
     "output_type": "stream",
     "text": [
      "<class 'pandas.core.frame.DataFrame'>\n",
      "RangeIndex: 25 entries, 0 to 24\n",
      "Data columns (total 6 columns):\n",
      " #   Column  Non-Null Count  Dtype  \n",
      "---  ------  --------------  -----  \n",
      " 0   구별      25 non-null     object \n",
      " 1   2018    25 non-null     float64\n",
      " 2   2019    25 non-null     float64\n",
      " 3   2020    25 non-null     float64\n",
      " 4   2021    25 non-null     float64\n",
      " 5   2022    25 non-null     float64\n",
      "dtypes: float64(5), object(1)\n",
      "memory usage: 1.3+ KB\n"
     ]
    }
   ],
   "source": [
    "df.info()"
   ]
  },
  {
   "cell_type": "code",
   "execution_count": 19,
   "id": "8716aaef",
   "metadata": {
    "scrolled": false
   },
   "outputs": [
    {
     "ename": "KeyError",
     "evalue": "\"None of ['구별'] are in the columns\"",
     "output_type": "error",
     "traceback": [
      "\u001b[1;31m---------------------------------------------------------------\u001b[0m",
      "\u001b[1;31mKeyError\u001b[0m                      Traceback (most recent call last)",
      "\u001b[1;32m~\\AppData\\Local\\Temp\\ipykernel_16108\\1203731889.py\u001b[0m in \u001b[0;36m<module>\u001b[1;34m\u001b[0m\n\u001b[1;32m----> 1\u001b[1;33m \u001b[0mdf\u001b[0m\u001b[1;33m=\u001b[0m\u001b[0mdf\u001b[0m\u001b[1;33m.\u001b[0m\u001b[0mset_index\u001b[0m\u001b[1;33m(\u001b[0m\u001b[1;34m\"구별\"\u001b[0m\u001b[1;33m)\u001b[0m\u001b[1;33m\u001b[0m\u001b[1;33m\u001b[0m\u001b[0m\n\u001b[0m\u001b[0;32m      2\u001b[0m \u001b[0mdf\u001b[0m\u001b[1;33m=\u001b[0m\u001b[0mdf\u001b[0m\u001b[1;33m.\u001b[0m\u001b[0mT\u001b[0m\u001b[1;33m\u001b[0m\u001b[1;33m\u001b[0m\u001b[0m\n",
      "\u001b[1;32m~\\anaconda3\\lib\\site-packages\\pandas\\util\\_decorators.py\u001b[0m in \u001b[0;36mwrapper\u001b[1;34m(*args, **kwargs)\u001b[0m\n\u001b[0;32m    309\u001b[0m                     \u001b[0mstacklevel\u001b[0m\u001b[1;33m=\u001b[0m\u001b[0mstacklevel\u001b[0m\u001b[1;33m,\u001b[0m\u001b[1;33m\u001b[0m\u001b[1;33m\u001b[0m\u001b[0m\n\u001b[0;32m    310\u001b[0m                 )\n\u001b[1;32m--> 311\u001b[1;33m             \u001b[1;32mreturn\u001b[0m \u001b[0mfunc\u001b[0m\u001b[1;33m(\u001b[0m\u001b[1;33m*\u001b[0m\u001b[0margs\u001b[0m\u001b[1;33m,\u001b[0m \u001b[1;33m**\u001b[0m\u001b[0mkwargs\u001b[0m\u001b[1;33m)\u001b[0m\u001b[1;33m\u001b[0m\u001b[1;33m\u001b[0m\u001b[0m\n\u001b[0m\u001b[0;32m    312\u001b[0m \u001b[1;33m\u001b[0m\u001b[0m\n\u001b[0;32m    313\u001b[0m         \u001b[1;32mreturn\u001b[0m \u001b[0mwrapper\u001b[0m\u001b[1;33m\u001b[0m\u001b[1;33m\u001b[0m\u001b[0m\n",
      "\u001b[1;32m~\\anaconda3\\lib\\site-packages\\pandas\\core\\frame.py\u001b[0m in \u001b[0;36mset_index\u001b[1;34m(self, keys, drop, append, inplace, verify_integrity)\u001b[0m\n\u001b[0;32m   5501\u001b[0m \u001b[1;33m\u001b[0m\u001b[0m\n\u001b[0;32m   5502\u001b[0m         \u001b[1;32mif\u001b[0m \u001b[0mmissing\u001b[0m\u001b[1;33m:\u001b[0m\u001b[1;33m\u001b[0m\u001b[1;33m\u001b[0m\u001b[0m\n\u001b[1;32m-> 5503\u001b[1;33m             \u001b[1;32mraise\u001b[0m \u001b[0mKeyError\u001b[0m\u001b[1;33m(\u001b[0m\u001b[1;34mf\"None of {missing} are in the columns\"\u001b[0m\u001b[1;33m)\u001b[0m\u001b[1;33m\u001b[0m\u001b[1;33m\u001b[0m\u001b[0m\n\u001b[0m\u001b[0;32m   5504\u001b[0m \u001b[1;33m\u001b[0m\u001b[0m\n\u001b[0;32m   5505\u001b[0m         \u001b[1;32mif\u001b[0m \u001b[0minplace\u001b[0m\u001b[1;33m:\u001b[0m\u001b[1;33m\u001b[0m\u001b[1;33m\u001b[0m\u001b[0m\n",
      "\u001b[1;31mKeyError\u001b[0m: \"None of ['구별'] are in the columns\""
     ]
    }
   ],
   "source": [
    "df=df.set_index(\"구별\")\n",
    "df=df.T"
   ]
  },
  {
   "cell_type": "code",
   "execution_count": 22,
   "id": "0bc1f031",
   "metadata": {},
   "outputs": [],
   "source": [
    "df2=df.unstack()"
   ]
  },
  {
   "cell_type": "code",
   "execution_count": 23,
   "id": "43b31f26",
   "metadata": {},
   "outputs": [],
   "source": [
    "df2.to_csv(\"../../Data/회귀분석/불법단속건수_18_22.csv\")"
   ]
  },
  {
   "cell_type": "markdown",
   "id": "142dd9b2",
   "metadata": {},
   "source": [
    "---"
   ]
  },
  {
   "cell_type": "markdown",
   "id": "3fdbbabc",
   "metadata": {},
   "source": [
    "### (2) 시계열 평균 비교"
   ]
  },
  {
   "cell_type": "code",
   "execution_count": null,
   "id": "03dabac2",
   "metadata": {},
   "outputs": [],
   "source": [
    "# df[\"평균단속건수\"]=df.mean(axis=1)"
   ]
  },
  {
   "cell_type": "code",
   "execution_count": null,
   "id": "082a282d",
   "metadata": {},
   "outputs": [],
   "source": [
    "# df"
   ]
  },
  {
   "cell_type": "markdown",
   "id": "ba7376c1",
   "metadata": {},
   "source": [
    "### ※ 파일 저장"
   ]
  },
  {
   "cell_type": "code",
   "execution_count": null,
   "id": "fe18d4d9",
   "metadata": {},
   "outputs": [],
   "source": [
    "df.to_csv(\"../../Data/회귀분석/불법단속건수_18_22.csv\")"
   ]
  },
  {
   "cell_type": "code",
   "execution_count": null,
   "id": "5f7a0729",
   "metadata": {},
   "outputs": [],
   "source": []
  }
 ],
 "metadata": {
  "kernelspec": {
   "display_name": "Python 3 (ipykernel)",
   "language": "python",
   "name": "python3"
  },
  "language_info": {
   "codemirror_mode": {
    "name": "ipython",
    "version": 3
   },
   "file_extension": ".py",
   "mimetype": "text/x-python",
   "name": "python",
   "nbconvert_exporter": "python",
   "pygments_lexer": "ipython3",
   "version": "3.9.13"
  }
 },
 "nbformat": 4,
 "nbformat_minor": 5
}
