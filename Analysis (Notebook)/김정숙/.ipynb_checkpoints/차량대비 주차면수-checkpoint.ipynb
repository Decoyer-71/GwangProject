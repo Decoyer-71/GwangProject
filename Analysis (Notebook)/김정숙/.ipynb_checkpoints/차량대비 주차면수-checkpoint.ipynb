{
 "cells": [
  {
   "cell_type": "code",
   "execution_count": 2,
   "id": "b950e55e",
   "metadata": {},
   "outputs": [],
   "source": [
    "import numpy as np\n",
    "import pandas as pd\n",
    "import matplotlib.pyplot as plt\n",
    "import seaborn as sns\n",
    "\n",
    "import matplotlib.font_manager as fm\n",
    "font_name = fm.FontProperties(fname=\"C:\\\\Windows\\\\Fonts\\\\malgun.ttf\").get_name()\n",
    "plt.rc(\"font\", family = font_name)\n",
    "\n",
    "import matplotlib as mlp\n",
    "mlp.rcParams[\"axes.unicode_minus\"] = False"
   ]
  },
  {
   "cell_type": "code",
   "execution_count": 3,
   "id": "2d5374ca",
   "metadata": {},
   "outputs": [],
   "source": [
    "import urllib.request as req\n",
    "# from urllib.error import HTTPError, URLError\n",
    "import requests\n",
    "from bs4 import BeautifulSoup"
   ]
  },
  {
   "cell_type": "code",
   "execution_count": 4,
   "id": "9dfa05a1",
   "metadata": {},
   "outputs": [],
   "source": [
    "from selenium import webdriver\n",
    "from selenium.webdriver.common.by import By\n",
    "from selenium.webdriver.common.keys import Keys\n",
    "\n",
    "from webdriver_manager.chrome import ChromeDriverManager\n",
    "from selenium.webdriver.chrome.service import Service\n",
    "\n",
    "import time"
   ]
  },
  {
   "cell_type": "code",
   "execution_count": 5,
   "id": "c0808f08",
   "metadata": {},
   "outputs": [],
   "source": [
    "import folium\n",
    "import json"
   ]
  },
  {
   "cell_type": "code",
   "execution_count": 6,
   "id": "7c0612f3",
   "metadata": {},
   "outputs": [],
   "source": [
    "# from glob import glob"
   ]
  },
  {
   "cell_type": "markdown",
   "id": "002b490f",
   "metadata": {},
   "source": [
    "---"
   ]
  },
  {
   "cell_type": "markdown",
   "id": "fa705dec",
   "metadata": {},
   "source": [
    "# 1. 자동차등록대수"
   ]
  },
  {
   "cell_type": "markdown",
   "id": "122bb56c",
   "metadata": {},
   "source": [
    "## (1) 데이터 처리"
   ]
  },
  {
   "cell_type": "markdown",
   "id": "b4c38866",
   "metadata": {},
   "source": [
    "### 1) 데이터 로드\n",
    "\n",
    "- 서울특별시_행정동별 자동차 등록대수 현황(공공데이터포털) : 2022 기준\n",
    "- https://www.data.go.kr/data/15100168/fileData.do"
   ]
  },
  {
   "cell_type": "code",
   "execution_count": 7,
   "id": "41c27d6c",
   "metadata": {
    "scrolled": true
   },
   "outputs": [
    {
     "ename": "FileNotFoundError",
     "evalue": "[Errno 2] No such file or directory: 'data/서울특별시_행정동별 자동차 등록대수 현황_20220430.csv'",
     "output_type": "error",
     "traceback": [
      "\u001b[1;31m---------------------------------------------------------------------------\u001b[0m",
      "\u001b[1;31mFileNotFoundError\u001b[0m                         Traceback (most recent call last)",
      "\u001b[1;32m~\\AppData\\Local\\Temp\\ipykernel_18636\\2052054946.py\u001b[0m in \u001b[0;36m<module>\u001b[1;34m\u001b[0m\n\u001b[1;32m----> 1\u001b[1;33m cars_raw = pd.read_csv(\"data/서울특별시_행정동별 자동차 등록대수 현황_20220430.csv\",\n\u001b[0m\u001b[0;32m      2\u001b[0m            encoding=\"euc-kr\")\n",
      "\u001b[1;32m~\\anaconda3\\lib\\site-packages\\pandas\\util\\_decorators.py\u001b[0m in \u001b[0;36mwrapper\u001b[1;34m(*args, **kwargs)\u001b[0m\n\u001b[0;32m    309\u001b[0m                     \u001b[0mstacklevel\u001b[0m\u001b[1;33m=\u001b[0m\u001b[0mstacklevel\u001b[0m\u001b[1;33m,\u001b[0m\u001b[1;33m\u001b[0m\u001b[1;33m\u001b[0m\u001b[0m\n\u001b[0;32m    310\u001b[0m                 )\n\u001b[1;32m--> 311\u001b[1;33m             \u001b[1;32mreturn\u001b[0m \u001b[0mfunc\u001b[0m\u001b[1;33m(\u001b[0m\u001b[1;33m*\u001b[0m\u001b[0margs\u001b[0m\u001b[1;33m,\u001b[0m \u001b[1;33m**\u001b[0m\u001b[0mkwargs\u001b[0m\u001b[1;33m)\u001b[0m\u001b[1;33m\u001b[0m\u001b[1;33m\u001b[0m\u001b[0m\n\u001b[0m\u001b[0;32m    312\u001b[0m \u001b[1;33m\u001b[0m\u001b[0m\n\u001b[0;32m    313\u001b[0m         \u001b[1;32mreturn\u001b[0m \u001b[0mwrapper\u001b[0m\u001b[1;33m\u001b[0m\u001b[1;33m\u001b[0m\u001b[0m\n",
      "\u001b[1;32m~\\anaconda3\\lib\\site-packages\\pandas\\io\\parsers\\readers.py\u001b[0m in \u001b[0;36mread_csv\u001b[1;34m(filepath_or_buffer, sep, delimiter, header, names, index_col, usecols, squeeze, prefix, mangle_dupe_cols, dtype, engine, converters, true_values, false_values, skipinitialspace, skiprows, skipfooter, nrows, na_values, keep_default_na, na_filter, verbose, skip_blank_lines, parse_dates, infer_datetime_format, keep_date_col, date_parser, dayfirst, cache_dates, iterator, chunksize, compression, thousands, decimal, lineterminator, quotechar, quoting, doublequote, escapechar, comment, encoding, encoding_errors, dialect, error_bad_lines, warn_bad_lines, on_bad_lines, delim_whitespace, low_memory, memory_map, float_precision, storage_options)\u001b[0m\n\u001b[0;32m    676\u001b[0m     \u001b[0mkwds\u001b[0m\u001b[1;33m.\u001b[0m\u001b[0mupdate\u001b[0m\u001b[1;33m(\u001b[0m\u001b[0mkwds_defaults\u001b[0m\u001b[1;33m)\u001b[0m\u001b[1;33m\u001b[0m\u001b[1;33m\u001b[0m\u001b[0m\n\u001b[0;32m    677\u001b[0m \u001b[1;33m\u001b[0m\u001b[0m\n\u001b[1;32m--> 678\u001b[1;33m     \u001b[1;32mreturn\u001b[0m \u001b[0m_read\u001b[0m\u001b[1;33m(\u001b[0m\u001b[0mfilepath_or_buffer\u001b[0m\u001b[1;33m,\u001b[0m \u001b[0mkwds\u001b[0m\u001b[1;33m)\u001b[0m\u001b[1;33m\u001b[0m\u001b[1;33m\u001b[0m\u001b[0m\n\u001b[0m\u001b[0;32m    679\u001b[0m \u001b[1;33m\u001b[0m\u001b[0m\n\u001b[0;32m    680\u001b[0m \u001b[1;33m\u001b[0m\u001b[0m\n",
      "\u001b[1;32m~\\anaconda3\\lib\\site-packages\\pandas\\io\\parsers\\readers.py\u001b[0m in \u001b[0;36m_read\u001b[1;34m(filepath_or_buffer, kwds)\u001b[0m\n\u001b[0;32m    573\u001b[0m \u001b[1;33m\u001b[0m\u001b[0m\n\u001b[0;32m    574\u001b[0m     \u001b[1;31m# Create the parser.\u001b[0m\u001b[1;33m\u001b[0m\u001b[1;33m\u001b[0m\u001b[0m\n\u001b[1;32m--> 575\u001b[1;33m     \u001b[0mparser\u001b[0m \u001b[1;33m=\u001b[0m \u001b[0mTextFileReader\u001b[0m\u001b[1;33m(\u001b[0m\u001b[0mfilepath_or_buffer\u001b[0m\u001b[1;33m,\u001b[0m \u001b[1;33m**\u001b[0m\u001b[0mkwds\u001b[0m\u001b[1;33m)\u001b[0m\u001b[1;33m\u001b[0m\u001b[1;33m\u001b[0m\u001b[0m\n\u001b[0m\u001b[0;32m    576\u001b[0m \u001b[1;33m\u001b[0m\u001b[0m\n\u001b[0;32m    577\u001b[0m     \u001b[1;32mif\u001b[0m \u001b[0mchunksize\u001b[0m \u001b[1;32mor\u001b[0m \u001b[0miterator\u001b[0m\u001b[1;33m:\u001b[0m\u001b[1;33m\u001b[0m\u001b[1;33m\u001b[0m\u001b[0m\n",
      "\u001b[1;32m~\\anaconda3\\lib\\site-packages\\pandas\\io\\parsers\\readers.py\u001b[0m in \u001b[0;36m__init__\u001b[1;34m(self, f, engine, **kwds)\u001b[0m\n\u001b[0;32m    930\u001b[0m \u001b[1;33m\u001b[0m\u001b[0m\n\u001b[0;32m    931\u001b[0m         \u001b[0mself\u001b[0m\u001b[1;33m.\u001b[0m\u001b[0mhandles\u001b[0m\u001b[1;33m:\u001b[0m \u001b[0mIOHandles\u001b[0m \u001b[1;33m|\u001b[0m \u001b[1;32mNone\u001b[0m \u001b[1;33m=\u001b[0m \u001b[1;32mNone\u001b[0m\u001b[1;33m\u001b[0m\u001b[1;33m\u001b[0m\u001b[0m\n\u001b[1;32m--> 932\u001b[1;33m         \u001b[0mself\u001b[0m\u001b[1;33m.\u001b[0m\u001b[0m_engine\u001b[0m \u001b[1;33m=\u001b[0m \u001b[0mself\u001b[0m\u001b[1;33m.\u001b[0m\u001b[0m_make_engine\u001b[0m\u001b[1;33m(\u001b[0m\u001b[0mf\u001b[0m\u001b[1;33m,\u001b[0m \u001b[0mself\u001b[0m\u001b[1;33m.\u001b[0m\u001b[0mengine\u001b[0m\u001b[1;33m)\u001b[0m\u001b[1;33m\u001b[0m\u001b[1;33m\u001b[0m\u001b[0m\n\u001b[0m\u001b[0;32m    933\u001b[0m \u001b[1;33m\u001b[0m\u001b[0m\n\u001b[0;32m    934\u001b[0m     \u001b[1;32mdef\u001b[0m \u001b[0mclose\u001b[0m\u001b[1;33m(\u001b[0m\u001b[0mself\u001b[0m\u001b[1;33m)\u001b[0m\u001b[1;33m:\u001b[0m\u001b[1;33m\u001b[0m\u001b[1;33m\u001b[0m\u001b[0m\n",
      "\u001b[1;32m~\\anaconda3\\lib\\site-packages\\pandas\\io\\parsers\\readers.py\u001b[0m in \u001b[0;36m_make_engine\u001b[1;34m(self, f, engine)\u001b[0m\n\u001b[0;32m   1214\u001b[0m             \u001b[1;31m# \"Union[str, PathLike[str], ReadCsvBuffer[bytes], ReadCsvBuffer[str]]\"\u001b[0m\u001b[1;33m\u001b[0m\u001b[1;33m\u001b[0m\u001b[0m\n\u001b[0;32m   1215\u001b[0m             \u001b[1;31m# , \"str\", \"bool\", \"Any\", \"Any\", \"Any\", \"Any\", \"Any\"\u001b[0m\u001b[1;33m\u001b[0m\u001b[1;33m\u001b[0m\u001b[0m\n\u001b[1;32m-> 1216\u001b[1;33m             self.handles = get_handle(  # type: ignore[call-overload]\n\u001b[0m\u001b[0;32m   1217\u001b[0m                 \u001b[0mf\u001b[0m\u001b[1;33m,\u001b[0m\u001b[1;33m\u001b[0m\u001b[1;33m\u001b[0m\u001b[0m\n\u001b[0;32m   1218\u001b[0m                 \u001b[0mmode\u001b[0m\u001b[1;33m,\u001b[0m\u001b[1;33m\u001b[0m\u001b[1;33m\u001b[0m\u001b[0m\n",
      "\u001b[1;32m~\\anaconda3\\lib\\site-packages\\pandas\\io\\common.py\u001b[0m in \u001b[0;36mget_handle\u001b[1;34m(path_or_buf, mode, encoding, compression, memory_map, is_text, errors, storage_options)\u001b[0m\n\u001b[0;32m    784\u001b[0m         \u001b[1;32mif\u001b[0m \u001b[0mioargs\u001b[0m\u001b[1;33m.\u001b[0m\u001b[0mencoding\u001b[0m \u001b[1;32mand\u001b[0m \u001b[1;34m\"b\"\u001b[0m \u001b[1;32mnot\u001b[0m \u001b[1;32min\u001b[0m \u001b[0mioargs\u001b[0m\u001b[1;33m.\u001b[0m\u001b[0mmode\u001b[0m\u001b[1;33m:\u001b[0m\u001b[1;33m\u001b[0m\u001b[1;33m\u001b[0m\u001b[0m\n\u001b[0;32m    785\u001b[0m             \u001b[1;31m# Encoding\u001b[0m\u001b[1;33m\u001b[0m\u001b[1;33m\u001b[0m\u001b[0m\n\u001b[1;32m--> 786\u001b[1;33m             handle = open(\n\u001b[0m\u001b[0;32m    787\u001b[0m                 \u001b[0mhandle\u001b[0m\u001b[1;33m,\u001b[0m\u001b[1;33m\u001b[0m\u001b[1;33m\u001b[0m\u001b[0m\n\u001b[0;32m    788\u001b[0m                 \u001b[0mioargs\u001b[0m\u001b[1;33m.\u001b[0m\u001b[0mmode\u001b[0m\u001b[1;33m,\u001b[0m\u001b[1;33m\u001b[0m\u001b[1;33m\u001b[0m\u001b[0m\n",
      "\u001b[1;31mFileNotFoundError\u001b[0m: [Errno 2] No such file or directory: 'data/서울특별시_행정동별 자동차 등록대수 현황_20220430.csv'"
     ]
    }
   ],
   "source": [
    "cars_raw = pd.read_csv(\"data/서울특별시_행정동별 자동차 등록대수 현황_20220430.csv\",\n",
    "           encoding=\"euc-kr\")"
   ]
  },
  {
   "cell_type": "code",
   "execution_count": null,
   "id": "678b7779",
   "metadata": {
    "scrolled": true
   },
   "outputs": [],
   "source": [
    "cars_raw.info()"
   ]
  },
  {
   "cell_type": "code",
   "execution_count": null,
   "id": "2f367436",
   "metadata": {},
   "outputs": [],
   "source": [
    "car=cars_raw[[\"사용본거지 시군구\", \"읍면동 (행정동)\",\"연료\"]]"
   ]
  },
  {
   "cell_type": "code",
   "execution_count": null,
   "id": "c229d6d5",
   "metadata": {},
   "outputs": [],
   "source": [
    "car.rename(columns={\"사용본거지 시군구\":\"시군구\",\"읍면동 (행정동)\":\"행정동\"}, inplace=True)"
   ]
  },
  {
   "cell_type": "code",
   "execution_count": null,
   "id": "09dffa50",
   "metadata": {
    "scrolled": true
   },
   "outputs": [],
   "source": [
    "car.info()"
   ]
  },
  {
   "cell_type": "markdown",
   "id": "c1ec116c",
   "metadata": {},
   "source": [
    "### 2) 시군구, 행정동 분리"
   ]
  },
  {
   "cell_type": "code",
   "execution_count": null,
   "id": "2dcf0587",
   "metadata": {},
   "outputs": [],
   "source": [
    "sigungu_car=[]\n",
    "for i in cars_raw[\"사용본거지 시군구\"].str.split(\" \") :\n",
    "    sigungu_car.append(i[1])"
   ]
  },
  {
   "cell_type": "code",
   "execution_count": null,
   "id": "50e5bea5",
   "metadata": {},
   "outputs": [],
   "source": [
    "dong_car=[]\n",
    "for i in cars_raw[\"읍면동 (행정동)\"].str.split(\" \") :\n",
    "    dong_car.append(i[1])"
   ]
  },
  {
   "cell_type": "code",
   "execution_count": null,
   "id": "65e6b79a",
   "metadata": {},
   "outputs": [],
   "source": [
    "car[\"시군구\"]=sigungu_car\n",
    "car[\"행정동\"]=dong_car"
   ]
  },
  {
   "cell_type": "markdown",
   "id": "a270fceb",
   "metadata": {},
   "source": [
    "### 3) 차량 용도별 합계"
   ]
  },
  {
   "cell_type": "code",
   "execution_count": null,
   "id": "3d9a550f",
   "metadata": {},
   "outputs": [],
   "source": [
    "car[\"관용합계\"]=cars_raw[\"관용_승용\"]+cars_raw[\"관용_승합\"]+cars_raw[\"관용_화물\"]+cars_raw[\"관용_특수\"]\n",
    "car[\"자가용합계\"]=cars_raw[\"자가용_승용\"]+cars_raw[\"자가용승합\"]+cars_raw[\"자가용화물\"]+cars_raw[\"자가용특수\"]\n",
    "car[\"영업용합계\"]=cars_raw[\"영업용_승용\"]+cars_raw[\"영업용승합\"]+cars_raw[\"영업용화물\"]+cars_raw[\"영업용특수\"]\n",
    "car[\"계\"]=car[\"관용합계\"]+car[\"자가용합계\"]+car[\"영업용합계\"]"
   ]
  },
  {
   "cell_type": "code",
   "execution_count": null,
   "id": "55dfb949",
   "metadata": {},
   "outputs": [],
   "source": [
    "car[\"계\"].sum()"
   ]
  },
  {
   "cell_type": "code",
   "execution_count": null,
   "id": "dceede5b",
   "metadata": {},
   "outputs": [],
   "source": [
    "car.head()"
   ]
  },
  {
   "cell_type": "markdown",
   "id": "5202b5ee",
   "metadata": {},
   "source": [
    "## (2) 구별, 행정동별 자동차등록대수"
   ]
  },
  {
   "cell_type": "markdown",
   "id": "896eb36a",
   "metadata": {},
   "source": [
    "### 1) 구별"
   ]
  },
  {
   "cell_type": "code",
   "execution_count": null,
   "id": "14cd0632",
   "metadata": {
    "scrolled": true
   },
   "outputs": [],
   "source": [
    "gu_car= car.groupby(\"시군구\")[\"계\"].sum()\n",
    "gu_car"
   ]
  },
  {
   "cell_type": "markdown",
   "id": "316ced5b",
   "metadata": {},
   "source": [
    "### 2) 광진구 행정동별"
   ]
  },
  {
   "cell_type": "code",
   "execution_count": null,
   "id": "b7bd9b7d",
   "metadata": {},
   "outputs": [],
   "source": [
    "gj_car= car[car[\"시군구\"]==\"광진구\"]\n",
    "gj_car.head()"
   ]
  },
  {
   "cell_type": "code",
   "execution_count": null,
   "id": "6c299232",
   "metadata": {},
   "outputs": [],
   "source": [
    "gj_car.loc[gj_car[\"행정동\"].str.contains(\"기타\"), \"행정동\"] = \"기타\""
   ]
  },
  {
   "cell_type": "code",
   "execution_count": null,
   "id": "cb4e26c8",
   "metadata": {},
   "outputs": [],
   "source": [
    "gj_dong_car = gj_car.groupby(\"행정동\")[\"계\"].sum()\n",
    "gj_dong_car"
   ]
  },
  {
   "cell_type": "code",
   "execution_count": null,
   "id": "cf4e8e58",
   "metadata": {},
   "outputs": [],
   "source": []
  },
  {
   "cell_type": "markdown",
   "id": "a51846bc",
   "metadata": {},
   "source": [
    "# 2. 주차면수"
   ]
  },
  {
   "cell_type": "markdown",
   "id": "9f843128",
   "metadata": {},
   "source": [
    "## (1) 데이터 처리"
   ]
  },
  {
   "cell_type": "markdown",
   "id": "462a1be1",
   "metadata": {},
   "source": [
    "### 1) 데이터 로드\n",
    "\n",
    "- 서울시 주차장 (동별) 통계(서울시열린광장) : 2022 기준\n",
    "- https://data.seoul.go.kr/dataList/10152/S/2/datasetView.do"
   ]
  },
  {
   "cell_type": "code",
   "execution_count": null,
   "id": "52d00ebb",
   "metadata": {},
   "outputs": [],
   "source": [
    "park_raw = pd.read_csv(\"data/주차장(동별).csv\", skiprows=3 )\n",
    "park_raw.info()\n",
    "park_raw.head()"
   ]
  },
  {
   "cell_type": "code",
   "execution_count": null,
   "id": "bb9cceec",
   "metadata": {},
   "outputs": [],
   "source": [
    "park_raw.columns=[\"합계\",\"시군구\",\"행정동\",\n",
    "                 \"합계개소\",\"합계면수\",\"공영개소\",\"공영면수\",\"민영개소\",\"민영면수\",\n",
    "                 \"노상개소\",\"노상면수\",\"노상시영개소\",\"노상시영면수\",\"노상구영개소\",\"노상구영면수\",\n",
    "                \"노외개소\", \"노외면수\",\"노외시영개소\",\"노외시영면수\",\"노외구영개소\",\n",
    "                 \"노외구영면수\",\"노외민영개소\",\"노외민영면수\",\n",
    "                 \"건축물부설개소\",\"건축물부설면수\",\n",
    "                 \"건축물부설일반주택개소\", \"건축물부설일반주택면수\",\n",
    "                 \"건축물부설공동주택개소\", \"건축물부설공동주택면수\",\n",
    "                 \"건축물부설일반건축물개소\", \"건축물부설일반건축물면수\"]"
   ]
  },
  {
   "cell_type": "code",
   "execution_count": null,
   "id": "b616894c",
   "metadata": {},
   "outputs": [],
   "source": [
    "del park_raw[\"합계\"]"
   ]
  },
  {
   "cell_type": "code",
   "execution_count": null,
   "id": "6f4552c0",
   "metadata": {},
   "outputs": [],
   "source": [
    "park_raw.info()"
   ]
  },
  {
   "cell_type": "code",
   "execution_count": null,
   "id": "5394c285",
   "metadata": {},
   "outputs": [],
   "source": [
    "park = park_raw[[\"시군구\",\"행정동\",\"합계면수\",\"공영면수\",\"민영면수\"]]"
   ]
  },
  {
   "cell_type": "code",
   "execution_count": null,
   "id": "7293abc7",
   "metadata": {},
   "outputs": [],
   "source": [
    "park = park[park[\"행정동\"] != \"소계\"]"
   ]
  },
  {
   "cell_type": "markdown",
   "id": "9ac989f4",
   "metadata": {},
   "source": [
    "### (2) 구별, 행정동별 주차면수"
   ]
  },
  {
   "cell_type": "markdown",
   "id": "51c7a1c6",
   "metadata": {},
   "source": [
    "### 1) 구별"
   ]
  },
  {
   "cell_type": "code",
   "execution_count": null,
   "id": "97829e99",
   "metadata": {},
   "outputs": [],
   "source": [
    "gu_park = park.groupby(\"시군구\")[[\"합계면수\"]].sum()\n",
    "gu_park.sum()"
   ]
  },
  {
   "cell_type": "markdown",
   "id": "14a2e5ee",
   "metadata": {},
   "source": [
    "### 2) 광진구 행정동별"
   ]
  },
  {
   "cell_type": "code",
   "execution_count": null,
   "id": "8f9590ef",
   "metadata": {},
   "outputs": [],
   "source": [
    "gj_park = park[park[\"시군구\"]== \"광진구\"]\n",
    "gj_dong_park = gj_park.groupby(\"행정동\")[[\"합계면수\"]].sum()"
   ]
  },
  {
   "cell_type": "code",
   "execution_count": null,
   "id": "24626258",
   "metadata": {},
   "outputs": [],
   "source": []
  },
  {
   "cell_type": "markdown",
   "id": "db7d9d0e",
   "metadata": {},
   "source": [
    "# 3. 구별 차량대비주차면수"
   ]
  },
  {
   "cell_type": "code",
   "execution_count": null,
   "id": "16545068",
   "metadata": {},
   "outputs": [],
   "source": [
    "p=pd.merge(gu_car, gu_park, on=\"시군구\")\n",
    "p.head()"
   ]
  },
  {
   "cell_type": "code",
   "execution_count": null,
   "id": "2b57188f",
   "metadata": {},
   "outputs": [],
   "source": [
    "p[\"차량대비면수\"] = p[\"합계면수\"]/p[\"계\"]*100"
   ]
  },
  {
   "cell_type": "code",
   "execution_count": null,
   "id": "8ed7b0d6",
   "metadata": {},
   "outputs": [],
   "source": [
    "p.sort_values(by=\"차량대비면수\", ascending=False)"
   ]
  },
  {
   "cell_type": "code",
   "execution_count": null,
   "id": "5b3ff87e",
   "metadata": {},
   "outputs": [],
   "source": [
    "p[\"차량대비면수\"].mean()"
   ]
  },
  {
   "cell_type": "code",
   "execution_count": null,
   "id": "b5eece2d",
   "metadata": {
    "scrolled": true
   },
   "outputs": [],
   "source": [
    "p[\"정규화\"]=(p[\"차량대비면수\"]-p[\"차량대비면수\"].min())/(p[\"차량대비면수\"].max()-p[\"차량대비면수\"].min())"
   ]
  },
  {
   "cell_type": "code",
   "execution_count": null,
   "id": "0f858c35",
   "metadata": {},
   "outputs": [],
   "source": [
    "p.sort_values(by=\"정규화\", ascending=False)"
   ]
  },
  {
   "cell_type": "code",
   "execution_count": null,
   "id": "c550428e",
   "metadata": {},
   "outputs": [],
   "source": []
  },
  {
   "cell_type": "code",
   "execution_count": null,
   "id": "9ba7833e",
   "metadata": {},
   "outputs": [],
   "source": []
  },
  {
   "cell_type": "code",
   "execution_count": null,
   "id": "c63b59aa",
   "metadata": {},
   "outputs": [],
   "source": []
  },
  {
   "cell_type": "code",
   "execution_count": null,
   "id": "88636c51",
   "metadata": {},
   "outputs": [],
   "source": []
  },
  {
   "cell_type": "code",
   "execution_count": null,
   "id": "b53885a9",
   "metadata": {},
   "outputs": [],
   "source": []
  }
 ],
 "metadata": {
  "kernelspec": {
   "display_name": "Python 3 (ipykernel)",
   "language": "python",
   "name": "python3"
  },
  "language_info": {
   "codemirror_mode": {
    "name": "ipython",
    "version": 3
   },
   "file_extension": ".py",
   "mimetype": "text/x-python",
   "name": "python",
   "nbconvert_exporter": "python",
   "pygments_lexer": "ipython3",
   "version": "3.9.13"
  }
 },
 "nbformat": 4,
 "nbformat_minor": 5
}
